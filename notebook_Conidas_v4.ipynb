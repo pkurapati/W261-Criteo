{
 "cells": [
  {
   "cell_type": "markdown",
   "metadata": {},
   "source": [
    "# Final Project\n",
    "__`MIDS w261: Machine Learning at Scale | UC Berkeley School of Information | Fall 2018`__  \n",
    "Throughout this course you’ve engaged with key principles required to develop scalable machine learning analyses for structured and unstructured data. Working in Hadoop Streaming and Spark you’ve learned to translate common machine learning algorithms into Map-Reduce style implementations. You’ve developed the ability to evaluate Machine Learning approaches both in terms of their predictive performance as well as their scalability. For the final project you will demonstrate these skills by solving a machine learning challenge on a new dataset. Your job is to perform Click Through Rate prediction on a large dataset of Criteo advertising data made public as part of a Kaggle competition a few years back. As you perform your analysis, keep in mind that we are not grading you on the final performance of your model or how ‘advanced’ the techniques you use but rather on your ability to explain and develop a scalable machine learning approach to answering a real question.\n",
    "\n",
    "More about the dataset:\n",
    "https://www.kaggle.com/c/criteo-display-ad-challenge"
   ]
  },
  {
   "cell_type": "markdown",
   "metadata": {},
   "source": [
    "# Notebook Set-Up\n",
    "Before starting your homework run the following cells to confirm your setup."
   ]
  },
  {
   "cell_type": "code",
   "execution_count": 1,
   "metadata": {},
   "outputs": [],
   "source": [
    "import re\n",
    "import ast\n",
    "import time\n",
    "import itertools\n",
    "import numpy as np\n",
    "import pandas as pd\n",
    "import matplotlib.pyplot as plt\n",
    "from pyspark.sql import SparkSession\n",
    "from pyspark.ml import Pipeline\n",
    "from pyspark.sql import SQLContext, Row\n",
    "from pyspark.sql.functions import col,sum,when,isnan,count\n",
    "from pyspark.ml.feature import OneHotEncoderEstimator, StringIndexer, VectorAssembler\n",
    "from pyspark.ml.classification import LogisticRegression\n",
    "from pyspark.ml.classification import DecisionTreeClassifier\n",
    "from pyspark.ml.classification import RandomForestClassifier\n",
    "from pyspark.ml.evaluation import BinaryClassificationEvaluator\n",
    "import time\n"
   ]
  },
  {
   "cell_type": "code",
   "execution_count": 2,
   "metadata": {},
   "outputs": [],
   "source": [
    "%reload_ext autoreload\n",
    "%autoreload 2\n",
    "%matplotlib inline"
   ]
  },
  {
   "cell_type": "code",
   "execution_count": 3,
   "metadata": {},
   "outputs": [],
   "source": [
    "# store path to notebook\n",
    "PWD = !pwd\n",
    "PWD = PWD[0]"
   ]
  },
  {
   "cell_type": "code",
   "execution_count": 4,
   "metadata": {},
   "outputs": [],
   "source": [
    "# start Spark Session\n",
    "app_name = \"fproj_notebook\"\n",
    "master = \"local[*]\"\n",
    "spark = SparkSession\\\n",
    "        .builder\\\n",
    "        .appName(app_name)\\\n",
    "        .master(master)\\\n",
    "        .getOrCreate()\n",
    "sc = spark.sparkContext"
   ]
  },
  {
   "cell_type": "code",
   "execution_count": 5,
   "metadata": {},
   "outputs": [],
   "source": [
    "# create a data directory (RUN THIS CELL AS IS)\n",
    "# !mkdir data"
   ]
  },
  {
   "cell_type": "code",
   "execution_count": 6,
   "metadata": {},
   "outputs": [],
   "source": [
    "# grab the tar.gz file from kaggle\n",
    "\n",
    "# !curl https://s3-eu-west-1.amazonaws.com/kaggle-display-advertising-challenge-dataset/dac.tar.gz -o data/dac.tar.gz"
   ]
  },
  {
   "cell_type": "code",
   "execution_count": 7,
   "metadata": {},
   "outputs": [],
   "source": [
    "# I couldn't get this to unpack the tarball, so I just did it in Windows\n",
    "# !tar -xvz data/dac.tar.gz"
   ]
  },
  {
   "cell_type": "code",
   "execution_count": 8,
   "metadata": {},
   "outputs": [],
   "source": [
    "# take a look at the to the training data set\n",
    "# !head data/train.txt"
   ]
  },
  {
   "cell_type": "code",
   "execution_count": 9,
   "metadata": {},
   "outputs": [],
   "source": [
    "# ! ls ../Assignments/FinalProject/"
   ]
  },
  {
   "cell_type": "markdown",
   "metadata": {},
   "source": [
    "# Change Data Source Path"
   ]
  },
  {
   "cell_type": "code",
   "execution_count": 10,
   "metadata": {},
   "outputs": [
    {
     "data": {
      "text/plain": [
       "45935"
      ]
     },
     "execution_count": 10,
     "metadata": {},
     "output_type": "execute_result"
    }
   ],
   "source": [
    "projectRDD = sc.textFile('../Assignments/FinalProject/data/train.txt')\n",
    "# projectRDD = projectRDD.sample(False,.001)\n",
    "# sampleRDD = sc.textFile('../Assignments/FinalProject/data/train1-500.txt')\n",
    "projectRDD.count()"
   ]
  },
  {
   "cell_type": "markdown",
   "metadata": {},
   "source": [
    "__`REMINDER:`__ If you are running this notebook on the course docker container, you can monitor the progress of your jobs using the Spark UI at: http://localhost:4040/jobs/"
   ]
  },
  {
   "cell_type": "markdown",
   "metadata": {},
   "source": [
    "# Question 1: Question Formulation \n",
    "Introduce the goal of your analysis. What questions will you seek to answer, why do people perform this kind of analysis on this kind of data? Preview what level of performance your model would need to achieve to be practically useful."
   ]
  },
  {
   "cell_type": "markdown",
   "metadata": {},
   "source": [
    "# Question 2: Algorithm Explanation\n",
    "Create your own toy example that matches the dataset provided and use this toy example to explain the math behind the algorithym that you will perform."
   ]
  },
  {
   "cell_type": "markdown",
   "metadata": {},
   "source": [
    "# Question 3: EDA & Discussion of Challenges\n",
    "Determine 2-3 relevant EDA tasks that will help you make decisions about how you implement the algorithm to be scalable. Discuss any challenges that you anticipate based on the EDA you perform"
   ]
  },
  {
   "cell_type": "code",
   "execution_count": 11,
   "metadata": {},
   "outputs": [],
   "source": [
    "sqlContext = SQLContext(sc)\n",
    "\n",
    "# Load a text file and convert each line to a Row.\n",
    "# lines = sc.textFile(\"../Assignments/FinalProject/data/train.txt\")\n",
    "\n",
    "projectRDD = projectRDD.map(lambda l: l.split(\"\\t\"))\\\n",
    "                        .map(lambda p: Row(label=int(p[0]), I1=p[1], I2=p[2],\\\n",
    "                        I3=p[3], I4=p[4], I5=p[5], I6=p[6],\\\n",
    "                        I7=p[7], I8=p[8], I9=p[9], I10=p[10],\\\n",
    "                        I11=p[11], I12=p[12], I13=p[13], C1=p[14], C2=p[15], C3=p[16],\\\n",
    "                        C4=p[17], C5=p[18], C6=p[19], C7=p[20], C8=p[21], C9=p[22],\\\n",
    "                        C10=p[23], C11=p[24], C12=p[25], C13=p[26], C14=p[27], C15=p[28],\\\n",
    "                        C16=p[29], C17=p[30], C18=p[31], C19=p[32], C20=p[33], C21=p[34],\\\n",
    "                        C22=p[35], C23=p[36], C24=p[37], C25=p[38], C26=p[39]))\n",
    "\n",
    "# Infer the schema, and register the DataFrame as a table.\n",
    "projectDF = sqlContext.createDataFrame(projectRDD)\n",
    "projectDF.registerTempTable(\"projectTable\")\n"
   ]
  },
  {
   "cell_type": "code",
   "execution_count": 12,
   "metadata": {},
   "outputs": [
    {
     "name": "stdout",
     "output_type": "stream",
     "text": [
      "root\n",
      " |-- C1: string (nullable = true)\n",
      " |-- C10: string (nullable = true)\n",
      " |-- C11: string (nullable = true)\n",
      " |-- C12: string (nullable = true)\n",
      " |-- C13: string (nullable = true)\n",
      " |-- C14: string (nullable = true)\n",
      " |-- C15: string (nullable = true)\n",
      " |-- C16: string (nullable = true)\n",
      " |-- C17: string (nullable = true)\n",
      " |-- C18: string (nullable = true)\n",
      " |-- C19: string (nullable = true)\n",
      " |-- C2: string (nullable = true)\n",
      " |-- C20: string (nullable = true)\n",
      " |-- C21: string (nullable = true)\n",
      " |-- C22: string (nullable = true)\n",
      " |-- C23: string (nullable = true)\n",
      " |-- C24: string (nullable = true)\n",
      " |-- C25: string (nullable = true)\n",
      " |-- C26: string (nullable = true)\n",
      " |-- C3: string (nullable = true)\n",
      " |-- C4: string (nullable = true)\n",
      " |-- C5: string (nullable = true)\n",
      " |-- C6: string (nullable = true)\n",
      " |-- C7: string (nullable = true)\n",
      " |-- C8: string (nullable = true)\n",
      " |-- C9: string (nullable = true)\n",
      " |-- I1: string (nullable = true)\n",
      " |-- I10: string (nullable = true)\n",
      " |-- I11: string (nullable = true)\n",
      " |-- I12: string (nullable = true)\n",
      " |-- I13: string (nullable = true)\n",
      " |-- I2: string (nullable = true)\n",
      " |-- I3: string (nullable = true)\n",
      " |-- I4: string (nullable = true)\n",
      " |-- I5: string (nullable = true)\n",
      " |-- I6: string (nullable = true)\n",
      " |-- I7: string (nullable = true)\n",
      " |-- I8: string (nullable = true)\n",
      " |-- I9: string (nullable = true)\n",
      " |-- label: long (nullable = true)\n",
      "\n"
     ]
    },
    {
     "data": {
      "text/plain": [
       "Row(C1='05db9164', C10='c31e5ea3', C11='8b94178b', C12='7a473dbc', C13='025225f2', C14='07d13a8f', C15='520cb89e', C16='4adb3127', C17='e5ba7672', C18='fb299884', C19='', C2='6c2cbbdc', C20='', C21='1d1b3e07', C22='', C23='32c7478e', C24='145ae095', C25='', C26='', C3='9199713a', C4='8b3b6b2e', C5='25c83c98', C6='7e0ccccf', C7='4b3c7cfe', C8='0b153874', C9='7cc72ec2', I1='', I10='', I11='5', I12='', I13='4', I2='1', I3='6', I4='4', I5='23940', I6='70', I7='21', I8='5', I9='126', label=0)"
      ]
     },
     "execution_count": 12,
     "metadata": {},
     "output_type": "execute_result"
    }
   ],
   "source": [
    "projectDF.printSchema()\n",
    "projectDF.head()"
   ]
  },
  {
   "cell_type": "code",
   "execution_count": 13,
   "metadata": {},
   "outputs": [],
   "source": [
    "projectDF = projectDF.withColumn(\"I1\", projectDF[\"I1\"].cast(\"int\"))\n",
    "projectDF = projectDF.withColumn(\"I2\", projectDF[\"I2\"].cast(\"int\"))\n",
    "projectDF = projectDF.withColumn(\"I3\", projectDF[\"I3\"].cast(\"int\"))\n",
    "projectDF = projectDF.withColumn(\"I4\", projectDF[\"I4\"].cast(\"int\"))\n",
    "projectDF = projectDF.withColumn(\"I5\", projectDF[\"I5\"].cast(\"int\"))\n",
    "projectDF = projectDF.withColumn(\"I6\", projectDF[\"I6\"].cast(\"int\"))\n",
    "projectDF = projectDF.withColumn(\"I7\", projectDF[\"I7\"].cast(\"int\"))\n",
    "projectDF = projectDF.withColumn(\"I8\", projectDF[\"I8\"].cast(\"int\"))\n",
    "projectDF = projectDF.withColumn(\"I9\", projectDF[\"I9\"].cast(\"int\"))\n",
    "projectDF = projectDF.withColumn(\"I10\", projectDF[\"I10\"].cast(\"int\"))\n",
    "projectDF = projectDF.withColumn(\"I11\", projectDF[\"I11\"].cast(\"int\"))\n",
    "projectDF = projectDF.withColumn(\"I12\", projectDF[\"I12\"].cast(\"int\"))\n",
    "projectDF = projectDF.withColumn(\"I13\", projectDF[\"I13\"].cast(\"int\"))"
   ]
  },
  {
   "cell_type": "code",
   "execution_count": 17,
   "metadata": {},
   "outputs": [],
   "source": [
    "def handle_missing(data):\n",
    "    \"\"\"\n",
    "    Replaces missiong values ('',' ',NA, NaN) with specified value\n",
    "    Args:\n",
    "        data - Spark DF with missing values\n",
    "        filler - Value to replace missing with defaults to 0\n",
    "    Returns:\n",
    "        data - Spark DF with missing vales filled in\n",
    "    \"\"\"\n",
    "    \n",
    "    for c in data.columns:\n",
    "        data = data.replace(' ',str('EMPTY'), c)\n",
    "        data = data.replace('',str('EMPTY'), c)\n",
    "    data = data.na.fill(0)\n",
    "    return data\n",
    "\n",
    "def pipeline_stages(categorical_features,numeric_features,OHE=True):\n",
    "    \"\"\"Constructs a list of pipeline stages which will transform\n",
    "       All categorical features into one-hot vectors\n",
    "       \n",
    "       Args:\n",
    "           categorical_features - list of categorical feature column names\n",
    "           numeric_features - list of numeric feature column names\n",
    "           OHE - Bool - If true Apply One Hot Encoding to categroical features\n",
    "               - Use false for tree based models\n",
    "       Returns: \n",
    "           stages - list of pipeline stages which will convert categorical features to\n",
    "               one-hot vectors\n",
    "        \"\"\"\n",
    "    stages = []\n",
    "    \n",
    "    \n",
    "    if OHE:\n",
    "        for cat_col in categorical_features:\n",
    "            #Convert Strings to numeric labels\n",
    "            stringIndexer = StringIndexer(inputCol = cat_col, outputCol = cat_col + 'Index')\n",
    "            #Convert to One Hot Encoded vectors\n",
    "            encoder = OneHotEncoderEstimator(inputCols=[stringIndexer.getOutputCol()], outputCols=[cat_col + \"classVec\"],handleInvalid='keep')\n",
    "            stages += [stringIndexer, encoder]\n",
    "        #Vector assembler to combine features into a single column\n",
    "        assemblerInputs = [c + \"classVec\" for c in categorical_features] + numeric_features\n",
    "    else:\n",
    "        for cat_col in categorical_features:\n",
    "            stringIndexer = StringIndexer(inputCol = cat_col, outputCol = cat_col + 'Index')\n",
    "\n",
    "            stages += [stringIndexer]\n",
    "        assemblerInputs = [c + \"Index\" for c in categorical_features] + numeric_features\n",
    "\n",
    "    assembler = VectorAssembler(inputCols=assemblerInputs, outputCol=\"features\")\n",
    "    stages += [assembler]\n",
    "    \n",
    "    return stages\n",
    "def apply_pipeline(data,stages):\n",
    "    \"\"\"\n",
    "    Applies pipeline stages to data\n",
    "    Args: \n",
    "        data - Spark DF of data to be modified\n",
    "        stages - list of pipeline stages to be applied to data\n",
    "    returns:\n",
    "        preppedDataDF - Spark DF with variable transformations applied\n",
    "\n",
    "    \"\"\"\n",
    "    partialPipeline = Pipeline().setStages(stages)\n",
    "    pipelineModel = partialPipeline.fit(data)\n",
    "    preppedDataDF = pipelineModel.transform(data)\n",
    "\n",
    "    \n",
    "    return preppedDataDF"
   ]
  },
  {
   "cell_type": "code",
   "execution_count": 18,
   "metadata": {},
   "outputs": [],
   "source": [
    "numeric_features = ['I4','I13','I7','I11', 'I1']\n",
    "categorical_features =  ['C6','C9','C14','C17','C20','C22','C23']\n",
    "label_and_numeric = [\"label\", 'I4','I13','I7','I11', 'I1']"
   ]
  },
  {
   "cell_type": "markdown",
   "metadata": {},
   "source": [
    "## Prep the Data"
   ]
  },
  {
   "cell_type": "code",
   "execution_count": 21,
   "metadata": {},
   "outputs": [
    {
     "name": "stdout",
     "output_type": "stream",
     "text": [
      "Time to prep LR Data : 83.95914077758789\n"
     ]
    }
   ],
   "source": [
    "\n",
    "weights = [.8, .2]\n",
    "seed = 4\n",
    "\n",
    "stages = []\n",
    "stages = pipeline_stages(categorical_features,numeric_features)\n",
    "\n",
    "keep_cols = categorical_features + label_and_numeric\n",
    "projectDF = projectDF.select([c for c in projectDF.columns if c in keep_cols])\n",
    "#Handle empty strings by imputing 'EMPTY'\n",
    "for c in projectDF.columns:\n",
    "    projectDF = projectDF.replace(' ',str('EMPTY'), c)\n",
    "    projectDF = projectDF.replace('',str('EMPTY'), c)\n",
    "#Set NA's to 0\n",
    "projectDF = projectDF.na.fill(0)\n",
    "\n",
    "#OHE -> VectorAssembler\n",
    "t_lr_prep = time.time()\n",
    "preppedDF = apply_pipeline(projectDF,stages)\n",
    "train,test = preppedDF.randomSplit(weights,seed)\n",
    "print('Time to prep LR Data :', time.time() - t_lr_prep)"
   ]
  },
  {
   "cell_type": "code",
   "execution_count": 22,
   "metadata": {},
   "outputs": [
    {
     "name": "stdout",
     "output_type": "stream",
     "text": [
      "Train Size -  36730\n",
      "Test Size -  9205\n",
      "+-----+-----+\n",
      "|label|count|\n",
      "+-----+-----+\n",
      "|    0|27253|\n",
      "|    1| 9477|\n",
      "+-----+-----+\n",
      "\n",
      "Train Label Distribution - None\n",
      "+-----+-----+\n",
      "|label|count|\n",
      "+-----+-----+\n",
      "|    0| 6904|\n",
      "|    1| 2301|\n",
      "+-----+-----+\n",
      "\n",
      "Test Label Distribution - None\n"
     ]
    }
   ],
   "source": [
    "print('Train Size - ',train.count())\n",
    "print('Test Size - ',test.count())\n",
    "\n",
    "print('Train Label Distribution -',train.groupBy('label').count().show())\n",
    "print('Test Label Distribution -',test.groupBy('label').count().show())"
   ]
  },
  {
   "cell_type": "markdown",
   "metadata": {},
   "source": [
    "## Logistic Regression"
   ]
  },
  {
   "cell_type": "code",
   "execution_count": 23,
   "metadata": {},
   "outputs": [
    {
     "name": "stdout",
     "output_type": "stream",
     "text": [
      "Total training ime : 23.617695569992065\n",
      "AUC ROC 0.5456343166329517\n"
     ]
    }
   ],
   "source": [
    "#Logistic Regression\n",
    "t_lr = time.time()\n",
    "lrModel = LogisticRegression().fit(train)\n",
    "\n",
    "print('Total training time - Logistic Regression : ',time.time()-t_lr)\n",
    "predictions_lr = lrModel.transform(test)\n",
    "# Evaluate model\n",
    "evaluator = BinaryClassificationEvaluator(rawPredictionCol=\"prediction\",labelCol=\"label\")\n"
   ]
  },
  {
   "cell_type": "code",
   "execution_count": 24,
   "metadata": {},
   "outputs": [
    {
     "name": "stdout",
     "output_type": "stream",
     "text": [
      "+----------+-----+\n",
      "|prediction|count|\n",
      "+----------+-----+\n",
      "|       0.0| 8743|\n",
      "|       1.0|  462|\n",
      "+----------+-----+\n",
      "\n",
      "Total : 9205.0\n",
      "TN : 6715\n",
      "FP : 189\n",
      "FN : 2028\n",
      "TP : 273\n",
      "\n",
      "Confusion Matrix:\n",
      "273 \t 189\n",
      "2028 \t 6715\n",
      "\n",
      "\n",
      "AUC ROC - 0.5456343166329517\n",
      "Accuracy : 0.7591526344378056\n",
      "Precision : 0.5909090909090909\n",
      "Recall : 0.11864406779661017\n",
      "F1 : 0.1976112920738328\n"
     ]
    }
   ],
   "source": [
    "#LR Predictions\n",
    "predictions_lr.groupBy('prediction').count().show()\n",
    "\n",
    "TP = predictions_lr.select(\"label\", \"prediction\").filter(\"label = 1 and prediction = 1\").count()\n",
    "\n",
    "TN = predictions_lr.select(\"label\", \"prediction\").filter(\"label = 0 and prediction = 0\").count()\n",
    "FP = predictions_lr.select(\"label\", \"prediction\").filter(\"label = 0 and prediction = 1\").count()\n",
    "FN = predictions_lr.select(\"label\", \"prediction\").filter(\"label = 1 and prediction = 0\").count()\n",
    "total = predictions_lr.select(\"label\").count()\n",
    "total = float(total)\n",
    "\n",
    "print(\"Total :\",total)\n",
    "print(\"TN :\",TN)\n",
    "print(\"FP :\",FP)\n",
    "print(\"FN :\",FN)\n",
    "print(\"TP :\",TP)\n",
    "\n",
    "print(\"\\nConfusion Matrix:\")\n",
    "print(TP,'\\t',FP)\n",
    "print(FN,'\\t',TN)\n",
    "print(\"\\n\")\n",
    "\n",
    "accuracy\t= (TP + TN) / total\n",
    "precision   = TP / (TP + FP)\n",
    "recall      = TP / (TP + FN)\n",
    "F1\t\t= 2/(1/precision + 1/recall)\n",
    "\n",
    "\n",
    "print('AUC ROC -',evaluator.evaluate(predictions_lr))\n",
    "print(\"Accuracy :\",accuracy)\n",
    "print(\"Precision :\",precision)\n",
    "print(\"Recall :\",recall)\n",
    "print(\"F1 :\",F1)"
   ]
  },
  {
   "cell_type": "code",
   "execution_count": 25,
   "metadata": {},
   "outputs": [
    {
     "name": "stdout",
     "output_type": "stream",
     "text": [
      "Total time to prep tree data : 80.91630029678345\n"
     ]
    }
   ],
   "source": [
    "#Prep the data for Trees (skip the one hot encoding step)\n",
    "t_tree_prep = time.time()\n",
    "stages = []\n",
    "stages = pipeline_stages(categorical_features,numeric_features,OHE=False)\n",
    "preppedDF = apply_pipeline(projectDF,stages)\n",
    "train,test = preppedDF.randomSplit(weights,seed)\n",
    "print('Total time to prep tree data :',time.time()-t_tree_prep)"
   ]
  },
  {
   "cell_type": "markdown",
   "metadata": {},
   "source": [
    "## Decision Tree"
   ]
  },
  {
   "cell_type": "code",
   "execution_count": 26,
   "metadata": {},
   "outputs": [
    {
     "name": "stdout",
     "output_type": "stream",
     "text": [
      "Total Training Time : 49.28633713722229\n"
     ]
    }
   ],
   "source": [
    "# Create initial Decision Tree Model\n",
    "t_dt = time.time()\n",
    "dtModel = DecisionTreeClassifier(\n",
    "    labelCol=\"label\", featuresCol=\"features\", maxDepth=3).fit(train)\n",
    "print('Total Training Time - Decision Tree : ',time.time()-t_dt)\n",
    "#make predictions\n",
    "predictions_dt = dtModel.transform(test)\n",
    "evaluator = BinaryClassificationEvaluator(\n",
    "    rawPredictionCol=\"prediction\",labelCol=\"label\")\n"
   ]
  },
  {
   "cell_type": "code",
   "execution_count": 27,
   "metadata": {},
   "outputs": [
    {
     "name": "stdout",
     "output_type": "stream",
     "text": [
      "+----------+-----+\n",
      "|prediction|count|\n",
      "+----------+-----+\n",
      "|       0.0| 8577|\n",
      "|       1.0|  628|\n",
      "+----------+-----+\n",
      "\n",
      "Total : 9205.0\n",
      "TN : 6616\n",
      "FP : 288\n",
      "FN : 1961\n",
      "TP : 340\n",
      "\n",
      "Confusion Matrix:\n",
      "340 \t 288\n",
      "1961 \t 6616\n",
      "\n",
      "\n",
      "AUC ROC - 0.553023447410391\n",
      "Accuracy : 0.7556762629005975\n",
      "Precision : 0.5414012738853503\n",
      "Recall : 0.1477618426770969\n",
      "F1 : 0.23216114714919767\n"
     ]
    }
   ],
   "source": [
    "# DT Predictions\n",
    "predictions_dt.groupBy('prediction').count().show()\n",
    "\n",
    "TP = predictions_dt.select(\"label\", \"prediction\").filter(\"label = 1 and prediction = 1\").count()\n",
    "\n",
    "TN = predictions_dt.select(\"label\", \"prediction\").filter(\"label = 0 and prediction = 0\").count()\n",
    "FP = predictions_dt.select(\"label\", \"prediction\").filter(\"label = 0 and prediction = 1\").count()\n",
    "FN = predictions_dt.select(\"label\", \"prediction\").filter(\"label = 1 and prediction = 0\").count()\n",
    "total = predictions_dt.select(\"label\").count()\n",
    "total = float(total)\n",
    "\n",
    "print(\"Total :\",total)\n",
    "print(\"TN :\",TN)\n",
    "print(\"FP :\",FP)\n",
    "print(\"FN :\",FN)\n",
    "print(\"TP :\",TP)\n",
    "\n",
    "print(\"\\nConfusion Matrix:\")\n",
    "print(TP,'\\t',FP)\n",
    "print(FN,'\\t',TN)\n",
    "print(\"\\n\")\n",
    "\n",
    "accuracy\t= (TP + TN) / total\n",
    "precision   = TP / (TP + FP)\n",
    "recall      = TP / (TP + FN)\n",
    "F1\t\t= 2/(1/precision + 1/recall)\n",
    "\n",
    "\n",
    "print('AUC ROC -',evaluator.evaluate(predictions_dt))\n",
    "print(\"Accuracy :\",accuracy)\n",
    "print(\"Precision :\",precision)\n",
    "print(\"Recall :\",recall)\n",
    "print(\"F1 :\",F1)"
   ]
  },
  {
   "cell_type": "markdown",
   "metadata": {},
   "source": [
    "## Random Forest"
   ]
  },
  {
   "cell_type": "code",
   "execution_count": 28,
   "metadata": {},
   "outputs": [
    {
     "name": "stdout",
     "output_type": "stream",
     "text": [
      "Total training time : 52.869446754455566\n"
     ]
    }
   ],
   "source": [
    "# Create an initial RandomForest model.\n",
    "t_rf = time.time()\n",
    "rfModel = RandomForestClassifier(\n",
    "    labelCol=\"label\", featuresCol=\"features\").fit(train)\n",
    "\n",
    "print('Total training time - Random Forrest : ',time.time()-t_rf)\n",
    "\n",
    "#Make Predictions\n",
    "predictions_rf = rfModel.transform(test)\n",
    "evaluator = BinaryClassificationEvaluator(\n",
    "    rawPredictionCol=\"prediction\",labelCol=\"label\")\n"
   ]
  },
  {
   "cell_type": "code",
   "execution_count": 29,
   "metadata": {},
   "outputs": [
    {
     "name": "stdout",
     "output_type": "stream",
     "text": [
      "+----------+-----+\n",
      "|prediction|count|\n",
      "+----------+-----+\n",
      "|       0.0| 8865|\n",
      "|       1.0|  340|\n",
      "+----------+-----+\n",
      "\n",
      "Total : 9205.0\n",
      "TN : 6777\n",
      "FP : 127\n",
      "FN : 2088\n",
      "TP : 213\n",
      "\n",
      "Confusion Matrix:\n",
      "213 \t 127\n",
      "2088 \t 6777\n",
      "\n",
      "\n",
      "AUC ROC - 0.5370866576222842\n",
      "Accuracy : 0.759369907658881\n",
      "Precision : 0.6264705882352941\n",
      "Recall : 0.09256844850065189\n",
      "F1 : 0.16130253691783417\n"
     ]
    }
   ],
   "source": [
    "#RF Predictions\n",
    "predictions_rf.groupBy('prediction').count().show()\n",
    "\n",
    "TP = predictions_rf.select(\"label\", \"prediction\").filter(\"label = 1 and prediction = 1\").count()\n",
    "\n",
    "TN = predictions_rf.select(\"label\", \"prediction\").filter(\"label = 0 and prediction = 0\").count()\n",
    "FP = predictions_rf.select(\"label\", \"prediction\").filter(\"label = 0 and prediction = 1\").count()\n",
    "FN = predictions_rf.select(\"label\", \"prediction\").filter(\"label = 1 and prediction = 0\").count()\n",
    "total = predictions_rf.select(\"label\").count()\n",
    "total = float(total)\n",
    "\n",
    "print(\"Total :\",total)\n",
    "print(\"TN :\",TN)\n",
    "print(\"FP :\",FP)\n",
    "print(\"FN :\",FN)\n",
    "print(\"TP :\",TP)\n",
    "\n",
    "print(\"\\nConfusion Matrix:\")\n",
    "print(TP,'\\t',FP)\n",
    "print(FN,'\\t',TN)\n",
    "print(\"\\n\")\n",
    "\n",
    "accuracy\t= (TP + TN) / total\n",
    "precision   = TP / (TP + FP)\n",
    "recall      = TP / (TP + FN)\n",
    "F1\t\t= 2/(1/precision + 1/recall)\n",
    "\n",
    "print('AUC ROC -',evaluator.evaluate(predictions_rf))\n",
    "print(\"Accuracy :\",accuracy)\n",
    "print(\"Precision :\",precision)\n",
    "print(\"Recall :\",recall)\n",
    "print(\"F1 :\",F1)"
   ]
  },
  {
   "cell_type": "markdown",
   "metadata": {},
   "source": [
    "# Question 4: Algorithm Implementation \n",
    "Develop a 'homegrown' implementation of the algorithn, apply it to the training dataset and evaluate your results on the test set. "
   ]
  },
  {
   "cell_type": "markdown",
   "metadata": {},
   "source": [
    "# Question 5: Application of Course Concepts\n",
    "Pick 3-5 key course concepts and discuss how your work on this assignment illustrates an understanding of these concepts. "
   ]
  },
  {
   "cell_type": "code",
   "execution_count": null,
   "metadata": {},
   "outputs": [],
   "source": []
  }
 ],
 "metadata": {
  "kernelspec": {
   "display_name": "Python 3",
   "language": "python",
   "name": "python3"
  },
  "language_info": {
   "codemirror_mode": {
    "name": "ipython",
    "version": 3
   },
   "file_extension": ".py",
   "mimetype": "text/x-python",
   "name": "python",
   "nbconvert_exporter": "python",
   "pygments_lexer": "ipython3",
   "version": "3.6.6"
  }
 },
 "nbformat": 4,
 "nbformat_minor": 2
}
