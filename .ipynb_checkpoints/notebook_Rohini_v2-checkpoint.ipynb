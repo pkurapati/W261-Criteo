{
 "cells": [
  {
   "cell_type": "markdown",
   "metadata": {},
   "source": [
    "# Final Project\n",
    "__`MIDS w261: Machine Learning at Scale | UC Berkeley School of Information | Fall 2018`__  \n",
    "Throughout this course you’ve engaged with key principles required to develop scalable machine learning analyses for structured and unstructured data. Working in Hadoop Streaming and Spark you’ve learned to translate common machine learning algorithms into Map-Reduce style implementations. You’ve developed the ability to evaluate Machine Learning approaches both in terms of their predictive performance as well as their scalability. For the final project you will demonstrate these skills by solving a machine learning challenge on a new dataset. Your job is to perform Click Through Rate prediction on a large dataset of Criteo advertising data made public as part of a Kaggle competition a few years back. As you perform your analysis, keep in mind that we are not grading you on the final performance of your model or how ‘advanced’ the techniques you use but rather on your ability to explain and develop a scalable machine learning approach to answering a real question.\n",
    "\n",
    "More about the dataset:\n",
    "https://www.kaggle.com/c/criteo-display-ad-challenge"
   ]
  },
  {
   "cell_type": "markdown",
   "metadata": {},
   "source": [
    "# Notebook Set-Up\n",
    "Before starting your homework run the following cells to confirm your setup."
   ]
  },
  {
   "cell_type": "code",
   "execution_count": 37,
   "metadata": {},
   "outputs": [],
   "source": [
    "import re\n",
    "import ast\n",
    "import time\n",
    "import itertools\n",
    "import numpy as np\n",
    "import pandas as pd\n",
    "import matplotlib.pyplot as plt"
   ]
  },
  {
   "cell_type": "code",
   "execution_count": 38,
   "metadata": {},
   "outputs": [],
   "source": [
    "%reload_ext autoreload\n",
    "%autoreload 2\n",
    "%matplotlib inline"
   ]
  },
  {
   "cell_type": "code",
   "execution_count": 39,
   "metadata": {},
   "outputs": [],
   "source": [
    "# store path to notebook\n",
    "PWD = !pwd\n",
    "PWD = PWD[0]"
   ]
  },
  {
   "cell_type": "code",
   "execution_count": 40,
   "metadata": {},
   "outputs": [],
   "source": [
    "# start Spark Session\n",
    "from pyspark.sql import SparkSession\n",
    "app_name = \"fproj_notebook\"\n",
    "master = \"local[*]\"\n",
    "spark = SparkSession\\\n",
    "        .builder\\\n",
    "        .appName(app_name)\\\n",
    "        .master(master)\\\n",
    "        .getOrCreate()\n",
    "sc = spark.sparkContext"
   ]
  },
  {
   "cell_type": "code",
   "execution_count": 72,
   "metadata": {},
   "outputs": [
    {
     "name": "stdout",
     "output_type": "stream",
     "text": [
      "+---+---------+---------+\n",
      "| id|category1|category2|\n",
      "+---+---------+---------+\n",
      "|  0|        a|        1|\n",
      "|  1|        b|        2|\n",
      "|  2|        c|        3|\n",
      "|  3|        a|        4|\n",
      "|  4|        a|        4|\n",
      "|  5|        c|        3|\n",
      "+---+---------+---------+\n",
      "\n",
      "+-------------------+\n",
      "|features           |\n",
      "+-------------------+\n",
      "|(4,[0],[2.0])      |\n",
      "|(4,[0,1],[3.0,1.0])|\n",
      "|(4,[0],[6.0])      |\n",
      "|(4,[0],[8.0])      |\n",
      "|(4,[0],[9.0])      |\n",
      "|(4,[0],[9.0])      |\n",
      "+-------------------+\n",
      "\n"
     ]
    }
   ],
   "source": [
    "#Toy data set Use Feature hasher\n",
    "#data = [(2.0, True, 1, \"foo\",\"A\"), (3.0, False, 2, \"bar\",\"B\"),(4.0, True, 2, \"bar\",\"B\"),(4.0, True, 2, \"bar\",\"B\")]\n",
    "df = spark.createDataFrame([(0, \"a\", 1), (1, \"b\", 2), (2, \"c\", 3), (3, \"a\", 4), (4, \"a\", 4), (5, \"c\", 3)], [\"id\", \"category1\", \"category2\"])\n",
    "#cols = [\"real\", \"bool\", \"int\",\"string\", \"categotical\"]\n",
    "#df = spark.createDataFrame(data, cols)\n",
    "cols = [\"id\", \"category1\", \"category2\"]\n",
    "df.show()\n",
    "hasher = FeatureHasher(inputCols=cols, outputCol=\"features\")\n",
    "hasher.setNumFeatures(4)\n",
    "featurized = hasher.transform(df)\n",
    "featurized.select(\"features\").show(truncate=False)"
   ]
  },
  {
   "cell_type": "code",
   "execution_count": 41,
   "metadata": {},
   "outputs": [],
   "source": [
    "import os\n",
    "import sys\n",
    "import os.path\n",
    "import pyspark\n",
    "\n",
    "file = open('data/train2000', 'r') \n",
    "dacContents = file.read().split(\"\\n\") \n",
    "dacContents = [x.strip().replace('\\t', ',') for x in dacContents]\n",
    "\n",
    "numPartitions = 2\n",
    "rawData = sc.parallelize(dacContents)"
   ]
  },
  {
   "cell_type": "code",
   "execution_count": 42,
   "metadata": {},
   "outputs": [
    {
     "name": "stdout",
     "output_type": "stream",
     "text": [
      "1585 203 213 2001\n",
      "['id,click,hour,C1,banner_pos,site_id,site_domain,site_category,app_id,app_domain,app_category,device_id,device_ip,device_model,device_type,device_conn_type,C14,C15,C16,C17,C18,C19,C20,C21', '1000009418151094273,0,14102100,1005,0,1fbe01fe,f3845767,28905ebd,ecad2386,7801e8d9,07d7df22,a99f214a,ddd2926e,44956a24,1,2,15706,320,50,1722,0,35,-1,79', '10000169349117863715,0,14102100,1005,0,1fbe01fe,f3845767,28905ebd,ecad2386,7801e8d9,07d7df22,a99f214a,96809ac8,711ee120,1,0,15704,320,50,1722,0,35,100084,79']\n"
     ]
    }
   ],
   "source": [
    "weights = [.8, .1, .1]\n",
    "seed = 42\n",
    "rawTrainData, rawValidationData, rawTestData = rawData.randomSplit(weights,seed)\n",
    "# Cache the data\n",
    "rawTrainData.cache()\n",
    "rawValidationData.cache()\n",
    "rawTestData.cache()\n",
    "\n",
    "nTrain = rawTrainData.count()\n",
    "nVal = rawValidationData.count()\n",
    "nTest = rawTestData.count()\n",
    "print( nTrain, nVal, nTest, nTrain + nVal + nTest)\n",
    "print (rawData.take(3))"
   ]
  },
  {
   "cell_type": "code",
   "execution_count": 43,
   "metadata": {},
   "outputs": [],
   "source": [
    "#get all categorical variables\n",
    "def get_categorical(df):\n",
    "    categorical = [var for var in df.columns if df[var].dtype=='O']\n",
    "    return categorical\n",
    "#get all numerical variables\n",
    "def get_numerical(df):\n",
    "    numerical = [var for var in df.columns if df[var].dtype!='O']\n",
    "    \n",
    "    return numerical\n"
   ]
  },
  {
   "cell_type": "code",
   "execution_count": 44,
   "metadata": {},
   "outputs": [
    {
     "name": "stdout",
     "output_type": "stream",
     "text": [
      "root\n",
      " |-- id: string (nullable = true)\n",
      " |-- click: string (nullable = true)\n",
      " |-- hour: string (nullable = true)\n",
      " |-- C1: string (nullable = true)\n",
      " |-- banner_pos: string (nullable = true)\n",
      " |-- site_id: string (nullable = true)\n",
      " |-- site_domain: string (nullable = true)\n",
      " |-- site_category: string (nullable = true)\n",
      " |-- app_id: string (nullable = true)\n",
      " |-- app_domain: string (nullable = true)\n",
      " |-- app_category: string (nullable = true)\n",
      " |-- device_id: string (nullable = true)\n",
      " |-- device_ip: string (nullable = true)\n",
      " |-- device_model: string (nullable = true)\n",
      " |-- device_type: string (nullable = true)\n",
      " |-- device_conn_type: string (nullable = true)\n",
      " |-- C14: string (nullable = true)\n",
      " |-- C15: string (nullable = true)\n",
      " |-- C16: string (nullable = true)\n",
      " |-- C17: string (nullable = true)\n",
      " |-- C18: string (nullable = true)\n",
      " |-- C19: string (nullable = true)\n",
      " |-- C20: string (nullable = true)\n",
      " |-- C21: string (nullable = true)\n",
      "\n",
      "+--------------------+-----+--------+----+----------+--------+-----------+\n",
      "|                  id|click|    hour|  C1|banner_pos| site_id|site_domain|\n",
      "+--------------------+-----+--------+----+----------+--------+-----------+\n",
      "| 1000009418151094273|    0|14102100|1005|         0|1fbe01fe|   f3845767|\n",
      "|10000169349117863715|    0|14102100|1005|         0|1fbe01fe|   f3845767|\n",
      "+--------------------+-----+--------+----+----------+--------+-----------+\n",
      "only showing top 2 rows\n",
      "\n",
      "Number of features  20\n",
      "+--------------------+-----+--------+----+----------+--------+-----------+-------------+--------+----------+------------+---------+---------+------------+-----------+----------------+-----+---+---+----+---+---+------+---+\n",
      "|                  id|click|    hour|  C1|banner_pos| site_id|site_domain|site_category|  app_id|app_domain|app_category|device_id|device_ip|device_model|device_type|device_conn_type|  C14|C15|C16| C17|C18|C19|   C20|C21|\n",
      "+--------------------+-----+--------+----+----------+--------+-----------+-------------+--------+----------+------------+---------+---------+------------+-----------+----------------+-----+---+---+----+---+---+------+---+\n",
      "| 1000009418151094273|    0|14102100|1005|         0|1fbe01fe|   f3845767|     28905ebd|ecad2386|  7801e8d9|    07d7df22| a99f214a| ddd2926e|    44956a24|          1|               2|15706|320| 50|1722|  0| 35|    -1| 79|\n",
      "|10000169349117863715|    0|14102100|1005|         0|1fbe01fe|   f3845767|     28905ebd|ecad2386|  7801e8d9|    07d7df22| a99f214a| 96809ac8|    711ee120|          1|               0|15704|320| 50|1722|  0| 35|100084| 79|\n",
      "+--------------------+-----+--------+----+----------+--------+-----------+-------------+--------+----------+------------+---------+---------+------------+-----------+----------------+-----+---+---+----+---+---+------+---+\n",
      "only showing top 2 rows\n",
      "\n",
      "+--------------------+-----+--------+----+----------+--------+-----------+-------------+--------+----------+------------+---------+---------+------------+-----------+----------------+-----+---+---+----+---+---+------+---+--------------------+\n",
      "|                  id|click|    hour|  C1|banner_pos| site_id|site_domain|site_category|  app_id|app_domain|app_category|device_id|device_ip|device_model|device_type|device_conn_type|  C14|C15|C16| C17|C18|C19|   C20|C21|            features|\n",
      "+--------------------+-----+--------+----+----------+--------+-----------+-------------+--------+----------+------------+---------+---------+------------+-----------+----------------+-----+---+---+----+---+---+------+---+--------------------+\n",
      "| 1000009418151094273|    0|14102100|1005|         0|1fbe01fe|   f3845767|     28905ebd|ecad2386|  7801e8d9|    07d7df22| a99f214a| ddd2926e|    44956a24|          1|               2|15706|320| 50|1722|  0| 35|    -1| 79|(20,[0,4,5,9,12,1...|\n",
      "|10000169349117863715|    0|14102100|1005|         0|1fbe01fe|   f3845767|     28905ebd|ecad2386|  7801e8d9|    07d7df22| a99f214a| 96809ac8|    711ee120|          1|               0|15704|320| 50|1722|  0| 35|100084| 79|(20,[0,4,5,9,12,1...|\n",
      "+--------------------+-----+--------+----+----------+--------+-----------+-------------+--------+----------+------------+---------+---------+------------+-----------+----------------+-----+---+---+----+---+---+------+---+--------------------+\n",
      "only showing top 2 rows\n",
      "\n",
      "+-----------------------------------------------------+\n",
      "|features                                             |\n",
      "+-----------------------------------------------------+\n",
      "|(20,[0,4,5,9,12,15,18],[1.0,1.0,1.0,1.0,1.0,1.0,1.0])|\n",
      "|(20,[0,4,5,9,12,15],[2.0,1.0,1.0,1.0,1.0,1.0])       |\n",
      "|(20,[0,4,5,9,12,15],[1.0,1.0,1.0,2.0,1.0,1.0])       |\n",
      "|(20,[0,4,5,9,12,15],[2.0,1.0,1.0,1.0,1.0,1.0])       |\n",
      "|(20,[0,6,9,12,13],[1.0,1.0,1.0,2.0,2.0])             |\n",
      "+-----------------------------------------------------+\n",
      "only showing top 5 rows\n",
      "\n",
      "+-----+--------------------+\n",
      "|click|            features|\n",
      "+-----+--------------------+\n",
      "|    0|(20,[0,4,5,9,12,1...|\n",
      "|    0|(20,[0,4,5,9,12,1...|\n",
      "|    0|(20,[0,4,5,9,12,1...|\n",
      "|    0|(20,[0,4,5,9,12,1...|\n",
      "|    0|(20,[0,6,9,12,13]...|\n",
      "|    0|(20,[0,5,8,9,12,1...|\n",
      "|    0|(20,[0,3,4,5,9,12...|\n",
      "|    0|(20,[0,6,8,9,12,1...|\n",
      "|    1|(20,[0,4,5,9,12,1...|\n",
      "|    0|(20,[0,1,6,12,13,...|\n",
      "+-----+--------------------+\n",
      "only showing top 10 rows\n",
      "\n",
      "lrmodel LogisticRegression_4a20b7dfd231673dfedb\n",
      "+-------------------+--------+----+----------+--------+-----------+-----+--------------------+--------------------+--------------------+----------+\n",
      "|                 id|    hour|  C1|banner_pos| site_id|site_domain|click|            features|       rawPrediction|         probability|prediction|\n",
      "+-------------------+--------+----+----------+--------+-----------+-----+--------------------+--------------------+--------------------+----------+\n",
      "|9998354075836702668|14103023|1005|         0|85f751fd|   c4e18dd6|    0|(20,[5,6,7,9,11,1...|[2.41496437568790...|[0.91796131731855...|       0.0|\n",
      "|9998487258543214200|14103023|1005|         0|83a0ad1a|   5c9ae867|    1|(20,[1,5,9,11,13,...|[1.42706569810265...|[0.80644370577670...|       0.0|\n",
      "|9998515968748286661|14103023|1005|         1|856e6d3f|   58a89a43|    0|(20,[5,6,9,11,12,...|[1.42705454366892...|[0.80644196465003...|       0.0|\n",
      "|9998613662398752368|14103023|1005|         0|85f751fd|   c4e18dd6|    0|(20,[5,6,7,9,11,1...|[2.41496437568790...|[0.91796131731855...|       0.0|\n",
      "|9998654904628431953|14103023|1005|         0|85f751fd|   c4e18dd6|    0|(20,[5,6,9,11,15,...|[2.49252070098601...|[0.92361582717442...|       0.0|\n",
      "|9998752756639797808|14103023|1005|         1|e151e245|   7e091613|    1|(20,[5,6,8,9,11,1...|[2.01014310451765...|[0.88185793228089...|       0.0|\n",
      "|9999037534674210613|14103023|1005|         0|85f751fd|   c4e18dd6|    0|(20,[5,6,9,11,15,...|[2.49252070098601...|[0.92361582717442...|       0.0|\n",
      "|9999585120349625051|14103023|1005|         1|f61eaaae|   6b59f079|    0|(20,[0,5,6,9,10,1...|[1.86036899554122...|[0.86533995168475...|       0.0|\n",
      "|9999636335882369227|14103023|1005|         0|85f751fd|   c4e18dd6|    1|(20,[5,6,9,11,12,...|[1.93704976400036...|[0.87402767104241...|       0.0|\n",
      "|9999746639881208566|14103023|1005|         0|1fbe01fe|   f3845767|    0|(20,[4,5,9,11,15]...|[1.55209867318741...|[0.82521663878370...|       0.0|\n",
      "|9807335364225058375|14103023|1005|         1|d9750ee7|   98572c79|    0|(20,[1,5,6,9,11,1...|[1.08487818030620...|[0.74741602314452...|       0.0|\n",
      "|9807357119418265272|14103023|1005|         0|85f751fd|   c4e18dd6|    1|(20,[5,6,9,11,15,...|[2.32245481112440...|[0.91071974097299...|       0.0|\n",
      "|9807381820629414034|14103023|1005|         0|1fbe01fe|   f3845767|    0|(20,[1,4,5,9,11,1...|[1.06656288124245...|[0.74394272153760...|       0.0|\n",
      "|9807542303422388832|14103023|1005|         1|d9750ee7|   98572c79|    0|(20,[1,5,6,9,11,1...|[1.08487818030620...|[0.74741602314452...|       0.0|\n",
      "|9807579838502280834|14103023|1005|         0|85f751fd|   c4e18dd6|    0|(20,[5,6,9,11,14,...|[2.12546180017157...|[0.89335341117824...|       0.0|\n",
      "|9807627606338478431|14103023|1005|         1|d9750ee7|   98572c79|    1|(20,[1,4,5,6,9,11...|[1.20865426941279...|[0.77006075091599...|       0.0|\n",
      "|9807633646626546770|14103023|1005|         0|85f751fd|   c4e18dd6|    0|(20,[5,6,9,11,15,...|[2.08590967404042...|[0.88952611169418...|       0.0|\n",
      "|9807838192662182288|14103023|1005|         0|85f751fd|   c4e18dd6|    0|(20,[5,6,9,11,15,...|[2.30870493280441...|[0.90959541633186...|       0.0|\n",
      "|9807891578712710933|14103023|1005|         0|85f751fd|   c4e18dd6|    0|(20,[5,6,9,11,15,...|[2.08590967404042...|[0.88952611169418...|       0.0|\n",
      "|9808095871817015482|14103023|1005|         0|cd58172f|   b9c4ab81|    0|(20,[5,9,11,13,15...|[1.58978697294687...|[0.83058612954148...|       0.0|\n",
      "+-------------------+--------+----+----------+--------+-----------+-----+--------------------+--------------------+--------------------+----------+\n",
      "only showing top 20 rows\n",
      "\n",
      "+-------------------+--------+----+----------+--------+-----------+-----+\n",
      "|                 id|    hour|  C1|banner_pos| site_id|site_domain|click|\n",
      "+-------------------+--------+----+----------+--------+-----------+-----+\n",
      "|9998354075836702668|14103023|1005|         0|85f751fd|   c4e18dd6|    0|\n",
      "|9998487258543214200|14103023|1005|         0|83a0ad1a|   5c9ae867|    1|\n",
      "|9998515968748286661|14103023|1005|         1|856e6d3f|   58a89a43|    0|\n",
      "|9998613662398752368|14103023|1005|         0|85f751fd|   c4e18dd6|    0|\n",
      "|9998654904628431953|14103023|1005|         0|85f751fd|   c4e18dd6|    0|\n",
      "|9998752756639797808|14103023|1005|         1|e151e245|   7e091613|    1|\n",
      "|9999037534674210613|14103023|1005|         0|85f751fd|   c4e18dd6|    0|\n",
      "|9999585120349625051|14103023|1005|         1|f61eaaae|   6b59f079|    0|\n",
      "|9999636335882369227|14103023|1005|         0|85f751fd|   c4e18dd6|    1|\n",
      "|9999746639881208566|14103023|1005|         0|1fbe01fe|   f3845767|    0|\n",
      "|9807335364225058375|14103023|1005|         1|d9750ee7|   98572c79|    0|\n",
      "|9807357119418265272|14103023|1005|         0|85f751fd|   c4e18dd6|    1|\n",
      "|9807381820629414034|14103023|1005|         0|1fbe01fe|   f3845767|    0|\n",
      "|9807542303422388832|14103023|1005|         1|d9750ee7|   98572c79|    0|\n",
      "|9807579838502280834|14103023|1005|         0|85f751fd|   c4e18dd6|    0|\n",
      "|9807627606338478431|14103023|1005|         1|d9750ee7|   98572c79|    1|\n",
      "|9807633646626546770|14103023|1005|         0|85f751fd|   c4e18dd6|    0|\n",
      "|9807838192662182288|14103023|1005|         0|85f751fd|   c4e18dd6|    0|\n",
      "|9807891578712710933|14103023|1005|         0|85f751fd|   c4e18dd6|    0|\n",
      "|9808095871817015482|14103023|1005|         0|cd58172f|   b9c4ab81|    0|\n",
      "+-------------------+--------+----+----------+--------+-----------+-----+\n",
      "only showing top 20 rows\n",
      "\n",
      "+-------------------+--------+----+----------+--------+-----------+-----+--------------------+--------------------+--------------------+----------+\n",
      "|                 id|    hour|  C1|banner_pos| site_id|site_domain|click|            features|       rawPrediction|         probability|prediction|\n",
      "+-------------------+--------+----+----------+--------+-----------+-----+--------------------+--------------------+--------------------+----------+\n",
      "|9998354075836702668|14103023|1005|         0|85f751fd|   c4e18dd6|    0|(20,[5,6,7,9,11,1...|[2.41496437568790...|[0.91796131731855...|       0.0|\n",
      "|9998487258543214200|14103023|1005|         0|83a0ad1a|   5c9ae867|    1|(20,[1,5,9,11,13,...|[1.42706569810265...|[0.80644370577670...|       0.0|\n",
      "|9998515968748286661|14103023|1005|         1|856e6d3f|   58a89a43|    0|(20,[5,6,9,11,12,...|[1.42705454366892...|[0.80644196465003...|       0.0|\n",
      "|9998613662398752368|14103023|1005|         0|85f751fd|   c4e18dd6|    0|(20,[5,6,7,9,11,1...|[2.41496437568790...|[0.91796131731855...|       0.0|\n",
      "|9998654904628431953|14103023|1005|         0|85f751fd|   c4e18dd6|    0|(20,[5,6,9,11,15,...|[2.49252070098601...|[0.92361582717442...|       0.0|\n",
      "|9998752756639797808|14103023|1005|         1|e151e245|   7e091613|    1|(20,[5,6,8,9,11,1...|[2.01014310451765...|[0.88185793228089...|       0.0|\n",
      "|9999037534674210613|14103023|1005|         0|85f751fd|   c4e18dd6|    0|(20,[5,6,9,11,15,...|[2.49252070098601...|[0.92361582717442...|       0.0|\n",
      "|9999585120349625051|14103023|1005|         1|f61eaaae|   6b59f079|    0|(20,[0,5,6,9,10,1...|[1.86036899554122...|[0.86533995168475...|       0.0|\n",
      "|9999636335882369227|14103023|1005|         0|85f751fd|   c4e18dd6|    1|(20,[5,6,9,11,12,...|[1.93704976400036...|[0.87402767104241...|       0.0|\n",
      "|9999746639881208566|14103023|1005|         0|1fbe01fe|   f3845767|    0|(20,[4,5,9,11,15]...|[1.55209867318741...|[0.82521663878370...|       0.0|\n",
      "+-------------------+--------+----+----------+--------+-----------+-----+--------------------+--------------------+--------------------+----------+\n",
      "only showing top 10 rows\n",
      "\n"
     ]
    }
   ],
   "source": [
    "from pyspark.ml.feature import FeatureHasher\n",
    "from pyspark.sql import SQLContext, Row\n",
    "from pyspark.mllib.classification import LogisticRegressionWithSGD\n",
    "from pyspark.mllib.regression import LabeledPoint\n",
    "from pyspark.mllib.linalg import SparseVector\n",
    "from pyspark.sql.types import IntegerType\n",
    "from pyspark.ml.classification import LogisticRegression\n",
    "\n",
    "regParams = [1e-6,1e-3]\n",
    "sqlContext = SQLContext(sc)\n",
    "df = spark.read.format(\"csv\").option(\"header\", \"true\").option(\"mode\", \"DROPMALFORMED\").load(\"data/train2000\")\n",
    "df.printSchema()\n",
    "\n",
    "hasher = FeatureHasher(inputCols=[\"id\", \"click\", \"hour\", \"C1\",\"banner_pos\",\"site_id\",\"site_domain\"],\n",
    "                       outputCol=\"features\")\n",
    "df.select(\"id\", \"click\", \"hour\", \"C1\",\"banner_pos\",\"site_id\",\"site_domain\").show(2)\n",
    "\n",
    "hasher.setNumFeatures(20)\n",
    "print(\"Number of features \",hasher.getNumFeatures())\n",
    "testDF = spark.read.format(\"csv\").option(\"header\", \"true\").option(\"mode\", \"DROPMALFORMED\").load(\"data/train_tail_10\")\n",
    "testDF = testDF.select(\"id\", \"hour\", \"C1\",\"banner_pos\",\"site_id\",\"site_domain\",\"click\")\n",
    "testDF= testDF.withColumn(\"click\", testDF[\"click\"].cast(IntegerType()))\n",
    "hashertest = FeatureHasher(inputCols=[\"id\", \"hour\", \"click\",\"C1\",\"banner_pos\",\"site_id\",\"site_domain\"],\n",
    "                           outputCol=\"features\")\n",
    "hashertest.setNumFeatures(20)\n",
    "ftestDF = hashertest.transform(testDF)\n",
    "\n",
    "featurized = hasher.transform(df)\n",
    "df.show(2)\n",
    "featurized.show(2)\n",
    "featurized.select('features').show(5,truncate=False)\n",
    "numIters = 5\n",
    "regType = 'l1'\n",
    "includeIntercept = True\n",
    "\n",
    "\n",
    "stepSizes = [1,10]\n",
    "\n",
    "f = featurized.select('click','features')\n",
    "f.show(10)\n",
    "f = f.withColumn(\"click\", f[\"click\"].cast(IntegerType()))\n",
    "\n",
    "lr = LogisticRegression(labelCol=\"click\",featuresCol=\"features\",maxIter = 10)\n",
    "lrModel = lr.fit(f)\n",
    "print(\"lrmodel\",lrModel)\n",
    "\n",
    "predictions = lrModel.transform(ftestDF)\n",
    "predictions.show(20)\n",
    "testDF.show(20)\n",
    "predictions.show(10)\n",
    "\n"
   ]
  },
  {
   "cell_type": "code",
   "execution_count": 45,
   "metadata": {},
   "outputs": [
    {
     "data": {
      "text/plain": [
       "DataFrame[hour: string, prediction: double, probability: vector, banner_pos: string, site_id: string, rawPrediction: vector, click: int]"
      ]
     },
     "metadata": {},
     "output_type": "display_data"
    },
    {
     "name": "stdout",
     "output_type": "stream",
     "text": [
      "+--------+----------+--------------------+----------+--------+--------------------+-----+\n",
      "|    hour|prediction|         probability|banner_pos| site_id|       rawPrediction|click|\n",
      "+--------+----------+--------------------+----------+--------+--------------------+-----+\n",
      "|14103023|       0.0|[0.91796131731855...|         0|85f751fd|[2.41496437568790...|    0|\n",
      "|14103023|       0.0|[0.80644370577670...|         0|83a0ad1a|[1.42706569810265...|    1|\n",
      "|14103023|       0.0|[0.80644196465003...|         1|856e6d3f|[1.42705454366892...|    0|\n",
      "|14103023|       0.0|[0.91796131731855...|         0|85f751fd|[2.41496437568790...|    0|\n",
      "|14103023|       0.0|[0.92361582717442...|         0|85f751fd|[2.49252070098601...|    0|\n",
      "|14103023|       0.0|[0.88185793228089...|         1|e151e245|[2.01014310451765...|    1|\n",
      "|14103023|       0.0|[0.92361582717442...|         0|85f751fd|[2.49252070098601...|    0|\n",
      "|14103023|       0.0|[0.86533995168475...|         1|f61eaaae|[1.86036899554122...|    0|\n",
      "|14103023|       0.0|[0.87402767104241...|         0|85f751fd|[1.93704976400036...|    1|\n",
      "|14103023|       0.0|[0.82521663878370...|         0|1fbe01fe|[1.55209867318741...|    0|\n",
      "+--------+----------+--------------------+----------+--------+--------------------+-----+\n",
      "only showing top 10 rows\n",
      "\n",
      "root\n",
      " |-- id: string (nullable = true)\n",
      " |-- hour: string (nullable = true)\n",
      " |-- C1: string (nullable = true)\n",
      " |-- banner_pos: string (nullable = true)\n",
      " |-- site_id: string (nullable = true)\n",
      " |-- site_domain: string (nullable = true)\n",
      " |-- click: integer (nullable = true)\n",
      " |-- features: vector (nullable = true)\n",
      " |-- rawPrediction: vector (nullable = true)\n",
      " |-- probability: vector (nullable = true)\n",
      " |-- prediction: double (nullable = false)\n",
      "\n"
     ]
    },
    {
     "data": {
      "text/plain": [
       "'areaUnderROC'"
      ]
     },
     "execution_count": 45,
     "metadata": {},
     "output_type": "execute_result"
    }
   ],
   "source": [
    "selected = predictions.select(\"hour\", \"prediction\", \"probability\", \"banner_pos\", \"site_id\",\"rawPrediction\",\"click\")\n",
    "display(selected)\n",
    "selected.count()\n",
    "selected.show(10)\n",
    "\n",
    "from pyspark.ml.evaluation import BinaryClassificationEvaluator\n",
    "\n",
    "# Evaluate model\n",
    "predictions.printSchema()\n",
    "\n",
    "from pyspark.ml.evaluation import BinaryClassificationEvaluator\n",
    "\n",
    "# Evaluate model\n",
    "evaluator = BinaryClassificationEvaluator(rawPredictionCol=\"rawPrediction\",labelCol=\"click\")\n",
    "evaluator.evaluate(predictions)\n",
    "\n",
    "evaluator.getMetricName()\n"
   ]
  },
  {
   "cell_type": "code",
   "execution_count": 46,
   "metadata": {},
   "outputs": [
    {
     "name": "stdout",
     "output_type": "stream",
     "text": [
      "aggregationDepth: suggested depth for treeAggregate (>= 2). (default: 2)\n",
      "elasticNetParam: the ElasticNet mixing parameter, in range [0, 1]. For alpha = 0, the penalty is an L2 penalty. For alpha = 1, it is an L1 penalty. (default: 0.0)\n",
      "family: The name of family which is a description of the label distribution to be used in the model. Supported options: auto, binomial, multinomial (default: auto)\n",
      "featuresCol: features column name. (default: features, current: features)\n",
      "fitIntercept: whether to fit an intercept term. (default: True)\n",
      "labelCol: label column name. (default: label, current: click)\n",
      "lowerBoundsOnCoefficients: The lower bounds on coefficients if fitting under bound constrained optimization. The bound matrix must be compatible with the shape (1, number of features) for binomial regression, or (number of classes, number of features) for multinomial regression. (undefined)\n",
      "lowerBoundsOnIntercepts: The lower bounds on intercepts if fitting under bound constrained optimization. The bounds vector size must beequal with 1 for binomial regression, or the number oflasses for multinomial regression. (undefined)\n",
      "maxIter: max number of iterations (>= 0). (default: 100, current: 10)\n",
      "predictionCol: prediction column name. (default: prediction)\n",
      "probabilityCol: Column name for predicted class conditional probabilities. Note: Not all models output well-calibrated probability estimates! These probabilities should be treated as confidences, not precise probabilities. (default: probability)\n",
      "rawPredictionCol: raw prediction (a.k.a. confidence) column name. (default: rawPrediction)\n",
      "regParam: regularization parameter (>= 0). (default: 0.0)\n",
      "standardization: whether to standardize the training features before fitting the model. (default: True)\n",
      "threshold: Threshold in binary classification prediction, in range [0, 1]. If threshold and thresholds are both set, they must match.e.g. if threshold is p, then thresholds must be equal to [1-p, p]. (default: 0.5)\n",
      "thresholds: Thresholds in multi-class classification to adjust the probability of predicting each class. Array must have length equal to the number of classes, with values > 0, excepting that at most one value may be 0. The class with largest value p/t is predicted, where p is the original probability of that class and t is the class's threshold. (undefined)\n",
      "tol: the convergence tolerance for iterative algorithms (>= 0). (default: 1e-06)\n",
      "upperBoundsOnCoefficients: The upper bounds on coefficients if fitting under bound constrained optimization. The bound matrix must be compatible with the shape (1, number of features) for binomial regression, or (number of classes, number of features) for multinomial regression. (undefined)\n",
      "upperBoundsOnIntercepts: The upper bounds on intercepts if fitting under bound constrained optimization. The bound vector size must be equal with 1 for binomial regression, or the number of classes for multinomial regression. (undefined)\n",
      "weightCol: weight column name. If this is not set or empty, we treat all instance weights as 1.0. (undefined)\n"
     ]
    }
   ],
   "source": [
    "print(lr.explainParams())\n",
    "from pyspark.ml.tuning import ParamGridBuilder, CrossValidator\n",
    "\n",
    "# Create ParamGrid for Cross Validation\n",
    "paramGrid = (ParamGridBuilder()\n",
    "             .addGrid(lr.regParam, [0.01, 0.5, 2.0])\n",
    "             .addGrid(lr.elasticNetParam, [0.0, 0.5, 1.0])\n",
    "             .addGrid(lr.maxIter, [1, 5, 10])\n",
    "             .build())\n",
    "\n",
    "# Create 5-fold CrossValidator\n",
    "cv = CrossValidator(estimator=lr, estimatorParamMaps=paramGrid, evaluator=evaluator, numFolds=5)\n",
    "\n",
    "# Run cross validations\n",
    "cvModel = cv.fit(f)\n",
    "# this will likely take a fair amount of time because of the amount of models that we're creating and testing\n",
    "\n",
    "# Use test set to measure the accuracy of our model on new data\n",
    "predictions = cvModel.transform(ftestDF)"
   ]
  },
  {
   "cell_type": "markdown",
   "metadata": {},
   "source": [
    "__`REMINDER:`__ If you are running this notebook on the course docker container, you can monitor the progress of your jobs using the Spark UI at: http://localhost:4040/jobs/"
   ]
  },
  {
   "cell_type": "code",
   "execution_count": 47,
   "metadata": {},
   "outputs": [
    {
     "data": {
      "text/plain": [
       "0.5631035966032081"
      ]
     },
     "execution_count": 47,
     "metadata": {},
     "output_type": "execute_result"
    }
   ],
   "source": [
    "# cvModel uses the best model found from the Cross Validation\n",
    "# Evaluate best model\n",
    "evaluator.evaluate(predictions)"
   ]
  },
  {
   "cell_type": "code",
   "execution_count": 48,
   "metadata": {},
   "outputs": [
    {
     "name": "stdout",
     "output_type": "stream",
     "text": [
      "Model Intercept:  -1.630758568797585\n"
     ]
    }
   ],
   "source": [
    "print('Model Intercept: ', cvModel.bestModel.intercept)"
   ]
  },
  {
   "cell_type": "code",
   "execution_count": 49,
   "metadata": {},
   "outputs": [
    {
     "data": {
      "text/plain": [
       "DataFrame[Feature Weight: double]"
      ]
     },
     "metadata": {},
     "output_type": "display_data"
    },
    {
     "name": "stdout",
     "output_type": "stream",
     "text": [
      "+-------------------+\n",
      "|     Feature Weight|\n",
      "+-------------------+\n",
      "|0.03499620827637826|\n",
      "| 0.2983161853161314|\n",
      "+-------------------+\n",
      "only showing top 2 rows\n",
      "\n"
     ]
    }
   ],
   "source": [
    "weights = cvModel.bestModel.coefficients\n",
    "weights = [(float(w),) for w in weights]  # convert numpy type to float, and to tuple\n",
    "weightsDF = sqlContext.createDataFrame(weights, [\"Feature Weight\"])\n",
    "display(weightsDF)\n",
    "weightsDF.show(2)"
   ]
  },
  {
   "cell_type": "code",
   "execution_count": 50,
   "metadata": {},
   "outputs": [
    {
     "data": {
      "text/plain": [
       "DataFrame[click: int, prediction: double, probability: vector, banner_pos: string, C1: string]"
      ]
     },
     "metadata": {},
     "output_type": "display_data"
    },
    {
     "name": "stdout",
     "output_type": "stream",
     "text": [
      "+-----+----------+--------------------+----------+----+\n",
      "|click|prediction|         probability|banner_pos|  C1|\n",
      "+-----+----------+--------------------+----------+----+\n",
      "|    0|       0.0|[0.85972227103750...|         0|1005|\n",
      "|    1|       0.0|[0.77520730867717...|         0|1005|\n",
      "|    0|       0.0|[0.81854245291356...|         1|1005|\n",
      "|    0|       0.0|[0.85972227103750...|         0|1005|\n",
      "|    0|       0.0|[0.86002566403318...|         0|1005|\n",
      "|    1|       0.0|[0.85972227103750...|         1|1005|\n",
      "|    0|       0.0|[0.86002566403318...|         0|1005|\n",
      "|    0|       0.0|[0.83413944644018...|         1|1005|\n",
      "|    1|       0.0|[0.85972227103750...|         0|1005|\n",
      "|    0|       0.0|[0.80756060095088...|         0|1005|\n",
      "+-----+----------+--------------------+----------+----+\n",
      "only showing top 10 rows\n",
      "\n"
     ]
    }
   ],
   "source": [
    "selected = predictions.select(\"click\", \"prediction\", \"probability\", \"banner_pos\", \"C1\")\n",
    "display(selected)\n",
    "selected.count()\n",
    "selected.show(10)"
   ]
  },
  {
   "cell_type": "markdown",
   "metadata": {},
   "source": [
    "# Question 1: Question Formulation \n",
    "Introduce the goal of your analysis. What questions will you seek to answer, why do people perform this kind of analysis on this kind of data? Preview what level of performance your model would need to achieve to be practically useful."
   ]
  },
  {
   "cell_type": "markdown",
   "metadata": {},
   "source": [
    "# Question 2: Algorithm Explanation\n",
    "Create your own toy example that matches the dataset provided and use this toy example to explain the math behind the algorithym that you will perform."
   ]
  },
  {
   "cell_type": "markdown",
   "metadata": {},
   "source": [
    "# Question 3: EDA & Discussion of Challenges\n",
    "Determine 2-3 relevant EDA tasks that will help you make decisions about how you implement the algorithm to be scalable. Discuss any challenges that you anticipate based on the EDA you perform"
   ]
  },
  {
   "cell_type": "code",
   "execution_count": 11,
   "metadata": {},
   "outputs": [],
   "source": [
    "average_CTR = projectRDD.map(lambda x: int(x.split('\\t')[0])).mean()"
   ]
  },
  {
   "cell_type": "code",
   "execution_count": 12,
   "metadata": {},
   "outputs": [
    {
     "data": {
      "text/plain": [
       "0.25622338372976045"
      ]
     },
     "execution_count": 12,
     "metadata": {},
     "output_type": "execute_result"
    }
   ],
   "source": [
    "average_CTR"
   ]
  },
  {
   "cell_type": "markdown",
   "metadata": {},
   "source": [
    "# Question 4: Algorithm Implementation \n",
    "Develop a 'homegrown' implementation of the algorithn, apply it to the training dataset and evaluate your results on the test set. "
   ]
  },
  {
   "cell_type": "markdown",
   "metadata": {},
   "source": [
    "# Question 5: Application of Course Concepts\n",
    "Pick 3-5 key course concepts and discuss how your work on this assignment illustrates an understanding of these concepts. "
   ]
  },
  {
   "cell_type": "code",
   "execution_count": null,
   "metadata": {},
   "outputs": [],
   "source": []
  }
 ],
 "metadata": {
  "kernelspec": {
   "display_name": "Python 3",
   "language": "python",
   "name": "python3"
  },
  "language_info": {
   "codemirror_mode": {
    "name": "ipython",
    "version": 3
   },
   "file_extension": ".py",
   "mimetype": "text/x-python",
   "name": "python",
   "nbconvert_exporter": "python",
   "pygments_lexer": "ipython3",
   "version": "3.6.5"
  }
 },
 "nbformat": 4,
 "nbformat_minor": 2
}
