{
 "cells": [
  {
   "cell_type": "markdown",
   "metadata": {},
   "source": [
    "# Final Project\n",
    "__`MIDS w261: Machine Learning at Scale | UC Berkeley School of Information | Fall 2018`__  \n",
    "Throughout this course you’ve engaged with key principles required to develop scalable machine learning analyses for structured and unstructured data. Working in Hadoop Streaming and Spark you’ve learned to translate common machine learning algorithms into Map-Reduce style implementations. You’ve developed the ability to evaluate Machine Learning approaches both in terms of their predictive performance as well as their scalability. For the final project you will demonstrate these skills by solving a machine learning challenge on a new dataset. Your job is to perform Click Through Rate prediction on a large dataset of Criteo advertising data made public as part of a Kaggle competition a few years back. As you perform your analysis, keep in mind that we are not grading you on the final performance of your model or how ‘advanced’ the techniques you use but rather on your ability to explain and develop a scalable machine learning approach to answering a real question.\n",
    "\n",
    "More about the dataset:\n",
    "https://www.kaggle.com/c/criteo-display-ad-challenge"
   ]
  },
  {
   "cell_type": "markdown",
   "metadata": {},
   "source": [
    "# Notebook Set-Up\n",
    "Before starting your homework run the following cells to confirm your setup."
   ]
  },
  {
   "cell_type": "code",
   "execution_count": 2,
   "metadata": {},
   "outputs": [],
   "source": [
    "import re\n",
    "import ast\n",
    "import math\n",
    "import time\n",
    "import itertools\n",
    "import numpy as np\n",
    "import pandas as pd\n",
    "import matplotlib.pyplot as plt\n",
    "from pyspark.sql import SparkSession\n",
    "from pyspark.sql import SQLContext, Row\n",
    "from pyspark.sql.functions import isnan, isnull, when, count, col"
   ]
  },
  {
   "cell_type": "code",
   "execution_count": 3,
   "metadata": {},
   "outputs": [],
   "source": [
    "%reload_ext autoreload\n",
    "%autoreload 2\n",
    "%matplotlib inline"
   ]
  },
  {
   "cell_type": "code",
   "execution_count": 4,
   "metadata": {},
   "outputs": [],
   "source": [
    "# store path to notebook\n",
    "PWD = !pwd\n",
    "PWD = PWD[0]"
   ]
  },
  {
   "cell_type": "code",
   "execution_count": 5,
   "metadata": {},
   "outputs": [],
   "source": [
    "# start Spark Session\n",
    "app_name = \"fproj_notebook\"\n",
    "master = \"local[*]\"\n",
    "spark = SparkSession\\\n",
    "        .builder\\\n",
    "        .appName(app_name)\\\n",
    "        .master(master)\\\n",
    "        .getOrCreate()\n",
    "sc = spark.sparkContext"
   ]
  },
  {
   "cell_type": "code",
   "execution_count": null,
   "metadata": {},
   "outputs": [],
   "source": [
    "# create a data directory (RUN THIS CELL AS IS)\n",
    "!mkdir data"
   ]
  },
  {
   "cell_type": "code",
   "execution_count": 11,
   "metadata": {},
   "outputs": [
    {
     "name": "stdout",
     "output_type": "stream",
     "text": [
      "tar: Old option `g' requires an argument.\n",
      "Try `tar --help' or `tar --usage' for more information.\n",
      "  % Total    % Received % Xferd  Average Speed   Time    Time     Time  Current\n",
      "                                 Dload  Upload   Total   Spent    Left  Speed\n",
      "100 4364M  100 4364M    0     0  9505k      0  0:07:50  0:07:50 --:--:-- 10.7M\n"
     ]
    }
   ],
   "source": [
    "# grab the tar.gz file from kaggle\n",
    "!curl https://s3-eu-west-1.amazonaws.com/kaggle-display-advertising-challenge-dataset/dac.tar.gz -o data/dac.tar.gz"
   ]
  },
  {
   "cell_type": "code",
   "execution_count": 5,
   "metadata": {},
   "outputs": [
    {
     "name": "stdout",
     "output_type": "stream",
     "text": [
      "^C\n"
     ]
    }
   ],
   "source": [
    "# I couldn't get this to unpack the tarball, so I just did it in Windows\n",
    "#!tar -xvz data/dac.tar.gz"
   ]
  },
  {
   "cell_type": "code",
   "execution_count": 6,
   "metadata": {},
   "outputs": [
    {
     "name": "stdout",
     "output_type": "stream",
     "text": [
      "0\t1\t1\t5\t0\t1382\t4\t15\t2\t181\t1\t2\t\t2\t68fd1e64\t80e26c9b\tfb936136\t7b4723c4\t25c83c98\t7e0ccccf\tde7995b8\t1f89b562\ta73ee510\ta8cd5504\tb2cb9c98\t37c9c164\t2824a5f6\t1adce6ef\t8ba8b39a\t891b62e7\te5ba7672\tf54016b9\t21ddcdc9\tb1252a9d\t07b5194c\t\t3a171ecb\tc5c50484\te8b83407\t9727dd16\n",
      "0\t2\t0\t44\t1\t102\t8\t2\t2\t4\t1\t1\t\t4\t68fd1e64\tf0cf0024\t6f67f7e5\t41274cd7\t25c83c98\tfe6b92e5\t922afcc0\t0b153874\ta73ee510\t2b53e5fb\t4f1b46f3\t623049e6\td7020589\tb28479f6\te6c5b5cd\tc92f3b61\t07c540c4\tb04e4670\t21ddcdc9\t5840adea\t60f6221e\t\t3a171ecb\t43f13e8b\te8b83407\t731c3655\n",
      "0\t2\t0\t1\t14\t767\t89\t4\t2\t245\t1\t3\t3\t45\t287e684f\t0a519c5c\t02cf9876\tc18be181\t25c83c98\t7e0ccccf\tc78204a1\t0b153874\ta73ee510\t3b08e48b\t5f5e6091\t8fe001f4\taa655a2f\t07d13a8f\t6dc710ed\t36103458\t8efede7f\t3412118d\t\t\te587c466\tad3062eb\t3a171ecb\t3b183c5c\t\t\n",
      "0\t\t893\t\t\t4392\t\t0\t0\t0\t\t0\t\t\t68fd1e64\t2c16a946\ta9a87e68\t2e17d6f6\t25c83c98\tfe6b92e5\t2e8a689b\t0b153874\ta73ee510\tefea433b\te51ddf94\ta30567ca\t3516f6e6\t07d13a8f\t18231224\t52b8680f\t1e88c74f\t74ef3502\t\t\t6b3a5ca6\t\t3a171ecb\t9117a34a\t\t\n",
      "0\t3\t-1\t\t0\t2\t0\t3\t0\t0\t1\t1\t\t0\t8cf07265\tae46a29d\tc81688bb\tf922efad\t25c83c98\t13718bbd\tad9fa255\t0b153874\ta73ee510\t5282c137\te5d8af57\t66a76a26\tf06c53ac\t1adce6ef\t8ff4b403\t01adbab4\t1e88c74f\t26b3c7a7\t\t\t21c9516a\t\t32c7478e\tb34f3128\t\t\n",
      "0\t\t-1\t\t\t12824\t\t0\t0\t6\t\t0\t\t\t05db9164\t6c9c9cf3\t2730ec9c\t5400db8b\t43b19349\t6f6d9be8\t53b5f978\t0b153874\ta73ee510\t3b08e48b\t91e8fc27\tbe45b877\t9ff13f22\t07d13a8f\t06969a20\t9bc7fff5\t776ce399\t92555263\t\t\t242bb710\t8ec974f4\tbe7c41b4\t72c78f11\t\t\n",
      "0\t\t1\t2\t\t3168\t\t0\t1\t2\t\t0\t\t\t439a44a4\tad4527a2\tc02372d0\td34ebbaa\t43b19349\tfe6b92e5\t4bc6ffea\t0b153874\ta73ee510\t3b08e48b\ta4609aab\t14d63538\t772a00d7\t07d13a8f\tf9d1382e\tb00d3dc9\t776ce399\tcdfa8259\t\t\t20062612\t\t93bad2c0\t1b256e61\t\t\n",
      "1\t1\t4\t2\t0\t0\t0\t1\t0\t0\t1\t1\t\t0\t68fd1e64\t2c16a946\t503b9dbc\te4dbea90\tf3474129\t13718bbd\t38eb9cf4\t1f89b562\ta73ee510\t547c0ffe\tbc8c9f21\t60ab2f07\t46f42a63\t07d13a8f\t18231224\te6b6bdc7\te5ba7672\t74ef3502\t\t\t5316a17f\t\t32c7478e\t9117a34a\t\t\n",
      "0\t\t44\t4\t8\t19010\t249\t28\t31\t141\t\t1\t\t8\t05db9164\td833535f\td032c263\tc18be181\t25c83c98\t7e0ccccf\td5b6acf2\t0b153874\ta73ee510\t2acdcf4e\t086ac2d2\tdfbb09fb\t41a6ae00\tb28479f6\te2502ec9\t84898b2a\te5ba7672\t42a2edb9\t\t\t0014c32a\t\t32c7478e\t3b183c5c\t\t\n",
      "0\t\t35\t\t1\t33737\t21\t1\t2\t3\t\t1\t\t1\t05db9164\t510b40a5\td03e7c24\teb1fd928\t25c83c98\t\t52283d1c\t0b153874\ta73ee510\t015ac893\te51ddf94\t951fe4a9\t3516f6e6\t07d13a8f\t2ae4121c\t8ec71479\td4bb7bd8\t70d0f5f9\t\t\t0e63fca0\t\t32c7478e\t0e8fe315\t\t\n"
     ]
    }
   ],
   "source": [
    "# take a look at the to the training data set\n",
    "!head data/train.txt"
   ]
  },
  {
   "cell_type": "code",
   "execution_count": 14,
   "metadata": {},
   "outputs": [],
   "source": [
    "# load the data into Spark RDD for convenience of use later (RUN THIS CELL AS IS)\n",
    "projectRDD = sc.textFile('data/train.txt')"
   ]
  },
  {
   "cell_type": "markdown",
   "metadata": {},
   "source": [
    "__`REMINDER:`__ If you are running this notebook on the course docker container, you can monitor the progress of your jobs using the Spark UI at: http://localhost:4040/jobs/"
   ]
  },
  {
   "cell_type": "markdown",
   "metadata": {},
   "source": [
    "# Question 1: Question Formulation \n",
    "Introduce the goal of your analysis. What questions will you seek to answer, why do people perform this kind of analysis on this kind of data? Preview what level of performance your model would need to achieve to be practically useful."
   ]
  },
  {
   "cell_type": "markdown",
   "metadata": {},
   "source": [
    "# Question 2: Algorithm Explanation\n",
    "Create your own toy example that matches the dataset provided and use this toy example to explain the math behind the algorithym that you will perform."
   ]
  },
  {
   "cell_type": "markdown",
   "metadata": {},
   "source": [
    "# Question 3: EDA & Discussion of Challenges\n",
    "Determine 2-3 relevant EDA tasks that will help you make decisions about how you implement the algorithm to be scalable. Discuss any challenges that you anticipate based on the EDA you perform"
   ]
  },
  {
   "cell_type": "markdown",
   "metadata": {},
   "source": [
    "#### Data Cleanup and Prep"
   ]
  },
  {
   "cell_type": "code",
   "execution_count": 15,
   "metadata": {},
   "outputs": [],
   "source": [
    "sqlContext = SQLContext(sc)\n",
    "\n",
    "# Load a text file and convert each line to a Row.\n",
    "lines = sc.textFile(\"data/train.txt\")\n",
    "parts = lines.map(lambda l: l.split(\"\\t\"))\n",
    "project = parts.map(lambda p: Row(label=int(p[0]), I01=p[1], I02=p[2],\\\n",
    "                    I03=p[3], I04=p[4], I05=p[5], I06=p[6],\\\n",
    "                    I07=p[7], I08=p[8], I09=p[9], I10=p[10],\\\n",
    "                    I11=p[11], I12=p[12], I13=p[13], C01=p[14], C02=p[15], C03=p[16],\\\n",
    "                    C04=p[17], C05=p[18], C06=p[19], C07=p[20], C08=p[21], C09=p[22],\\\n",
    "                    C10=p[23], C11=p[24], C12=p[25], C13=p[26], C14=p[27], C15=p[28],\\\n",
    "                    C16=p[29], C17=p[30], C18=p[31], C19=p[32], C20=p[33], C21=p[34],\\\n",
    "                    C22=p[35], C23=p[36], C24=p[37], C25=p[38], C26=p[39]))\n",
    "\n",
    "# Infer the schema, and register the DataFrame as a table.\n",
    "projectDF = sqlContext.createDataFrame(project)\n",
    "projectDF.registerTempTable(\"projectTable\")"
   ]
  },
  {
   "cell_type": "code",
   "execution_count": 159,
   "metadata": {},
   "outputs": [
    {
     "data": {
      "text/plain": [
       "Row(C01='68fd1e64', C02='80e26c9b', C03='fb936136', C04='7b4723c4', C05='25c83c98', C06='7e0ccccf', C07='de7995b8', C08='1f89b562', C09='a73ee510', C10='a8cd5504', C11='b2cb9c98', C12='37c9c164', C13='2824a5f6', C14='1adce6ef', C15='8ba8b39a', C16='891b62e7', C17='e5ba7672', C18='f54016b9', C19='21ddcdc9', C20='b1252a9d', C21='07b5194c', C22='', C23='3a171ecb', C24='c5c50484', C25='e8b83407', C26='9727dd16', I01='1', I02='1', I03='5', I04='0', I05='1382', I06='4', I07='15', I08='2', I09='181', I10='1', I11='2', I12='', I13='2', label=0)"
      ]
     },
     "execution_count": 159,
     "metadata": {},
     "output_type": "execute_result"
    }
   ],
   "source": [
    "projectDF.head()"
   ]
  },
  {
   "cell_type": "code",
   "execution_count": 8,
   "metadata": {},
   "outputs": [
    {
     "name": "stdout",
     "output_type": "stream",
     "text": [
      "root\n",
      " |-- C1: string (nullable = true)\n",
      " |-- C10: string (nullable = true)\n",
      " |-- C11: string (nullable = true)\n",
      " |-- C12: string (nullable = true)\n",
      " |-- C13: string (nullable = true)\n",
      " |-- C14: string (nullable = true)\n",
      " |-- C15: string (nullable = true)\n",
      " |-- C16: string (nullable = true)\n",
      " |-- C17: string (nullable = true)\n",
      " |-- C18: string (nullable = true)\n",
      " |-- C19: string (nullable = true)\n",
      " |-- C2: string (nullable = true)\n",
      " |-- C20: string (nullable = true)\n",
      " |-- C21: string (nullable = true)\n",
      " |-- C22: string (nullable = true)\n",
      " |-- C23: string (nullable = true)\n",
      " |-- C24: string (nullable = true)\n",
      " |-- C25: string (nullable = true)\n",
      " |-- C26: string (nullable = true)\n",
      " |-- C3: string (nullable = true)\n",
      " |-- C4: string (nullable = true)\n",
      " |-- C5: string (nullable = true)\n",
      " |-- C6: string (nullable = true)\n",
      " |-- C7: string (nullable = true)\n",
      " |-- C8: string (nullable = true)\n",
      " |-- C9: string (nullable = true)\n",
      " |-- I1: string (nullable = true)\n",
      " |-- I10: string (nullable = true)\n",
      " |-- I11: string (nullable = true)\n",
      " |-- I12: string (nullable = true)\n",
      " |-- I13: string (nullable = true)\n",
      " |-- I2: string (nullable = true)\n",
      " |-- I3: string (nullable = true)\n",
      " |-- I4: string (nullable = true)\n",
      " |-- I5: string (nullable = true)\n",
      " |-- I6: string (nullable = true)\n",
      " |-- I7: string (nullable = true)\n",
      " |-- I8: string (nullable = true)\n",
      " |-- I9: string (nullable = true)\n",
      " |-- label: long (nullable = true)\n",
      "\n"
     ]
    }
   ],
   "source": [
    "# Look at the schema\n",
    "projectDF.printSchema()"
   ]
  },
  {
   "cell_type": "code",
   "execution_count": 16,
   "metadata": {},
   "outputs": [],
   "source": [
    "# Cast integer features correctly\n",
    "for num in range(1,14):\n",
    "    if num < 10:\n",
    "        feature_name = \"I0\"+str(num)\n",
    "    else:\n",
    "        feature_name = \"I\"+str(num)\n",
    "    projectDF = projectDF.withColumn(feature_name, projectDF[feature_name].cast(\"int\"))\n"
   ]
  },
  {
   "cell_type": "code",
   "execution_count": 8,
   "metadata": {},
   "outputs": [
    {
     "name": "stdout",
     "output_type": "stream",
     "text": [
      "root\n",
      " |-- C01: string (nullable = true)\n",
      " |-- C02: string (nullable = true)\n",
      " |-- C03: string (nullable = true)\n",
      " |-- C04: string (nullable = true)\n",
      " |-- C05: string (nullable = true)\n",
      " |-- C06: string (nullable = true)\n",
      " |-- C07: string (nullable = true)\n",
      " |-- C08: string (nullable = true)\n",
      " |-- C09: string (nullable = true)\n",
      " |-- C10: string (nullable = true)\n",
      " |-- C11: string (nullable = true)\n",
      " |-- C12: string (nullable = true)\n",
      " |-- C13: string (nullable = true)\n",
      " |-- C14: string (nullable = true)\n",
      " |-- C15: string (nullable = true)\n",
      " |-- C16: string (nullable = true)\n",
      " |-- C17: string (nullable = true)\n",
      " |-- C18: string (nullable = true)\n",
      " |-- C19: string (nullable = true)\n",
      " |-- C20: string (nullable = true)\n",
      " |-- C21: string (nullable = true)\n",
      " |-- C22: string (nullable = true)\n",
      " |-- C23: string (nullable = true)\n",
      " |-- C24: string (nullable = true)\n",
      " |-- C25: string (nullable = true)\n",
      " |-- C26: string (nullable = true)\n",
      " |-- I01: integer (nullable = true)\n",
      " |-- I02: integer (nullable = true)\n",
      " |-- I03: integer (nullable = true)\n",
      " |-- I04: integer (nullable = true)\n",
      " |-- I05: integer (nullable = true)\n",
      " |-- I06: integer (nullable = true)\n",
      " |-- I07: integer (nullable = true)\n",
      " |-- I08: integer (nullable = true)\n",
      " |-- I09: integer (nullable = true)\n",
      " |-- I10: integer (nullable = true)\n",
      " |-- I11: integer (nullable = true)\n",
      " |-- I12: integer (nullable = true)\n",
      " |-- I13: integer (nullable = true)\n",
      " |-- label: long (nullable = true)\n",
      "\n"
     ]
    }
   ],
   "source": [
    "# Make sure the schema looks correct\n",
    "projectDF.printSchema()"
   ]
  },
  {
   "cell_type": "code",
   "execution_count": 10,
   "metadata": {},
   "outputs": [
    {
     "name": "stdout",
     "output_type": "stream",
     "text": [
      "+--------+--------+--------+--------+--------+--------+--------+--------+--------+--------+--------+--------+--------+--------+--------+--------+--------+--------+--------+--------+--------+--------+--------+--------+--------+--------+---+---+---+---+---+---+---+---+-----+---+---+---+----+-----+\n",
      "|      C1|     C10|     C11|     C12|     C13|     C14|     C15|     C16|     C17|     C18|     C19|      C2|     C20|     C21|     C22|     C23|     C24|     C25|     C26|      C3|      C4|      C5|      C6|      C7|      C8|      C9| I1|I10|I11|I12|I13| I2| I3| I4|   I5| I6| I7| I8|  I9|label|\n",
      "+--------+--------+--------+--------+--------+--------+--------+--------+--------+--------+--------+--------+--------+--------+--------+--------+--------+--------+--------+--------+--------+--------+--------+--------+--------+--------+---+---+---+---+---+---+---+---+-----+---+---+---+----+-----+\n",
      "|68fd1e64|a8cd5504|b2cb9c98|37c9c164|2824a5f6|1adce6ef|8ba8b39a|891b62e7|e5ba7672|f54016b9|21ddcdc9|80e26c9b|b1252a9d|07b5194c|        |3a171ecb|c5c50484|e8b83407|9727dd16|fb936136|7b4723c4|25c83c98|7e0ccccf|de7995b8|1f89b562|a73ee510|  1|  1|  2|   |  2|  1|  5|  0| 1382|  4| 15|  2| 181|    0|\n",
      "|68fd1e64|2b53e5fb|4f1b46f3|623049e6|d7020589|b28479f6|e6c5b5cd|c92f3b61|07c540c4|b04e4670|21ddcdc9|f0cf0024|5840adea|60f6221e|        |3a171ecb|43f13e8b|e8b83407|731c3655|6f67f7e5|41274cd7|25c83c98|fe6b92e5|922afcc0|0b153874|a73ee510|  2|  1|  1|   |  4|  0| 44|  1|  102|  8|  2|  2|   4|    0|\n",
      "|287e684f|3b08e48b|5f5e6091|8fe001f4|aa655a2f|07d13a8f|6dc710ed|36103458|8efede7f|3412118d|        |0a519c5c|        |e587c466|ad3062eb|3a171ecb|3b183c5c|        |        |02cf9876|c18be181|25c83c98|7e0ccccf|c78204a1|0b153874|a73ee510|  2|  1|  3|  3| 45|  0|  1| 14|  767| 89|  4|  2| 245|    0|\n",
      "|68fd1e64|efea433b|e51ddf94|a30567ca|3516f6e6|07d13a8f|18231224|52b8680f|1e88c74f|74ef3502|        |2c16a946|        |6b3a5ca6|        |3a171ecb|9117a34a|        |        |a9a87e68|2e17d6f6|25c83c98|fe6b92e5|2e8a689b|0b153874|a73ee510|   |   |  0|   |   |893|   |   | 4392|   |  0|  0|   0|    0|\n",
      "|8cf07265|5282c137|e5d8af57|66a76a26|f06c53ac|1adce6ef|8ff4b403|01adbab4|1e88c74f|26b3c7a7|        |ae46a29d|        |21c9516a|        |32c7478e|b34f3128|        |        |c81688bb|f922efad|25c83c98|13718bbd|ad9fa255|0b153874|a73ee510|  3|  1|  1|   |  0| -1|   |  0|    2|  0|  3|  0|   0|    0|\n",
      "|05db9164|3b08e48b|91e8fc27|be45b877|9ff13f22|07d13a8f|06969a20|9bc7fff5|776ce399|92555263|        |6c9c9cf3|        |242bb710|8ec974f4|be7c41b4|72c78f11|        |        |2730ec9c|5400db8b|43b19349|6f6d9be8|53b5f978|0b153874|a73ee510|   |   |  0|   |   | -1|   |   |12824|   |  0|  0|   6|    0|\n",
      "|439a44a4|3b08e48b|a4609aab|14d63538|772a00d7|07d13a8f|f9d1382e|b00d3dc9|776ce399|cdfa8259|        |ad4527a2|        |20062612|        |93bad2c0|1b256e61|        |        |c02372d0|d34ebbaa|43b19349|fe6b92e5|4bc6ffea|0b153874|a73ee510|   |   |  0|   |   |  1|  2|   | 3168|   |  0|  1|   2|    0|\n",
      "|68fd1e64|547c0ffe|bc8c9f21|60ab2f07|46f42a63|07d13a8f|18231224|e6b6bdc7|e5ba7672|74ef3502|        |2c16a946|        |5316a17f|        |32c7478e|9117a34a|        |        |503b9dbc|e4dbea90|f3474129|13718bbd|38eb9cf4|1f89b562|a73ee510|  1|  1|  1|   |  0|  4|  2|  0|    0|  0|  1|  0|   0|    1|\n",
      "|05db9164|2acdcf4e|086ac2d2|dfbb09fb|41a6ae00|b28479f6|e2502ec9|84898b2a|e5ba7672|42a2edb9|        |d833535f|        |0014c32a|        |32c7478e|3b183c5c|        |        |d032c263|c18be181|25c83c98|7e0ccccf|d5b6acf2|0b153874|a73ee510|   |   |  1|   |  8| 44|  4|  8|19010|249| 28| 31| 141|    0|\n",
      "|05db9164|015ac893|e51ddf94|951fe4a9|3516f6e6|07d13a8f|2ae4121c|8ec71479|d4bb7bd8|70d0f5f9|        |510b40a5|        |0e63fca0|        |32c7478e|0e8fe315|        |        |d03e7c24|eb1fd928|25c83c98|        |52283d1c|0b153874|a73ee510|   |   |  1|   |  1| 35|   |  1|33737| 21|  1|  2|   3|    0|\n",
      "|05db9164|3b08e48b|7e2c5c15|cfc86806|91a1b611|b28479f6|58251aab|146a70fd|776ce399|0b331314|21ddcdc9|0468d672|5840adea|cbec39db|        |3a171ecb|cedad179|ea9a246c|9a556cfc|7ae80d0f|80d8555a|25c83c98|7e0ccccf|04277bf9|0b153874|7cc72ec2|   |   |  0|   |  2|  2|632|  0|56770|   |  0|  5|  65|    0|\n",
      "|05db9164|3b08e48b|ac9c2e8f|        |6e2d6a15|07d13a8f|796a1a2e|        |d4bb7bd8|8aaa5b67|        |9b5fd12f|        |        |        |32c7478e|        |        |        |        |        |4cf72387|        |111121f4|0b153874|a73ee510|  0|  0|  1|   |  6|  6|  6|  6|  421|109|  1|  7| 107|    0|\n",
      "|241546e0|e7ba2569|755e4a50|208d9687|5978055e|07d13a8f|5182f694|f8b34416|e5ba7672|e5f8f18f|        |38a947a1|        |f3ddd519|        |32c7478e|b34f3128|        |        |fa673455|6a14f9b9|25c83c98|fe6b92e5|1c86e0eb|1f89b562|a73ee510|  0|  0|  4|   |   | -1|   |   | 1465|  0| 17|  0|   4|    1|\n",
      "|be589b51|3ff10fb2|5874c9c9|976cbd4c|740c210d|1adce6ef|310d155b|07eb8110|07c540c4|891589e7|18259a83|287130e0|a458ea53|a0ab60ca|        |32c7478e|a052b1ed|9b3e8820|8967c0d2|cd7a7a22|fb7334df|25c83c98|        |6cdb3998|361384ce|a73ee510|   |   |  1|   |  5|  2| 11|  5|10262| 34|  2|  4|   5|    1|\n",
      "|5a9ed9b0|2106e595|b5bb9d63|04f55317|ab04d8fe|1adce6ef|0ad47a49|2bd32e5c|3486227d|12195b22|21ddcdc9|80e26c9b|b1252a9d|fa131867|        |dbb486d7|8ecc176a|e8b83407|c43c3f58|97144401|5dbf0cc5|0942e0a7|13718bbd|9ce6136d|0b153874|a73ee510|  0|  0|  1|   |  4| 51| 84|  4| 3633| 26|  1|  4|   8|    0|\n",
      "|05db9164|3b08e48b|a0060bca|b9f28c33|22d23aac|5aebfb83|d702713a|0f655650|776ce399|3a2028fd|        |bc6e3dc1|        |b426bc93|        |3a171ecb|2e0a0035|        |        |67799c69|d00d0f35|4cf72387|7e0ccccf|ca4fd8f8|64523cfa|a73ee510|   |   |  0|   | 20|  2|  1| 18|20255|   |  0|  1|1306|    0|\n",
      "|68fd1e64|3b08e48b|3d5fb018|6aaab577|94172618|07d13a8f|ee569ce2|2f03ef40|d4bb7bd8|582152eb|21ddcdc9|38d50e09|b1252a9d|3b203ca1|        |32c7478e|b21dc903|001f3601|aa5f0a15|da603082|431a5096|43b19349|7e0ccccf|3f35b640|0b153874|a73ee510|  1|  1|  1|   |  2|987|   |  2|  105|  2|  1|  2|   2|    1|\n",
      "|8cf07265|0095a535|3617b5f5|9f32b866|428332cf|b28479f6|83ebd498|31ca40b6|e5ba7672|d0e5eb07|        |7cd19acc|        |dfcfc3fa|ad3062eb|32c7478e|aee52b6f|        |        |77f2f2e5|d16679b9|4cf72387|fbad5c96|8fb24933|0b153874|a73ee510|  0|  0|  1|   |  1|  1|   |  0|16597|557|  3|  5| 123|    0|\n",
      "|05db9164|175d6c71|b7094596|1c547463|1f9d2c38|1adce6ef|55dc357b|0ca69655|e5ba7672|b04e4670|21ddcdc9|f0cf0024|b1252a9d|f3caefdd|        |32c7478e|4c8e5aef|ea9a246c|9593bba9|08b45d8b|cbb5af1b|384874ce|fbad5c96|81bb0302|37e4aa92|a73ee510|  0|  0|  1|   |  2| 24|  4|  2| 2056| 12|  6| 10|  83|    0|\n",
      "|3c9d8785|62cfc6bd|8cffe207|656e5413|ff5626de|ad1cc976|27b1230c|fa8d05aa|e5ba7672|5edd90de|        |b0660259|        |e12ce348|        |c3dc6cef|49045073|        |        |3a960356|15c92ddb|4cf72387|13718bbd|00c46cd1|0b153874|a73ee510|  7|  1|  1|   |  3|102|   |  3|  780| 15|  7| 15|  15|    0|\n",
      "+--------+--------+--------+--------+--------+--------+--------+--------+--------+--------+--------+--------+--------+--------+--------+--------+--------+--------+--------+--------+--------+--------+--------+--------+--------+--------+---+---+---+---+---+---+---+---+-----+---+---+---+----+-----+\n",
      "only showing top 20 rows\n",
      "\n"
     ]
    }
   ],
   "source": [
    "projectDF.show()"
   ]
  },
  {
   "cell_type": "code",
   "execution_count": 17,
   "metadata": {},
   "outputs": [],
   "source": [
    "# Now that we have the schema corrected, create some feature grouping lists for easy data manipulation\n",
    "numeric_features = [\"I01\", \"I02\", \"I03\", \"I04\", \"I05\", \"I06\", \"I07\", \"I08\", \"I09\", \"I10\", \"I11\", \"I12\", \"I13\"]\n",
    "categorical_features = [\"C01\", \"C02\", \"C03\", \"C04\", \"C05\", \"C06\", \"C07\", \"C08\", \"C09\", \"C10\", \"C11\", \"C12\",\\\n",
    "                        \"C13\", \"C14\", \"C15\", \"C16\", \"C17\", \"C18\", \"C19\", \"C20\", \"C21\", \"C22\", \"C23\",\\\n",
    "                       \"C24\", \"C25\", \"C26\"]\n",
    "label_and_numeric = [\"label\"] + numeric_features"
   ]
  },
  {
   "cell_type": "markdown",
   "metadata": {},
   "source": [
    "#### Take a sample for EDA"
   ]
  },
  {
   "cell_type": "code",
   "execution_count": 81,
   "metadata": {},
   "outputs": [
    {
     "data": {
      "text/plain": [
       "45840617"
      ]
     },
     "execution_count": 81,
     "metadata": {},
     "output_type": "execute_result"
    }
   ],
   "source": [
    "# how many overall rows do we have in the training data?\n",
    "# this takes a long while to calculate so skip to hard code below\n",
    "numRows = projectDF.count()\n",
    "numRows"
   ]
  },
  {
   "cell_type": "code",
   "execution_count": 18,
   "metadata": {},
   "outputs": [],
   "source": [
    "# rather than recalculate, just put in result\n",
    "numRows = 45840617"
   ]
  },
  {
   "cell_type": "code",
   "execution_count": 19,
   "metadata": {},
   "outputs": [
    {
     "data": {
      "text/plain": [
       "DataFrame[C01: string, C02: string, C03: string, C04: string, C05: string, C06: string, C07: string, C08: string, C09: string, C10: string, C11: string, C12: string, C13: string, C14: string, C15: string, C16: string, C17: string, C18: string, C19: string, C20: string, C21: string, C22: string, C23: string, C24: string, C25: string, C26: string, I01: int, I02: int, I03: int, I04: int, I05: int, I06: int, I07: int, I08: int, I09: int, I10: int, I11: int, I12: int, I13: int, label: bigint]"
      ]
     },
     "execution_count": 19,
     "metadata": {},
     "output_type": "execute_result"
    }
   ],
   "source": [
    "# get a sample to do things at a small scale with\n",
    "sampleSize = 1000 # change this as we get sense of compute times\n",
    "sampleDF = projectDF.sample(withReplacement = False, fraction = sampleSize/numRows, seed = 1000) \n",
    "sampleDF.createOrReplaceTempView(\"sampleDFTable\") # I don't really know what this does\n",
    "sampleDF.collect()\n",
    "sampleDF.cache()"
   ]
  },
  {
   "cell_type": "code",
   "execution_count": 16,
   "metadata": {},
   "outputs": [
    {
     "name": "stdout",
     "output_type": "stream",
     "text": [
      "+--------+--------+--------+--------+--------+--------+--------+--------+--------+--------+--------+--------+--------+--------+--------+--------+--------+--------+--------+--------+--------+--------+--------+--------+--------+--------+----+---+----+----+----+----+---+---+----+----+---+----+----+-----+\n",
      "|     C01|     C02|     C03|     C04|     C05|     C06|     C07|     C08|     C09|     C10|     C11|     C12|     C13|     C14|     C15|     C16|     C17|     C18|     C19|     C20|     C21|     C22|     C23|     C24|     C25|     C26| I01|I02| I03| I04| I05| I06|I07|I08| I09| I10|I11| I12| I13|label|\n",
      "+--------+--------+--------+--------+--------+--------+--------+--------+--------+--------+--------+--------+--------+--------+--------+--------+--------+--------+--------+--------+--------+--------+--------+--------+--------+--------+----+---+----+----+----+----+---+---+----+----+---+----+----+-----+\n",
      "|05db9164|58e67aaf|f37b6ce2|26a569e5|26eb6185|        |d5b22f0b|1f89b562|a73ee510|5ba575e7|ac48f34e|ebf6ab0e|a8840224|051219e6|d83fb924|81c9500c|e5ba7672|c21c3e4c|2e7e0472|a458ea53|c5d4a622|        |32c7478e|bc8b14b9|9b3e8820|cdd2b5b7|null| 18|null|null|4512|  49|  3|  1|  47|null|  1|null|null|    1|\n",
      "|05db9164|38d50e09|        |        |43b19349|7e0ccccf|9c8ed289|5b392875|a73ee510|200e383b|a7b606c4|        |eae197fd|b28479f6|42b3012c|        |07c540c4|582152eb|21ddcdc9|5840adea|        |        |3a171ecb|        |001f3601|56be3401|   3|  0|  18|  11| 230| 113|  3| 11|  16|   1|  1|null|  15|    0|\n",
      "|f473b8dc|1cfdf714|58c8748e|1fbad044|4cf72387|fbad5c96|90a2c015|0b153874|a73ee510|89f9878d|0f736a0c|7951b860|3af886ff|b28479f6|d345b1a0|6fa1c2c7|e5ba7672|e88ffc9d|21ddcdc9|b1252a9d|70e737bb|ad3062eb|423fab69|e4f7a0a4|b9266ff0|311f18a0|   1|  6|  97|  43|   4|  43|  4| 44|  48|   1|  2|null|  43|    0|\n",
      "|68fd1e64|1cfdf714|78fdb4d2|4b47c411|4cf72387|fbad5c96|dcfa4e1f|0b153874|a73ee510|11045bcc|07128696|344472d4|5d235d7a|b28479f6|d345b1a0|ae2a665b|e5ba7672|e88ffc9d|5d097c5a|b1252a9d|a716a8a9|ad3062eb|3a171ecb|f9877d2b|cb079c2d|ea18f3fe|null|291|   3|null| 941|null|  0|  0|   1|null|  0|null|null|    0|\n",
      "|bd4b6d14|1cfdf714|e96ec373|3873aebe|25c83c98|7e0ccccf|7195046d|0b153874|a73ee510|8bf500a5|4d8549da|79d2a54d|51b97b8f|f862f261|0e1257cc|2b6ac532|e5ba7672|e88ffc9d|4764bf77|b1252a9d|ea7667c4|        |bcdee96c|458af519|cb079c2d|9a241526|   0| 37| 151|   3|3913| 157| 11| 22|  61|   0|  1|null|   3|    0|\n",
      "|05db9164|287130e0|2703eaa2|6efbecac|b2241560|7e0ccccf|20481192|1f89b562|a73ee510|5f49e872|2e9d5aa6|08daa2c9|0a9ac04c|b28479f6|9efd8b77|5daf4586|07c540c4|891589e7|4632bcdc|b1252a9d|09bc81f1|        |32c7478e|0cc70ad6|f0f449dd|bb6fce84|   0| 24|  19|   1|8550|  15|  6|  1|  17|   0|  1|null|   1|    0|\n",
      "|05db9164|d833535f|02cf9876|c18be181|25c83c98|7e0ccccf|38eb9cf4|0b153874|a73ee510|2a47dab8|bc8c9f21|8fe001f4|46f42a63|b28479f6|e2502ec9|36103458|e5ba7672|42a2edb9|        |        |e587c466|        |32c7478e|3b183c5c|        |        |   2| 90|null|   1|   1|   2|  2|  1|   1|   1|  1|null|   0|    1|\n",
      "|05db9164|58e67aaf|548bf07a|4ab0c6e1|25c83c98|7e0ccccf|45e063a0|0b153874|a73ee510|924a78ca|da89cb9b|3953854a|165642be|07d13a8f|10935a85|78550b97|e5ba7672|c21c3e4c|26e97973|b1252a9d|cfe7812d|        |32c7478e|fa470cd3|9b3e8820|93f6d392|   2|  0|   2|null|1234|   7|  5| 16|  20|   2|  4|null|null|    1|\n",
      "|05db9164|0acbc0bb|2b3820dc|a01d631a|4cf72387|7e0ccccf|6c72d836|5b392875|a73ee510|19bfdbc6|ff694829|345ad101|f7ad89e1|07d13a8f|fbdfc6b5|9226afe8|e5ba7672|140bbba0|        |        |717c95a7|        |55dd3565|c9beb5ca|        |        |   0|135|   8|   3|1265|null|  0| 39|  39|   0|  0|null|   4|    0|\n",
      "|5a9ed9b0|80e26c9b|ba1947d0|85dd697c|25c83c98|fe6b92e5|9a4f2943|0b153874|a73ee510|86b46b2e|4a00b569|34a238e0|42ef23bb|1adce6ef|0f942372|da441c7e|e5ba7672|005c6740|21ddcdc9|5840adea|8717ea07|        |32c7478e|1793a828|e8b83407|b9809574|   1|  1|   5|   3|1167|  23|  7| 26| 172|   1|  2|null|  13|    0|\n",
      "|5bfa8ab5|38a947a1|c8beb44e|69040d07|4cf72387|7e0ccccf|1c6b74dc|37e4aa92|a73ee510|fc93ce50|b846a6c8|7d46e900|90a941f6|07d13a8f|28b468d1|26694ce7|07c540c4|b49c9b63|        |        |65af4d79|        |c7dc6720|4921c033|        |        |   0|  3|   2|  15|1460|  15|  1| 16|  60|   0|  1|null|  15|    0|\n",
      "|8cf07265|38a947a1|b51ae50a|3bca1696|4cf72387|fe6b92e5|c151233f|66f29b89|a73ee510|60dca7a3|fb23ae04|41cbc9d3|7aab7990|07d13a8f|740255d1|2e51a7b0|07c540c4|51ec7a2a|        |        |55c8c356|        |423fab69|52c94908|        |        |   2|  2|   1|   1|   8|   1|  2|  1|   1|   1|  1|null|   1|    1|\n",
      "|8cf07265|207b2d81|74e1a23a|9a6888fb|25c83c98|fbad5c96|51df0a9d|0b153874|a73ee510|360c3d0d|e52152c0|fb8fab62|e2824235|07d13a8f|3a5cfb00|c6b1e1b2|3486227d|25935396|21ddcdc9|5840adea|99c09e97|        |423fab69|335a6a1e|001f3601|8d8eb391|   0| 95|  75|  14|1607| 368| 28| 47| 287|   0|  2|   0|  17|    0|\n",
      "|05db9164|999aae35|79bc99b4|e5e453f3|25c83c98|fe6b92e5|2003b3ab|0b153874|a73ee510|0f9456c6|88206ea4|424e28fe|51aaa971|243a4e68|a56a115e|a6a69939|07c540c4|63aa00dd|        |        |424af181|        |3a171ecb|869caea3|        |        |   0|  0|   2|   3|4952|  38|  1|  6| 122|   0|  1|null|   3|    0|\n",
      "|5a9ed9b0|421b43cd|d4ed7206|29998ed1|25c83c98|fbad5c96|209d1929|0b153874|a73ee510|14781fa9|87fe3e10|6aaba33c|3bd6c21d|b28479f6|e1ac77f7|b041b04a|e5ba7672|2804effd|        |        |723b4dfd|c9d4222a|32c7478e|b34f3128|        |        |   0| 58|   1|  16|2916| 108| 16|  2|1634|   0|  9|   0|  16|    0|\n",
      "|be589b51|2ae0a573|c5d94b65|5cc8f91d|25c83c98|fe6b92e5|753aa291|062b5529|a73ee510|733b729f|d20ffd8f|75c79158|6619af2b|07d13a8f|259ecb43|208d4baf|d4bb7bd8|f2f9ae5a|        |        |6a909d9a|ad3062eb|3a171ecb|1f68c81f|        |        |   1|  4|null|   1|1150|   1|  1|  1|   1|   1|  1|null|   1|    1|\n",
      "|68fd1e64|4f25e98b|47f0b0d2|6ffc8f28|25c83c98|fbad5c96|e0386b63|0b153874|a73ee510|6a69ea7f|371dae82|bee3806d|18fc2b1e|1adce6ef|17d9b759|a4676ba4|d4bb7bd8|7ef5affa|21ddcdc9|b1252a9d|e17839cf|ad3062eb|3a171ecb|3fdb382b|e8b83407|49d68486|   1| -1|null|null| 105|   6|  1|  5|   6|   1|  1|null|null|    0|\n",
      "|05db9164|403ea497|2cbec47f|3e2bfbda|25c83c98|fbad5c96|af84702c|0b153874|a73ee510|fa7d0797|7c430b79|21a23bfe|7f0d7407|07d13a8f|e3209fc2|587267a3|e5ba7672|a78bd508|21ddcdc9|5840adea|c2a93b37|ad3062eb|3a171ecb|1793a828|e8b83407|2fede552|null| -1|null|null| 756|  16|  2|  8|  16|null|  1|null|null|    1|\n",
      "|8cf07265|39dfaa0d|9cfc3c89|ad1b5124|25c83c98|7e0ccccf|b72ec13d|5b392875|a73ee510|acce978c|3547565f|49f3b3ab|12880350|b28479f6|2223bbe1|37a1ed46|e5ba7672|df4fffb7|21ddcdc9|5840adea|1b36905c|        |bcdee96c|fe35ffe2|010f6491|aa5f0a15|   1|  5|   2|  18|1281|  77|  5| 38| 583|   1|  3|null|  18|    0|\n",
      "|5a9ed9b0|0a519c5c|02cf9876|c18be181|25c83c98|fe6b92e5|0b31ac6f|0b153874|a73ee510|3b08e48b|c7a9f205|8fe001f4|e0614341|07d13a8f|6dc710ed|36103458|3486227d|3412118d|        |        |e587c466|        |3a171ecb|3b183c5c|        |        |null| 11|   9|   2|9342| 315|  4|  2|  30|null|  1|   0|   2|    0|\n",
      "+--------+--------+--------+--------+--------+--------+--------+--------+--------+--------+--------+--------+--------+--------+--------+--------+--------+--------+--------+--------+--------+--------+--------+--------+--------+--------+----+---+----+----+----+----+---+---+----+----+---+----+----+-----+\n",
      "only showing top 20 rows\n",
      "\n"
     ]
    }
   ],
   "source": [
    "sampleDF.show()"
   ]
  },
  {
   "cell_type": "code",
   "execution_count": null,
   "metadata": {},
   "outputs": [],
   "source": [
    "# How many missing values do we have and where?\n",
    "sampleDF.select([count(when(isnull(c), c)).alias(c) for c in sampleDF.columns]).show()"
   ]
  },
  {
   "cell_type": "markdown",
   "metadata": {},
   "source": [
    "#### Put sample pyspark dataframe into a pandas dataframe for EDA"
   ]
  },
  {
   "cell_type": "code",
   "execution_count": 50,
   "metadata": {},
   "outputs": [],
   "source": [
    "samplePDF = sampleDF.toPandas() # takes a looooooooooong time"
   ]
  },
  {
   "cell_type": "code",
   "execution_count": 51,
   "metadata": {},
   "outputs": [
    {
     "data": {
      "text/html": [
       "<div>\n",
       "<style scoped>\n",
       "    .dataframe tbody tr th:only-of-type {\n",
       "        vertical-align: middle;\n",
       "    }\n",
       "\n",
       "    .dataframe tbody tr th {\n",
       "        vertical-align: top;\n",
       "    }\n",
       "\n",
       "    .dataframe thead th {\n",
       "        text-align: right;\n",
       "    }\n",
       "</style>\n",
       "<table border=\"1\" class=\"dataframe\">\n",
       "  <thead>\n",
       "    <tr style=\"text-align: right;\">\n",
       "      <th></th>\n",
       "      <th>I1</th>\n",
       "      <th>I10</th>\n",
       "      <th>I11</th>\n",
       "      <th>I12</th>\n",
       "      <th>I13</th>\n",
       "      <th>I2</th>\n",
       "      <th>I3</th>\n",
       "      <th>I4</th>\n",
       "      <th>I5</th>\n",
       "      <th>I6</th>\n",
       "      <th>I7</th>\n",
       "      <th>I8</th>\n",
       "      <th>I9</th>\n",
       "      <th>label</th>\n",
       "    </tr>\n",
       "  </thead>\n",
       "  <tbody>\n",
       "    <tr>\n",
       "      <th>count</th>\n",
       "      <td>565.000000</td>\n",
       "      <td>565.000000</td>\n",
       "      <td>955.000000</td>\n",
       "      <td>228.000000</td>\n",
       "      <td>783.000000</td>\n",
       "      <td>1000.000000</td>\n",
       "      <td>776.000000</td>\n",
       "      <td>783.000000</td>\n",
       "      <td>982.000000</td>\n",
       "      <td>782.000000</td>\n",
       "      <td>955.000000</td>\n",
       "      <td>1000.000000</td>\n",
       "      <td>955.000000</td>\n",
       "      <td>1000.00000</td>\n",
       "    </tr>\n",
       "    <tr>\n",
       "      <th>mean</th>\n",
       "      <td>3.394690</td>\n",
       "      <td>0.598230</td>\n",
       "      <td>2.721466</td>\n",
       "      <td>1.008772</td>\n",
       "      <td>8.295019</td>\n",
       "      <td>84.898000</td>\n",
       "      <td>22.490979</td>\n",
       "      <td>7.593870</td>\n",
       "      <td>17751.262729</td>\n",
       "      <td>113.432225</td>\n",
       "      <td>15.751832</td>\n",
       "      <td>13.328000</td>\n",
       "      <td>107.967539</td>\n",
       "      <td>0.25600</td>\n",
       "    </tr>\n",
       "    <tr>\n",
       "      <th>std</th>\n",
       "      <td>9.226368</td>\n",
       "      <td>0.652054</td>\n",
       "      <td>4.578675</td>\n",
       "      <td>5.757195</td>\n",
       "      <td>10.939198</td>\n",
       "      <td>345.253619</td>\n",
       "      <td>150.532920</td>\n",
       "      <td>8.676397</td>\n",
       "      <td>58447.336979</td>\n",
       "      <td>343.972723</td>\n",
       "      <td>43.369605</td>\n",
       "      <td>13.564897</td>\n",
       "      <td>198.346044</td>\n",
       "      <td>0.43664</td>\n",
       "    </tr>\n",
       "    <tr>\n",
       "      <th>min</th>\n",
       "      <td>0.000000</td>\n",
       "      <td>0.000000</td>\n",
       "      <td>0.000000</td>\n",
       "      <td>0.000000</td>\n",
       "      <td>0.000000</td>\n",
       "      <td>-2.000000</td>\n",
       "      <td>0.000000</td>\n",
       "      <td>0.000000</td>\n",
       "      <td>0.000000</td>\n",
       "      <td>0.000000</td>\n",
       "      <td>0.000000</td>\n",
       "      <td>0.000000</td>\n",
       "      <td>0.000000</td>\n",
       "      <td>0.00000</td>\n",
       "    </tr>\n",
       "    <tr>\n",
       "      <th>25%</th>\n",
       "      <td>0.000000</td>\n",
       "      <td>0.000000</td>\n",
       "      <td>1.000000</td>\n",
       "      <td>0.000000</td>\n",
       "      <td>2.000000</td>\n",
       "      <td>0.000000</td>\n",
       "      <td>3.000000</td>\n",
       "      <td>2.000000</td>\n",
       "      <td>357.250000</td>\n",
       "      <td>8.000000</td>\n",
       "      <td>1.000000</td>\n",
       "      <td>3.000000</td>\n",
       "      <td>10.500000</td>\n",
       "      <td>0.00000</td>\n",
       "    </tr>\n",
       "    <tr>\n",
       "      <th>50%</th>\n",
       "      <td>1.000000</td>\n",
       "      <td>1.000000</td>\n",
       "      <td>1.000000</td>\n",
       "      <td>0.000000</td>\n",
       "      <td>5.000000</td>\n",
       "      <td>2.000000</td>\n",
       "      <td>6.500000</td>\n",
       "      <td>5.000000</td>\n",
       "      <td>2651.000000</td>\n",
       "      <td>31.500000</td>\n",
       "      <td>4.000000</td>\n",
       "      <td>8.000000</td>\n",
       "      <td>41.000000</td>\n",
       "      <td>0.00000</td>\n",
       "    </tr>\n",
       "    <tr>\n",
       "      <th>75%</th>\n",
       "      <td>3.000000</td>\n",
       "      <td>1.000000</td>\n",
       "      <td>3.000000</td>\n",
       "      <td>0.000000</td>\n",
       "      <td>10.000000</td>\n",
       "      <td>31.000000</td>\n",
       "      <td>17.000000</td>\n",
       "      <td>10.000000</td>\n",
       "      <td>9807.500000</td>\n",
       "      <td>104.500000</td>\n",
       "      <td>12.000000</td>\n",
       "      <td>20.000000</td>\n",
       "      <td>109.500000</td>\n",
       "      <td>1.00000</td>\n",
       "    </tr>\n",
       "    <tr>\n",
       "      <th>max</th>\n",
       "      <td>151.000000</td>\n",
       "      <td>4.000000</td>\n",
       "      <td>47.000000</td>\n",
       "      <td>69.000000</td>\n",
       "      <td>104.000000</td>\n",
       "      <td>5339.000000</td>\n",
       "      <td>4112.000000</td>\n",
       "      <td>70.000000</td>\n",
       "      <td>790211.000000</td>\n",
       "      <td>7532.000000</td>\n",
       "      <td>507.000000</td>\n",
       "      <td>95.000000</td>\n",
       "      <td>1968.000000</td>\n",
       "      <td>1.00000</td>\n",
       "    </tr>\n",
       "  </tbody>\n",
       "</table>\n",
       "</div>"
      ],
      "text/plain": [
       "               I1         I10         I11         I12         I13  \\\n",
       "count  565.000000  565.000000  955.000000  228.000000  783.000000   \n",
       "mean     3.394690    0.598230    2.721466    1.008772    8.295019   \n",
       "std      9.226368    0.652054    4.578675    5.757195   10.939198   \n",
       "min      0.000000    0.000000    0.000000    0.000000    0.000000   \n",
       "25%      0.000000    0.000000    1.000000    0.000000    2.000000   \n",
       "50%      1.000000    1.000000    1.000000    0.000000    5.000000   \n",
       "75%      3.000000    1.000000    3.000000    0.000000   10.000000   \n",
       "max    151.000000    4.000000   47.000000   69.000000  104.000000   \n",
       "\n",
       "                I2           I3          I4             I5           I6  \\\n",
       "count  1000.000000   776.000000  783.000000     982.000000   782.000000   \n",
       "mean     84.898000    22.490979    7.593870   17751.262729   113.432225   \n",
       "std     345.253619   150.532920    8.676397   58447.336979   343.972723   \n",
       "min      -2.000000     0.000000    0.000000       0.000000     0.000000   \n",
       "25%       0.000000     3.000000    2.000000     357.250000     8.000000   \n",
       "50%       2.000000     6.500000    5.000000    2651.000000    31.500000   \n",
       "75%      31.000000    17.000000   10.000000    9807.500000   104.500000   \n",
       "max    5339.000000  4112.000000   70.000000  790211.000000  7532.000000   \n",
       "\n",
       "               I7           I8           I9       label  \n",
       "count  955.000000  1000.000000   955.000000  1000.00000  \n",
       "mean    15.751832    13.328000   107.967539     0.25600  \n",
       "std     43.369605    13.564897   198.346044     0.43664  \n",
       "min      0.000000     0.000000     0.000000     0.00000  \n",
       "25%      1.000000     3.000000    10.500000     0.00000  \n",
       "50%      4.000000     8.000000    41.000000     0.00000  \n",
       "75%     12.000000    20.000000   109.500000     1.00000  \n",
       "max    507.000000    95.000000  1968.000000     1.00000  "
      ]
     },
     "execution_count": 51,
     "metadata": {},
     "output_type": "execute_result"
    }
   ],
   "source": [
    "samplePDF.describe()"
   ]
  },
  {
   "cell_type": "code",
   "execution_count": null,
   "metadata": {},
   "outputs": [],
   "source": [
    "# What's the average of our outcome variable?\n",
    "sampleDF.agg({\"label\": \"avg\"}).show()"
   ]
  },
  {
   "cell_type": "code",
   "execution_count": 101,
   "metadata": {},
   "outputs": [
    {
     "data": {
      "text/html": [
       "<div>\n",
       "<style scoped>\n",
       "    .dataframe tbody tr th:only-of-type {\n",
       "        vertical-align: middle;\n",
       "    }\n",
       "\n",
       "    .dataframe tbody tr th {\n",
       "        vertical-align: top;\n",
       "    }\n",
       "\n",
       "    .dataframe thead th {\n",
       "        text-align: right;\n",
       "    }\n",
       "</style>\n",
       "<table border=\"1\" class=\"dataframe\">\n",
       "  <thead>\n",
       "    <tr style=\"text-align: right;\">\n",
       "      <th></th>\n",
       "      <th>label</th>\n",
       "      <th>I1</th>\n",
       "      <th>I2</th>\n",
       "      <th>I3</th>\n",
       "      <th>I4</th>\n",
       "      <th>I5</th>\n",
       "      <th>I6</th>\n",
       "      <th>I7</th>\n",
       "      <th>I8</th>\n",
       "      <th>I9</th>\n",
       "      <th>I10</th>\n",
       "      <th>I11</th>\n",
       "      <th>I12</th>\n",
       "      <th>I13</th>\n",
       "    </tr>\n",
       "  </thead>\n",
       "  <tbody>\n",
       "    <tr>\n",
       "      <th>0</th>\n",
       "      <td>1</td>\n",
       "      <td>NaN</td>\n",
       "      <td>18</td>\n",
       "      <td>NaN</td>\n",
       "      <td>NaN</td>\n",
       "      <td>4512.0</td>\n",
       "      <td>49.0</td>\n",
       "      <td>3.0</td>\n",
       "      <td>1</td>\n",
       "      <td>47.0</td>\n",
       "      <td>NaN</td>\n",
       "      <td>1.0</td>\n",
       "      <td>NaN</td>\n",
       "      <td>NaN</td>\n",
       "    </tr>\n",
       "    <tr>\n",
       "      <th>1</th>\n",
       "      <td>0</td>\n",
       "      <td>3.0</td>\n",
       "      <td>0</td>\n",
       "      <td>18.0</td>\n",
       "      <td>11.0</td>\n",
       "      <td>230.0</td>\n",
       "      <td>113.0</td>\n",
       "      <td>3.0</td>\n",
       "      <td>11</td>\n",
       "      <td>16.0</td>\n",
       "      <td>1.0</td>\n",
       "      <td>1.0</td>\n",
       "      <td>NaN</td>\n",
       "      <td>15.0</td>\n",
       "    </tr>\n",
       "    <tr>\n",
       "      <th>2</th>\n",
       "      <td>0</td>\n",
       "      <td>1.0</td>\n",
       "      <td>6</td>\n",
       "      <td>97.0</td>\n",
       "      <td>43.0</td>\n",
       "      <td>4.0</td>\n",
       "      <td>43.0</td>\n",
       "      <td>4.0</td>\n",
       "      <td>44</td>\n",
       "      <td>48.0</td>\n",
       "      <td>1.0</td>\n",
       "      <td>2.0</td>\n",
       "      <td>NaN</td>\n",
       "      <td>43.0</td>\n",
       "    </tr>\n",
       "    <tr>\n",
       "      <th>3</th>\n",
       "      <td>0</td>\n",
       "      <td>NaN</td>\n",
       "      <td>291</td>\n",
       "      <td>3.0</td>\n",
       "      <td>NaN</td>\n",
       "      <td>941.0</td>\n",
       "      <td>NaN</td>\n",
       "      <td>0.0</td>\n",
       "      <td>0</td>\n",
       "      <td>1.0</td>\n",
       "      <td>NaN</td>\n",
       "      <td>0.0</td>\n",
       "      <td>NaN</td>\n",
       "      <td>NaN</td>\n",
       "    </tr>\n",
       "    <tr>\n",
       "      <th>4</th>\n",
       "      <td>0</td>\n",
       "      <td>0.0</td>\n",
       "      <td>37</td>\n",
       "      <td>151.0</td>\n",
       "      <td>3.0</td>\n",
       "      <td>3913.0</td>\n",
       "      <td>157.0</td>\n",
       "      <td>11.0</td>\n",
       "      <td>22</td>\n",
       "      <td>61.0</td>\n",
       "      <td>0.0</td>\n",
       "      <td>1.0</td>\n",
       "      <td>NaN</td>\n",
       "      <td>3.0</td>\n",
       "    </tr>\n",
       "  </tbody>\n",
       "</table>\n",
       "</div>"
      ],
      "text/plain": [
       "   label   I1   I2     I3    I4      I5     I6    I7  I8    I9  I10  I11  I12  \\\n",
       "0      1  NaN   18    NaN   NaN  4512.0   49.0   3.0   1  47.0  NaN  1.0  NaN   \n",
       "1      0  3.0    0   18.0  11.0   230.0  113.0   3.0  11  16.0  1.0  1.0  NaN   \n",
       "2      0  1.0    6   97.0  43.0     4.0   43.0   4.0  44  48.0  1.0  2.0  NaN   \n",
       "3      0  NaN  291    3.0   NaN   941.0    NaN   0.0   0   1.0  NaN  0.0  NaN   \n",
       "4      0  0.0   37  151.0   3.0  3913.0  157.0  11.0  22  61.0  0.0  1.0  NaN   \n",
       "\n",
       "    I13  \n",
       "0   NaN  \n",
       "1  15.0  \n",
       "2  43.0  \n",
       "3   NaN  \n",
       "4   3.0  "
      ]
     },
     "execution_count": 101,
     "metadata": {},
     "output_type": "execute_result"
    }
   ],
   "source": [
    "# Create pandas df with just label and numeric columns\n",
    "numericPDF = samplePDF[label_and_numeric]\n",
    "numericPDF.head()"
   ]
  },
  {
   "cell_type": "markdown",
   "metadata": {},
   "source": [
    "#### EDA: See correlations"
   ]
  },
  {
   "cell_type": "code",
   "execution_count": 103,
   "metadata": {},
   "outputs": [
    {
     "data": {
      "image/png": "[encoded data removed]",
      "text/plain": [
       "<Figure size 1080x576 with 2 Axes>"
      ]
     },
     "metadata": {
      "needs_background": "light"
     },
     "output_type": "display_data"
    }
   ],
   "source": [
    "# Correlation heat map on integer features and label\n",
    "# Turn your settings on Jupyter to white background\n",
    "fig = plt.figure(figsize=(15,8))\n",
    "ax1 = fig.add_subplot(111)\n",
    "plt.imshow(numericPDF.corr(), cmap='hot', interpolation='nearest')\n",
    "plt.colorbar()\n",
    "labels = numericPDF.columns.tolist()\n",
    "ax1.set_xticks(np.arange(len(labels)))\n",
    "ax1.set_yticks(np.arange(len(labels)))\n",
    "ax1.set_xticklabels(labels,rotation=90, fontsize=10)\n",
    "ax1.set_yticklabels(labels,fontsize=10)\n",
    "plt.show()"
   ]
  },
  {
   "cell_type": "markdown",
   "metadata": {},
   "source": [
    "#### Observations from the correlation heatmap\n",
    "1. Nothing seems all that correlated with the label. Best are I7, I10, I11\n",
    "2. There are some features strongly correlated with outher features: (I7,I11), (I4, I13), (I4, I8), (I8, I13)"
   ]
  },
  {
   "cell_type": "code",
   "execution_count": 238,
   "metadata": {},
   "outputs": [
    {
     "name": "stderr",
     "output_type": "stream",
     "text": [
      "/opt/anaconda/lib/python3.6/site-packages/ipykernel_launcher.py:6: SettingWithCopyWarning: \n",
      "A value is trying to be set on a copy of a slice from a DataFrame.\n",
      "Try using .loc[row_indexer,col_indexer] = value instead\n",
      "\n",
      "See the caveats in the documentation: http://pandas.pydata.org/pandas-docs/stable/indexing.html#indexing-view-versus-copy\n",
      "  \n"
     ]
    },
    {
     "name": "stdout",
     "output_type": "stream",
     "text": [
      "Chi_square test on each categorical column with label\n",
      "\n",
      "C1 p-value:  0.21082798547288253\n",
      "C2 p-value:  0.6435562286680369\n",
      "C3 p-value:  1.0\n",
      "C4 p-value:  0.012948939934941228\n",
      "C5 p-value:  0.8535936414496317\n",
      "C6 p-value:  0.049581973659291234\n",
      "C7 p-value:  0.797861519994188\n",
      "C8 p-value:  0.6135336372023791\n",
      "C9 p-value:  7.50591017192037e-05\n",
      "C10 p-value:  1.0\n",
      "C11 p-value:  0.7938565664416881\n",
      "C12 p-value:  1.0\n",
      "C13 p-value:  0.6702820959999762\n",
      "C14 p-value:  0.0004643180576810328\n",
      "C15 p-value: None\n",
      "C16 p-value:  0.010838360359114419\n",
      "C17 p-value:  6.215519829380432e-06\n",
      "C18 p-value:  0.36916060790189564\n",
      "C19 p-value:  0.4073140424351105\n",
      "C20 p-value:  0.3279960391349751\n",
      "C21 p-value:  0.010838360359114419\n",
      "C22 p-value:  0.3632684079519511\n",
      "C23 p-value:  0.2132366139150885\n",
      "C24 p-value:  0.7881904129396066\n",
      "C25 p-value:  0.3848364145236987\n",
      "C26 p-value:  0.4419905004244705\n"
     ]
    }
   ],
   "source": [
    "# Try doing chi-squared test for categorical features and the label\n",
    "# relied on code from here: https://codereview.stackexchange.com/questions/96761/chi-square-independence-test-for-two-pandas-df-columns\n",
    "\n",
    "factorizedPDF = samplePDF[label_and_numeric]\n",
    "for colname in categorical_features:\n",
    "    factorizedPDF[colname] = pd.factorize(samplePDF[colname])[0]\n",
    "    \n",
    "import scipy.stats as scs\n",
    "\n",
    "def categories(series):\n",
    "    return range(int(series.min()), int(series.max()) + 1)\n",
    "\n",
    "def chi_square_of_df_cols(df, col1, col2):\n",
    "    df_col1, df_col2 = df[col1], df[col2]\n",
    "\n",
    "    result = [[sum((df_col1 == cat1) & (df_col2 == cat2))\n",
    "               for cat2 in categories(df_col2)]\n",
    "              for cat1 in categories(df_col1)]\n",
    "    \n",
    "    # can't have cells in contigency table <5, so tossing out small categories\n",
    "    # valid if just trying to get a rough idea of associations? hopefully...\n",
    "    new_cont_table = []\n",
    "    for pair in result:\n",
    "        if (pair[0] >= 5 and pair[1] >= 5):\n",
    "            new_cont_table.append(pair)\n",
    "    \n",
    "    if (new_cont_table == []): \n",
    "        return None\n",
    "    else:\n",
    "        return scs.chi2_contingency(new_cont_table)\n",
    "\n",
    "print(\"Chi_square test on each categorical column with label\\n\")\n",
    "for colname in categorical_features:\n",
    "    if chi_square_of_df_cols(factorizedPDF, colname, 'label') != None:\n",
    "        p_val = chi_square_of_df_cols(factorizedPDF, colname, 'label')[1]\n",
    "        print(colname, \"p-value: \", p_val)\n",
    "    else:\n",
    "        print(colname, \"p-value: None\")\n"
   ]
  },
  {
   "cell_type": "markdown",
   "metadata": {},
   "source": [
    "#### Results of the chi-squared correlation tests on categories\n",
    "C4, C6, C9, C14, C16, C17, C21 appear to show significant correlation"
   ]
  },
  {
   "cell_type": "markdown",
   "metadata": {},
   "source": [
    "#### EDA: Histograms"
   ]
  },
  {
   "cell_type": "code",
   "execution_count": 116,
   "metadata": {},
   "outputs": [
    {
     "data": {
      "image/png": "[encoded data removed]",
      "text/plain": [
       "<Figure size 1080x1080 with 13 Axes>"
      ]
     },
     "metadata": {
      "needs_background": "light"
     },
     "output_type": "display_data"
    }
   ],
   "source": [
    "# EDA histograms\n",
    "subplot_index = 0 # starting subplot number for chart 4x4 grid\n",
    "fig=plt.figure()\n",
    "fig.set_figheight(15)\n",
    "fig.set_figwidth(15)\n",
    "fig.subplots_adjust(hspace=0.4, wspace=0.4)\n",
    "for feature in numeric_features:\n",
    "    subplot_index += 1\n",
    "    ax=fig.add_subplot(4,4,subplot_index)\n",
    "    samplePDF[feature].hist(bins=10,ax=ax)\n",
    "    ax.set_title(feature+\" Distribution\")\n",
    "    fig.tight_layout() \n",
    "plt.show()\n"
   ]
  },
  {
   "cell_type": "markdown",
   "metadata": {},
   "source": [
    "#### EDA: Suspect data?"
   ]
  },
  {
   "cell_type": "code",
   "execution_count": 55,
   "metadata": {},
   "outputs": [
    {
     "data": {
      "text/plain": [
       "116"
      ]
     },
     "execution_count": 55,
     "metadata": {},
     "output_type": "execute_result"
    }
   ],
   "source": [
    "# Investigate I2 column since it seems to be only with negatives.\n",
    "negvalues = samplePDF[samplePDF.I2 < 0]\n",
    "negvalues.I2.count()\n",
    "\n",
    "# 116 out of 1000 are negative, so that doesn't feel like a couple errors. Also, there is -1 and -2 values."
   ]
  },
  {
   "cell_type": "code",
   "execution_count": 56,
   "metadata": {},
   "outputs": [
    {
     "data": {
      "text/plain": [
       "<matplotlib.axes._subplots.AxesSubplot at 0x7f6c6a488f98>"
      ]
     },
     "execution_count": 56,
     "metadata": {},
     "output_type": "execute_result"
    },
    {
     "data": {
      "image/png": "[encoded data removed]",
      "text/plain": [
       "<Figure size 432x288 with 1 Axes>"
      ]
     },
     "metadata": {
      "needs_background": "light"
     },
     "output_type": "display_data"
    }
   ],
   "source": [
    "samplePDF.I2.hist()"
   ]
  },
  {
   "cell_type": "code",
   "execution_count": 74,
   "metadata": {},
   "outputs": [
    {
     "data": {
      "text/plain": [
       "<matplotlib.axes._subplots.AxesSubplot at 0x7f6c6914d0f0>"
      ]
     },
     "execution_count": 74,
     "metadata": {},
     "output_type": "execute_result"
    },
    {
     "data": {
      "image/png": "[encoded data removed]",
      "text/plain": [
       "<Figure size 432x288 with 1 Axes>"
      ]
     },
     "metadata": {
      "needs_background": "light"
     },
     "output_type": "display_data"
    }
   ],
   "source": [
    "samplePDF.I2.hist(bins=[-2.5,-1.5,-0.5,0.5,1.5,2.5,3.5,4.5])\n",
    "# this seems like the -1 and -2 are real values given the number of 1s and 2s on the positive side."
   ]
  },
  {
   "cell_type": "markdown",
   "metadata": {},
   "source": [
    "#### Data cleanup continued: Deal with missing data"
   ]
  },
  {
   "cell_type": "code",
   "execution_count": 11,
   "metadata": {},
   "outputs": [],
   "source": [
    "# Create missing data features\n",
    "# Taking a cue from this response: https://stats.stackexchange.com/questions/228622/handling-null-value-in-logistic-regression\n",
    "\n",
    "for feature in numeric_features:\n",
    "    feature_name = feature + \"_missing\"\n",
    "    sampleDF = sampleDF.withColumn(feature_name, sampleDF[feature].isNull().cast(\"int\"))\n",
    "sampleDF.collect()\n",
    "sampleDF.cache()\n",
    "\n",
    "# create a list for referencing the missing data features\n",
    "missing = [\"I01_missing\", \"I02_missing\", \"I03_missing\", \"I04_missing\", \"I05_missing\", \"I06_missing\", \\\n",
    "           \"I07_missing\", \"I08_missing\", \"I09_missing\", \"I10_missing\", \"I11_missing\", \"I12_missing\", \\\n",
    "           \"I13_missing\"]"
   ]
  },
  {
   "cell_type": "code",
   "execution_count": null,
   "metadata": {},
   "outputs": [],
   "source": [
    "# ALTERNATE ROUTE: JUST DELETE ROWS WITH NAS\n",
    "noNADF = sampleDF.na.drop().collect().cache() # this just drops any row that has an NA"
   ]
  },
  {
   "cell_type": "code",
   "execution_count": 12,
   "metadata": {},
   "outputs": [
    {
     "data": {
      "text/plain": [
       "DataFrame[C01: string, C02: string, C03: string, C04: string, C05: string, C06: string, C07: string, C08: string, C09: string, C10: string, C11: string, C12: string, C13: string, C14: string, C15: string, C16: string, C17: string, C18: string, C19: string, C20: string, C21: string, C22: string, C23: string, C24: string, C25: string, C26: string, I01: int, I02: int, I03: int, I04: int, I05: int, I06: int, I07: int, I08: int, I09: int, I10: int, I11: int, I12: int, I13: int, label: bigint, I01_missing: int, I02_missing: int, I03_missing: int, I04_missing: int, I05_missing: int, I06_missing: int, I07_missing: int, I08_missing: int, I09_missing: int, I10_missing: int, I11_missing: int, I12_missing: int, I13_missing: int]"
      ]
     },
     "execution_count": 12,
     "metadata": {},
     "output_type": "execute_result"
    }
   ],
   "source": [
    "# now that we've created missing value features, fill in NAs with 0s\n",
    "cleanDF = sampleDF.na.fill(0) # puts zeros across whole matrix, including categorical. problem?\n",
    "cleanDF.collect()\n",
    "cleanDF.cache()"
   ]
  },
  {
   "cell_type": "code",
   "execution_count": 19,
   "metadata": {},
   "outputs": [
    {
     "data": {
      "text/plain": [
       "[Row(C01='05db9164', C02='58e67aaf', C03='f37b6ce2', C04='26a569e5', C05='26eb6185', C06='', C07='d5b22f0b', C08='1f89b562', C09='a73ee510', C10='5ba575e7', C11='ac48f34e', C12='ebf6ab0e', C13='a8840224', C14='051219e6', C15='d83fb924', C16='81c9500c', C17='e5ba7672', C18='c21c3e4c', C19='2e7e0472', C20='a458ea53', C21='c5d4a622', C22='', C23='32c7478e', C24='bc8b14b9', C25='9b3e8820', C26='cdd2b5b7', I01=0, I02=18, I03=0, I04=0, I05=4512, I06=49, I07=3, I08=1, I09=47, I10=0, I11=1, I12=0, I13=0, label=1, I01_missing=1, I02_missing=0, I03_missing=1, I04_missing=1, I05_missing=0, I06_missing=0, I07_missing=0, I08_missing=0, I09_missing=0, I10_missing=1, I11_missing=0, I12_missing=1, I13_missing=1)]"
      ]
     },
     "execution_count": 19,
     "metadata": {},
     "output_type": "execute_result"
    }
   ],
   "source": [
    "cleanDF.take(1) # make sure all looking good"
   ]
  },
  {
   "cell_type": "markdown",
   "metadata": {},
   "source": [
    "#### Create toy RDD dataset to test algorithms"
   ]
  },
  {
   "cell_type": "code",
   "execution_count": 13,
   "metadata": {},
   "outputs": [
    {
     "data": {
      "text/plain": [
       "[(array([   0,   18,    0,    0, 4512,   49,    3,    1,   47,    0,    1,\n",
       "            0,    0,    1,    0,    1,    1,    0,    0,    0,    0,    0,\n",
       "            1,    0,    1,    1]), 1),\n",
       " (array([  3,   0,  18,  11, 230, 113,   3,  11,  16,   1,   1,   0,  15,\n",
       "           0,   0,   0,   0,   0,   0,   0,   0,   0,   0,   0,   1,   0]), 0),\n",
       " (array([ 1,  6, 97, 43,  4, 43,  4, 44, 48,  1,  2,  0, 43,  0,  0,  0,  0,\n",
       "          0,  0,  0,  0,  0,  0,  0,  1,  0]), 0),\n",
       " (array([  0, 291,   3,   0, 941,   0,   0,   0,   1,   0,   0,   0,   0,\n",
       "           1,   0,   0,   1,   0,   1,   0,   0,   0,   1,   0,   1,   1]), 0),\n",
       " (array([   0,   37,  151,    3, 3913,  157,   11,   22,   61,    0,    1,\n",
       "            0,    3,    0,    0,    0,    0,    0,    0,    0,    0,    0,\n",
       "            0,    0,    1,    0]), 0),\n",
       " (array([   0,   24,   19,    1, 8550,   15,    6,    1,   17,    0,    1,\n",
       "            0,    1,    0,    0,    0,    0,    0,    0,    0,    0,    0,\n",
       "            0,    0,    1,    0]), 0),\n",
       " (array([ 2, 90,  0,  1,  1,  2,  2,  1,  1,  1,  1,  0,  0,  0,  0,  1,  0,\n",
       "          0,  0,  0,  0,  0,  0,  0,  1,  0]), 1),\n",
       " (array([   2,    0,    2,    0, 1234,    7,    5,   16,   20,    2,    4,\n",
       "            0,    0,    0,    0,    0,    1,    0,    0,    0,    0,    0,\n",
       "            0,    0,    1,    1]), 1),\n",
       " (array([   0,  135,    8,    3, 1265,    0,    0,   39,   39,    0,    0,\n",
       "            0,    4,    0,    0,    0,    0,    0,    1,    0,    0,    0,\n",
       "            0,    0,    1,    0]), 0),\n",
       " (array([   1,    1,    5,    3, 1167,   23,    7,   26,  172,    1,    2,\n",
       "            0,   13,    0,    0,    0,    0,    0,    0,    0,    0,    0,\n",
       "            0,    0,    1,    0]), 0)]"
      ]
     },
     "execution_count": 13,
     "metadata": {},
     "output_type": "execute_result"
    }
   ],
   "source": [
    "# We want an RDD in this shape: tuple of (features_array, y)\n",
    "TOY_SIZE = 75 # create a toy set that's just 10 rows\n",
    "toy_numeric = label_and_numeric + missing\n",
    "toyIntRDD = cleanDF.limit(TOY_SIZE).select(toy_numeric).rdd.map(lambda x: (np.array(x[1:27]), x[0]))\n",
    "toyIntRDD.take(10)"
   ]
  },
  {
   "cell_type": "code",
   "execution_count": 14,
   "metadata": {},
   "outputs": [
    {
     "data": {
      "text/plain": [
       "[(array([   0,   18,    0,    0, 4512,   49,    3,    1,   47,    0,    1,\n",
       "            0,    0,    1,    0,    1,    1,    0,    0,    0,    0,    0,\n",
       "            1,    0,    1,    1]), 1)]"
      ]
     },
     "execution_count": 14,
     "metadata": {},
     "output_type": "execute_result"
    }
   ],
   "source": [
    "# Turn sample dataframe into RDD for tests on larger data\n",
    "sampleIntRDD = cleanDF.select(toy_numeric).rdd.map(lambda x: (np.array(x[1:27]), x[0]))\n",
    "sampleIntRDD.take(1)"
   ]
  },
  {
   "cell_type": "code",
   "execution_count": 15,
   "metadata": {},
   "outputs": [],
   "source": [
    "# helper function to normalize the data [-1, 1] with RDDs\n",
    "# include the missing value binary variables? yes: https://stats.stackexchange.com/questions/69568/whether-to-rescale-indicator-binary-dummy-predictors-for-lasso\n",
    "\n",
    "def normalize(dataRDD):\n",
    "    \"\"\"\n",
    "    Scale and center data round mean of each feature.\n",
    "    Args:\n",
    "        dataRDD - records are tuples of (features_array, y)\n",
    "    Returns:\n",
    "        normedRDD - records are tuples of (features_array, y)\n",
    "    \"\"\"\n",
    "    featureMeans = dataRDD.map(lambda x: x[0]).mean()\n",
    "    featureStdev = np.sqrt(dataRDD.map(lambda x: x[0]).variance())\n",
    "    featureStdev[featureStdev == 0] = 1 # in cases where no variation, div by 1\n",
    "    normedRDD = dataRDD.map(lambda x: ((x[0] - featureMeans)/featureStdev,x[1]))\n",
    "    return normedRDD\n"
   ]
  },
  {
   "cell_type": "code",
   "execution_count": 16,
   "metadata": {},
   "outputs": [],
   "source": [
    "normedToyIntRDD = normalize(toyIntRDD)\n",
    "normedSampleIntRDD = normalize(sampleIntRDD)"
   ]
  },
  {
   "cell_type": "code",
   "execution_count": null,
   "metadata": {},
   "outputs": [],
   "source": [
    "# create and normalize an RDD for the dropped NAs dataframe\n",
    "noNARDD = noNADF.select(toy_numeric).rdd.map(lambda x: (np.array(x[1:14]), x[0]))\n",
    "normedNONARDD = normalize(noNARDD)"
   ]
  },
  {
   "cell_type": "code",
   "execution_count": 16,
   "metadata": {},
   "outputs": [
    {
     "data": {
      "text/plain": [
       "[(array([-0.86204366, -0.48069019, -0.62087948, -0.51768594,  0.90299099,\n",
       "          0.15963295, -0.3462957 , -0.97370732,  0.10124329, -0.90453403,\n",
       "         -0.27272727,  0.        , -0.61596685,  2.        ,  0.        ,\n",
       "          2.        ,  1.52752523,  0.        , -0.5       ,  0.        ,\n",
       "          0.        ,  0.        ,  2.        ,  0.        ,  0.        ,\n",
       "          1.52752523]), 1)]"
      ]
     },
     "execution_count": 16,
     "metadata": {},
     "output_type": "execute_result"
    }
   ],
   "source": [
    "normedToyIntRDD.take(1)"
   ]
  },
  {
   "cell_type": "code",
   "execution_count": 17,
   "metadata": {},
   "outputs": [
    {
     "data": {
      "text/plain": [
       "[(array([-0.26898734, -0.19386176, -0.13137213, -0.71754741, -0.22299439,\n",
       "         -0.12908935, -0.28345785, -0.90927111, -0.2877104 , -0.59039324,\n",
       "         -0.35473649, -0.08286957, -0.63303379,  1.13967126,  0.        ,\n",
       "          1.86125917,  1.89955124, -0.1353881 , -0.52798899, -0.21707238,\n",
       "          0.        , -0.21707238,  1.13967126, -0.21707238,  0.54344897,\n",
       "          1.89955124]), 1)]"
      ]
     },
     "execution_count": 17,
     "metadata": {},
     "output_type": "execute_result"
    }
   ],
   "source": [
    "normedSampleIntRDD.take(1)"
   ]
  },
  {
   "cell_type": "markdown",
   "metadata": {},
   "source": [
    "#### L1 Normalization"
   ]
  },
  {
   "cell_type": "code",
   "execution_count": 23,
   "metadata": {},
   "outputs": [],
   "source": [
    "# Log loss function\n",
    "# adapted from HW4 and https://ml-cheatsheet.readthedocs.io/en/latest/logistic_regression.html\n",
    "\n",
    "def LogLoss(dataRDD, W):\n",
    "    \"\"\"\n",
    "    Compute mean squared error.\n",
    "    Args:\n",
    "        dataRDD - each record is a tuple of (features_array, y)\n",
    "        W       - (array) model coefficients with bias at index 0\n",
    "    \"\"\"\n",
    "    augmentedData = dataRDD.map(lambda x: (np.append([1.0], x[0]), x[1]))\n",
    "\n",
    "#    loss = augmentedData.map(lambda x: (-x[1]*np.log(1 / (1 + np.exp(-np.dot(W, x[0])))) -\\\n",
    "#                                        (1-x[1])*np.log(1- (1 / (1 + np.exp(-np.dot(W, x[0]))))), 1)) \\\n",
    "# NOT SURE ABOUT MINUS SIGN IN MIDDLE, AND TO SOME DEGREE AT START\n",
    "    loss = augmentedData.map(lambda x: (-np.dot(x[1],np.log(1 / (1 + np.exp(-np.dot(W, x[0]))))) +\\\n",
    "                                        np.dot((1-x[1]),np.log(1- (1 / (1 + np.exp(-np.dot(W, x[0])))))), 1)) \\\n",
    "                        .reduce(lambda x,y:(x[0]+y[0], x[1]+y[1]))\n",
    "\n",
    "    loss = float(loss[0])/loss[1]\n",
    "    \n",
    "    return loss"
   ]
  },
  {
   "cell_type": "code",
   "execution_count": 18,
   "metadata": {},
   "outputs": [],
   "source": [
    "# Update the gradient\n",
    "# Adapted from HW4 and https://nbviewer.jupyter.org/urls/dl.dropbox.com/s/r20ff7q0yni5kiu/LogisticRegression-Spark-Notebook.ipynb\n",
    "\n",
    "def GDUpdate_wReg(dataRDD, W, N, learningRate = 0.05, regType = None, regParam = 0.01):\n",
    "    \"\"\"\n",
    "    Perform one gradient descent step/update with ridge or lasso regularization.\n",
    "    Args:\n",
    "        dataRDD - tuple of (features_array, y)\n",
    "        W       - (array) model coefficients with bias at index 0\n",
    "        learningRate - (float) defaults to 0.1\n",
    "        regType - (str) 'ridge' or 'lasso', defaults to None\n",
    "        regParam - (float) regularization term coefficient\n",
    "    Returns:\n",
    "        model   - (array) updated coefficients, bias still at index 0\n",
    "    \"\"\"\n",
    "    # augmented data\n",
    "    augmentedData = dataRDD.map(lambda x: (np.append([1.0], x[0]), x[1]))\n",
    "    \n",
    "    new_model = None\n",
    "    \n",
    "    # calculate the gradient\n",
    "    \n",
    "    gradient = augmentedData.map(lambda x: (1 / (1 + np.exp(-x[1]*np.dot(W, x[0])))-1) * x[1] * np.array(x[0]))\\\n",
    "                    .reduce(lambda x, y: x + y)\n",
    "    if regType == \"ridge\":\n",
    "        wReg = W * 1\n",
    "        wReg = np.append([0], wReg[1:]) # remove the bias term ahead of regularization        \n",
    "    elif regType == \"lasso\":\n",
    "        wReg = W * 1\n",
    "        wReg = np.append([0], wReg[1:]) # remove the bias term ahead of regularization\n",
    "        wReg = (wReg>0).astype(int) * 2-1\n",
    "    else:\n",
    "        wReg = np.zeros(model.shape[0])\n",
    "    gradient = gradient + regParam * wReg  #gradient:  GD of Squared Error+ GD of regularized term \n",
    "    new_model = W - learningRate * gradient / N\n",
    "\n",
    "    return new_model"
   ]
  },
  {
   "cell_type": "code",
   "execution_count": 19,
   "metadata": {},
   "outputs": [],
   "source": [
    "# part d - ridge/lasso gradient descent function\n",
    "def GradientDescent_wReg(trainRDD, testRDD, wInit, nSteps = 20, learningRate = 1.0,\n",
    "                         regType = None, regParam = 0.01, verbose = False):\n",
    "    \"\"\"\n",
    "    Perform nSteps iterations of regularized gradient descent and \n",
    "    track loss on a test and train set. Return lists of\n",
    "    test/train loss and the models themselves.\n",
    "    \"\"\"\n",
    "    # initialize lists to track model performance\n",
    "    train_history, test_history, model_history = [], [], []\n",
    "    \n",
    "    # calculate N here so you don't have to do it in the for looped function call\n",
    "    N = trainRDD.count()\n",
    "\n",
    "    # make a starter set of weights if none provided\n",
    "    featureLen = len(trainRDD.take(1)[0][0])\n",
    "    if wInit is None:\n",
    "        w = np.random.normal(size=featureLen) # w should be broadcasted if it is large\n",
    "    else:\n",
    "        w = wInit\n",
    "    model = w\n",
    "    \n",
    "    # perform nSteps updates & compute test and train loss after each\n",
    "    for idx in range(nSteps):  \n",
    "        # update the model\n",
    "        model = GDUpdate_wReg(trainRDD, model, N, learningRate, regType, regParam)\n",
    "        \n",
    "        # keep track of test/train loss for plotting\n",
    "        train_history.append(LogLoss(trainRDD, model))\n",
    "        test_history.append(LogLoss(testRDD, model))\n",
    "        model_history.append(model)\n",
    "        \n",
    "        # console output if desired\n",
    "        if verbose:\n",
    "            print(\"----------\")\n",
    "            print(f\"STEP: {idx+1}\")\n",
    "            print(f\"training loss: {training_loss}\")\n",
    "            print(f\"test loss: {test_loss}\")\n",
    "            print(f\"Model: {[round(w,3) for w in model]}\")\n",
    "    return train_history, test_history, model_history"
   ]
  },
  {
   "cell_type": "code",
   "execution_count": null,
   "metadata": {},
   "outputs": [],
   "source": [
    "# split data into train and test and train a logistic regression model with L1 regularization\n",
    "# adapted from HW4 code\n",
    "\n",
    "# initialize the weights with rough mean for bias and zeros for coeffecients\n",
    "wInit = np.array([0.25, 0.0, 0.0, 0.0, 0.0, 0.0, 0.0, 0.0, 0.0, 0.0, 0.0, 0.0, 0.0, 0.0, 0.0, 0.0, 0.0, 0.0, 0.0, 0.0, 0.0, 0.0, 0.0, 0.0, 0.0, 0.0, 0.0])\n",
    "\n",
    "trainRDD, testRDD = normedNONARDD.randomSplit([0.8,0.2], seed = 5)\n",
    "start = time.time()\n",
    "lasso_results = GradientDescent_wReg(trainRDD, testRDD, wInit, nSteps = 250,\n",
    "                                     regType='lasso', regParam = 0.5)\n",
    "print(f\"\\n... trained {len(lasso_results[2])} iterations in {time.time() - start} seconds\")"
   ]
  },
  {
   "cell_type": "code",
   "execution_count": 6,
   "metadata": {},
   "outputs": [],
   "source": [
    "# make error curve plots that show declining loss as walk down the gradient\n",
    "# from HW4 code\n",
    "\n",
    "def plotErrorCurves(trainLoss, testLoss, title = None):\n",
    "    \"\"\"\n",
    "    Helper function for plotting.\n",
    "    Args: trainLoss (list of log loss) , testLoss (list of log loss)\n",
    "    \"\"\"\n",
    "    fig, ax = plt.subplots(1,1,figsize = (16,8))\n",
    "    x = list(range(len(trainLoss)))[1:]\n",
    "    ax.plot(x, trainLoss[1:], 'k--', label='Training Loss')\n",
    "    ax.plot(x, testLoss[1:], 'r--', label='Test Loss')\n",
    "    ax.legend(loc='upper right', fontsize='x-large')\n",
    "    plt.xlabel('Number of Iterations')\n",
    "    plt.ylabel('Log Loss')\n",
    "    if title:\n",
    "        plt.title(title)\n",
    "    plt.show()"
   ]
  },
  {
   "cell_type": "code",
   "execution_count": 25,
   "metadata": {},
   "outputs": [
    {
     "data": {
      "image/png": "[encoded data removed]",
      "text/plain": [
       "<Figure size 1152x576 with 1 Axes>"
      ]
     },
     "metadata": {
      "needs_background": "light"
     },
     "output_type": "display_data"
    }
   ],
   "source": [
    "# save results to csv files\n",
    "# from HW4 code\n",
    "\n",
    "trainLoss, testLoss, models = lasso_results\n",
    "np.savetxt(PWD + '/data/lasso_models.csv', np.array(models), delimiter=',')\n",
    "np.savetxt(PWD + '/data/lasso_loss.csv', np.array([trainLoss, testLoss]), delimiter=',')\n",
    "plotErrorCurves(trainLoss, testLoss, title = 'Lasso Regression Error Curves' )"
   ]
  },
  {
   "cell_type": "code",
   "execution_count": 7,
   "metadata": {},
   "outputs": [],
   "source": [
    "# get the best L1 model from files\n",
    "# from HW4 code\n",
    "\n",
    "lasso_models = np.loadtxt(PWD + '/data/lasso_models.csv', dtype=float, delimiter=',')\n",
    "best_lasso = lasso_models[-1,:]"
   ]
  },
  {
   "cell_type": "code",
   "execution_count": 13,
   "metadata": {},
   "outputs": [
    {
     "data": {
      "image/png": "[encoded data removed]",
      "text/plain": [
       "<Figure size 1080x576 with 1 Axes>"
      ]
     },
     "metadata": {
      "needs_background": "light"
     },
     "output_type": "display_data"
    }
   ],
   "source": [
    "# show the coeffecients as L1 steps increase\n",
    "# adapted from HW4 code\n",
    "\n",
    "def plotCoeffs(models, featureNames, title):\n",
    "    \"\"\"\n",
    "    Helper Function to show how coefficients change as we train.\n",
    "    \"\"\"\n",
    "    fig, ax = plt.subplots(figsize = (15,8))\n",
    "    X = list(range(len(models)))\n",
    "    for data, name in zip(models.T, featureNames):\n",
    "        if name == \"Bias\":\n",
    "            continue\n",
    "        ax.plot(X, data, label=name)\n",
    "    ax.plot(X,[0]*len(X), 'k--')\n",
    "    plt.title(title)\n",
    "    plt.legend()\n",
    "    plt.show\n",
    "    \n",
    "# use if starting with the models with the missing data features\n",
    "#plotCoeffs(lasso_models, ['Bias'] + numeric_features + missing, \"Lasso Coefficients over 50 GD steps\")\n",
    "\n",
    "# use if starting with the model where NA rows were dropped\n",
    "plotCoeffs(lasso_nodels, ['Bias'] + numeric_features, \"Lasso Coefficients over 50 GD steps\"))"
   ]
  },
  {
   "cell_type": "code",
   "execution_count": 8,
   "metadata": {},
   "outputs": [
    {
     "ename": "NameError",
     "evalue": "name 'testRDD' is not defined",
     "output_type": "error",
     "traceback": [
      "\u001b[0;31m\u001b[0m",
      "\u001b[0;31mNameError\u001b[0mTraceback (most recent call last)",
      "\u001b[0;32m<ipython-input-8-ca37a3e738df>\u001b[0m in \u001b[0;36m<module>\u001b[0;34m()\u001b[0m\n\u001b[1;32m     34\u001b[0m \u001b[0mcoeffs\u001b[0m \u001b[0;34m=\u001b[0m \u001b[0mbest_lasso\u001b[0m\u001b[0;34m[\u001b[0m\u001b[0;36m1\u001b[0m\u001b[0;34m:\u001b[0m\u001b[0;34m]\u001b[0m \u001b[0;31m# coefficients\u001b[0m\u001b[0;34m\u001b[0m\u001b[0m\n\u001b[1;32m     35\u001b[0m \u001b[0mb\u001b[0m \u001b[0;34m=\u001b[0m \u001b[0mbest_lasso\u001b[0m\u001b[0;34m[\u001b[0m\u001b[0;36m0\u001b[0m\u001b[0;34m]\u001b[0m \u001b[0;31m# bias term\u001b[0m\u001b[0;34m\u001b[0m\u001b[0m\n\u001b[0;32m---> 36\u001b[0;31m \u001b[0mactual_labels\u001b[0m \u001b[0;34m=\u001b[0m \u001b[0mtestRDD\u001b[0m\u001b[0;34m.\u001b[0m\u001b[0mmap\u001b[0m\u001b[0;34m(\u001b[0m\u001b[0;32mlambda\u001b[0m \u001b[0mx\u001b[0m\u001b[0;34m:\u001b[0m \u001b[0mx\u001b[0m\u001b[0;34m[\u001b[0m\u001b[0;36m1\u001b[0m\u001b[0;34m]\u001b[0m\u001b[0;34m)\u001b[0m\u001b[0;34m.\u001b[0m\u001b[0mcollect\u001b[0m\u001b[0;34m(\u001b[0m\u001b[0;34m)\u001b[0m\u001b[0;34m\u001b[0m\u001b[0m\n\u001b[0m\u001b[1;32m     37\u001b[0m \u001b[0;34m\u001b[0m\u001b[0m\n\u001b[1;32m     38\u001b[0m \u001b[0;31m# spark version\u001b[0m\u001b[0;34m\u001b[0m\u001b[0;34m\u001b[0m\u001b[0m\n",
      "\u001b[0;31mNameError\u001b[0m: name 'testRDD' is not defined"
     ]
    }
   ],
   "source": [
    "# test accuracy of the model\n",
    "# from learning here: https://ml-cheatsheet.readthedocs.io/en/latest/logistic_regression.html\n",
    "\n",
    "def sigmoid(row):\n",
    "    sig = []\n",
    "    for z in row:\n",
    "        sig.append(1/(1+np.exp(-z)))\n",
    "    return sig\n",
    "\n",
    "def decision_boundary(prob):\n",
    "    return 1 if prob >= .5 else 0\n",
    "\n",
    "def classify(predictions):\n",
    "    '''\n",
    "    input  - N element array of predictions between 0 and 1\n",
    "    output - N element array of 0s (False) and 1s (True)\n",
    "    '''\n",
    "    classifications = []\n",
    "    for prediction in predictions:\n",
    "        classifications.append(decision_boundary(prediction))\n",
    "    return classifications\n",
    "\n",
    "def calc_accuracy(predicted_labels, actual_labels):\n",
    "    error_count = 0\n",
    "    num_predictions = len(actual_labels)\n",
    "    for compare in range(num_predictions):\n",
    "        if predicted_labels[compare] != actual_labels[compare]:\n",
    "            error_count += 1\n",
    "    return 1.0 - (float(error_count) / num_predictions)\n",
    "\n",
    "def compare(x,y):\n",
    "    return int(x != y)\n",
    "\n",
    "coeffs = best_lasso[1:] # coefficients\n",
    "b = best_lasso[0] # bias term\n",
    "actual_labels = testRDD.map(lambda x: x[1]).collect()\n",
    "\n",
    "# spark version\n",
    "#error_count = testRDD.map(lambda x: (np.dot(coeffs, x[0])+b, x[1])) \\\n",
    "#                    .map(lambda x: (1/(1+np.exp(-x[0])), x[1])) \\\n",
    "#                    .map(lambda x: (decision_boundary(x[0]), x[1])) \\\n",
    "#                    .map(lambda x: (compare(x[0],x[1]),1)) \\\n",
    "#                    .reduce(lambda x,y: (x[0]+y[0],x[1]+y[1]))\n",
    "#\n",
    "#print(\"accuracy is\", 1.0 - (float(error_count[0]) / error_count[1]))\n",
    "# regular version\n",
    "mxb = testRDD.map(lambda x: np.dot(coeffs, x[0])+b).collect() # mx+b\n",
    "probabilities = sigmoid(mxb) # put through sigmoid\n",
    "predictions = classify(probabilities) # put through a decision boundary\n",
    "print (\"accuracy is\", calc_accuracy(predictions, actual_labels))"
   ]
  },
  {
   "cell_type": "code",
   "execution_count": 43,
   "metadata": {},
   "outputs": [
    {
     "data": {
      "text/plain": [
       "(152, 216)"
      ]
     },
     "execution_count": 43,
     "metadata": {},
     "output_type": "execute_result"
    }
   ],
   "source": [
    "error_count"
   ]
  },
  {
   "cell_type": "markdown",
   "metadata": {},
   "source": [
    "# Question 4: Algorithm Implementation \n",
    "Develop a 'homegrown' implementation of the algorithn, apply it to the training dataset and evaluate your results on the test set. "
   ]
  },
  {
   "cell_type": "markdown",
   "metadata": {},
   "source": [
    "# Question 5: Application of Course Concepts\n",
    "Pick 3-5 key course concepts and discuss how your work on this assignment illustrates an understanding of these concepts. "
   ]
  },
  {
   "cell_type": "code",
   "execution_count": null,
   "metadata": {},
   "outputs": [],
   "source": []
  }
 ],
 "metadata": {
  "kernelspec": {
   "display_name": "Python 3",
   "language": "python",
   "name": "python3"
  },
  "language_info": {
   "codemirror_mode": {
    "name": "ipython",
    "version": 3
   },
   "file_extension": ".py",
   "mimetype": "text/x-python",
   "name": "python",
   "nbconvert_exporter": "python",
   "pygments_lexer": "ipython3",
   "version": "3.6.6"
  }
 },
 "nbformat": 4,
 "nbformat_minor": 2
}
