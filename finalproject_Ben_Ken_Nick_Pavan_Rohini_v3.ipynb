{
 "cells": [
  {
   "cell_type": "markdown",
   "metadata": {},
   "source": [
    "# Criteo Click Through Rate Prediction \n",
    "Final project for W261 - Machine Learning at Scale  \n",
    "By Ben Arnoldy, Kenneth Chen, Nick Conidas, Rohini Kashibatla, Pavan Kurapati\n",
    "\n",
    "Criteo is a company that uses machine learning to serve up web advertising. In 2014, the company launched the [Click Through Rate (CTR) prediction competition](https://www.kaggle.com/c/criteo-display-ad-challenge) hosted on Kaggle. The group with the lowest loss score won. Our team is working on this challenge for our W261 class at UC Berkeley in order to showcase a semester of learning."
   ]
  },
  {
   "cell_type": "markdown",
   "metadata": {},
   "source": [
    "## Question 1: Question Formulation  \n",
    "_Introduce the goal of your analysis. What questions will you seek to answer, why do people perform this kind of analysis on this kind of data? Preview what level of performance your model would need to achieve to be practically useful._\n",
    "\n",
    "The overall question we are trying to answer is, given a set of information about a particular website visitor, session, ad, etc., will that visitor click the ad we serve?  \n",
    "  \n",
    "A company like Criteo could then use the answer to that question to decide which ad out of a series of possible ads to serve in a particular location during a particular session. Companies like Criteo are paid by advertisers at some rate per user click, so to maximize revenue, Criteo would serve the ad that maximizes (CTR * pay per click). If we can predict CTR accurately -- which is the goal of this competition -- Criteo can find the ad that will maximize their revenue.  \n",
    "  \n",
    "This has huge implications because online advertising is a giant industry.  \n",
    "  \n",
    "Spending on digital advertising globally is projected to be $327.28 billion in 2019, according to [eMarketer](https://www.emarketer.com/content/global-ad-spending-update).  \n",
    "  \n",
    "In order for this machine learning prediction to be useful, it must meet a few criteria:  \n",
    "  \n",
    "1. The prediction must happen in a split second. No one wants to wait for webpages to load but this prediction must happen at load time. So algorithm must ingest all the relevant feature data -- info about the user, the session, the ad, etc. -- plug it into the model and return a verdict, and then do that across all potential ads the company can serve, then pick the ad that will maximize revenue and serve it on the page. The pace required immediately rules out learning algorithms like K-Means where you can't pre-train a model. \n",
    "2. For companies like Criteo that are serving ads, it doesn't matter all that much _why_ certain ads have higher CTR; it's just crucial to know _which_ ads will. So, interpretability of the model isn't critical here, opening up the range of algorithms to things like neural nets and random forests. Criteo's customers, of course, would love to have an interpretable model so they could make more effective web ads, but that's a different use case.  \n",
    "3. Web advertising companies are serving a lot of web ad impressions, and most of the time ads go unclicked. And there are a lot of possible features to track in the online space. So we need a lot of data to find something meaningful out of the high-dimensional and sparse data. Fortunately, we have it: the Criteo dataset for this competition has 45 million rows and represents just a week's worth of ad serves. Unfortunately, data on this scale is challenging to work with.\n",
    "4. Whatever model we train will be quickly out of data given the rapid pace of changes in Internet behavior and the growing amount of data that can be used to improve models. That said, it's not clear that the model needs to be an online model where things are changing so fast that it must update instantly as more data streams in. The model training could happen offline in a matter of hours, even days, and still be okay. DO PEOPLE AGREE WITH THIS LAST POINT? I'M NOT SURE."
   ]
  },
  {
   "cell_type": "markdown",
   "metadata": {},
   "source": [
    "## Question 2: Algorithm Explanation\n",
    "_Create your own toy example that matches the dataset provided and use this toy example to explain the math behind the algorithm that you will perform._  \n",
    "\n",
    "Logistic regression carries over some of the same concepts as linear regression but with some important differences. Fundamentally, we are still training a model using the equation for a line, and the model is the set of coefficients or weights. \n",
    "\n",
    "\\begin{equation}\\tag{2.1}\n",
    "y = \\beta_0 + \\beta_1 \\cdot x_1 ... + \\beta_m \\cdot x_m\n",
    "\\end{equation}\n",
    "  \n",
    "\\begin{equation}\\tag{2.2}\n",
    "w = [\\beta_0, \\beta_1, ... \\beta_m]\n",
    "\\end{equation}  \n",
    "  \n",
    "where $m$ is number of features, $\\beta_0$ is the intercept or bias term, and $w$ are the weights of our model.  \n",
    "  \n",
    "We aren't training on just one sample, of course, but over many, so the weights are actually calculated over many rows $x$'s and $y$'s.   \n",
    "  \n",
    "\\begin{equation}\\tag{2.3}\n",
    "y_j = \\displaystyle\\sum_{i=1}^{m}{w_i\\cdot x_{ji} + b}\n",
    "\\end{equation}  \n",
    "  \n",
    "where $b$ is the intercept of bias term.  \n",
    "\n",
    "In vector notation, this can be written:  \n",
    "\n",
    "\\begin{equation}\\tag{2.4}\n",
    "\\mathbf{y_j} = \\displaystyle{\\mathbf{w}^T\\mathbf{x}_{j} + b}\n",
    "\\end{equation}  \n",
    "  \n",
    "And we can simplify further by including the bias term b into the weights and augmenting the $\\mathbf{x}$ vector with a value of 1 that will pass through the bias term as b * 1:\n",
    "\n",
    "\\begin{equation}\\tag{2.5}\n",
    "\\mathbf{x}' := \n",
    "\\begin{bmatrix}\n",
    "\\mathbf{x}\\\\\n",
    "1\n",
    "\\end{bmatrix},\\quad\n",
    "\\boldsymbol{\\theta} :=\n",
    "\\begin{bmatrix}\n",
    "\\mathbf{w}\\\\\n",
    "b\n",
    "\\end{bmatrix}\n",
    "\\end{equation}  \n",
    "  \n",
    "leaving us with more compact vector equation for the line:  \n",
    "  \n",
    "\\begin{equation}\\tag{2.6}\n",
    "h(\\boldsymbol{\\theta}) = \\boldsymbol{\\theta}^T\\mathbf{x}'\n",
    "\\end{equation}\n",
    "  \n",
    "As with linear regression, we use this line to make predictions. In linear regression, we take a new datapoint that has a vector of x-values ($\\mathbf{x}'$), plug it into the linear equation with our model coefficients ($\\boldsymbol{\\theta}$), and get a predicted value h(\\boldsymbol{\\theta}) that falls on the line.  \n",
    "  \n",
    "With logistic regression, however, that isn't our final answer. We aren't just trying to get some continuous value y coordinate for our x, we are trying to arrive at a binary classification of a 1 or a 0. \n",
    "\n",
    "To do that we must do two additional steps. First, we want to contrain our $h(\\boldsymbol{\\theta})$ value to the range of $[0,1]$ and do so in a way groups the data more heavily toward either 0 or 1. We do that through a sigmoid function, whose output can be charted like this ([chart source](https://ml-cheatsheet.readthedocs.io/en/latest/logistic_regression.html)):"
   ]
  },
  {
   "cell_type": "code",
   "execution_count": 1,
   "metadata": {},
   "outputs": [
    {
     "data": {
      "image/png": "[encoded data removed]",
      "text/plain": [
       "<IPython.core.display.Image object>"
      ]
     },
     "execution_count": 1,
     "metadata": {
      "image/png": {
       "height": "200",
       "width": "400"
      }
     },
     "output_type": "execute_result"
    }
   ],
   "source": [
    "from IPython.display import Image\n",
    "Image(filename=\"sigmoid.png\", width=\"400\", height=\"200\")"
   ]
  },
  {
   "cell_type": "markdown",
   "metadata": {},
   "source": [
    "The function for the sigmoid is as follows:  \n",
    "\n",
    "\\begin{equation}\\tag{2.7}\n",
    "P(class=1) = \\frac{1} {1 + e^{-z}}\n",
    "\\end{equation}  \n",
    "\n",
    "where $P(class=1)$ is the probability that our predicted value $z$ should be classified as 1. Again, $z$ is our predicted value, so it can thought of as  $h(\\boldsymbol{\\theta})$ or $\\boldsymbol{\\theta}^T\\mathbf{x}'$. So we can write this sigmoid function another way:   \n",
    "  \n",
    "\\begin{equation}\\tag{2.8}\n",
    "P(class=1) = \\frac{1} {1 + e^{-\\boldsymbol{\\theta}^T\\mathbf{x}'}}\n",
    "\\end{equation}\n",
    "  \n",
    "Equation 2.8 formed the basis for our sigmoid function that we wrote for our toy dataset in section 3 below.  \n",
    "  \n",
    "Once we have these probabilities, we need to pick a decision boundary between 0 and 1. One logical default value for that boundary is 0.5. So if the probability is greater than 0.5, classify the sample as 1, otherwise classify it as 0. In chart form, that would look like ([chart source](https://ml-cheatsheet.readthedocs.io/en/latest/logistic_regression.html)):  "
   ]
  },
  {
   "cell_type": "code",
   "execution_count": 2,
   "metadata": {},
   "outputs": [
    {
     "data": {
      "image/png": "[encoded data removed]",
      "text/plain": [
       "<IPython.core.display.Image object>"
      ]
     },
     "execution_count": 2,
     "metadata": {
      "image/png": {
       "height": "200",
       "width": "400"
      }
     },
     "output_type": "execute_result"
    }
   ],
   "source": [
    "Image(filename=\"sigmoid_w_threshold.png\", width=\"400\", height=\"200\")"
   ]
  },
  {
   "cell_type": "markdown",
   "metadata": {},
   "source": [
    "And, in mathemathical form, it looks like:  \n",
    "\\begin{equation}\\tag{2.9}\n",
    "p \\geq 0.5, class=1 \\\\\n",
    "p < 0.5, class=0\n",
    "\\end{equation}\n",
    "\n",
    "Equation 2.9 formed the basis for our decision_boundary function that we wrote in section 3 for our toy dataset.  \n",
    "  \n",
    "Like with linear regression, in order to parallelize the training of the linear model we can't do a closed-form solution but must treat it as an optimization problem with gradient descent. Fortunately, the Log Loss or Cross-Entropy Loss gives us a convex equation, allowing us to use gradient descent with the confidence of not hitting local minima.   \n",
    "  \n",
    "The Log Loss function is much like what it sounds: the negative of the log of the prediction value, though there is two versions depending on the actual label value.  \n",
    "  \n",
    "\\begin{equation}\\tag{2.10}\n",
    "Cost(h_\\theta(x),y) = - log(h_\\theta(x)), if y=1 \\\\\n",
    "Cost(h_\\theta(x),y) = - log(1 - h_\\theta(x)), if y=0\n",
    "\\end{equation}  \n",
    "  \n",
    "We can compile this into a single cost function taking advantage of the fact that we can zero out either side of the equation given $y$ being either 0 or 1 by multiplying one side of the equation by $y$ and another side by $(1-y)$:  \n",
    "\n",
    "\\begin{equation}\\tag{2.11}\n",
    "J(\\theta) = - \\frac{1}{m}\\sum_{i=1}^{m}{[y_i log(h_\\theta(x_i)) + (1 - y_i) log(1 - h_\\theta(x_i))]}\n",
    "\\end{equation}  \n",
    "\n",
    "Using equation 2.6 from above ($h(\\boldsymbol{\\theta}) = \\boldsymbol{\\theta}^T\\mathbf{x}'$), this can be rewritten as:  \n",
    "\n",
    "\\begin{equation}\\tag{2.12}\n",
    "J(\\theta) = \\frac{1}{m}\\cdot(-\\mathbf{y}\\cdot\\boldsymbol{\\theta}^T\\mathbf{x}' - (1 - \\mathbf{y})\\cdot log(1 - \\boldsymbol{\\theta}^T\\mathbf{x}')\n",
    "\\end{equation}  \n",
    "\n",
    "Equation 2.12 forms the basis of our spark job in the LogLoss function that we built for the toy dataset in section 3 below. \n",
    "\n",
    "For the gradient, we take the first derivative of this cost function, which winds up being:  \n",
    "  \n",
    "\\begin{equation}\\tag{2.13}\n",
    "\\nabla_\\theta f = \\mathbf{x}'\\cdot(h(\\boldsymbol{\\theta}) - \\mathbf{y}) \\\\\n",
    "\\nabla_\\theta f = \\mathbf{x}'\\cdot(\\frac{1}{1+e^{-\\boldsymbol{\\theta} \\mathbf{x'}}} - \\mathbf{y}) \\\\\n",
    "\\nabla_\\theta f = \\frac{x}{1+e^{-\\boldsymbol{\\theta} \\mathbf{x'}}} -\\mathbf{x}'\\mathbf{y} \\\\ \n",
    "\\end{equation}  \n",
    "\n",
    "  \n",
    "Equation 2.13 forms the basis of our spark job in the GDUpdate_wReg function that we built for the toy dataset in section 3 below."
   ]
  },
  {
   "cell_type": "markdown",
   "metadata": {},
   "source": [
    "#### ---------------------------------------------------------------------------------------------------------------------------"
   ]
  },
  {
   "cell_type": "markdown",
   "metadata": {},
   "source": [
    "## Question 3: EDA"
   ]
  },
  {
   "cell_type": "markdown",
   "metadata": {},
   "source": [
    "# Notebook Set-Up\n",
    "Before starting your homework run the following cells to confirm your setup."
   ]
  },
  {
   "cell_type": "code",
   "execution_count": 121,
   "metadata": {},
   "outputs": [],
   "source": [
    "import re\n",
    "import ast\n",
    "import time\n",
    "import itertools\n",
    "import numpy as np\n",
    "import pandas as pd\n",
    "import matplotlib.pyplot as plt\n",
    "import seaborn as sns\n",
    "import numbers\n",
    "\n",
    "from pyspark.ml.feature import FeatureHasher\n",
    "from pyspark.sql import SQLContext, Row\n",
    "from pyspark.mllib.classification import LogisticRegressionWithSGD\n",
    "from pyspark.mllib.regression import LabeledPoint\n",
    "from pyspark.mllib.linalg import SparseVector\n",
    "from pyspark.sql.types import IntegerType\n",
    "from pyspark.ml.classification import LogisticRegression\n",
    "from pyspark.ml.feature import FeatureHasher\n",
    "from pyspark.ml.evaluation import BinaryClassificationEvaluator\n",
    "from pyspark.ml.feature import OneHotEncoderEstimator\n"
   ]
  },
  {
   "cell_type": "code",
   "execution_count": 3,
   "metadata": {},
   "outputs": [],
   "source": [
    "%reload_ext autoreload\n",
    "%autoreload 2\n",
    "%matplotlib inline"
   ]
  },
  {
   "cell_type": "code",
   "execution_count": 4,
   "metadata": {},
   "outputs": [],
   "source": [
    "# store path to notebook\n",
    "PWD = !pwd\n",
    "PWD = PWD[0]"
   ]
  },
  {
   "cell_type": "code",
   "execution_count": 5,
   "metadata": {},
   "outputs": [],
   "source": [
    "# start Spark Session\n",
    "from pyspark.sql import SparkSession\n",
    "app_name = \"fproj_notebook\"\n",
    "master = \"local[*]\"\n",
    "spark = SparkSession\\\n",
    "        .builder\\\n",
    "        .appName(app_name)\\\n",
    "        .master(master)\\\n",
    "        .getOrCreate()\n",
    "sc = spark.sparkContext"
   ]
  },
  {
   "cell_type": "code",
   "execution_count": 9,
   "metadata": {},
   "outputs": [],
   "source": [
    "# load the data into Spark RDD for convenience of use later (RUN THIS CELL AS IS)\n",
    "projectRDD = sc.textFile('gs://w261-bucket-pav/notebooks/data/train.txt')"
   ]
  },
  {
   "cell_type": "markdown",
   "metadata": {},
   "source": [
    "__`REMINDER:`__ If you are running this notebook on the course docker container, you can monitor the progress of your jobs using the Spark UI at: http://localhost:4040/jobs/"
   ]
  },
  {
   "cell_type": "code",
   "execution_count": 9,
   "metadata": {},
   "outputs": [],
   "source": [
    "average_CTR = projectRDD.map(lambda x: int(x.split('\\t')[0])).mean()"
   ]
  },
  {
   "cell_type": "code",
   "execution_count": 10,
   "metadata": {},
   "outputs": [
    {
     "data": {
      "text/plain": [
       "0.25622338372976045"
      ]
     },
     "execution_count": 10,
     "metadata": {},
     "output_type": "execute_result"
    }
   ],
   "source": [
    "average_CTR"
   ]
  },
  {
   "cell_type": "markdown",
   "metadata": {},
   "source": [
    "### Observation \n",
    "\n",
    "Average click through rate is `0.26` which indicates that on average a user will click 25 display ads out of 100 on the webpage. This reflects the poor performance of the display ad. Ideally, we would want near 100% click on display ads. A click through rate of at least 80% will enhance the profits of the display ads. This shows that there are some features critical to the success of the display ad clicks or could be focused on by the advertising team.  \n",
    "\n",
    "In addition, the in-line lambda function took twice as long as the accumulator function to calculate the average click through rate. "
   ]
  },
  {
   "cell_type": "markdown",
   "metadata": {},
   "source": [
    "#### ---------------------------------------------------------------------------------------------------------------------------"
   ]
  },
  {
   "cell_type": "code",
   "execution_count": 8,
   "metadata": {},
   "outputs": [],
   "source": [
    "# helper function - RUN THIS CELL AS IS\n",
    "def extractLabel(line):\n",
    "    \"\"\"Mapper to extract labels\"\"\"\n",
    "    label = line[0]\n",
    "    yield label\n",
    "\n",
    "def extractTrain(line):\n",
    "    \"\"\" Extracts train data\"\"\"\n",
    "    train = line[1:]\n",
    "    yield train"
   ]
  },
  {
   "cell_type": "code",
   "execution_count": 10,
   "metadata": {},
   "outputs": [],
   "source": [
    "projectRDD = projectRDD.map(lambda x: x.split('\\t')).cache()\n",
    "# Split the RDD into train, val and test\n",
    "trainRDD,valRDD,testRDD=projectRDD.randomSplit([0.8, 0.1, 0.1],2019)"
   ]
  },
  {
   "cell_type": "code",
   "execution_count": 14,
   "metadata": {},
   "outputs": [
    {
     "name": "stdout",
     "output_type": "stream",
     "text": [
      "... held out 4585453 records for validation, 4586499 records for test and assigned 36668665 for training.\n"
     ]
    }
   ],
   "source": [
    "print(f\"... held out {valRDD.count()} records for validation, {testRDD.count()} records for test and assigned {trainRDD.count()} for training.\")"
   ]
  },
  {
   "cell_type": "code",
   "execution_count": 27,
   "metadata": {},
   "outputs": [
    {
     "data": {
      "text/plain": [
       "[['0',\n",
       "  '2',\n",
       "  '0',\n",
       "  '44',\n",
       "  '1',\n",
       "  '102',\n",
       "  '8',\n",
       "  '2',\n",
       "  '2',\n",
       "  '4',\n",
       "  '1',\n",
       "  '1',\n",
       "  '',\n",
       "  '4',\n",
       "  '68fd1e64',\n",
       "  'f0cf0024',\n",
       "  '6f67f7e5',\n",
       "  '41274cd7',\n",
       "  '25c83c98',\n",
       "  'fe6b92e5',\n",
       "  '922afcc0',\n",
       "  '0b153874',\n",
       "  'a73ee510',\n",
       "  '2b53e5fb',\n",
       "  '4f1b46f3',\n",
       "  '623049e6',\n",
       "  'd7020589',\n",
       "  'b28479f6',\n",
       "  'e6c5b5cd',\n",
       "  'c92f3b61',\n",
       "  '07c540c4',\n",
       "  'b04e4670',\n",
       "  '21ddcdc9',\n",
       "  '5840adea',\n",
       "  '60f6221e',\n",
       "  '',\n",
       "  '3a171ecb',\n",
       "  '43f13e8b',\n",
       "  'e8b83407',\n",
       "  '731c3655']]"
      ]
     },
     "execution_count": 27,
     "metadata": {},
     "output_type": "execute_result"
    }
   ],
   "source": [
    "trainRDD.take(1)"
   ]
  },
  {
   "cell_type": "code",
   "execution_count": 24,
   "metadata": {},
   "outputs": [],
   "source": [
    "def parse(element):\n",
    "    \"\"\"\n",
    "    Map record_csv_string --> (tuple,of,fields)\n",
    "    \"\"\"\n",
    "    n_elements = len(element)\n",
    "    fields = np.array(element)\n",
    "    features,click = fields[1:], fields[0]\n",
    "    return(features, click)"
   ]
  },
  {
   "cell_type": "code",
   "execution_count": 25,
   "metadata": {},
   "outputs": [],
   "source": [
    "trainRDDCached = trainRDD.map(parse).cache()"
   ]
  },
  {
   "cell_type": "code",
   "execution_count": 83,
   "metadata": {},
   "outputs": [],
   "source": [
    "# x_arr = trainRDDCached.take(1)[0][0]\n",
    "# x_arr[13:]\n",
    "# FIELDS[13:n_features]"
   ]
  },
  {
   "cell_type": "code",
   "execution_count": 34,
   "metadata": {},
   "outputs": [
    {
     "data": {
      "text/plain": [
       "39"
      ]
     },
     "execution_count": 34,
     "metadata": {},
     "output_type": "execute_result"
    }
   ],
   "source": [
    "n_features = len(trainRDDCached.take(1)[0][0])\n",
    "n_features"
   ]
  },
  {
   "cell_type": "code",
   "execution_count": 50,
   "metadata": {},
   "outputs": [
    {
     "name": "stdout",
     "output_type": "stream",
     "text": [
      "13\n",
      "40\n"
     ]
    }
   ],
   "source": [
    "integer_labels = ['I'+str(x) for x in range(1,14)]\n",
    "print(len(integer_labels))\n",
    "categor_labels = ['C'+str(x) for x in range(1,27)]\n",
    "categor_labels.append('click')\n",
    "FIELDS = integer_labels+categor_labels\n",
    "print(len(FIELDS))"
   ]
  },
  {
   "cell_type": "code",
   "execution_count": 51,
   "metadata": {},
   "outputs": [],
   "source": [
    "# Take sample of 1000 trainRDD\n",
    "sample = np.array(trainRDDCached.map(lambda x: np.append(x[0], [x[1]]))\n",
    "                                .takeSample(False, 1000))\n",
    "sample_df = pd.DataFrame(np.array(sample), columns = FIELDS)"
   ]
  },
  {
   "cell_type": "code",
   "execution_count": 52,
   "metadata": {},
   "outputs": [
    {
     "data": {
      "text/html": [
       "<div>\n",
       "<style scoped>\n",
       "    .dataframe tbody tr th:only-of-type {\n",
       "        vertical-align: middle;\n",
       "    }\n",
       "\n",
       "    .dataframe tbody tr th {\n",
       "        vertical-align: top;\n",
       "    }\n",
       "\n",
       "    .dataframe thead th {\n",
       "        text-align: right;\n",
       "    }\n",
       "</style>\n",
       "<table border=\"1\" class=\"dataframe\">\n",
       "  <thead>\n",
       "    <tr style=\"text-align: right;\">\n",
       "      <th></th>\n",
       "      <th>I1</th>\n",
       "      <th>I2</th>\n",
       "      <th>I3</th>\n",
       "      <th>I4</th>\n",
       "      <th>I5</th>\n",
       "      <th>I6</th>\n",
       "      <th>I7</th>\n",
       "      <th>I8</th>\n",
       "      <th>I9</th>\n",
       "      <th>I10</th>\n",
       "      <th>...</th>\n",
       "      <th>C18</th>\n",
       "      <th>C19</th>\n",
       "      <th>C20</th>\n",
       "      <th>C21</th>\n",
       "      <th>C22</th>\n",
       "      <th>C23</th>\n",
       "      <th>C24</th>\n",
       "      <th>C25</th>\n",
       "      <th>C26</th>\n",
       "      <th>click</th>\n",
       "    </tr>\n",
       "  </thead>\n",
       "  <tbody>\n",
       "    <tr>\n",
       "      <th>0</th>\n",
       "      <td>4</td>\n",
       "      <td>150</td>\n",
       "      <td>1</td>\n",
       "      <td>0</td>\n",
       "      <td>95</td>\n",
       "      <td>12</td>\n",
       "      <td>17</td>\n",
       "      <td>0</td>\n",
       "      <td>2</td>\n",
       "      <td>1</td>\n",
       "      <td>...</td>\n",
       "      <td>0b925d96</td>\n",
       "      <td></td>\n",
       "      <td></td>\n",
       "      <td>4f7c2d34</td>\n",
       "      <td></td>\n",
       "      <td>423fab69</td>\n",
       "      <td>64a2febd</td>\n",
       "      <td></td>\n",
       "      <td></td>\n",
       "      <td>1</td>\n",
       "    </tr>\n",
       "    <tr>\n",
       "      <th>1</th>\n",
       "      <td>7</td>\n",
       "      <td>6</td>\n",
       "      <td></td>\n",
       "      <td>1</td>\n",
       "      <td>10</td>\n",
       "      <td>1</td>\n",
       "      <td>7</td>\n",
       "      <td>1</td>\n",
       "      <td>1</td>\n",
       "      <td>1</td>\n",
       "      <td>...</td>\n",
       "      <td>74ef3502</td>\n",
       "      <td></td>\n",
       "      <td></td>\n",
       "      <td>e9971827</td>\n",
       "      <td></td>\n",
       "      <td>423fab69</td>\n",
       "      <td>9117a34a</td>\n",
       "      <td></td>\n",
       "      <td></td>\n",
       "      <td>0</td>\n",
       "    </tr>\n",
       "    <tr>\n",
       "      <th>2</th>\n",
       "      <td>6</td>\n",
       "      <td>4</td>\n",
       "      <td>1</td>\n",
       "      <td>5</td>\n",
       "      <td>2</td>\n",
       "      <td>3</td>\n",
       "      <td>8</td>\n",
       "      <td>5</td>\n",
       "      <td>9</td>\n",
       "      <td>1</td>\n",
       "      <td>...</td>\n",
       "      <td>0705fb3d</td>\n",
       "      <td></td>\n",
       "      <td></td>\n",
       "      <td>65e33bf7</td>\n",
       "      <td>ad3062eb</td>\n",
       "      <td>423fab69</td>\n",
       "      <td>2c1b9978</td>\n",
       "      <td></td>\n",
       "      <td></td>\n",
       "      <td>1</td>\n",
       "    </tr>\n",
       "    <tr>\n",
       "      <th>3</th>\n",
       "      <td>0</td>\n",
       "      <td>0</td>\n",
       "      <td></td>\n",
       "      <td>1</td>\n",
       "      <td>3797</td>\n",
       "      <td>279</td>\n",
       "      <td>16</td>\n",
       "      <td>3</td>\n",
       "      <td>83</td>\n",
       "      <td>0</td>\n",
       "      <td>...</td>\n",
       "      <td>d39e7a70</td>\n",
       "      <td></td>\n",
       "      <td></td>\n",
       "      <td>a6928003</td>\n",
       "      <td></td>\n",
       "      <td>bcdee96c</td>\n",
       "      <td>8f079aa5</td>\n",
       "      <td></td>\n",
       "      <td></td>\n",
       "      <td>0</td>\n",
       "    </tr>\n",
       "    <tr>\n",
       "      <th>4</th>\n",
       "      <td></td>\n",
       "      <td>0</td>\n",
       "      <td>7</td>\n",
       "      <td></td>\n",
       "      <td>12634</td>\n",
       "      <td>30</td>\n",
       "      <td>4</td>\n",
       "      <td>0</td>\n",
       "      <td>5</td>\n",
       "      <td></td>\n",
       "      <td>...</td>\n",
       "      <td>6b7fd522</td>\n",
       "      <td></td>\n",
       "      <td></td>\n",
       "      <td>6da32e8e</td>\n",
       "      <td></td>\n",
       "      <td>32c7478e</td>\n",
       "      <td>07e6f0f8</td>\n",
       "      <td></td>\n",
       "      <td></td>\n",
       "      <td>0</td>\n",
       "    </tr>\n",
       "  </tbody>\n",
       "</table>\n",
       "<p>5 rows × 40 columns</p>\n",
       "</div>"
      ],
      "text/plain": [
       "  I1   I2 I3 I4     I5   I6  I7 I8  I9 I10  ...       C18 C19 C20       C21  \\\n",
       "0  4  150  1  0     95   12  17  0   2   1  ...  0b925d96          4f7c2d34   \n",
       "1  7    6     1     10    1   7  1   1   1  ...  74ef3502          e9971827   \n",
       "2  6    4  1  5      2    3   8  5   9   1  ...  0705fb3d          65e33bf7   \n",
       "3  0    0     1   3797  279  16  3  83   0  ...  d39e7a70          a6928003   \n",
       "4       0  7     12634   30   4  0   5      ...  6b7fd522          6da32e8e   \n",
       "\n",
       "        C22       C23       C24 C25 C26 click  \n",
       "0            423fab69  64a2febd             1  \n",
       "1            423fab69  9117a34a             0  \n",
       "2  ad3062eb  423fab69  2c1b9978             1  \n",
       "3            bcdee96c  8f079aa5             0  \n",
       "4            32c7478e  07e6f0f8             0  \n",
       "\n",
       "[5 rows x 40 columns]"
      ]
     },
     "execution_count": 52,
     "metadata": {},
     "output_type": "execute_result"
    }
   ],
   "source": [
    "sample_df.head(5)\n",
    "#sample_df = pd.DataFrame(sample[0][0], columns = FIELDS)"
   ]
  },
  {
   "cell_type": "code",
   "execution_count": 53,
   "metadata": {},
   "outputs": [],
   "source": [
    "sample_df.to_pickle(\"./sample_df.pkl\")"
   ]
  },
  {
   "cell_type": "code",
   "execution_count": null,
   "metadata": {},
   "outputs": [],
   "source": [
    "# Load pickled data\n",
    "sample_df = pd.read_pickle(\"./sample_df.pkl\")"
   ]
  },
  {
   "cell_type": "code",
   "execution_count": 54,
   "metadata": {},
   "outputs": [
    {
     "data": {
      "text/html": [
       "<div>\n",
       "<style scoped>\n",
       "    .dataframe tbody tr th:only-of-type {\n",
       "        vertical-align: middle;\n",
       "    }\n",
       "\n",
       "    .dataframe tbody tr th {\n",
       "        vertical-align: top;\n",
       "    }\n",
       "\n",
       "    .dataframe thead th {\n",
       "        text-align: right;\n",
       "    }\n",
       "</style>\n",
       "<table border=\"1\" class=\"dataframe\">\n",
       "  <thead>\n",
       "    <tr style=\"text-align: right;\">\n",
       "      <th></th>\n",
       "      <th>I1</th>\n",
       "      <th>I2</th>\n",
       "      <th>I3</th>\n",
       "      <th>I4</th>\n",
       "      <th>I5</th>\n",
       "      <th>I6</th>\n",
       "      <th>I7</th>\n",
       "      <th>I8</th>\n",
       "      <th>I9</th>\n",
       "      <th>I10</th>\n",
       "      <th>...</th>\n",
       "      <th>C18</th>\n",
       "      <th>C19</th>\n",
       "      <th>C20</th>\n",
       "      <th>C21</th>\n",
       "      <th>C22</th>\n",
       "      <th>C23</th>\n",
       "      <th>C24</th>\n",
       "      <th>C25</th>\n",
       "      <th>C26</th>\n",
       "      <th>click</th>\n",
       "    </tr>\n",
       "  </thead>\n",
       "  <tbody>\n",
       "    <tr>\n",
       "      <th>0</th>\n",
       "      <td>4</td>\n",
       "      <td>150</td>\n",
       "      <td>1</td>\n",
       "      <td>0</td>\n",
       "      <td>95</td>\n",
       "      <td>12</td>\n",
       "      <td>17</td>\n",
       "      <td>0</td>\n",
       "      <td>2</td>\n",
       "      <td>1</td>\n",
       "      <td>...</td>\n",
       "      <td>0b925d96</td>\n",
       "      <td>NaN</td>\n",
       "      <td>NaN</td>\n",
       "      <td>4f7c2d34</td>\n",
       "      <td>NaN</td>\n",
       "      <td>423fab69</td>\n",
       "      <td>64a2febd</td>\n",
       "      <td>NaN</td>\n",
       "      <td>NaN</td>\n",
       "      <td>1</td>\n",
       "    </tr>\n",
       "    <tr>\n",
       "      <th>1</th>\n",
       "      <td>7</td>\n",
       "      <td>6</td>\n",
       "      <td>NaN</td>\n",
       "      <td>1</td>\n",
       "      <td>10</td>\n",
       "      <td>1</td>\n",
       "      <td>7</td>\n",
       "      <td>1</td>\n",
       "      <td>1</td>\n",
       "      <td>1</td>\n",
       "      <td>...</td>\n",
       "      <td>74ef3502</td>\n",
       "      <td>NaN</td>\n",
       "      <td>NaN</td>\n",
       "      <td>e9971827</td>\n",
       "      <td>NaN</td>\n",
       "      <td>423fab69</td>\n",
       "      <td>9117a34a</td>\n",
       "      <td>NaN</td>\n",
       "      <td>NaN</td>\n",
       "      <td>0</td>\n",
       "    </tr>\n",
       "    <tr>\n",
       "      <th>2</th>\n",
       "      <td>6</td>\n",
       "      <td>4</td>\n",
       "      <td>1</td>\n",
       "      <td>5</td>\n",
       "      <td>2</td>\n",
       "      <td>3</td>\n",
       "      <td>8</td>\n",
       "      <td>5</td>\n",
       "      <td>9</td>\n",
       "      <td>1</td>\n",
       "      <td>...</td>\n",
       "      <td>0705fb3d</td>\n",
       "      <td>NaN</td>\n",
       "      <td>NaN</td>\n",
       "      <td>65e33bf7</td>\n",
       "      <td>ad3062eb</td>\n",
       "      <td>423fab69</td>\n",
       "      <td>2c1b9978</td>\n",
       "      <td>NaN</td>\n",
       "      <td>NaN</td>\n",
       "      <td>1</td>\n",
       "    </tr>\n",
       "    <tr>\n",
       "      <th>3</th>\n",
       "      <td>0</td>\n",
       "      <td>0</td>\n",
       "      <td>NaN</td>\n",
       "      <td>1</td>\n",
       "      <td>3797</td>\n",
       "      <td>279</td>\n",
       "      <td>16</td>\n",
       "      <td>3</td>\n",
       "      <td>83</td>\n",
       "      <td>0</td>\n",
       "      <td>...</td>\n",
       "      <td>d39e7a70</td>\n",
       "      <td>NaN</td>\n",
       "      <td>NaN</td>\n",
       "      <td>a6928003</td>\n",
       "      <td>NaN</td>\n",
       "      <td>bcdee96c</td>\n",
       "      <td>8f079aa5</td>\n",
       "      <td>NaN</td>\n",
       "      <td>NaN</td>\n",
       "      <td>0</td>\n",
       "    </tr>\n",
       "    <tr>\n",
       "      <th>4</th>\n",
       "      <td>NaN</td>\n",
       "      <td>0</td>\n",
       "      <td>7</td>\n",
       "      <td>NaN</td>\n",
       "      <td>12634</td>\n",
       "      <td>30</td>\n",
       "      <td>4</td>\n",
       "      <td>0</td>\n",
       "      <td>5</td>\n",
       "      <td>NaN</td>\n",
       "      <td>...</td>\n",
       "      <td>6b7fd522</td>\n",
       "      <td>NaN</td>\n",
       "      <td>NaN</td>\n",
       "      <td>6da32e8e</td>\n",
       "      <td>NaN</td>\n",
       "      <td>32c7478e</td>\n",
       "      <td>07e6f0f8</td>\n",
       "      <td>NaN</td>\n",
       "      <td>NaN</td>\n",
       "      <td>0</td>\n",
       "    </tr>\n",
       "    <tr>\n",
       "      <th>5</th>\n",
       "      <td>8</td>\n",
       "      <td>11</td>\n",
       "      <td>NaN</td>\n",
       "      <td>2</td>\n",
       "      <td>33</td>\n",
       "      <td>4</td>\n",
       "      <td>38</td>\n",
       "      <td>33</td>\n",
       "      <td>121</td>\n",
       "      <td>2</td>\n",
       "      <td>...</td>\n",
       "      <td>ac2846a6</td>\n",
       "      <td>NaN</td>\n",
       "      <td>NaN</td>\n",
       "      <td>04a420ca</td>\n",
       "      <td>NaN</td>\n",
       "      <td>423fab69</td>\n",
       "      <td>ef218b6e</td>\n",
       "      <td>NaN</td>\n",
       "      <td>NaN</td>\n",
       "      <td>1</td>\n",
       "    </tr>\n",
       "    <tr>\n",
       "      <th>6</th>\n",
       "      <td>NaN</td>\n",
       "      <td>3</td>\n",
       "      <td>5</td>\n",
       "      <td>1</td>\n",
       "      <td>299675</td>\n",
       "      <td>NaN</td>\n",
       "      <td>NaN</td>\n",
       "      <td>1</td>\n",
       "      <td>NaN</td>\n",
       "      <td>NaN</td>\n",
       "      <td>...</td>\n",
       "      <td>003d4f4f</td>\n",
       "      <td>NaN</td>\n",
       "      <td>NaN</td>\n",
       "      <td>e587c466</td>\n",
       "      <td>NaN</td>\n",
       "      <td>3a171ecb</td>\n",
       "      <td>3b183c5c</td>\n",
       "      <td>NaN</td>\n",
       "      <td>NaN</td>\n",
       "      <td>0</td>\n",
       "    </tr>\n",
       "    <tr>\n",
       "      <th>7</th>\n",
       "      <td>8</td>\n",
       "      <td>1</td>\n",
       "      <td>2</td>\n",
       "      <td>4</td>\n",
       "      <td>53</td>\n",
       "      <td>4</td>\n",
       "      <td>8</td>\n",
       "      <td>4</td>\n",
       "      <td>4</td>\n",
       "      <td>1</td>\n",
       "      <td>...</td>\n",
       "      <td>6fc84bfb</td>\n",
       "      <td>NaN</td>\n",
       "      <td>NaN</td>\n",
       "      <td>4f1aa25f</td>\n",
       "      <td>ad3062eb</td>\n",
       "      <td>423fab69</td>\n",
       "      <td>ded4aac9</td>\n",
       "      <td>NaN</td>\n",
       "      <td>NaN</td>\n",
       "      <td>1</td>\n",
       "    </tr>\n",
       "    <tr>\n",
       "      <th>8</th>\n",
       "      <td>NaN</td>\n",
       "      <td>43</td>\n",
       "      <td>87</td>\n",
       "      <td>3</td>\n",
       "      <td>79011</td>\n",
       "      <td>NaN</td>\n",
       "      <td>0</td>\n",
       "      <td>7</td>\n",
       "      <td>3</td>\n",
       "      <td>NaN</td>\n",
       "      <td>...</td>\n",
       "      <td>fb342121</td>\n",
       "      <td>21ddcdc9</td>\n",
       "      <td>5840adea</td>\n",
       "      <td>f6e47def</td>\n",
       "      <td>NaN</td>\n",
       "      <td>c7dc6720</td>\n",
       "      <td>6c1cdd05</td>\n",
       "      <td>ea9a246c</td>\n",
       "      <td>1219b447</td>\n",
       "      <td>0</td>\n",
       "    </tr>\n",
       "    <tr>\n",
       "      <th>9</th>\n",
       "      <td>NaN</td>\n",
       "      <td>8</td>\n",
       "      <td>3</td>\n",
       "      <td>2</td>\n",
       "      <td>12175</td>\n",
       "      <td>294</td>\n",
       "      <td>2</td>\n",
       "      <td>2</td>\n",
       "      <td>80</td>\n",
       "      <td>NaN</td>\n",
       "      <td>...</td>\n",
       "      <td>fc16085c</td>\n",
       "      <td>NaN</td>\n",
       "      <td>NaN</td>\n",
       "      <td>c8444cb6</td>\n",
       "      <td>NaN</td>\n",
       "      <td>32c7478e</td>\n",
       "      <td>8940103a</td>\n",
       "      <td>NaN</td>\n",
       "      <td>NaN</td>\n",
       "      <td>0</td>\n",
       "    </tr>\n",
       "  </tbody>\n",
       "</table>\n",
       "<p>10 rows × 40 columns</p>\n",
       "</div>"
      ],
      "text/plain": [
       "    I1   I2   I3   I4      I5   I6   I7  I8   I9  I10  ...       C18  \\\n",
       "0    4  150    1    0      95   12   17   0    2    1  ...  0b925d96   \n",
       "1    7    6  NaN    1      10    1    7   1    1    1  ...  74ef3502   \n",
       "2    6    4    1    5       2    3    8   5    9    1  ...  0705fb3d   \n",
       "3    0    0  NaN    1    3797  279   16   3   83    0  ...  d39e7a70   \n",
       "4  NaN    0    7  NaN   12634   30    4   0    5  NaN  ...  6b7fd522   \n",
       "5    8   11  NaN    2      33    4   38  33  121    2  ...  ac2846a6   \n",
       "6  NaN    3    5    1  299675  NaN  NaN   1  NaN  NaN  ...  003d4f4f   \n",
       "7    8    1    2    4      53    4    8   4    4    1  ...  6fc84bfb   \n",
       "8  NaN   43   87    3   79011  NaN    0   7    3  NaN  ...  fb342121   \n",
       "9  NaN    8    3    2   12175  294    2   2   80  NaN  ...  fc16085c   \n",
       "\n",
       "        C19       C20       C21       C22       C23       C24       C25  \\\n",
       "0       NaN       NaN  4f7c2d34       NaN  423fab69  64a2febd       NaN   \n",
       "1       NaN       NaN  e9971827       NaN  423fab69  9117a34a       NaN   \n",
       "2       NaN       NaN  65e33bf7  ad3062eb  423fab69  2c1b9978       NaN   \n",
       "3       NaN       NaN  a6928003       NaN  bcdee96c  8f079aa5       NaN   \n",
       "4       NaN       NaN  6da32e8e       NaN  32c7478e  07e6f0f8       NaN   \n",
       "5       NaN       NaN  04a420ca       NaN  423fab69  ef218b6e       NaN   \n",
       "6       NaN       NaN  e587c466       NaN  3a171ecb  3b183c5c       NaN   \n",
       "7       NaN       NaN  4f1aa25f  ad3062eb  423fab69  ded4aac9       NaN   \n",
       "8  21ddcdc9  5840adea  f6e47def       NaN  c7dc6720  6c1cdd05  ea9a246c   \n",
       "9       NaN       NaN  c8444cb6       NaN  32c7478e  8940103a       NaN   \n",
       "\n",
       "        C26 click  \n",
       "0       NaN     1  \n",
       "1       NaN     0  \n",
       "2       NaN     1  \n",
       "3       NaN     0  \n",
       "4       NaN     0  \n",
       "5       NaN     1  \n",
       "6       NaN     0  \n",
       "7       NaN     1  \n",
       "8  1219b447     0  \n",
       "9       NaN     0  \n",
       "\n",
       "[10 rows x 40 columns]"
      ]
     },
     "execution_count": 54,
     "metadata": {},
     "output_type": "execute_result"
    }
   ],
   "source": [
    "# Replace all empty strings with np.nan\n",
    "sample_df = sample_df.replace(r'^\\s*$', np.nan, regex=True)\n",
    "sample_df.head(10)"
   ]
  },
  {
   "cell_type": "code",
   "execution_count": 57,
   "metadata": {},
   "outputs": [
    {
     "data": {
      "text/plain": [
       "I1     410\n",
       "I2       0\n",
       "I3     227\n",
       "I4     222\n",
       "I5      32\n",
       "I6     198\n",
       "I7      44\n",
       "I8       0\n",
       "I9      44\n",
       "I10    410\n",
       "I11     44\n",
       "I12    777\n",
       "I13    222\n",
       "dtype: int64"
      ]
     },
     "execution_count": 57,
     "metadata": {},
     "output_type": "execute_result"
    }
   ],
   "source": [
    "sample_df[FIELDS[0:13]].isnull().sum()"
   ]
  },
  {
   "cell_type": "code",
   "execution_count": 69,
   "metadata": {},
   "outputs": [],
   "source": [
    "sample_df[FIELDS[0:13]] = sample_df[FIELDS[0:13]].astype(float)\n",
    "sample_df.click = sample_df.click.astype(float)"
   ]
  },
  {
   "cell_type": "code",
   "execution_count": 59,
   "metadata": {
    "scrolled": true
   },
   "outputs": [
    {
     "data": {
      "image/png": "[encoded data removed]",
      "text/plain": [
       "<Figure size 792x648 with 2 Axes>"
      ]
     },
     "metadata": {
      "needs_background": "light"
     },
     "output_type": "display_data"
    }
   ],
   "source": [
    "# Correlation between the dependent variables\n",
    "corr = sample_df[FIELDS[0:13]].corr()\n",
    "fig,ax = plt.subplots(figsize=(11, 9))\n",
    "mask = np.zeros_like(corr, dtype=np.bool)\n",
    "mask[np.triu_indices_from(mask)] = True\n",
    "cmap = sns.diverging_palette(240, 10, as_cmap=True)\n",
    "sns.heatmap(corr, mask=mask, cmap=cmap, annot=True,center=0, linewidths=.5)\n",
    "plt.title(\"Correlations between features.\")\n",
    "plt.show()"
   ]
  },
  {
   "cell_type": "markdown",
   "metadata": {},
   "source": [
    "#### I4 & I13, I8 & I13, I7 & I11, I1 & I7 are highly correlated\n",
    "Since I13 appears twice and correlated with I4 and I8, we can possibly elemenate I13."
   ]
  },
  {
   "cell_type": "code",
   "execution_count": 68,
   "metadata": {},
   "outputs": [],
   "source": [
    "#sample_df[FIELDS[0:13]]"
   ]
  },
  {
   "cell_type": "code",
   "execution_count": 70,
   "metadata": {},
   "outputs": [
    {
     "data": {
      "text/plain": [
       "I1     0.092957\n",
       "I2     0.017418\n",
       "I3     0.002890\n",
       "I4    -0.020240\n",
       "I5    -0.092118\n",
       "I6    -0.124801\n",
       "I7     0.054444\n",
       "I8    -0.015647\n",
       "I9    -0.017636\n",
       "I10    0.153171\n",
       "I11    0.096868\n",
       "I12    0.125114\n",
       "I13   -0.068136\n",
       "dtype: float64"
      ]
     },
     "execution_count": 70,
     "metadata": {},
     "output_type": "execute_result"
    }
   ],
   "source": [
    "# Check correlation with target variable and other integer features\n",
    "sample_df.drop(FIELDS[13:], axis=1).apply(lambda x: x.corr(sample_df.click))"
   ]
  },
  {
   "cell_type": "markdown",
   "metadata": {},
   "source": [
    "#### Variables that are least correlated with outcome value are I3, I2, I8, I9"
   ]
  },
  {
   "cell_type": "code",
   "execution_count": 72,
   "metadata": {},
   "outputs": [
    {
     "data": {
      "text/html": [
       "<div>\n",
       "<style scoped>\n",
       "    .dataframe tbody tr th:only-of-type {\n",
       "        vertical-align: middle;\n",
       "    }\n",
       "\n",
       "    .dataframe tbody tr th {\n",
       "        vertical-align: top;\n",
       "    }\n",
       "\n",
       "    .dataframe thead th {\n",
       "        text-align: right;\n",
       "    }\n",
       "</style>\n",
       "<table border=\"1\" class=\"dataframe\">\n",
       "  <thead>\n",
       "    <tr style=\"text-align: right;\">\n",
       "      <th></th>\n",
       "      <th>C1_05db9164</th>\n",
       "      <th>C1_09ca0b81</th>\n",
       "      <th>C1_17f69355</th>\n",
       "      <th>C1_18988050</th>\n",
       "      <th>C1_241546e0</th>\n",
       "      <th>C1_24eda356</th>\n",
       "      <th>C1_255c8173</th>\n",
       "      <th>C1_2d4ea12b</th>\n",
       "      <th>C1_39af2607</th>\n",
       "      <th>C1_3b65d647</th>\n",
       "      <th>...</th>\n",
       "      <th>C26_fa0470cc</th>\n",
       "      <th>C26_fa3124de</th>\n",
       "      <th>C26_fb50b86f</th>\n",
       "      <th>C26_fcd456fa</th>\n",
       "      <th>C26_fda55550</th>\n",
       "      <th>C26_fdf9a32f</th>\n",
       "      <th>C26_fe58998c</th>\n",
       "      <th>C26_ff4e2efb</th>\n",
       "      <th>C26_ff6f8ceb</th>\n",
       "      <th>C26_fffa8e76</th>\n",
       "    </tr>\n",
       "  </thead>\n",
       "  <tbody>\n",
       "    <tr>\n",
       "      <th>0</th>\n",
       "      <td>1</td>\n",
       "      <td>0</td>\n",
       "      <td>0</td>\n",
       "      <td>0</td>\n",
       "      <td>0</td>\n",
       "      <td>0</td>\n",
       "      <td>0</td>\n",
       "      <td>0</td>\n",
       "      <td>0</td>\n",
       "      <td>0</td>\n",
       "      <td>...</td>\n",
       "      <td>0</td>\n",
       "      <td>0</td>\n",
       "      <td>0</td>\n",
       "      <td>0</td>\n",
       "      <td>0</td>\n",
       "      <td>0</td>\n",
       "      <td>0</td>\n",
       "      <td>0</td>\n",
       "      <td>0</td>\n",
       "      <td>0</td>\n",
       "    </tr>\n",
       "    <tr>\n",
       "      <th>1</th>\n",
       "      <td>0</td>\n",
       "      <td>0</td>\n",
       "      <td>0</td>\n",
       "      <td>0</td>\n",
       "      <td>0</td>\n",
       "      <td>0</td>\n",
       "      <td>0</td>\n",
       "      <td>0</td>\n",
       "      <td>0</td>\n",
       "      <td>0</td>\n",
       "      <td>...</td>\n",
       "      <td>0</td>\n",
       "      <td>0</td>\n",
       "      <td>0</td>\n",
       "      <td>0</td>\n",
       "      <td>0</td>\n",
       "      <td>0</td>\n",
       "      <td>0</td>\n",
       "      <td>0</td>\n",
       "      <td>0</td>\n",
       "      <td>0</td>\n",
       "    </tr>\n",
       "    <tr>\n",
       "      <th>2</th>\n",
       "      <td>1</td>\n",
       "      <td>0</td>\n",
       "      <td>0</td>\n",
       "      <td>0</td>\n",
       "      <td>0</td>\n",
       "      <td>0</td>\n",
       "      <td>0</td>\n",
       "      <td>0</td>\n",
       "      <td>0</td>\n",
       "      <td>0</td>\n",
       "      <td>...</td>\n",
       "      <td>0</td>\n",
       "      <td>0</td>\n",
       "      <td>0</td>\n",
       "      <td>0</td>\n",
       "      <td>0</td>\n",
       "      <td>0</td>\n",
       "      <td>0</td>\n",
       "      <td>0</td>\n",
       "      <td>0</td>\n",
       "      <td>0</td>\n",
       "    </tr>\n",
       "    <tr>\n",
       "      <th>3</th>\n",
       "      <td>1</td>\n",
       "      <td>0</td>\n",
       "      <td>0</td>\n",
       "      <td>0</td>\n",
       "      <td>0</td>\n",
       "      <td>0</td>\n",
       "      <td>0</td>\n",
       "      <td>0</td>\n",
       "      <td>0</td>\n",
       "      <td>0</td>\n",
       "      <td>...</td>\n",
       "      <td>0</td>\n",
       "      <td>0</td>\n",
       "      <td>0</td>\n",
       "      <td>0</td>\n",
       "      <td>0</td>\n",
       "      <td>0</td>\n",
       "      <td>0</td>\n",
       "      <td>0</td>\n",
       "      <td>0</td>\n",
       "      <td>0</td>\n",
       "    </tr>\n",
       "    <tr>\n",
       "      <th>4</th>\n",
       "      <td>0</td>\n",
       "      <td>0</td>\n",
       "      <td>0</td>\n",
       "      <td>0</td>\n",
       "      <td>0</td>\n",
       "      <td>0</td>\n",
       "      <td>0</td>\n",
       "      <td>0</td>\n",
       "      <td>0</td>\n",
       "      <td>0</td>\n",
       "      <td>...</td>\n",
       "      <td>0</td>\n",
       "      <td>0</td>\n",
       "      <td>0</td>\n",
       "      <td>0</td>\n",
       "      <td>0</td>\n",
       "      <td>0</td>\n",
       "      <td>0</td>\n",
       "      <td>0</td>\n",
       "      <td>0</td>\n",
       "      <td>0</td>\n",
       "    </tr>\n",
       "  </tbody>\n",
       "</table>\n",
       "<p>5 rows × 8191 columns</p>\n",
       "</div>"
      ],
      "text/plain": [
       "   C1_05db9164  C1_09ca0b81  C1_17f69355  C1_18988050  C1_241546e0  \\\n",
       "0            1            0            0            0            0   \n",
       "1            0            0            0            0            0   \n",
       "2            1            0            0            0            0   \n",
       "3            1            0            0            0            0   \n",
       "4            0            0            0            0            0   \n",
       "\n",
       "   C1_24eda356  C1_255c8173  C1_2d4ea12b  C1_39af2607  C1_3b65d647  ...  \\\n",
       "0            0            0            0            0            0  ...   \n",
       "1            0            0            0            0            0  ...   \n",
       "2            0            0            0            0            0  ...   \n",
       "3            0            0            0            0            0  ...   \n",
       "4            0            0            0            0            0  ...   \n",
       "\n",
       "   C26_fa0470cc  C26_fa3124de  C26_fb50b86f  C26_fcd456fa  C26_fda55550  \\\n",
       "0             0             0             0             0             0   \n",
       "1             0             0             0             0             0   \n",
       "2             0             0             0             0             0   \n",
       "3             0             0             0             0             0   \n",
       "4             0             0             0             0             0   \n",
       "\n",
       "   C26_fdf9a32f  C26_fe58998c  C26_ff4e2efb  C26_ff6f8ceb  C26_fffa8e76  \n",
       "0             0             0             0             0             0  \n",
       "1             0             0             0             0             0  \n",
       "2             0             0             0             0             0  \n",
       "3             0             0             0             0             0  \n",
       "4             0             0             0             0             0  \n",
       "\n",
       "[5 rows x 8191 columns]"
      ]
     },
     "execution_count": 72,
     "metadata": {},
     "output_type": "execute_result"
    }
   ],
   "source": [
    "# Convert categorical to one-hot. \n",
    "sample_df_onehot = pd.get_dummies(sample_df[FIELDS[13:n_features]])\n",
    "sample_df_onehot.head(5)"
   ]
  },
  {
   "cell_type": "code",
   "execution_count": 73,
   "metadata": {},
   "outputs": [],
   "source": [
    "def n_unique(x):\n",
    "    \"\"\" Counts number of unique values\"\"\"\n",
    "    #If an entry is blank, add them as unique\n",
    "    total_na = x.isna().sum()\n",
    "    return x.nunique() + total_na\n"
   ]
  },
  {
   "cell_type": "code",
   "execution_count": 74,
   "metadata": {
    "scrolled": true
   },
   "outputs": [
    {
     "data": {
      "text/plain": [
       "C1      48\n",
       "C2     198\n",
       "C3     818\n",
       "C4     680\n",
       "C5      23\n",
       "C6     132\n",
       "C7     708\n",
       "C8      42\n",
       "C9       3\n",
       "C10    585\n",
       "C11    578\n",
       "C12    781\n",
       "C13    519\n",
       "C14     15\n",
       "C15    564\n",
       "C16    747\n",
       "C17      9\n",
       "C18    406\n",
       "C19    605\n",
       "C20    497\n",
       "C21    764\n",
       "C22    784\n",
       "C23     12\n",
       "C24    511\n",
       "C25    518\n",
       "C26    794\n",
       "dtype: int64"
      ]
     },
     "execution_count": 74,
     "metadata": {},
     "output_type": "execute_result"
    }
   ],
   "source": [
    "sample_df[FIELDS[13:n_features]].apply(n_unique,axis=0)"
   ]
  },
  {
   "cell_type": "code",
   "execution_count": 75,
   "metadata": {
    "scrolled": true
   },
   "outputs": [
    {
     "data": {
      "image/png": "[encoded data removed]",
      "text/plain": [
       "<Figure size 1080x1080 with 16 Axes>"
      ]
     },
     "metadata": {
      "needs_background": "light"
     },
     "output_type": "display_data"
    }
   ],
   "source": [
    "sample_df[FIELDS[0:13]].hist(figsize=(15,15), bins=15)\n",
    "plt.show()"
   ]
  },
  {
   "cell_type": "markdown",
   "metadata": {},
   "source": [
    "Variable I5 seem to have major outliers looking at its range"
   ]
  },
  {
   "cell_type": "code",
   "execution_count": 99,
   "metadata": {},
   "outputs": [],
   "source": [
    "## Distinct values per column on full dataset\n",
    "\n",
    "def emit_col_val(line):\n",
    "    features = line[0]\n",
    "    N = len(features)\n",
    "    for i in range(13,N):\n",
    "        yield(i,features[i])\n",
    "\n",
    "def count_values(line):\n",
    "    \"\"\" Return word count\"\"\"\n",
    "    feature,cat_values = line\n",
    "    yield (feature,len(cat_values.split()))\n",
    "\n",
    "catFeatRDD = trainRDDCached.flatMap(emit_col_val)\\\n",
    "                    .distinct()\\\n",
    "                    .reduceByKey(lambda x,y : x+' '+y) \\\n",
    "                    .flatMap(count_values).cache()\n",
    "\n"
   ]
  },
  {
   "cell_type": "code",
   "execution_count": 113,
   "metadata": {},
   "outputs": [],
   "source": [
    "catFeat = catFeatRDD.collect()"
   ]
  },
  {
   "cell_type": "code",
   "execution_count": 104,
   "metadata": {
    "scrolled": true
   },
   "outputs": [
    {
     "name": "stdout",
     "output_type": "stream",
     "text": [
      "C1: 1460\n",
      "C2: 579\n",
      "C3: 8380405\n",
      "C4: 1884751\n",
      "C5: 305\n",
      "C6: 23\n",
      "C7: 12493\n",
      "C8: 633\n",
      "C9: 3\n",
      "C10: 89036\n",
      "C11: 5657\n",
      "C12: 6951577\n",
      "C13: 3194\n",
      "C14: 27\n",
      "C15: 14752\n",
      "C16: 4590483\n",
      "C17: 10\n",
      "C18: 5590\n",
      "C19: 2166\n",
      "C20: 3\n",
      "C21: 5894198\n",
      "C22: 17\n",
      "C23: 15\n",
      "C24: 258633\n",
      "C25: 104\n",
      "C26: 133146\n"
     ]
    }
   ],
   "source": [
    "for i in range(len(catFeat)):\n",
    "    print('{}: {}'.format(FIELDS[catFeat[i][0]],catFeat[i][1]))"
   ]
  },
  {
   "cell_type": "markdown",
   "metadata": {},
   "source": [
    "Looking at the above, the most valuable categorical variables seem to be C6, C9, C14, C17, C20, C22, C23 as they all have less unique values. A one hot vector of these is much more reasonable than a complete list of categorical values. "
   ]
  },
  {
   "cell_type": "code",
   "execution_count": 114,
   "metadata": {},
   "outputs": [],
   "source": [
    "# How many NULL values are there in each integer variable?\n",
    "\n",
    "def emit_int_feat(line):\n",
    "    features = line[0]\n",
    "    N = len(features)\n",
    "    for i in range(13):\n",
    "        column = 'I'+str(i+1)\n",
    "        if features[i]==\"\":\n",
    "            yield(column,1)\n",
    "\n",
    "NullCountRDD = trainRDDCached.flatMap(emit_int_feat)\\\n",
    "                    .reduceByKey(lambda x,y : x+y).cache()"
   ]
  },
  {
   "cell_type": "code",
   "execution_count": 133,
   "metadata": {},
   "outputs": [
    {
     "data": {
      "text/plain": [
       "[('I10', 16630341),\n",
       " ('I7', 1586483),\n",
       " ('I13', 7951100),\n",
       " ('I1', 16630341),\n",
       " ('I4', 7951100),\n",
       " ('I12', 28053144),\n",
       " ('I3', 7871130),\n",
       " ('I11', 1586483),\n",
       " ('I6', 8200470),\n",
       " ('I5', 946276),\n",
       " ('I9', 1586483),\n",
       " ('I8', 18119)]"
      ]
     },
     "execution_count": 133,
     "metadata": {},
     "output_type": "execute_result"
    }
   ],
   "source": [
    "NullCounts = NullCountRDD.collect()\n",
    "NullCounts"
   ]
  },
  {
   "cell_type": "code",
   "execution_count": 148,
   "metadata": {},
   "outputs": [
    {
     "data": {
      "text/plain": [
       "{1: 16630341,\n",
       " 2: 0,\n",
       " 3: 7871130,\n",
       " 4: 7951100,\n",
       " 5: 946276,\n",
       " 6: 8200470,\n",
       " 7: 1586483,\n",
       " 8: 18119,\n",
       " 9: 1586483,\n",
       " 10: 16630341,\n",
       " 11: 1586483,\n",
       " 12: 28053144,\n",
       " 13: 7951100}"
      ]
     },
     "execution_count": 148,
     "metadata": {},
     "output_type": "execute_result"
    }
   ],
   "source": [
    "keys = list(range(1,14))\n",
    "NullCounts_dict = {key: 0 for key in keys}\n",
    "for val in NullCounts:\n",
    "    c = val[0]\n",
    "    m = val[1]\n",
    "    c_num = int(c[1:])\n",
    "    NullCounts_dict[c_num] = m\n",
    "NullCounts_dict "
   ]
  },
  {
   "cell_type": "markdown",
   "metadata": {},
   "source": [
    "I2 has no null values. But rest of them have a lot"
   ]
  },
  {
   "cell_type": "code",
   "execution_count": 149,
   "metadata": {},
   "outputs": [
    {
     "data": {
      "text/plain": [
       "{1: 20038324,\n",
       " 2: 36668665,\n",
       " 3: 28797535,\n",
       " 4: 28717565,\n",
       " 5: 35722389,\n",
       " 6: 28468195,\n",
       " 7: 35082182,\n",
       " 8: 36650546,\n",
       " 9: 35082182,\n",
       " 10: 20038324,\n",
       " 11: 35082182,\n",
       " 12: 8615521,\n",
       " 13: 28717565}"
      ]
     },
     "execution_count": 149,
     "metadata": {},
     "output_type": "execute_result"
    }
   ],
   "source": [
    "count = trainRDDCached.count()\n",
    "keys = list(range(1,14))\n",
    "NonNullCounts_dict = {key: count for key in keys}\n",
    "for val in NullCounts:\n",
    "    c = val[0]\n",
    "    m = val[1]\n",
    "    c_num = int(c[1:])\n",
    "    NonNullCounts_dict[c_num] = count-m\n",
    "NonNullCounts_dict"
   ]
  },
  {
   "cell_type": "code",
   "execution_count": 150,
   "metadata": {},
   "outputs": [],
   "source": [
    "# Broadcast the non null counts as we need it to calculate the mean\n",
    "NonNullCounts_bc = sc.broadcast(NonNullCounts_dict)\n"
   ]
  },
  {
   "cell_type": "code",
   "execution_count": 151,
   "metadata": {},
   "outputs": [
    {
     "data": {
      "text/plain": [
       "{1: 20038324,\n",
       " 2: 36668665,\n",
       " 3: 28797535,\n",
       " 4: 28717565,\n",
       " 5: 35722389,\n",
       " 6: 28468195,\n",
       " 7: 35082182,\n",
       " 8: 36650546,\n",
       " 9: 35082182,\n",
       " 10: 20038324,\n",
       " 11: 35082182,\n",
       " 12: 8615521,\n",
       " 13: 28717565}"
      ]
     },
     "execution_count": 151,
     "metadata": {},
     "output_type": "execute_result"
    }
   ],
   "source": [
    "NonNullCounts_bc.value"
   ]
  },
  {
   "cell_type": "code",
   "execution_count": 187,
   "metadata": {},
   "outputs": [],
   "source": [
    "def int_features(line):\n",
    "    features = line[0]\n",
    "    label = line[1]\n",
    "    new_arr = np.array(features[0:13])\n",
    "    yield((new_arr,label))\n",
    "\n",
    "IntFeatRDD = trainRDDCached.flatMap(int_features).cache()"
   ]
  },
  {
   "cell_type": "code",
   "execution_count": 188,
   "metadata": {},
   "outputs": [
    {
     "data": {
      "text/plain": [
       "[(array(['2', '0', '44', '1', '102', '8', '2', '2', '4', '1', '1', '', '4'],\n",
       "        dtype='<U8'), '0')]"
      ]
     },
     "execution_count": 188,
     "metadata": {},
     "output_type": "execute_result"
    }
   ],
   "source": [
    "IntFeatRDD.take(1)"
   ]
  },
  {
   "cell_type": "code",
   "execution_count": 137,
   "metadata": {},
   "outputs": [
    {
     "data": {
      "text/plain": [
       "36668665"
      ]
     },
     "execution_count": 137,
     "metadata": {},
     "output_type": "execute_result"
    }
   ],
   "source": [
    "count"
   ]
  },
  {
   "cell_type": "code",
   "execution_count": 152,
   "metadata": {},
   "outputs": [],
   "source": [
    "# It could be better to replace the null values with their mean in the integer variables. Calculate mean per column\n",
    "def emit_int_features(line):\n",
    "    features = line[0]\n",
    "    for i in range(len(features)):\n",
    "        column = i+1\n",
    "        if features[i]!=\"\":\n",
    "            yield(column,float(features[i]))\n",
    "def emit_mean(x):\n",
    "    column = int(x[0])\n",
    "    total = x[1]\n",
    "    #mean_val = total/36668665\n",
    "    mean_val = total/NonNullCounts_bc.value[column]\n",
    "    yield(column,mean_val)\n",
    "\n",
    "mean_values = IntFeatRDD.flatMap(emit_int_features)\\\n",
    "                    .reduceByKey(lambda x,y : x+y)\\\n",
    "                    .flatMap(emit_mean).collect()"
   ]
  },
  {
   "cell_type": "code",
   "execution_count": 153,
   "metadata": {},
   "outputs": [
    {
     "data": {
      "text/plain": [
       "[(1, 3.502003211446227),\n",
       " (2, 105.87023119058193),\n",
       " (3, 26.867957309540557),\n",
       " (4, 7.322189224608702),\n",
       " (5, 18541.008691999854),\n",
       " (6, 116.11255553785548),\n",
       " (7, 16.340429708733623),\n",
       " (8, 12.517188093186933),\n",
       " (9, 106.12212378922155),\n",
       " (10, 0.6174176043864746),\n",
       " (11, 2.7336556488989197),\n",
       " (12, 0.9915184467660169),\n",
       " (13, 8.21731170452648)]"
      ]
     },
     "execution_count": 153,
     "metadata": {},
     "output_type": "execute_result"
    }
   ],
   "source": [
    "mean_values"
   ]
  },
  {
   "cell_type": "code",
   "execution_count": 154,
   "metadata": {},
   "outputs": [
    {
     "data": {
      "text/plain": [
       "{1: 3.502003211446227,\n",
       " 2: 105.87023119058193,\n",
       " 3: 26.867957309540557,\n",
       " 4: 7.322189224608702,\n",
       " 5: 18541.008691999854,\n",
       " 6: 116.11255553785548,\n",
       " 7: 16.340429708733623,\n",
       " 8: 12.517188093186933,\n",
       " 9: 106.12212378922155,\n",
       " 10: 0.6174176043864746,\n",
       " 11: 2.7336556488989197,\n",
       " 12: 0.9915184467660169,\n",
       " 13: 8.21731170452648}"
      ]
     },
     "execution_count": 154,
     "metadata": {},
     "output_type": "execute_result"
    }
   ],
   "source": [
    "mean_dict = dict()\n",
    "for val in mean_values:\n",
    "    c = val[0]\n",
    "    m = val[1]\n",
    "    mean_dict[c] = m\n",
    "\n",
    "mean_dict    "
   ]
  },
  {
   "cell_type": "code",
   "execution_count": 156,
   "metadata": {},
   "outputs": [],
   "source": [
    "# Broadcast the mean dictionary. We need it to replace null values later\n",
    "mean_dict_bc = sc.broadcast(mean_dict)\n"
   ]
  },
  {
   "cell_type": "code",
   "execution_count": 155,
   "metadata": {},
   "outputs": [
    {
     "data": {
      "text/plain": [
       "array(['1', '2', '3', '4', '5', '6', '7', '12.517188093186933', '9', '10',\n",
       "       '2.7336556488989197', '12', '13'], dtype='<U21')"
      ]
     },
     "execution_count": 155,
     "metadata": {},
     "output_type": "execute_result"
    }
   ],
   "source": [
    "x = np.array([1,2,3,4,5,6,7,'',9,10,'',12,13])\n",
    "for i in range(13):\n",
    "    if x[i] == '':\n",
    "        x[i] = mean_dict[i+1]\n",
    "\n",
    "x        "
   ]
  },
  {
   "cell_type": "markdown",
   "metadata": {},
   "source": [
    "OK, Now we have means for every integer variable. We also know what categorical variables needs to be discarded. We need to now prepare train data"
   ]
  },
  {
   "cell_type": "markdown",
   "metadata": {},
   "source": [
    "Let us first drop the other categorical values and only maintain the ones we are interested"
   ]
  },
  {
   "cell_type": "code",
   "execution_count": 197,
   "metadata": {},
   "outputs": [],
   "source": [
    "def remove_categorical(x):\n",
    "    features = x[0]\n",
    "    label = x[1]\n",
    "    # We are interested in C6,C9, C14, C17, C20, C22, C23\n",
    "    # These are at index 18,21,26,29,32,34,35\n",
    "    c_index_list = [18,21,26,29,32,34,35]\n",
    "    new_arr = np.array(features[0:13],dtype=str)\n",
    "    for index in c_index_list:\n",
    "        new_arr = np.append(new_arr,features[index])\n",
    "    yield((new_arr,label))\n",
    "\n",
    "new_trainRDDCached = trainRDDCached.flatMap(remove_categorical).cache()"
   ]
  },
  {
   "cell_type": "code",
   "execution_count": 198,
   "metadata": {},
   "outputs": [
    {
     "data": {
      "text/plain": [
       "[(array(['2', '0', '44', '1', '102', '8', '2', '2', '4', '1', '1', '', '4',\n",
       "         'fe6b92e5', 'a73ee510', 'b28479f6', '07c540c4', '5840adea', '',\n",
       "         '3a171ecb'], dtype='<U8'), '0')]"
      ]
     },
     "execution_count": 198,
     "metadata": {},
     "output_type": "execute_result"
    }
   ],
   "source": [
    "new_trainRDDCached.take(1)"
   ]
  },
  {
   "cell_type": "code",
   "execution_count": 212,
   "metadata": {},
   "outputs": [],
   "source": [
    "# Replace all blanks in new_trainRDDCached integer values with their means\n",
    "\n",
    "def replace_int_null(x):\n",
    "    features = x[0]\n",
    "    label = int(x[1])\n",
    "    for i in range(13):\n",
    "        if features[i]==\"\":\n",
    "            features[i] = float(mean_dict_bc.value[i+1])\n",
    "        else:\n",
    "            features[i] = float(features[i])\n",
    "    features = features.astype(float)\n",
    "    yield((features,label))\n",
    "\n",
    "def replace_int_null_noInt(x):\n",
    "    features = x[0]\n",
    "    label = int(x[1])\n",
    "    for i in range(13):\n",
    "        if features[i]==\"\":\n",
    "            features[i] = float(mean_dict_bc.value[i+1])\n",
    "        else:\n",
    "            features[i] = float(features[i])\n",
    "    yield((features,label))\n",
    "    \n",
    "def replace_char_null(x):\n",
    "    features = x[0]\n",
    "    label = int(x[1])\n",
    "    for i in range(13,len(features)):\n",
    "        if features[i]==\"\":\n",
    "            features[i] = 'AAAA'\n",
    "    yield((features,label))\n",
    "    "
   ]
  },
  {
   "cell_type": "code",
   "execution_count": 213,
   "metadata": {},
   "outputs": [
    {
     "data": {
      "text/plain": [
       "[(array(['2.0', '0.0', '44.0', '1.0', '102.0', '8.0', '2.0', '2.0', '4.0',\n",
       "         '1.0', '1.0', '0.991518', '4.0', 'fe6b92e5', 'a73ee510',\n",
       "         'b28479f6', '07c540c4', '5840adea', 'AAAA', '3a171ecb'],\n",
       "        dtype='<U8'), 0)]"
      ]
     },
     "execution_count": 213,
     "metadata": {},
     "output_type": "execute_result"
    }
   ],
   "source": [
    "new_trainRDDCached = new_trainRDDCached.flatMap(replace_int_null_noInt)\\\n",
    "                                    .flatMap(replace_char_null).cache()\n",
    "new_trainRDDCached.take(1)"
   ]
  },
  {
   "cell_type": "code",
   "execution_count": 214,
   "metadata": {},
   "outputs": [
    {
     "data": {
      "text/plain": [
       "[(array([  2.      ,   0.      ,  44.      ,   1.      , 102.      ,\n",
       "           8.      ,   2.      ,   2.      ,   4.      ,   1.      ,\n",
       "           1.      ,   0.991518,   4.      ]), 0)]"
      ]
     },
     "execution_count": 214,
     "metadata": {},
     "output_type": "execute_result"
    }
   ],
   "source": [
    "IntFeatRDD = IntFeatRDD.flatMap(replace_int_null).cache()\n",
    "IntFeatRDD.take(1)"
   ]
  },
  {
   "cell_type": "markdown",
   "metadata": {},
   "source": [
    "### Helper functions from HW4"
   ]
  },
  {
   "cell_type": "code",
   "execution_count": 217,
   "metadata": {},
   "outputs": [],
   "source": [
    "def normalize(dataRDD):\n",
    "    \"\"\"\n",
    "    Scale and center data round mean of each feature.\n",
    "    Args:\n",
    "        dataRDD - records are tuples of (features_array, y)\n",
    "    Returns:\n",
    "        normedRDD - records are tuples of (features_array, y)\n",
    "    \"\"\"\n",
    "    featureMeans = dataRDD.map(lambda x: x[0]).mean()\n",
    "    featureStdev = np.sqrt(dataRDD.map(lambda x: x[0]).variance())\n",
    "    normedRDD = dataRDD.map(lambda x: (np.divide((x[0] - featureMeans), featureStdev), x[1]))        \n",
    "    return normedRDD"
   ]
  },
  {
   "cell_type": "code",
   "execution_count": 218,
   "metadata": {},
   "outputs": [],
   "source": [
    "normedRDD = normalize(IntFeatRDD).cache()"
   ]
  },
  {
   "cell_type": "code",
   "execution_count": 215,
   "metadata": {},
   "outputs": [],
   "source": [
    "def logisticRegressionGDReg(data, wInitial=None, learningRate=0.05, iterations=50, regParam=0.01, regType=None):\n",
    "    featureLen = len(data.take(1)[0][0])\n",
    "    n = data.count()\n",
    "    if wInitial is None:\n",
    "        w = np.random.normal(size=featureLen) # w should be broadcasted if it is large\n",
    "    else:\n",
    "        w = wInitial\n",
    "    for i in range(iterations):\n",
    "        wBroadcast = sc.broadcast(w)\n",
    "        gradient = data.map(lambda p: (1 / (1 + np.exp(-p[1]*np.dot(wBroadcast.value, p[0])))-1) * p[1] * np.array(p[0]))\\\n",
    "                    .reduce(lambda a, b: a + b)\n",
    "        if regType == \"Ridge\":\n",
    "            wReg = w * 1\n",
    "            wReg[-1] = 0 #last value of weight vector is bias term, ignored in regularization\n",
    "        elif regType == \"Lasso\":\n",
    "            wReg = w * 1\n",
    "            wReg[-1] = 0 #last value of weight vector is bias term, ignored in regularization\n",
    "            wReg = (wReg>0).astype(int) * 2-1\n",
    "        else:\n",
    "            wReg = np.zeros(w.shape[0])\n",
    "        gradient = gradient + regParam * wReg  #gradient:  GD of Sqaured Error+ GD of regularized term \n",
    "        w = w - learningRate * gradient / n\n",
    "    return w"
   ]
  },
  {
   "cell_type": "code",
   "execution_count": 219,
   "metadata": {},
   "outputs": [
    {
     "data": {
      "text/plain": [
       "array([-0.28885354, -1.60980304,  0.80743505, -0.44989991, -0.21066663,\n",
       "       -0.6962895 ,  1.03753076, -0.75741466, -1.7196937 ,  0.87799881,\n",
       "        0.56053184, -0.58950019, -1.01975126])"
      ]
     },
     "execution_count": 219,
     "metadata": {},
     "output_type": "execute_result"
    }
   ],
   "source": [
    "logisticRegressionGDReg(normedRDD, iterations=50, regParam=0.1, regType=\"Lasso\")"
   ]
  },
  {
   "cell_type": "markdown",
   "metadata": {},
   "source": [
    "#### With L1 Norm"
   ]
  },
  {
   "cell_type": "code",
   "execution_count": 220,
   "metadata": {},
   "outputs": [],
   "source": [
    "# Log loss function\n",
    "# adapted from HW4 and https://ml-cheatsheet.readthedocs.io/en/latest/logistic_regression.html\n",
    "\n",
    "def LogLoss(dataRDD, W):\n",
    "    \"\"\"\n",
    "    Compute log loss.\n",
    "    Args:\n",
    "        dataRDD - each record is a tuple of (features_array, y)\n",
    "        W       - (array) model coefficients with bias at index 0\n",
    "    \"\"\"\n",
    "    augmentedData = dataRDD.map(lambda x: (np.append([1.0], x[0]), x[1]))\n",
    "\n",
    "#    loss = augmentedData.map(lambda x: (-x[1]*np.log(1 / (1 + np.exp(-np.dot(W, x[0])))) -\\\n",
    "#                                        (1-x[1])*np.log(1- (1 / (1 + np.exp(-np.dot(W, x[0]))))), 1)) \\\n",
    "# NOT SURE ABOUT MINUS SIGN IN MIDDLE, AND TO SOME DEGREE AT START\n",
    "    loss = augmentedData.map(lambda x: (-np.dot(x[1],np.log(1 / (1 + np.exp(-np.dot(W, x[0]))))) -\\\n",
    "                                        np.dot((1-x[1]),np.log(1- (1 / (1 + np.exp(-np.dot(W, x[0])))))), 1)) \\\n",
    "                        .reduce(lambda x,y:(x[0]+y[0], x[1]+y[1]))\n",
    "\n",
    "    loss = float(loss[0])/loss[1]\n",
    "    \n",
    "    return loss"
   ]
  },
  {
   "cell_type": "code",
   "execution_count": 227,
   "metadata": {},
   "outputs": [],
   "source": [
    "# Update the gradient\n",
    "# Adapted from HW4 and https://nbviewer.jupyter.org/urls/dl.dropbox.com/s/r20ff7q0yni5kiu/LogisticRegression-Spark-Notebook.ipynb\n",
    "\n",
    "def GDUpdate_wReg(dataRDD, W, N, learningRate = 0.1, regType = None, regParam = 0.1):\n",
    "    \"\"\"\n",
    "    Perform one gradient descent step/update with ridge or lasso regularization.\n",
    "    Args:\n",
    "        dataRDD - tuple of (features_array, y)\n",
    "        W       - (array) model coefficients with bias at index 0\n",
    "        learningRate - (float) defaults to 0.1\n",
    "        regType - (str) 'ridge' or 'lasso', defaults to None\n",
    "        regParam - (float) regularization term coefficient\n",
    "    Returns:\n",
    "        model   - (array) updated coefficients, bias still at index 0\n",
    "    \"\"\"\n",
    "    # augmented data\n",
    "    augmentedData = dataRDD.map(lambda x: (np.append([1.0], x[0]), x[1]))\n",
    "    \n",
    "    new_model = None\n",
    "    \n",
    "    # calculate the gradient\n",
    "    \n",
    "    gradient = augmentedData.map(lambda x: (1 / (1 + np.exp(-x[1]*np.dot(W, x[0])))-1) * x[1] * np.array(x[0]))\\\n",
    "                    .reduce(lambda x, y: x + y)\n",
    "    if regType == \"ridge\":\n",
    "        wReg = W * 1\n",
    "        wReg = np.append([0], wReg[1:]) # remove the bias term ahead of regularization        \n",
    "    elif regType == \"lasso\":\n",
    "        wReg = W * 1\n",
    "        wReg = np.append([0], wReg[1:]) # remove the bias term ahead of regularization\n",
    "        wReg = (wReg>0).astype(int) * 2-1\n",
    "    else:\n",
    "        wReg = np.zeros(W.shape[0])\n",
    "    gradient = gradient + regParam * wReg  #gradient:  GD of Squared Error+ GD of regularized term \n",
    "    new_model = W - learningRate * gradient / N\n",
    "\n",
    "    return new_model"
   ]
  },
  {
   "cell_type": "code",
   "execution_count": 248,
   "metadata": {},
   "outputs": [],
   "source": [
    "def GradientDescent_wReg(trainRDD, testRDD, wInit, nSteps = 20, learningRate = 0.1,\n",
    "                         regType = None, regParam = 0.1, verbose = True):\n",
    "    \"\"\"\n",
    "    Perform nSteps iterations of regularized gradient descent and \n",
    "    track loss on a test and train set. Return lists of\n",
    "    test/train loss and the models themselves.\n",
    "    \"\"\"\n",
    "    # initialize lists to track model performance\n",
    "    train_history, test_history, model_history = [], [], []\n",
    "    \n",
    "    # calculate N here so you don't have to do it in the for looped function call\n",
    "    N = trainRDD.count()\n",
    "\n",
    "    # make a starter set of weights if none provided\n",
    "    featureLen = len(trainRDD.take(1)[0][0])\n",
    "    if wInit is None:\n",
    "        w = np.random.normal(size=featureLen) # w should be broadcasted if it is large\n",
    "    else:\n",
    "        w = wInit\n",
    "    model = w\n",
    "    \n",
    "    # perform nSteps updates & compute test and train loss after each\n",
    "    for idx in range(nSteps):  \n",
    "   \n",
    "        # update the model\n",
    "        model = GDUpdate_wReg(trainRDD, model, N, learningRate, regType, regParam)\n",
    "        \n",
    "        # keep track of test/train loss for plotting\n",
    "        training_loss = LogLoss(trainRDD, model)\n",
    "        test_loss = LogLoss(testRDD, model)\n",
    "        train_history.append(training_loss)\n",
    "        test_history.append(test_loss)\n",
    "        model_history.append(model)\n",
    "        \n",
    "        # console output if desired\n",
    "        if verbose:\n",
    "            print(\"----------\")\n",
    "            print(f\"STEP: {idx+1}\")\n",
    "            print(f\"training loss: {training_loss}\")\n",
    "            print(f\"test loss: {test_loss}\")\n",
    "            print(f\"Model: {[round(w,3) for w in model]}\")\n",
    "    return train_history, test_history, model_history"
   ]
  },
  {
   "cell_type": "code",
   "execution_count": 260,
   "metadata": {},
   "outputs": [
    {
     "name": "stdout",
     "output_type": "stream",
     "text": [
      "\n",
      "... trained 50 50 iterations in 5470.488104104996 seconds\n"
     ]
    }
   ],
   "source": [
    "featureLen = len(normedRDD.take(1)[0][0])\n",
    "#wInit = np.random.normal(size=featureLen)\n",
    "wInit = np.array([-0.77, 0.0, 0.0, 0.0, 0.0, 0.0, 0.0, 0.0, 0.0, 0.0, 0.0, 0.0, 0.0,0.0])\n",
    "trainRDD, testRDD = normedRDD.randomSplit([0.8,0.2], seed = 5)\n",
    "start = time.time()\n",
    "lasso_results = GradientDescent_wReg(trainRDD, testRDD, wInit, nSteps = 50,\n",
    "                                     regType='lasso', regParam = 0.1)\n",
    "print(f\"\\n... trained {len(lasso_results[2])} 50 iterations in {time.time() - start} seconds\")"
   ]
  },
  {
   "cell_type": "code",
   "execution_count": 261,
   "metadata": {},
   "outputs": [],
   "source": [
    "# make error curve plots that show declining loss as walk down the gradient\n",
    "# from HW4 code\n",
    "\n",
    "def plotErrorCurves(trainLoss, testLoss, title = None):\n",
    "    \"\"\"\n",
    "    Helper function for plotting.\n",
    "    Args: trainLoss (list of log loss) , testLoss (list of log loss)\n",
    "    \"\"\"\n",
    "    fig, ax = plt.subplots(1,1,figsize = (16,8))\n",
    "    x = list(range(len(trainLoss)))[1:]\n",
    "    ax.plot(x, trainLoss[1:], 'k--', label='Training Loss')\n",
    "    ax.plot(x, testLoss[1:], 'r--', label='Test Loss')\n",
    "    ax.legend(loc='upper right', fontsize='x-large')\n",
    "    plt.xlabel('Number of Iterations')\n",
    "    plt.ylabel('Log Loss')\n",
    "    if title:\n",
    "        plt.title(title)\n",
    "    plt.show()"
   ]
  },
  {
   "cell_type": "code",
   "execution_count": 262,
   "metadata": {},
   "outputs": [
    {
     "data": {
      "image/png": "[encoded data removed]",
      "text/plain": [
       "<Figure size 1152x576 with 1 Axes>"
      ]
     },
     "metadata": {
      "needs_background": "light"
     },
     "output_type": "display_data"
    }
   ],
   "source": [
    "trainLoss, testLoss, models = lasso_results\n",
    "lasso_models = np.array(models)\n",
    "#np.savetxt('gs://w261-bucket-pav/notebooks/lasso_models.csv', np.array(models), delimiter=',')\n",
    "#np.savetxt('gs://w261-bucket-pav/notebooks/lasso_loss.csv', np.array([trainLoss, testLoss]), delimiter=',')\n",
    "plotErrorCurves(trainLoss, testLoss, title = 'Lasso Regression Error Curves' )"
   ]
  },
  {
   "cell_type": "code",
   "execution_count": 263,
   "metadata": {},
   "outputs": [],
   "source": [
    "#lasso_models = np.loadtxt(PWD + '/data/lasso_models.csv', dtype=float, delimiter=',')\n",
    "best_lasso = lasso_models[-1,:]"
   ]
  },
  {
   "cell_type": "code",
   "execution_count": 257,
   "metadata": {},
   "outputs": [
    {
     "data": {
      "text/plain": [
       "array([ 1.92124278,  0.03221918,  0.04965427,  0.0157926 , -0.06172262,\n",
       "       -0.1540008 , -0.13814007,  0.04112475, -0.07455633,  0.00194255,\n",
       "        0.13475442,  0.17291475,  0.04612588, -0.12015327])"
      ]
     },
     "execution_count": 257,
     "metadata": {},
     "output_type": "execute_result"
    }
   ],
   "source": [
    "best_lasso"
   ]
  },
  {
   "cell_type": "code",
   "execution_count": 264,
   "metadata": {},
   "outputs": [],
   "source": [
    "# Now that we have the schema corrected, create some feature grouping lists for easy data manipulation\n",
    "numeric_features = [\"I1\", \"I2\", \"I3\", \"I4\", \"I5\", \"I6\", \"I7\", \"I8\", \"I9\", \"I10\", \"I11\", \"I12\", \"I13\"]\n",
    "categorical_features = [\"C1\", \"C2\", \"C3\", \"C4\", \"C5\", \"C6\", \"C7\", \"C8\", \"C9\", \"C10\", \"C11\", \"C12\",\\\n",
    "                        \"C13\", \"C14\", \"C15\", \"C16\", \"C17\", \"C18\", \"C19\", \"C20\", \"C21\", \"C22\", \"C23\",\\\n",
    "                       \"C24\", \"C25\", \"C26\"]\n",
    "label_and_numeric = [\"label\"] + numeric_features"
   ]
  },
  {
   "cell_type": "code",
   "execution_count": 265,
   "metadata": {},
   "outputs": [
    {
     "data": {
      "image/png": "[encoded data removed]",
      "text/plain": [
       "<Figure size 1080x576 with 1 Axes>"
      ]
     },
     "metadata": {
      "needs_background": "light"
     },
     "output_type": "display_data"
    }
   ],
   "source": [
    "def plotCoeffs(models, featureNames, title):\n",
    "    \"\"\"\n",
    "    Helper Function to show how coefficients change as we train.\n",
    "    \"\"\"\n",
    "    fig, ax = plt.subplots(figsize = (15,8))\n",
    "    X = list(range(len(models)))\n",
    "    for data, name in zip(models.T, featureNames):\n",
    "        if name == \"Bias\":\n",
    "            continue\n",
    "        ax.plot(X, data, label=name)\n",
    "    ax.plot(X,[0]*len(X), 'k--')\n",
    "    plt.title(title)\n",
    "    plt.legend()\n",
    "    plt.show\n",
    "    \n",
    "# use if starting with the models with the missing data features\n",
    "#plotCoeffs(lasso_models, ['Bias'] + numeric_features + missing, \"Lasso Coefficients over 50 GD steps\")\n",
    "\n",
    "# use if starting with the model where NA rows were dropped\n",
    "plotCoeffs(lasso_models, ['Bias'] + numeric_features, \"Lasso Coefficients over 20 GD steps\")"
   ]
  },
  {
   "cell_type": "code",
   "execution_count": 266,
   "metadata": {},
   "outputs": [
    {
     "name": "stdout",
     "output_type": "stream",
     "text": [
      "accuracy is 0.6579554403854118\n"
     ]
    }
   ],
   "source": [
    "def sigmoid(row):\n",
    "    sig = []\n",
    "    for z in row:\n",
    "        sig.append(1/(1+np.exp(-z)))\n",
    "    return sig\n",
    "\n",
    "def decision_boundary(prob):\n",
    "    return 1 if prob >= .5 else 0\n",
    "\n",
    "def classify(predictions):\n",
    "    '''\n",
    "    input  - N element array of predictions between 0 and 1\n",
    "    output - N element array of 0s (False) and 1s (True)\n",
    "    '''\n",
    "    classifications = []\n",
    "    for prediction in predictions:\n",
    "        classifications.append(decision_boundary(prediction))\n",
    "    return classifications\n",
    "\n",
    "def calc_accuracy(predicted_labels, actual_labels):\n",
    "    error_count = 0\n",
    "    num_predictions = len(actual_labels)\n",
    "    for compare in range(num_predictions):\n",
    "        if predicted_labels[compare] != actual_labels[compare]:\n",
    "            error_count += 1\n",
    "    return 1.0 - (float(error_count) / num_predictions)\n",
    "\n",
    "def compare(x,y):\n",
    "    return int(x != y)\n",
    "\n",
    "coeffs = best_lasso[1:] # coefficients\n",
    "b = best_lasso[0] # bias term\n",
    "actual_labels = testRDD.map(lambda x: x[1]).collect()\n",
    "\n",
    "# spark version\n",
    "#error_count = testRDD.map(lambda x: (np.dot(coeffs, x[0])+b, x[1])) \\\n",
    "#                    .map(lambda x: (1/(1+np.exp(-x[0])), x[1])) \\\n",
    "#                    .map(lambda x: (decision_boundary(x[0]), x[1])) \\\n",
    "#                    .map(lambda x: (compare(x[0],x[1]),1)) \\\n",
    "#                    .reduce(lambda x,y: (x[0]+y[0],x[1]+y[1]))\n",
    "#\n",
    "#print(\"accuracy is\", 1.0 - (float(error_count[0]) / error_count[1]))\n",
    "# regular version\n",
    "mxb = testRDD.map(lambda x: np.dot(coeffs, x[0])+b).collect() # mx+b\n",
    "probabilities = sigmoid(mxb) # put through sigmoid\n",
    "predictions = classify(probabilities) # put through a decision boundary\n",
    "print (\"accuracy is\", calc_accuracy(predictions, actual_labels))"
   ]
  },
  {
   "cell_type": "code",
   "execution_count": null,
   "metadata": {},
   "outputs": [],
   "source": []
  },
  {
   "cell_type": "code",
   "execution_count": null,
   "metadata": {},
   "outputs": [],
   "source": []
  },
  {
   "cell_type": "markdown",
   "metadata": {},
   "source": [
    "## Question 2: Algorithm Explanation\n",
    "Create your own toy example that matches the dataset provided and use this toy example to explain the math behind the algorithm that you will perform.  \n",
    "\n",
    "Logistic regression carries over some of the same concepts as linear regression but with some important differences. Fundamentally, we are still training a model that results in an equation for a line. So our trained model looks like a vector of coefficients in a linear equation:  \n",
    "  \n",
    "<center>Linear equation: $y = \\beta_0 + \\beta_1 \\cdot X_1 ... + \\beta_m \\cdot X_m$</center>    \n",
    "  \n",
    "<center>Our model: $[\\beta_0, \\beta_1, ... \\beta_m]$</center>    \n",
    "where m is number of features and $\\beta_0$, or intercept, is a bias term.  \n",
    "As with linear regression, we use this line to make predictions. In linear regression, we take a new datapoint of features (x's), plug into the linear equation with our model coefficients, and get a predicted y value. With logistic regression, it's more complicated since we are taking continuous variable inputs and trying to arrive at a binary classification output. The line we are drawing is a decision boundary above which we classify the input as 1 and below which we classify the input as 0. We need to perform some additional steps to convert the y value prediction, which is a continuous variable, to a final answer of a 0 or a 1. First, we put the predicted y value through a sigmoid function, which outputs a continuous value between 0 and 1 that represents a probability:  \n",
    "  \n",
    "<center>P(class=1) = \\frac{1} {1 + e^{-z}}</center>\n",
    "  \n",
    "where z is the y value prediction (i.e. mx+b).  Once we have these probabilities, we need to pick a decision boundary between 0 and 1. One logical default value for that boundary is 0.5. So if the probability is greater than 0.5, classify the sample as 1, otherwise classify it as 0.  \n",
    "  \n",
    "Like with linear regression, in order to parallelize the training of the linear model we can't do a closed-form solution but must treat it as an optimization problem with gradient descent. Fortunately, the Log Loss or Cross-Entropy Loss method described above gives us a convex equation, allowing us to use gradient descent with the confidence of not hitting local minima.  \n",
    "  \n",
    "Objective: $f(w) = \\sum_{i=1}^{n}log(1+exp(-y_i w^T x_i))$  \n",
    "$\\frac{df}{dw} = \\sum_{i=1}^{n}\\frac{1}{1+exp(-y_i w x_i)}\\cdot\\frac{d[1+exp(-y_i w x_i)}{dw}$  \n",
    "$              = \\sum_{i=1}^{n}\\frac{exp(-y_i w x_i)}{1+exp(-y_i w^T x_i)}\\cdot\\frac{d(-y_i w x_i)}{dw}$  \n",
    "$              = \\sum_{i=1}^{n}\\frac{exp(-y_i w x_i)}{1+exp(-y_i w^T x_i)}(-y_i x_i)$  \n",
    "$              = \\sum_{i=1}^{n}[1 - \\frac{1}{1+exp(-y_i w x_i)}](-y_i x_i)$  \n",
    "$              = \\sum_{i=1}^{n}[\\frac{1}{1+exp(-y_i w x_i)} + 1](y_i x_i)$  \n",
    "$  \\nabla_w f =\\sum_{i=1}^{n}[\\frac{1}{1+exp(-y_i w^T x_i)} + 1](y_i x_i)$\n",
    "  \n",
    "This gets expressed in the code below as a spark job as follows:  \n",
    ".map(lambda x: (1 / (1 + np.exp(-x[1]*np.dot(W, x[0])))-1) * x[1] * np.array(x[0]))  \n",
    ".reduce(lambda x, y: x + y)\n",
    "\n",
    "A LITTLE BIT MORE ON THE CALCULATING LOSS...\n",
    "\n",
    "  \n",
    "\n",
    "\n",
    "\n",
    "\n",
    "\n",
    "\n",
    "\n",
    "\n",
    "\n"
   ]
  },
  {
   "cell_type": "markdown",
   "metadata": {},
   "source": [
    "#### EDA: See correlations"
   ]
  },
  {
   "cell_type": "code",
   "execution_count": 103,
   "metadata": {},
   "outputs": [
    {
     "data": {
      "image/png": "[encoded data removed]",
      "text/plain": [
       "<Figure size 1080x576 with 2 Axes>"
      ]
     },
     "metadata": {
      "needs_background": "light"
     },
     "output_type": "display_data"
    }
   ],
   "source": [
    "# Correlation heat map on integer features and label\n",
    "# Turn your settings on Jupyter to white background\n",
    "fig = plt.figure(figsize=(15,8))\n",
    "ax1 = fig.add_subplot(111)\n",
    "plt.imshow(numericPDF.corr(), cmap='hot', interpolation='nearest')\n",
    "plt.colorbar()\n",
    "labels = numericPDF.columns.tolist()\n",
    "ax1.set_xticks(np.arange(len(labels)))\n",
    "ax1.set_yticks(np.arange(len(labels)))\n",
    "ax1.set_xticklabels(labels,rotation=90, fontsize=10)\n",
    "ax1.set_yticklabels(labels,fontsize=10)\n",
    "plt.show()"
   ]
  },
  {
   "cell_type": "markdown",
   "metadata": {},
   "source": [
    "#### Observations from the correlation heatmap\n",
    "1. Nothing seems all that correlated with the label. Best are I7, I10, I11\n",
    "2. There are some features strongly correlated with outher features: (I7,I11), (I4, I13), (I4, I8), (I8, I13)"
   ]
  },
  {
   "cell_type": "code",
   "execution_count": 238,
   "metadata": {},
   "outputs": [
    {
     "name": "stderr",
     "output_type": "stream",
     "text": [
      "/opt/anaconda/lib/python3.6/site-packages/ipykernel_launcher.py:6: SettingWithCopyWarning: \n",
      "A value is trying to be set on a copy of a slice from a DataFrame.\n",
      "Try using .loc[row_indexer,col_indexer] = value instead\n",
      "\n",
      "See the caveats in the documentation: http://pandas.pydata.org/pandas-docs/stable/indexing.html#indexing-view-versus-copy\n",
      "  \n"
     ]
    },
    {
     "name": "stdout",
     "output_type": "stream",
     "text": [
      "Chi_square test on each categorical column with label\n",
      "\n",
      "C1 p-value:  0.21082798547288253\n",
      "C2 p-value:  0.6435562286680369\n",
      "C3 p-value:  1.0\n",
      "C4 p-value:  0.012948939934941228\n",
      "C5 p-value:  0.8535936414496317\n",
      "C6 p-value:  0.049581973659291234\n",
      "C7 p-value:  0.797861519994188\n",
      "C8 p-value:  0.6135336372023791\n",
      "C9 p-value:  7.50591017192037e-05\n",
      "C10 p-value:  1.0\n",
      "C11 p-value:  0.7938565664416881\n",
      "C12 p-value:  1.0\n",
      "C13 p-value:  0.6702820959999762\n",
      "C14 p-value:  0.0004643180576810328\n",
      "C15 p-value: None\n",
      "C16 p-value:  0.010838360359114419\n",
      "C17 p-value:  6.215519829380432e-06\n",
      "C18 p-value:  0.36916060790189564\n",
      "C19 p-value:  0.4073140424351105\n",
      "C20 p-value:  0.3279960391349751\n",
      "C21 p-value:  0.010838360359114419\n",
      "C22 p-value:  0.3632684079519511\n",
      "C23 p-value:  0.2132366139150885\n",
      "C24 p-value:  0.7881904129396066\n",
      "C25 p-value:  0.3848364145236987\n",
      "C26 p-value:  0.4419905004244705\n"
     ]
    }
   ],
   "source": [
    "# Try doing chi-squared test for categorical features and the label\n",
    "# relied on code from here: https://codereview.stackexchange.com/questions/96761/chi-square-independence-test-for-two-pandas-df-columns\n",
    "\n",
    "factorizedPDF = samplePDF[label_and_numeric]\n",
    "for colname in categorical_features:\n",
    "    factorizedPDF[colname] = pd.factorize(samplePDF[colname])[0]\n",
    "    \n",
    "import scipy.stats as scs\n",
    "\n",
    "def categories(series):\n",
    "    return range(int(series.min()), int(series.max()) + 1)\n",
    "\n",
    "def chi_square_of_df_cols(df, col1, col2):\n",
    "    df_col1, df_col2 = df[col1], df[col2]\n",
    "\n",
    "    result = [[sum((df_col1 == cat1) & (df_col2 == cat2))\n",
    "               for cat2 in categories(df_col2)]\n",
    "              for cat1 in categories(df_col1)]\n",
    "    \n",
    "    # can't have cells in contigency table <5, so tossing out small categories\n",
    "    # valid if just trying to get a rough idea of associations? hopefully...\n",
    "    new_cont_table = []\n",
    "    for pair in result:\n",
    "        if (pair[0] >= 5 and pair[1] >= 5):\n",
    "            new_cont_table.append(pair)\n",
    "    \n",
    "    if (new_cont_table == []): \n",
    "        return None\n",
    "    else:\n",
    "        return scs.chi2_contingency(new_cont_table)\n",
    "\n",
    "print(\"Chi_square test on each categorical column with label\\n\")\n",
    "for colname in categorical_features:\n",
    "    if chi_square_of_df_cols(factorizedPDF, colname, 'label') != None:\n",
    "        p_val = chi_square_of_df_cols(factorizedPDF, colname, 'label')[1]\n",
    "        print(colname, \"p-value: \", p_val)\n",
    "    else:\n",
    "        print(colname, \"p-value: None\")\n"
   ]
  },
  {
   "cell_type": "markdown",
   "metadata": {},
   "source": [
    "#### Results of the chi-squared correlation tests on categories\n",
    "C4, C6, C9, C14, C16, C17, C21 appear to show significant correlation"
   ]
  },
  {
   "cell_type": "code",
   "execution_count": null,
   "metadata": {},
   "outputs": [],
   "source": []
  },
  {
   "cell_type": "code",
   "execution_count": null,
   "metadata": {},
   "outputs": [],
   "source": []
  },
  {
   "cell_type": "markdown",
   "metadata": {},
   "source": [
    "## Algorithm Explanation\n",
    "\n",
    "This is the fundamental concept in feature engineering when exploring our Criteo dataset. \n",
    "\n",
    "## Data Exploration \n",
    "\n",
    "```\n",
    "  45,840,617 (Criteo dataset in Kaggle) \n",
    "      |\n",
    "      |\n",
    "   100,000 (sample) \n",
    "    |-- train data      : 80,000 (80%) \n",
    "    |-- validation data : 10,000 (10%)\n",
    "    |-- test data       : 10,000 (10%)\n",
    "```\n",
    "\n",
    "Initially, we will explore 100,000 sample dataset out of original 45 million samples. To test the performance of our classifiers, we split 80% of the sample dataset into train data (80,000), 10% into validation data (10,000) and the remaining 10% for the final test data (10,000). \n",
    "\n",
    "## Features Engineering (One Hot Encoding Vs Features Hashing) \n",
    "\n",
    "Each sample has `40` variables. The first variable or the column is the label: `1` or `0` to indicate the clicking event, `1` being the clicked activity. The remaining `39` variables are features, of which `13` are represented in numeric value and the rest `26` are represented in hashed value. Some of them have missing values. All features are categorical features. In order to capture all the features, we will explore the most common feature engineering methods for categorical variables: **one hot encoding (OHE)** and **feature hashing**. \n",
    "\n",
    "### 1. One Hot Encoding (OHE)\n",
    "\n",
    "As the name suggests, one hot encoding (OHE) expands all the unique features in the dataset. \n",
    "\n",
    "```\n",
    "|         | feature1 | feature2 | feature3 | \n",
    "|---------|----------|----------|----------|\n",
    "|sample 1 | black    | round    | matte    |\n",
    "|sample 2 | white    | square   | shiny    |\n",
    "|sample 3 | blue     | round    | matte    |\n",
    "|sample 4 | black    | round    | shiny    | \n",
    "\n",
    "\n",
    "|         |black |white |blue ||round |square ||matte  |shiny | \n",
    "|---------|------|------|-----||------|-------||-------|------|\n",
    "|sample 1 | 1    | 0    | 0   || 1    |  0    || 1     | 0    |  \n",
    "|sample 2 | 0    | 1    | 0   || 0    |  1    || 0     | 1    |\n",
    "|sample 3 | 0    | 0    | 1   || 1    |  0    || 1     | 0    | \n",
    "|sample 4 | 1    | 0    | 0   || 1    |  0    || 0     | 1    | \n",
    "\n",
    "\n",
    "index    = [0, 1, 2, 3, 4, 5, 6]\n",
    "--------------------------------\n",
    "sample 1 = [1, 0, 0, 1, 0, 1, 0] \n",
    "sample 2 = [0, 1, 0, 0, 1, 0, 1]\n",
    "sample 3 = [0, 0, 1, 1, 0, 1, 0]\n",
    "sample 4 = [1, 0, 0, 1, 0, 0, 1]\n",
    "```\n",
    "\n",
    "The advantage of one hot encoding is when the dataset is relatively small, it is convenient to capture all the unique features. We can also create a sparse vector to represent our dataset in more compact fashion. However one hot encoding becomes computationaly expensive when the dataset is extremely large, for eg, our Criteo Kaggle dataset which comes with 45 millions of samples and there are at least 33 millions unique features. \n",
    "\n",
    "The other disadvantage of One Hot Encoding is, in order to capture all the unique features, we need to have a single pass over the entire dataset, which makes the computation more expensive for the large data. However we will use OHE in our exploratory data analysis and compare with features hashing method described below. "
   ]
  },
  {
   "cell_type": "code",
   "execution_count": 8,
   "metadata": {},
   "outputs": [
    {
     "name": "stdout",
     "output_type": "stream",
     "text": [
      "Number of train data:  32085274\n",
      "Number of val data  :  6876749\n",
      "Number of test data :  6878594\n",
      "number of total data:  45840617\n",
      "['0,1,1,5,0,1382,4,15,2,181,1,2,,2,68fd1e64,80e26c9b,fb936136,7b4723c4,25c83c98,7e0ccccf,de7995b8,1f89b562,a73ee510,a8cd5504,b2cb9c98,37c9c164,2824a5f6,1adce6ef,8ba8b39a,891b62e7,e5ba7672,f54016b9,21ddcdc9,b1252a9d,07b5194c,,3a171ecb,c5c50484,e8b83407,9727dd16']\n"
     ]
    }
   ],
   "source": [
    "# I changed the sampleRDD into trainRDD but left the `sampleRDD1` name intact \n",
    "# because I don't want to change all other variable name.\n",
    "\n",
    "sampleRDD1 = trainRDD.map(lambda x: x.replace('\\t', ','))\n",
    "\n",
    "# Splitting the data\n",
    "# I'm splitting the original 45 million data,\n",
    "weights = [0.7, 0.15, 0.15]\n",
    "seed = 42\n",
    "# Use randomSplit with weights and seed\n",
    "TrainData, ValData, TestData = sampleRDD1.randomSplit(weights,seed)\n",
    "\n",
    "# count the data\n",
    "nTrain = TrainData.count()\n",
    "nVal = ValData.count()\n",
    "nTest = TestData.count()\n",
    "print(\"Number of train data: \", nTrain)\n",
    "print(\"Number of val data  : \", nVal)\n",
    "print(\"Number of test data : \", nTest)\n",
    "print(\"number of total data: \", nTrain + nVal + nTest)\n",
    "print(sampleRDD1.take(1))"
   ]
  },
  {
   "cell_type": "markdown",
   "metadata": {},
   "source": [
    "## Question 4: Algorithm Implementation\n",
    "\n",
    "This is a step by step walk through on how we develop home grown algorithm with particularly a parallel computation concept in mind. Since our dataset is very large, in order to capture all the unique features, we first employed one hot encoding approach for our small dataset `100,000` samples. \n",
    "\n",
    "## Step by step walk through to create one hot encoding\n",
    "\n",
    "One sample \n",
    "```\n",
    "['0,1,1,5,0,1382,4,15,2,181,1,2,,2,68fd1e64,80e26c9b,fb936136,7b4723c4,25c83c98,7e0ccccf,de7995b8,1f89b562,a73ee510,a8cd5504,b2cb9c98,37c9c164,2824a5f6,1adce6ef,8ba8b39a,891b62e7,e5ba7672,f54016b9,21ddcdc9,b1252a9d,07b5194c,,3a171ecb,c5c50484,e8b83407,9727dd16']\n",
    "```\n",
    "### Step 1 (Features selection) \n",
    "\n",
    "Remove the first column, i.e., label `1` or `0`. \n",
    "\n",
    "```\n",
    "['0']\n",
    "[1,1,5,0,1382,4,15,2,181,1,2,,2,68fd1e64,80e26c9b,fb936136,7b4723c4,25c83c98,7e0ccccf,de7995b8,1f89b562,a73ee510,a8cd5504,b2cb9c98,37c9c164,2824a5f6,1adce6ef,8ba8b39a,891b62e7,e5ba7672,f54016b9,21ddcdc9,b1252a9d,07b5194c,,3a171ecb,c5c50484,e8b83407,9727dd16']\n",
    "```\n",
    "\n",
    "### Step 2 (Index each feature)\n",
    "\n",
    "Assign the remaining `39` variables with corresponding indexes. This step is critical because we will then use the index as our keys and in the reducer step, we could count how many unique features exists in each index.  \n",
    "\n",
    "```\n",
    "[[(0, '1'),      # index 0, feature 1 with the category '1'\n",
    "  (1, '1'),\n",
    "  (2, '5'),\n",
    "  (3, '0'),\n",
    "  (4, '1382'), ...],\n",
    " [(0, '5'),      # index 0, feature 1 with the category '5'\n",
    "  (1, '10'), \n",
    "  (2, '34'), ...], ...,\n",
    "  []]\n",
    "```\n",
    "\n",
    "### Step 3 (Select unique) \n",
    "\n",
    "The index `0` can have many features. For example \n",
    "\n",
    "```\n",
    "(0, '1')\n",
    "(0, '5')\n",
    "(0, '15')\n",
    "(0, '8')\n",
    "(0, '1')      --> (already had above), will be removed by distinct()\n",
    "(0, '15')     --> (already had above), will be removed by distinct() \n",
    "...\n",
    "```\n",
    "To count the unique features for each index, we will use `distinct()`. Distinct() step will be expensive especially when the data is very large. \n",
    "\n",
    "### Step 4 [Optional] (Mapper and Reducer stage) \n",
    "\n",
    "1. Map every index and emit them with `1` so that we can reduce them. \n",
    "2. Reduce by (lambda x, y: x + y) \n",
    "\n",
    "```\n",
    "[(0, 145),\n",
    " (1, 2483),\n",
    " (2, 864),\n",
    " (3, 130),\n",
    " (4, 20352),\n",
    " ...\n",
    "```\n",
    "\n",
    "There are 145 unique categories for the index `0`, which is the first feature out of `39` features in our sample. \n",
    "\n",
    "### Step 4 (Create One Hot Dictionary) \n",
    "\n",
    "We need to create an index dictionary for all the unique features. Once we have the dictionary, we then go over all the samples and create a sparse vector based on what features each sample has. \n",
    "\n",
    "```\n",
    "1. zipWithIndex() will create an index for every items\n",
    "2. The emitted from above will become the tuple with the index starting from `0`.\n",
    "3. [((0, '1'), 0), ((4, '1382'), 1), ((7, '2'), 2), ((13, '68fd1e64'), 3), ((14, '80e26c9b'), 4), ...]\n",
    "4. collectAsMap() will create a dictionary by mapping the first [0] in a tuple and makes them as keys (composite key)\n",
    "5. the index becomes the dict value\n",
    "\n",
    "{(0, '1'): 0,\n",
    " (4, '1382'): 1,\n",
    " (7, '2'): 2,\n",
    " (13, '68fd1e64'): 3,\n",
    " ...,\n",
    " ...,\n",
    " (36, '9a1c7e3d'): 234358}\n",
    "```\n",
    "\n",
    "### Step 5 (One Hot Encoding) \n",
    "\n",
    "In order to pipeline our RDD into our classifiers in later steps. Spark has a LabeledPoint which requires label in its tuple index`[0]` position. the index`[1]` has the sparse vector format. Reference <a href=\"https://spark.apache.org/docs/latest/api/python/pyspark.mllib.html?highlight=labeledpoint\">here</a>. This is what we try to achieve from our RDD sample. \n",
    "\n",
    "```\n",
    "[LabeledPoint(0.0, (234358,[0,1,2,3,4,5,6,7,8,9,10,11,12,13,14,15,16,17,117215,117216,117217,117218,117219,117220,117221,117222,117223,117224,117225,117226,117227,117228,117229,117230,117231,117232,117233,117234,117235],[1.0,1.0,1.0,1.0,1.0,1.0,1.0,1.0,1.0,1.0,1.0,1.0,1.0,1.0,1.0,1.0,1.0,1.0,1.0,1.0,1.0,1.0,1.0,1.0,1.0,1.0,1.0,1.0,1.0,1.0,1.0,1.0,1.0,1.0,1.0,1.0,1.0,1.0,1.0]))] \n",
    "```\n",
    "1. The first `0.0` at tuple index`[0]` is the sample label. \n",
    "2. `234358` is the length of the vector space. \n",
    "3. The first list `[]` is the index list for all the unique features for the sample. \n",
    "4. The second list `[]` is the value of the unique features. Since this is OHE, it's `1`. \n",
    "\n",
    "\n",
    "- To achieve this, we need to feed our original RDD because we need the original label for each sample. \n",
    "- To have the sparse vector, we already created OHE dictionary in Step 4. We will then create our sample into `(index, category)` format, and search in our OHE dictionary for their corresponding index.  \n",
    "\n",
    "## Step 6 (Classifiers) \n",
    "\n",
    "We will use logistic regression because our label is a binary classification, either `1` or `0`. We will use log loss function as to check our model performance. A general rule of thumb is the nearer the log loss value is to zero, the more accurate our model is. "
   ]
  },
  {
   "cell_type": "code",
   "execution_count": 38,
   "metadata": {},
   "outputs": [],
   "source": [
    "def indexFeatures(line):\n",
    "    #  select feature of interest after removing the first column which is the label\n",
    "\n",
    "    features = []\n",
    "\n",
    "    for index,feature in enumerate(line.split(',')[1:]):\n",
    "        idxFeat = index,feature\n",
    "        features.append(idxFeat)\n",
    "        \n",
    "    return features"
   ]
  },
  {
   "cell_type": "code",
   "execution_count": 12,
   "metadata": {},
   "outputs": [
    {
     "name": "stdout",
     "output_type": "stream",
     "text": [
      "[(0, 140), (1, 2378), (2, 813), (3, 127), (4, 18849), (5, 1817), (6, 560), (7, 123), (8, 1724), (9, 8), (10, 84), (11, 65), (12, 244), (13, 457), (14, 491), (15, 32275), (16, 19453), (17, 127), (18, 11), (19, 6977), (20, 219), (21, 3), (22, 9243), (23, 3593), (24, 30531), (25, 2700), (26, 26), (27, 4643), (28, 25973), (29, 9), (30, 2325), (31, 1174), (32, 4), (33, 28682), (34, 10), (35, 14), (36, 10034), (37, 49), (38, 7717)]\n",
      "Time taken : 4.247509479522705 seconds\n"
     ]
    }
   ],
   "source": [
    "# This is indexing all the features \n",
    "\n",
    "start = time.time()\n",
    "\n",
    "indexedTrainFeat = TrainData.map(indexFeatures)\n",
    "\n",
    "totalCat = (indexedTrainFeat\n",
    "            .flatMap(lambda x: x)\n",
    "            .distinct()\n",
    "            .map(lambda x: (x[0], 1))\n",
    "            .reduceByKey(lambda x, y: x + y)\n",
    "            .sortByKey()\n",
    "            .collect())\n",
    "\n",
    "print(totalCat)\n",
    "print(\"Time taken : {} seconds\".format(time.time() - start))"
   ]
  },
  {
   "cell_type": "code",
   "execution_count": 112,
   "metadata": {},
   "outputs": [],
   "source": [
    "# [features_list[i] for i in [1, 2, 4, 5, 8, 15, 16, 19, 22, 23, 24, 27, 28, 30, 31, 33, 36, 38]]   --> logloss 0.505 on test\n",
    "# [features_list[i] for i in [1, 2, 3, 4, 5, 6, 7, 8, 9, 10, 11, 12, 13]]                           --> logloss 0.485 on test\n",
    "# [features_list[i] for i in range(14, 39)]               # categorical features                    --> logloss 0.531 on test\n",
    "# [features_list[i] for i in [1, 2, 3, 4, 5, 6, 7, 8, 9, 10, 11, 12, 13, 17, 19, 27, 29, 34]]       --> logloss 0.520 on test\n",
    "def selectFeatures(line):\n",
    "    #  index each feature after removing the first column which is the label\n",
    "\n",
    "    features = []\n",
    "\n",
    "    features_list = line.split(',')[1:]\n",
    "    selected_features = [features_list[i] for i in [1, 3, 4, 5, 6, 7, 8, 9, 10, 11, 12]] \n",
    "    for index,feature in enumerate(selected_features):\n",
    "        idxFeat = index,feature\n",
    "        features.append(idxFeat)\n",
    "        \n",
    "    return features"
   ]
  },
  {
   "cell_type": "code",
   "execution_count": 113,
   "metadata": {},
   "outputs": [
    {
     "name": "stdout",
     "output_type": "stream",
     "text": [
      "[(0, 8741), (1, 450), (2, 424238), (3, 10553), (4, 3790), (5, 1196), (6, 6731), (7, 13), (8, 166), (9, 376), (10, 1161)]\n",
      "Time taken : 201.2898724079132 seconds\n"
     ]
    }
   ],
   "source": [
    "# This is selecting features which have more than 1000 unique categories in each feature\n",
    "\n",
    "start = time.time()\n",
    "\n",
    "indexedTrainFeat = TrainData.map(selectFeatures)\n",
    "\n",
    "totalCat = (indexedTrainFeat\n",
    "            .flatMap(lambda x: x)\n",
    "            .distinct()\n",
    "            .map(lambda x: (x[0], 1))\n",
    "            .reduceByKey(lambda x, y: x + y)\n",
    "            .sortByKey()\n",
    "            .collect())\n",
    "\n",
    "print(totalCat)\n",
    "print(\"Time taken : {} seconds\".format(time.time() - start))"
   ]
  },
  {
   "cell_type": "code",
   "execution_count": 114,
   "metadata": {},
   "outputs": [
    {
     "name": "stdout",
     "output_type": "stream",
     "text": [
      "Total number of unique categories for all features:  457415\n",
      "Time taken : 0.0005197525024414062 seconds\n"
     ]
    }
   ],
   "source": [
    "# Counting total number of categories\n",
    "start = time.time()\n",
    "total = 0\n",
    "for item in totalCat:\n",
    "    total += item[1]\n",
    "print(\"Total number of unique categories for all features: \", total)\n",
    "print(\"Time taken : {} seconds\".format(time.time() - start))"
   ]
  },
  {
   "cell_type": "markdown",
   "metadata": {},
   "source": [
    "#### Unique features analysis \n",
    "\n",
    "1. There are `28,728,198` unique features extracted from the train dataset 0.8 * 45 = 36 million dataset using one hot encoding. Since it crashes in the later step, I reduced  the training dataset into 0.5 * 45 = 22.5 million dataset, which gave us `19,733.119` unique features. Since the computer crashes, I further reduced the training size to `4.1` million dataset. "
   ]
  },
  {
   "cell_type": "code",
   "execution_count": 43,
   "metadata": {},
   "outputs": [],
   "source": [
    "def createOHEDict(dataRDD):\n",
    "    \"\"\" This is an function to create one hot encoding (OHE) dictionary \n",
    "    on the entire dataset. To make sure there's a unique number of categories for each feature,\n",
    "    it will use the distinct() function. \"\"\"\n",
    "    \n",
    "    OHEDict = (dataRDD.map(indexFeatures)\n",
    "                       .flatMap(lambda x: x)\n",
    "                       .distinct()\n",
    "                       .zipWithIndex()\n",
    "                       .collectAsMap())\n",
    "    return OHEDict"
   ]
  },
  {
   "cell_type": "code",
   "execution_count": 115,
   "metadata": {},
   "outputs": [],
   "source": [
    "# Creating OHEDict for selected features only \n",
    "\n",
    "def createOHEDict(dataRDD):\n",
    "    \"\"\" This is an function to create one hot encoding (OHE) dictionary \n",
    "    on the entire dataset. To make sure there's a unique number of categories for each feature,\n",
    "    it will use the distinct() function. \"\"\"\n",
    "    \n",
    "    OHEDict = (dataRDD.map(selectFeatures)\n",
    "                       .flatMap(lambda x: x)\n",
    "                       .distinct()\n",
    "                       .zipWithIndex()\n",
    "                       .collectAsMap())\n",
    "    return OHEDict"
   ]
  },
  {
   "cell_type": "code",
   "execution_count": 116,
   "metadata": {},
   "outputs": [
    {
     "name": "stdout",
     "output_type": "stream",
     "text": [
      "The value of (1, '') is  111430\n",
      "Time taken to process : 201.84091520309448 seconds\n",
      "457415\n"
     ]
    }
   ],
   "source": [
    "start = time.time()\n",
    "trainOHEDict = createOHEDict(TrainData)\n",
    "print(\"The value of (1, '') is \", trainOHEDict[(1, '')])\n",
    "print(\"Time taken to process : {} seconds\".format(time.time() - start))\n",
    "\n",
    "trainOHEFeatures = len(trainOHEDict.keys())\n",
    "print(trainOHEFeatures)"
   ]
  },
  {
   "cell_type": "markdown",
   "metadata": {},
   "source": [
    "## I. One Hot Encoding \n",
    "## Preparing each dataset for our classifier model"
   ]
  },
  {
   "cell_type": "code",
   "execution_count": 117,
   "metadata": {},
   "outputs": [],
   "source": [
    "from pyspark.mllib.linalg import SparseVector\n",
    "from pyspark.mllib.regression import LabeledPoint\n",
    "\n",
    "def sparseOHE(feature_list, OHEDict):\n",
    "    \"\"\"Emitting SparseVector from the entire one hot encoding dictionary \n",
    "    for one sample data at a time\n",
    "    \"\"\"\n",
    "\n",
    "    index_list = []\n",
    "    \n",
    "    for feat in feature_list:\n",
    "        if feat in OHEDict:                     # this step is for other dataset when the unique feature might not be in the OHE dict\n",
    "            index_list.append(OHEDict[feat])\n",
    "        \n",
    "    index_list.sort()\n",
    "    \n",
    "    # create a list of 1.0s for each feature\n",
    "    values = [1.] * len(index_list)\n",
    "\n",
    "    return SparseVector(len(OHEDict.keys()), index_list, values)\n",
    "\n",
    "def parseRDD(line, OHEDict):\n",
    "    \"\"\"emit label, sparseVector for the sample that has been already one hot encoded. \n",
    "    label = 1 or 0 \n",
    "    sparseVector = (total number of features, [list of indexes], [list of corresponding values])\n",
    "    \"\"\"\n",
    "    features = []\n",
    "    \n",
    "    # split each value in the comma separated text\n",
    "    for index, feature in enumerate(line.split(',')[1:]):\n",
    "        idxfeat = index, feature\n",
    "        features.append(idxfeat)\n",
    "    \n",
    "    return LabeledPoint(line.split(\",\")[0], sparseOHE(features, OHEDict))"
   ]
  },
  {
   "cell_type": "code",
   "execution_count": 118,
   "metadata": {},
   "outputs": [
    {
     "name": "stdout",
     "output_type": "stream",
     "text": [
      "1st sample of feature engineered train data\n",
      "[LabeledPoint(0.0, (457415,[37123,72997,119774,123793,160964,182272,241862,329322,405360,409442,447770],[1.0,1.0,1.0,1.0,1.0,1.0,1.0,1.0,1.0,1.0,1.0]))]\n",
      "--------------------------------------------------\n",
      "1st sample of feature engineered validation data\n",
      "[LabeledPoint(0.0, (457415,[37123,78462,104587,127918,305271,392966,399792,430048,453286],[1.0,1.0,1.0,1.0,1.0,1.0,1.0,1.0,1.0]))]\n",
      "--------------------------------------------------\n",
      "1st sample of feature engineered test data\n",
      "[LabeledPoint(0.0, (457415,[138951,143065,199461,251540,276224,317476,366934,392966],[1.0,1.0,1.0,1.0,1.0,1.0,1.0,1.0]))]\n",
      "--------------------------------------------------\n",
      "Time taken to process for 3 datasets: 20.27706527709961 seconds\n"
     ]
    }
   ],
   "source": [
    "start = time.time()\n",
    "OHETrainData = TrainData.map(lambda line: parseRDD(line, trainOHEDict))\n",
    "OHEValData = ValData.map(lambda line: parseRDD(line, trainOHEDict))\n",
    "OHETestData = TestData.map(lambda line: parseRDD(line, trainOHEDict))\n",
    "print(\"1st sample of feature engineered train data\")\n",
    "print(OHETrainData.take(1))\n",
    "print(\"-\"*50)\n",
    "print(\"1st sample of feature engineered validation data\")\n",
    "print(OHEValData.take(1))\n",
    "print(\"-\"*50)\n",
    "print(\"1st sample of feature engineered test data\")\n",
    "print(OHETestData.take(1))\n",
    "print(\"-\"*50)\n",
    "print(\"Time taken to process for 3 datasets: {} seconds\".format(time.time() - start))"
   ]
  },
  {
   "cell_type": "markdown",
   "metadata": {},
   "source": [
    "## Classifiers\n",
    "## Logistic Regression on Criteo CTR Data\n",
    "\n",
    "\n"
   ]
  },
  {
   "cell_type": "code",
   "execution_count": 119,
   "metadata": {},
   "outputs": [
    {
     "name": "stdout",
     "output_type": "stream",
     "text": [
      "Model weights for the first 5 variables or features developed on train data\n",
      "\n",
      "[-0.6972320770426881, -0.568179574284938, -0.48932305551716265, -0.44262230014901444, -0.40318678018926674]\n",
      "--------------------------------------------------\n",
      "Model intercept\n",
      "\n",
      "-0.16229626525073787\n"
     ]
    }
   ],
   "source": [
    "# Model definition\n",
    "\n",
    "from pyspark.mllib.classification import LogisticRegressionWithSGD\n",
    "\n",
    "# adjustable hyperparameters\n",
    "numIters = 50\n",
    "stepSize = 10.\n",
    "regParam = 1e-6\n",
    "regType = 'l2'\n",
    "includeIntercept = True\n",
    "\n",
    "model0 = LogisticRegressionWithSGD.train(OHETrainData,\\\n",
    "                                         iterations=numIters,\\\n",
    "                                         step=stepSize,\\\n",
    "                                         regParam=regParam,\\\n",
    "                                         regType=regType,\\\n",
    "                                         intercept=includeIntercept)\n",
    "\n",
    "print(\"Model weights for the first 5 variables or features developed on train data\\n\")\n",
    "sortedWeights = sorted(model0.weights)\n",
    "print(sortedWeights[:5])\n",
    "print(\"-\"*50)\n",
    "print(\"Model intercept\\n\")\n",
    "print(model0.intercept)"
   ]
  },
  {
   "cell_type": "code",
   "execution_count": 120,
   "metadata": {},
   "outputs": [],
   "source": [
    "from pyspark.accumulators import AccumulatorParam\n",
    "\n",
    "class FloatAccumulatorParam(AccumulatorParam):\n",
    "    \"\"\"\n",
    "    Custom accumulator for use in page rank to keep track of various masses.\n",
    "    \n",
    "    IMPORTANT: accumulators should only be called inside actions to avoid duplication.\n",
    "    We stringly recommend you use the 'foreach' action in your implementation below.\n",
    "    \"\"\"\n",
    "    def zero(self, value):\n",
    "        return value\n",
    "    def addInPlace(self, val1, val2):\n",
    "        return val1 + val2 \n",
    "\n",
    "def calcProb(x, w, intercept):\n",
    "    \"\"\"Calculate the probability for an observation given a set of weights and intercept.\n",
    "    Note    : We'll bound our raw prediction between 20 and -20 for numerical purposes.\n",
    "    Returns : float: A probability between 0 and 1 for each sample using the model developed earlier, i.e., LogisticRegressionwithSGD\n",
    "    \"\"\"\n",
    "    \n",
    "    rawPrediction = x.dot(w) + intercept\n",
    "\n",
    "    # Bound the raw prediction value\n",
    "    rawPrediction = min(rawPrediction, 20)\n",
    "    rawPrediction = max(rawPrediction, -20)\n",
    "    \n",
    "    # pass it through the sigmoid function\n",
    "    return (1 + exp(-rawPrediction))**(-1)\n",
    "\n",
    "def evaluateConfMatrix(model, data):\n",
    "    \"\"\"Calculates the log loss for the data given the model.\"\"\"\n",
    "    \n",
    "    TP_count = sc.accumulator(0.0)\n",
    "    TN_count = sc.accumulator(0.0)\n",
    "    FP_count = sc.accumulator(0.0)\n",
    "    FN_count = sc.accumulator(0.0)\n",
    "    pred_yes = sc.accumulator(0.0)\n",
    "    pred_no = sc.accumulator(0.0)\n",
    "    actu_yes = sc.accumulator(0.0)\n",
    "    actu_no = sc.accumulator(0.0)\n",
    "    total_count = sc.accumulator(0.0)\n",
    "    \n",
    "    def computeAccuracy(line):\n",
    "    \n",
    "        p, y = line\n",
    "        if y == 0:\n",
    "            actu_no.add(int(1))\n",
    "        else:\n",
    "            actu_yes.add(int(1))\n",
    "            \n",
    "        threshold = 0.5 \n",
    "\n",
    "        if p < threshold:\n",
    "            p = 0\n",
    "            pred_no.add(int(1))\n",
    "        else: \n",
    "            p = 1\n",
    "            pred_yes.add(int(1))\n",
    "\n",
    "        if p == y: \n",
    "            if y == 1:\n",
    "                TP_count.add(int(1))\n",
    "            else: \n",
    "                TN_count.add(int(1))\n",
    "        else: \n",
    "            if p < y:\n",
    "                FN_count.add(int(1))\n",
    "            else:\n",
    "                FP_count.add(int(1))\n",
    "\n",
    "        total_count.add(int(1))\n",
    "\n",
    "        #return TP_count, TN_count, FP_count, FN_count, total_count\n",
    "    \n",
    "    # generate the predictions and the labels and combine them\n",
    "    predictions = data.map(lambda x: calcProb(x.features, model.weights, model.intercept))\n",
    "    labels = data.map(lambda x: x.label)\n",
    "    pred_labels = predictions.zip(labels)\n",
    "    \n",
    "    # compute the log-loss, sum it, and divide by the count\n",
    "    #TP, TN, FP, FN, tot = pred_labels.map(lambda x: computeAccuracy(x[0], x[1]))\n",
    "    \n",
    "    pred_labels.foreach(computeAccuracy)\n",
    "    \n",
    "    return TP_count.value, TN_count.value, FP_count.value, FN_count.value, actu_yes.value, actu_no.value, pred_yes.value, pred_no.value, total_count.value"
   ]
  },
  {
   "cell_type": "code",
   "execution_count": 121,
   "metadata": {},
   "outputs": [],
   "source": [
    "from math import log\n",
    "from math import exp \n",
    "\n",
    "def computeLogLoss(p, y):\n",
    "    \"\"\"Calculates the value of log loss for a given probabilty and label.\n",
    "    Since log(0) is undefined, we will use a small value (epsilon). \n",
    "    \"\"\"\n",
    "    epsilon = 10e-12\n",
    "\n",
    "    if p == 1:\n",
    "        p = p - epsilon\n",
    "    elif p == 0:\n",
    "        p = p + epsilon\n",
    "    \n",
    "    if y == 1:\n",
    "        return -log(p)\n",
    "    elif y == 0: \n",
    "        return -log(1-p) \n",
    "\n",
    "def calcProb(x, w, intercept):\n",
    "    \"\"\"Calculate the probability for an observation given a set of weights and intercept.\n",
    "    Note    : We'll bound our raw prediction between 20 and -20 for numerical purposes.\n",
    "    Returns : float: A probability between 0 and 1 for each sample using the model developed earlier, i.e., LogisticRegressionwithSGD\n",
    "    \"\"\"\n",
    "    \n",
    "    rawPrediction = x.dot(w) + intercept\n",
    "\n",
    "    # Bound the raw prediction value\n",
    "    rawPrediction = min(rawPrediction, 20)\n",
    "    rawPrediction = max(rawPrediction, -20)\n",
    "    \n",
    "    # pass it through the sigmoid function\n",
    "    return (1 + exp(-rawPrediction))**(-1)\n",
    "\n",
    "def evaluateResults(model, data):\n",
    "    \"\"\"Calculates the log loss for the data given the model.\"\"\"\n",
    "    \n",
    "    # generate the predictions and the labels and combine them\n",
    "    predictions = data.map(lambda x: calcProb(x.features, model.weights, model.intercept))\n",
    "    labels = data.map(lambda x: x.label)\n",
    "    pred_labels = predictions.zip(labels)\n",
    "    \n",
    "    # compute the log-loss, sum it, and divide by the count\n",
    "    logLoss = (pred_labels.map(lambda x: computeLogLoss(x[0], x[1])) \n",
    "                .reduce(lambda x,y: x + y))/pred_labels.count()\n",
    "    \n",
    "    return logLoss"
   ]
  },
  {
   "cell_type": "markdown",
   "metadata": {},
   "source": [
    "### Calculating the baseline for logloss"
   ]
  },
  {
   "cell_type": "code",
   "execution_count": 122,
   "metadata": {},
   "outputs": [
    {
     "name": "stdout",
     "output_type": "stream",
     "text": [
      "0.25618852436790784\n",
      "Baseline Train Logloss = 0.569\n",
      "\n",
      "--------------------------------------------------\n",
      "Time taken : 1168.7595541477203 seconds\n"
     ]
    }
   ],
   "source": [
    "# calculate the overall ctr\n",
    "start = time.time()\n",
    "classOneFracTrain = OHETrainData.map(lambda x: x.label).reduce(lambda x,y: x + y) / OHETrainData.count()\n",
    "print(classOneFracTrain)\n",
    "\n",
    "# using the overall ctr, applies to each sample and calculate the logloss\n",
    "logLossTrBase = (OHETrainData.map(lambda x: computeLogLoss(classOneFracTrain,x.label))\n",
    "                             .reduce(lambda x,y: x + y))/OHETrainData.count()\n",
    "\n",
    "print('Baseline Train Logloss = {0:.3f}\\n'.format(logLossTrBase))\n",
    "print(\"-\"*50)\n",
    "print(\"Time taken : {} seconds\".format(time.time() - start))"
   ]
  },
  {
   "cell_type": "markdown",
   "metadata": {},
   "source": [
    "### Model Performance (logloss) on the train data"
   ]
  },
  {
   "cell_type": "code",
   "execution_count": 123,
   "metadata": {},
   "outputs": [
    {
     "name": "stdout",
     "output_type": "stream",
     "text": [
      "Probability prediction on first 5 samples using LogisticRegression with Stochastic Gradient Descent\n",
      "[0.3390923417343142, 0.27169162142502234, 0.35318696326326177, 0.19172669015477942, 0.5428168592407736]\n",
      "--------------------------------------------------\n",
      "OHE Features Train Logloss:\n",
      "\tBaseline = 0.569\n",
      "\tLogistic Regression model = 0.521\n",
      "--------------------------------------------------\n",
      "Time taken : 1390.7596881389618 seconds\n"
     ]
    }
   ],
   "source": [
    "start = time.time()\n",
    "\n",
    "trainingPredictions = OHETrainData.map(lambda x: calcProb(x.features,model0.weights,model0.intercept))\n",
    "\n",
    "print(\"Probability prediction on first 5 samples using LogisticRegression with Stochastic Gradient Descent\")\n",
    "print(trainingPredictions.take(5))\n",
    "\n",
    "print(\"-\"*50)\n",
    "logLossTrLR0 = evaluateResults(model0, OHETrainData)\n",
    "print('OHE Features Train Logloss:\\n\\tBaseline = {0:.3f}\\n\\tLogistic Regression model = {1:.3f}'.format(logLossTrBase, logLossTrLR0))\n",
    "print(\"-\"*50)\n",
    "print(\"Time taken : {} seconds\".format(time.time() - start))"
   ]
  },
  {
   "cell_type": "code",
   "execution_count": 124,
   "metadata": {},
   "outputs": [
    {
     "name": "stdout",
     "output_type": "stream",
     "text": [
      "Probability prediction on first 5 samples using LogisticRegression with Stochastic Gradient Descent\n",
      "[0.3390923417343142, 0.27169162142502234, 0.35318696326326177, 0.19172669015477942, 0.5428168592407736]\n",
      "--------------------------------------------------\n",
      "OHE Confusion Matrix\n",
      "True Positives  :  1110200.0\n",
      "True Negatives  :  23068865.0\n",
      "False Positives :  796530.0\n",
      "False Negatives :  7109679.0\n",
      "Total samples   :  32085274.0\n",
      "--------------------------------------------------\n",
      "Accuracy              :  0.7535876115628621\n",
      "Precision             :  0.5822533866882044\n",
      "Sensitivity or Recall :  0.13506281540154058\n",
      "Specificity           :  0.9666240596478709\n",
      "F1-score              :  0.21926392141732734\n",
      "--------------------------------------------------\n",
      "Time taken : 721.3520448207855 seconds\n"
     ]
    }
   ],
   "source": [
    "# Confusion Matrix for train data\n",
    "# https://www.dataschool.io/simple-guide-to-confusion-matrix-terminology/\n",
    "start = time.time()\n",
    "\n",
    "trainingPredictions = OHETrainData.map(lambda x: calcProb(x.features,model0.weights,model0.intercept))\n",
    "\n",
    "print(\"Probability prediction on first 5 samples using LogisticRegression with Stochastic Gradient Descent\")\n",
    "print(trainingPredictions.take(5))\n",
    "\n",
    "print(\"-\"*50)\n",
    "TP, TN, FP, FN, actu_yes, actu_no, pred_yes, pred_no, tot = evaluateConfMatrix(model0, OHETrainData)\n",
    "print('OHE Confusion Matrix')\n",
    "print(\"True Positives  : \", TP)\n",
    "print(\"True Negatives  : \", TN)\n",
    "print(\"False Positives : \", FP)\n",
    "print(\"False Negatives : \", FN)\n",
    "print(\"Total samples   : \", tot)\n",
    "print(\"-\"*50)\n",
    "print(\"Accuracy              : \", (TP+TN)/tot)\n",
    "print(\"Precision             : \", TP/pred_yes)\n",
    "print(\"Sensitivity or Recall : \", TP/actu_yes)\n",
    "print(\"Specificity           : \", TN/actu_no)\n",
    "print(\"F1-score              : \", (2 * TP/pred_yes * TP/actu_yes)/((TP/pred_yes) + (TP/actu_yes)))\n",
    "print(\"-\"*50)\n",
    "print(\"Time taken : {} seconds\".format(time.time() - start))"
   ]
  },
  {
   "cell_type": "markdown",
   "metadata": {},
   "source": [
    "### Validation Dataset to check the model performance\n",
    "\n",
    "Since we have developed out model on the train dataset, we will use the model on validation dataset and check the performance, i.e., logloss. If need be, we'd go back to the model, fine tune the hyperparameters to bring the logloss as near as zero. "
   ]
  },
  {
   "cell_type": "code",
   "execution_count": 91,
   "metadata": {},
   "outputs": [
    {
     "name": "stdout",
     "output_type": "stream",
     "text": [
      "OHE Features Validation Logloss:\n",
      "\tBaseline = 0.569\n",
      "\tLogistic Regression model = 0.522\n",
      "--------------------------------------------------\n",
      "Time taken : 750.2806689739227 seconds\n"
     ]
    }
   ],
   "source": [
    "start = time.time()\n",
    "logLossValBase = OHEValData.map(lambda x: computeLogLoss(classOneFracTrain,x.label))\\\n",
    ".reduce(lambda x,y: x + y) / OHEValData.count()\n",
    "\n",
    "logLossValLR0 = evaluateResults(model0,OHEValData)\n",
    "print ('OHE Features Validation Logloss:\\n\\tBaseline = {0:.3f}\\n\\tLogistic Regression model = {1:.3f}'\n",
    "       .format(logLossValBase, logLossValLR0))\n",
    "print(\"-\"*50)\n",
    "print(\"Time taken : {} seconds\".format(time.time() - start))"
   ]
  },
  {
   "cell_type": "code",
   "execution_count": 76,
   "metadata": {},
   "outputs": [
    {
     "name": "stdout",
     "output_type": "stream",
     "text": [
      "OHE Confusion Matrix\n",
      "True Positives  :  245289.0\n",
      "True Negatives  :  4940261.0\n",
      "False Positives :  171812.0\n",
      "False Negatives :  1519387.0\n",
      "Total samples   :  6876749.0\n",
      "--------------------------------------------------\n",
      "Accuracy              :  0.7540699827781994\n",
      "Precision             :  0.5880805847984062\n",
      "Sensitivity or Recall :  0.13899945372408307\n",
      "Specificity           :  0.9663909337757892\n",
      "--------------------------------------------------\n",
      "Time taken : 270.4708082675934 seconds\n"
     ]
    }
   ],
   "source": [
    "# Confusion Matrix \n",
    "start = time.time() \n",
    "\n",
    "TP, TN, FP, FN, actu_yes, actu_no, pred_yes, pred_no, tot = evaluateConfMatrix(model0, OHEValData)\n",
    "print('OHE Confusion Matrix')\n",
    "print(\"True Positives  : \", TP)\n",
    "print(\"True Negatives  : \", TN)\n",
    "print(\"False Positives : \", FP)\n",
    "print(\"False Negatives : \", FN)\n",
    "print(\"Total samples   : \", tot)\n",
    "print(\"-\"*50)\n",
    "print(\"Accuracy              : \", (TP+TN)/tot)\n",
    "print(\"Precision             : \", TP/pred_yes)\n",
    "print(\"Sensitivity or Recall : \", TP/actu_yes)\n",
    "print(\"Specificity           : \", TN/actu_no)\n",
    "print(\"F1-score              : \", (2 * TP/pred_yes * TP/actu_yes)/((TP/pred_yes) + (TP/actu_yes)))\n",
    "print(\"-\"*50)\n",
    "print(\"Time taken : {} seconds\".format(time.time() - start))"
   ]
  },
  {
   "cell_type": "code",
   "execution_count": 92,
   "metadata": {},
   "outputs": [
    {
     "name": "stdout",
     "output_type": "stream",
     "text": [
      "OHE Features Validation Logloss:\n",
      "\tBaseline = 0.569\n",
      "\tLogistic Regression model = 0.521\n",
      "--------------------------------------------------\n",
      "Time taken : 750.9118156433105 seconds\n"
     ]
    }
   ],
   "source": [
    "start = time.time()\n",
    "logLossTestBase = OHETestData.map(lambda x: computeLogLoss(classOneFracTrain,x.label))\\\n",
    ".reduce(lambda x,y: x + y) / OHETestData.count()\n",
    "\n",
    "logLossTestLR0 = evaluateResults(model0,OHETestData)\n",
    "print ('OHE Features Validation Logloss:\\n\\tBaseline = {0:.3f}\\n\\tLogistic Regression model = {1:.3f}'\n",
    "       .format(logLossTestBase, logLossTestLR0))\n",
    "print(\"-\"*50)\n",
    "print(\"Time taken : {} seconds\".format(time.time() - start))"
   ]
  },
  {
   "cell_type": "code",
   "execution_count": 93,
   "metadata": {},
   "outputs": [
    {
     "name": "stdout",
     "output_type": "stream",
     "text": [
      "OHE Confusion Matrix\n",
      "True Positives  :  238258.0\n",
      "True Negatives  :  4947070.0\n",
      "False Positives :  170641.0\n",
      "False Negatives :  1522625.0\n",
      "Total samples   :  6878594.0\n",
      "--------------------------------------------------\n",
      "Accuracy              :  0.7538354495119206\n",
      "Precision             :  0.5826817869449424\n",
      "Sensitivity or Recall :  0.13530598001116487\n",
      "Specificity           :  0.9666567729205499\n",
      "--------------------------------------------------\n",
      "Time taken : 1541.161788702011 seconds\n"
     ]
    }
   ],
   "source": [
    "# Confusion matrix for Test Data\n",
    "\n",
    "TP, TN, FP, FN, actu_yes, actu_no, pred_yes, pred_no, tot = evaluateConfMatrix(model0, OHETestData)\n",
    "print('OHE Confusion Matrix')\n",
    "print(\"True Positives  : \", TP)\n",
    "print(\"True Negatives  : \", TN)\n",
    "print(\"False Positives : \", FP)\n",
    "print(\"False Negatives : \", FN)\n",
    "print(\"Total samples   : \", tot)\n",
    "print(\"-\"*50)\n",
    "print(\"Accuracy              : \", (TP+TN)/tot)\n",
    "print(\"Precision             : \", TP/pred_yes)\n",
    "print(\"Sensitivity or Recall : \", TP/actu_yes)\n",
    "print(\"Specificity           : \", TN/actu_no)\n",
    "print(\"F1-score              : \", (2 * TP/pred_yes * TP/actu_yes)/((TP/pred_yes) + (TP/actu_yes)))\n",
    "print(\"-\"*50)\n",
    "print(\"Time taken : {} seconds\".format(time.time() - start))"
   ]
  },
  {
   "cell_type": "markdown",
   "metadata": {},
   "source": [
    "## Conclusion from Logistic Regression using One Hot Encoding  \n",
    "\n",
    "Our logistic regression with stochastic gradient descent performs slightly better than the baseline. We checked the baseline in such a way that the average click through rate is distributed as probability for each sample and the performance parameter (logloss) is calculated. As the best model that can predict accurately will have the log loss of `0` value, the performance of our model is checked with the logloss function. \n",
    "\n"
   ]
  },
  {
   "cell_type": "markdown",
   "metadata": {},
   "source": []
  },
  {
   "cell_type": "markdown",
   "metadata": {},
   "source": []
  },
  {
   "cell_type": "markdown",
   "metadata": {},
   "source": [
    "## Features Engineering \n",
    "\n",
    "### Dimensionality Reduction (PCA vs Features Hashing) \n",
    "\n",
    "Although both PCA and Features hashing generate reduction in features dimension as per se, the fundamental concept in dimensionality reduction is different in each approach. \n",
    "\n",
    "### PCA (Principal Component Analysis) \n",
    "\n",
    "In PCA, all features are considered. However, in calculating the eigenvectors, i.e., the vectors can be multiplied with a scalar value (eigenvalue) and the resulting vector stays in the same euclidean vector space without changing the directionality. For all the eigenvectors that can be made from the given features space, the highest eigenvector is calculated based on the how many number of features contributes to the vector and gives the highest variance. The higher the variance, the more likely it is that the model can capture all the dataset. Since each eigenvectors are orthogonal to each other, every vector has a variation in feature numbers. Some vector could have `10000` features contributing to the larger percentage of the variance, while others can be just `200` features. In principle, PCA offers the most significant features in the feature spaces. \n",
    "\n",
    "### Features Hashing\n",
    "\n",
    "In contrast to PCA, features hashing is constrained by the number of feature space we defined. We could generously give the feature space to be $2^{15} = 32,768$, i.e., there should be `32,768` features we want to analyze in our model development. We do not have a control on which features to choose and which features to drop. Granted, if we start off with a small feature space, it's more likely that we will be dropping many features via **hash collision** situation. \n",
    "\n",
    "It is also noteworthy that when the dataset is extremelty large, executing PCA on millions of features is computationaly expensive and features hashing is recommended.  \n"
   ]
  },
  {
   "cell_type": "markdown",
   "metadata": {},
   "source": [
    "### 2. Features Hashing Concept and Details\n",
    "\n",
    "Features hashing is one of the feature engineering methods that is extremely powerful in handling large data. It also offers a unique trait known as **\"online learning\"** in which the model does not need to be trained all over again due to a new dataset. The model can immediately learns online and update the hyperparameters as it needs. \n",
    "\n",
    "As the name implies, we will have a hash function to hash all the unique features in our dataset. Hash function itself is based on the modulo function, we will need to give an ample amount of hash indexes in the beginning in order to capture all **unique** features. \n",
    "\n",
    "```\n",
    "|         | feature1 | feature2 | feature3 | \n",
    "|---------|----------|----------|----------|\n",
    "|sample 1 | black    | round    | matte    |\n",
    "|sample 2 | white    | square   | shiny    |\n",
    "|sample 3 | blue     | round    | matte    |\n",
    "|sample 4 | black    | round    | shiny    | \n",
    "```\n",
    "Imagine we don't know how many unique features exists in our dataset. But we will generously create a hash table to hold all the unique features. We will start with giving $2^3 = 8$ indexes for our dataset. \n",
    "```\n",
    "|         |    list of features    | \n",
    "|---------|------------------------|\n",
    "|sample 1 | [black, round, matte]  |  \n",
    "|sample 2 | [white, square, shiny] |\n",
    "|sample 3 | [blue, round, matte]   |\n",
    "|sample 4 | [black, round, shiny]  |\n",
    "```\n",
    "There are a number of hash value using different bits. The most common being md5 using 128 bits, we will use md5 hash function.\n",
    "```\n",
    "step 1: feature = feature.encode('utf-8')                    # feature needs to be encoded\n",
    "step 2: hashlib.md5(feature)                                 # hash object\n",
    "step 3: hashlib.md5(feature).hexdigest()                     # hash object converted to hexadecimal format \n",
    "step 4: int(hashlib.md5(feature).hexdigest(), 16)            # converting hex to base 10 \n",
    "step 5: int(int(hashlib.md5(feature).hexdigest(), 16) % 8)   # modulo to match the hash table, here 2^3 = 8\n",
    "eg    : int(int(hashlib.md5('black'.encode('utf-8')).hexdigest(), 16) % 8) \n",
    "\n",
    "|         | index list |   \n",
    "|---------|------------|\n",
    "|sample 1 | [1, 2, 3]  |  \n",
    "|sample 2 | [4, 0, 6]  |\n",
    "|sample 3 | [7, 2, 3]  |\n",
    "|sample 4 | [1, 2, 6]  |\n",
    "\n",
    "\n",
    "index    = [0, 1, 2, 3, 4, 5, 6, 7]\n",
    "-----------------------------------\n",
    "sample 1 = [0, 1, 1, 1, 0, 0, 0, 0] \n",
    "sample 2 = [1, 0, 0, 0, 1, 0, 1, 0]\n",
    "sample 3 = [0, 0, 1, 1, 0, 0, 0, 1]\n",
    "sample 4 = [0, 1, 1, 0, 0, 0, 1, 0]\n",
    "\n",
    "```\n",
    "As decribed above, feature hashing also generates one hot encoding format. By generously giving more than enough index spaces for all unique features, we avoids **hash collision** situation. Even if it occurs in a large hash table, it should not affect the accuracy of our model. \n",
    "\n",
    "The most significant advantage of using feature hashing is, we **don't** need to go over the entire dataset to convert the sample features into vector space. For eg, the first sample 1 comes with `black, round, matte` features. We don't need to know how many unique colors are there in our dataset. It could be only `black` color or more than that. But the modulo function in hash compression will take care of all the unique features and give the index based on the remainder. Similarly, our $2^3 = 8$ hash table also takes care of `round` feature as well. "
   ]
  },
  {
   "cell_type": "markdown",
   "metadata": {},
   "source": [
    "## Features Hashing Implementation "
   ]
  },
  {
   "cell_type": "code",
   "execution_count": 17,
   "metadata": {},
   "outputs": [
    {
     "name": "stdout",
     "output_type": "stream",
     "text": [
      "['C1', 'C2', 'C5', 'C6', 'C7', 'C8', 'C9', 'C10', 'C11', 'C11', 'C13', 'C14', 'C15', 'C17', 'C18', 'C19', 'C20', 'C22', 'C23', 'C25', 'C26', 'label', 'I4', 'I13', 'I7', 'I11', 'I1']\n"
     ]
    }
   ],
   "source": [
    "sqlContext = SQLContext(sc)\n",
    "\n",
    "# Load a text file and convert each line to a Row.\n",
    "#lines = sc.textFile(\"data/train50000.txt\")\n",
    "lines = sc.textFile(\"gs://midsw261/data/train.txt\")\n",
    "\n",
    "parts = lines.map(lambda l: l.split(\"\\t\"))\n",
    "projectTrain = parts.map(lambda p: Row(label=int(p[0]), I1=p[1], I2=p[2],\\\n",
    "                    I3=p[3], I4=p[4], I5=p[5], I6=p[6],\\\n",
    "                    I7=p[7], I8=p[8], I9=p[9], I10=p[10],\\\n",
    "                    I11=p[11], I12=p[12], I13=p[13], C1=p[14], C2=p[15], C3=p[16],\\\n",
    "                    C4=p[17], C5=p[18], C6=p[19], C7=p[20], C8=p[21], C9=p[22],\\\n",
    "                    C10=p[23], C11=p[24], C12=p[25], C13=p[26], C14=p[27], C15=p[28],\\\n",
    "                    C16=p[29], C17=p[30], C18=p[31], C19=p[32], C20=p[33], C21=p[34],\\\n",
    "                    C22=p[35], C23=p[36], C24=p[37], C25=p[38], C26=p[39]))\n",
    "\n",
    "# Infer the schema, and register the DataFrame as a table.\n",
    "fullDF = sqlContext.createDataFrame(projectTrain)\n",
    "fullDF.registerTempTable(\"trainTable\")\n",
    "fullDF= fullDF.withColumn(\"I1\", fullDF[\"I1\"].cast(IntegerType()))\n",
    "fullDF= fullDF.withColumn(\"I2\", fullDF[\"I2\"].cast(IntegerType()))\n",
    "fullDF= fullDF.withColumn(\"I3\", fullDF[\"I3\"].cast(IntegerType()))\n",
    "fullDF= fullDF.withColumn(\"I4\", fullDF[\"I4\"].cast(IntegerType()))\n",
    "fullDF= fullDF.withColumn(\"I5\", fullDF[\"I5\"].cast(IntegerType()))\n",
    "fullDF= fullDF.withColumn(\"I6\", fullDF[\"I6\"].cast(IntegerType()))\n",
    "fullDF= fullDF.withColumn(\"I8\", fullDF[\"I8\"].cast(IntegerType()))\n",
    "fullDF= fullDF.withColumn(\"I9\", fullDF[\"I9\"].cast(IntegerType()))\n",
    "fullDF= fullDF.withColumn(\"I10\", fullDF[\"I10\"].cast(IntegerType()))\n",
    "fullDF= fullDF.withColumn(\"I12\", fullDF[\"I12\"].cast(IntegerType()))\n",
    "fullDF= fullDF.withColumn(\"I13\", fullDF[\"I13\"].cast(IntegerType()))\n",
    "fullDF= fullDF.withColumn(\"I7\", fullDF[\"I7\"].cast(IntegerType()))\n",
    "fullDF= fullDF.withColumn(\"I11\", fullDF[\"I11\"].cast(IntegerType()))\n",
    "fullDF= fullDF.withColumn(\"I1\", fullDF[\"I1\"].cast(IntegerType()))\n",
    "fullDF= fullDF.withColumn(\"label\", fullDF[\"label\"].cast(IntegerType()))\n",
    "\n",
    "\n",
    "#remove cat logs = C3, C4, C12, C16, C21 and C24 \n",
    "# include - C6,C9,C14,C17,C20,C22,C23\n",
    "# remove -  I3, I2, I8, I9\n",
    "# remove I15 - outliers\n",
    "# include - I4 & I13, I8 & I13, I7 & I11, I1 & I7\n",
    "# since #I13 appears in noth I4 and I8 - include - I4,I13,I7 & I11, I1 & I7\n",
    "\n",
    "catcols = ['C1','C2','C5','C6','C7','C8','C9','C10','C11','C11','C13','C14','C15','C17','C18','C19','C20','C22','C23','C25','C26']\n",
    "numcols = ['label','I4','I13','I7','I11', 'I1']\n",
    "allcols = catcols + numcols\n",
    "print(allcols)"
   ]
  },
  {
   "cell_type": "code",
   "execution_count": 18,
   "metadata": {},
   "outputs": [
    {
     "name": "stdout",
     "output_type": "stream",
     "text": [
      "+--------+--------+--------+--------+--------+--------+--------+--------+--------+--------+---+--------+---+--------+---+--------+--------+---+---+--------+--------+--------+--------+--------+--------+--------+----+----+---+----+----+---+----+----+----+---+---+---+---+-----+\n",
      "|      C1|     C10|     C11|     C12|     C13|     C14|     C15|     C16|     C17|     C18|C19|      C2|C20|     C21|C22|     C23|     C24|C25|C26|      C3|      C4|      C5|      C6|      C7|      C8|      C9|  I1| I10|I11| I12| I13| I2|  I3|  I4|  I5| I6| I7| I8| I9|label|\n",
      "+--------+--------+--------+--------+--------+--------+--------+--------+--------+--------+---+--------+---+--------+---+--------+--------+---+---+--------+--------+--------+--------+--------+--------+--------+----+----+---+----+----+---+----+----+----+---+---+---+---+-----+\n",
      "|013c8fe1|233e3a0c|a7b606c4|6aaba33c|eae197fd|b28479f6|2d0bb053|b041b04a|e5ba7672|2804effd|   |421b43cd|   |723b4dfd|   |3a171ecb|b34f3128|   |   |8162da11|29998ed1|25c83c98|fe6b92e5|7f9907fe|233428af|a73ee510|null|null|  1|null|null| -1|null|null|2849|382|  4| 17| 96|    0|\n",
      "|02f970ca|e6003298|e9561d8b|        |1cc9ac51|b28479f6|8eb53550|        |27c07bd6|626db04f|   |fb253005|   |        |   |32c7478e|        |   |   |        |        |384874ce|        |a90a99c5|5b392875|a73ee510|null|null|  4|null|   7|  9|   2|   7|6759|  7| 10|  7| 32|    1|\n",
      "+--------+--------+--------+--------+--------+--------+--------+--------+--------+--------+---+--------+---+--------+---+--------+--------+---+---+--------+--------+--------+--------+--------+--------+--------+----+----+---+----+----+---+----+----+----+---+---+---+---+-----+\n",
      "only showing top 2 rows\n",
      "\n",
      "root\n",
      " |-- C1: string (nullable = true)\n",
      " |-- C10: string (nullable = true)\n",
      " |-- C11: string (nullable = true)\n",
      " |-- C12: string (nullable = true)\n",
      " |-- C13: string (nullable = true)\n",
      " |-- C14: string (nullable = true)\n",
      " |-- C15: string (nullable = true)\n",
      " |-- C16: string (nullable = true)\n",
      " |-- C17: string (nullable = true)\n",
      " |-- C18: string (nullable = true)\n",
      " |-- C19: string (nullable = true)\n",
      " |-- C2: string (nullable = true)\n",
      " |-- C20: string (nullable = true)\n",
      " |-- C21: string (nullable = true)\n",
      " |-- C22: string (nullable = true)\n",
      " |-- C23: string (nullable = true)\n",
      " |-- C24: string (nullable = true)\n",
      " |-- C25: string (nullable = true)\n",
      " |-- C26: string (nullable = true)\n",
      " |-- C3: string (nullable = true)\n",
      " |-- C4: string (nullable = true)\n",
      " |-- C5: string (nullable = true)\n",
      " |-- C6: string (nullable = true)\n",
      " |-- C7: string (nullable = true)\n",
      " |-- C8: string (nullable = true)\n",
      " |-- C9: string (nullable = true)\n",
      " |-- I1: integer (nullable = true)\n",
      " |-- I10: integer (nullable = true)\n",
      " |-- I11: integer (nullable = true)\n",
      " |-- I12: integer (nullable = true)\n",
      " |-- I13: integer (nullable = true)\n",
      " |-- I2: integer (nullable = true)\n",
      " |-- I3: integer (nullable = true)\n",
      " |-- I4: integer (nullable = true)\n",
      " |-- I5: integer (nullable = true)\n",
      " |-- I6: integer (nullable = true)\n",
      " |-- I7: integer (nullable = true)\n",
      " |-- I8: integer (nullable = true)\n",
      " |-- I9: integer (nullable = true)\n",
      " |-- label: integer (nullable = true)\n",
      "\n",
      "['C1', 'C10', 'C11', 'C12', 'C13', 'C14', 'C15', 'C16', 'C17', 'C18', 'C19', 'C2', 'C20', 'C21', 'C22', 'C23', 'C24', 'C25', 'C26', 'C3', 'C4', 'C5', 'C6', 'C7', 'C8', 'C9', 'I1', 'I10', 'I11', 'I12', 'I13', 'I2', 'I3', 'I4', 'I5', 'I6', 'I7', 'I8', 'I9', 'label']\n"
     ]
    }
   ],
   "source": [
    "splits=fullDF.randomSplit([0.7, 0.1, 0.2],2018)\n",
    "trainDF,valDF,testDF = splits\n",
    "testDF.show(2)\n",
    "testDF.printSchema()\n",
    "cols = testDF.columns\n",
    "print(cols)"
   ]
  },
  {
   "cell_type": "code",
   "execution_count": 19,
   "metadata": {
    "scrolled": true
   },
   "outputs": [
    {
     "name": "stdout",
     "output_type": "stream",
     "text": [
      "+-----+---------------------------------------------------------------------------------------------------------------------------------------------------------------------------------------------+\n",
      "|label|features                                                                                                                                                                                     |\n",
      "+-----+---------------------------------------------------------------------------------------------------------------------------------------------------------------------------------------------+\n",
      "|0    |(256,[6,34,35,36,54,55,74,79,81,86,95,115,119,130,140,175,183,185,199,210,213,225,231,250],[1.0,1.0,1.0,1.0,1.0,1.0,2.0,1.0,1.0,1.0,1.0,1.0,1.0,0.0,1.0,1.0,1.0,1.0,3.0,4.0,1.0,1.0,1.0,1.0])|\n",
      "|1    |(256,[0,32,36,37,38,46,54,56,57,61,68,81,83,86,95,109,115,130,153,173,175,183,199,210],[1.0,1.0,1.0,1.0,1.0,1.0,1.0,2.0,1.0,1.0,1.0,1.0,1.0,1.0,1.0,1.0,1.0,1.0,1.0,1.0,11.0,3.0,4.0,3.0])   |\n",
      "+-----+---------------------------------------------------------------------------------------------------------------------------------------------------------------------------------------------+\n",
      "only showing top 2 rows\n",
      "\n",
      "+--------------------------------------------------------------------------------------------------------------------------------------------------------------------------------------------+\n",
      "|features                                                                                                                                                                                    |\n",
      "+--------------------------------------------------------------------------------------------------------------------------------------------------------------------------------------------+\n",
      "|(256,[19,36,39,54,74,79,83,86,95,109,111,115,119,130,143,156,173,175,183,197,216,223],[1.0,1.0,1.0,1.0,1.0,1.0,1.0,1.0,1.0,1.0,2.0,1.0,1.0,0.0,1.0,1.0,1.0,4.0,1.0,1.0,1.0,2.0])            |\n",
      "|(256,[5,9,36,54,55,59,66,79,83,86,95,97,109,115,130,137,160,175,179,183,199,205,210,238],[1.0,1.0,1.0,1.0,1.0,1.0,1.0,1.0,1.0,1.0,1.0,1.0,1.0,1.0,1.0,1.0,1.0,10.0,2.0,4.0,8.0,1.0,7.0,1.0])|\n",
      "+--------------------------------------------------------------------------------------------------------------------------------------------------------------------------------------------+\n",
      "only showing top 2 rows\n",
      "\n",
      "LogisticRegression_4668a30103640783b148\n",
      "+--------+--------+--------+--------+--------+--------+--------+--------+--------+--------+---+--------+---+--------+---+--------+--------+---+---+--------+--------+--------+--------+--------+--------+--------+----+----+---+----+----+---+----+----+----+---+---+---+---+-----+--------------------+--------------------+--------------------+----------+\n",
      "|      C1|     C10|     C11|     C12|     C13|     C14|     C15|     C16|     C17|     C18|C19|      C2|C20|     C21|C22|     C23|     C24|C25|C26|      C3|      C4|      C5|      C6|      C7|      C8|      C9|  I1| I10|I11| I12| I13| I2|  I3|  I4|  I5| I6| I7| I8| I9|label|            features|       rawPrediction|         probability|prediction|\n",
      "+--------+--------+--------+--------+--------+--------+--------+--------+--------+--------+---+--------+---+--------+---+--------+--------+---+---+--------+--------+--------+--------+--------+--------+--------+----+----+---+----+----+---+----+----+----+---+---+---+---+-----+--------------------+--------------------+--------------------+----------+\n",
      "|013c8fe1|233e3a0c|a7b606c4|6aaba33c|eae197fd|b28479f6|2d0bb053|b041b04a|e5ba7672|2804effd|   |421b43cd|   |723b4dfd|   |3a171ecb|b34f3128|   |   |8162da11|29998ed1|25c83c98|fe6b92e5|7f9907fe|233428af|a73ee510|null|null|  1|null|null| -1|null|null|2849|382|  4| 17| 96|    0|(256,[19,36,39,54...|[5.32157600650190...|[0.99513869890634...|       0.0|\n",
      "|02f970ca|e6003298|e9561d8b|        |1cc9ac51|b28479f6|8eb53550|        |27c07bd6|626db04f|   |fb253005|   |        |   |32c7478e|        |   |   |        |        |384874ce|        |a90a99c5|5b392875|a73ee510|null|null|  4|null|   7|  9|   2|   7|6759|  7| 10|  7| 32|    1|(256,[5,9,36,54,5...|[-3.8178960120863...|[0.02150151139583...|       1.0|\n",
      "+--------+--------+--------+--------+--------+--------+--------+--------+--------+--------+---+--------+---+--------+---+--------+--------+---+---+--------+--------+--------+--------+--------+--------+--------+----+----+---+----+----+---+----+----+----+---+---+---+---+-----+--------------------+--------------------+--------------------+----------+\n",
      "only showing top 2 rows\n",
      "\n",
      "Model Intercept:  -1.324654540511575\n"
     ]
    },
    {
     "data": {
      "text/plain": [
       "DataFrame[Feature Weight: double]"
      ]
     },
     "metadata": {},
     "output_type": "display_data"
    },
    {
     "name": "stdout",
     "output_type": "stream",
     "text": [
      "+--------------------+\n",
      "|      Feature Weight|\n",
      "+--------------------+\n",
      "|-0.24555960740181862|\n",
      "|-0.18917083868735513|\n",
      "+--------------------+\n",
      "only showing top 2 rows\n",
      "\n",
      "Evaluator:\n",
      "AUC 0.9920424504197612\n",
      "Sample Distribuion :\n",
      "Test: Percent label 1 : 0.2716272859723976\n",
      "Test: Percent label 0 : 0.7283727140276024\n",
      "Total : 9170441.0\n",
      "TN : 2321427\n",
      "FP : 169515\n",
      "FN : 28560\n",
      "TP : 6650939\n",
      "\n",
      "Confusion Matrix:\n",
      "6650939 \t 169515\n",
      "28560 \t 2321427\n",
      "\n",
      "\n",
      "Accuracy : 0.9784007115906421\n",
      "Precision : 0.7437432943519292\n",
      "Recall : 0.7283727140276024\n",
      "F1 : 0.7359777609418963\n",
      "CPU times: user 408 ms, sys: 116 ms, total: 524 ms\n",
      "Wall time: 19min 6s\n"
     ]
    }
   ],
   "source": [
    "%%time\n",
    "\n",
    "# Copied code from the cells below - Delete start from here\n",
    "\n",
    "num_of_features = 256 # 2^8\n",
    "\n",
    "hasher = FeatureHasher(inputCols=allcols,outputCol=\"features\",categoricalCols=catcols)\n",
    "hasher.setNumFeatures(num_of_features)\n",
    "\n",
    "featurizedTrain = hasher.transform(trainDF)\n",
    "featurizedTrain.select(\"label\",\"features\").show(2,truncate=False)\n",
    "\n",
    "featurizedTest = hasher.transform(testDF)\n",
    "\n",
    "featurizedTest.select(\"features\").show(2,truncate=False)\n",
    "\n",
    "lr = LogisticRegression(labelCol=\"label\",featuresCol=\"features\",maxIter = 10)\n",
    "lrModel = lr.fit(featurizedTrain)\n",
    "print(lrModel)\n",
    "\n",
    "predictions = lrModel.transform(featurizedTest)\n",
    "predictions.show(2)\n",
    "\n",
    "evaluator = BinaryClassificationEvaluator(rawPredictionCol=\"rawPrediction\",labelCol=\"label\")\n",
    "evaluator.evaluate(predictions)\n",
    "evaluator.getMetricName()\n",
    "print('Model Intercept: ', lrModel.intercept)\n",
    "weights = lrModel.coefficients\n",
    "weights = [(float(w),) for w in weights]  # convert numpy type to float, and to tuple\n",
    "weightsDF = sqlContext.createDataFrame(weights, [\"Feature Weight\"])\n",
    "display(weightsDF)\n",
    "weightsDF.show(2)\n",
    "print(\"Evaluator:\")\n",
    "evaluator = BinaryClassificationEvaluator(rawPredictionCol=\"rawPrediction\",labelCol=\"label\")\n",
    "eval = evaluator.evaluate(predictions)\n",
    "print(eval)\n",
    "\n",
    "#prediction analysis\n",
    "lp = predictions.select( \"label\", \"prediction\")\n",
    "counttotal = predictions.count()\n",
    "correct = lp.filter(lp.label == lp.prediction).count()\n",
    "print(\"Total \",counttotal)\n",
    "print(\"Correct\",correct)\n",
    "wrong = lp.filter(lp.label != lp.prediction).count()\n",
    "truep = lp.filter(lp.prediction == 0.0).filter(lp.label == lp.prediction).count()\n",
    "print(\"True Positive\",truep)\n",
    "print(\"Wrong\",wrong)\n",
    "falseN = lp.filter(lp.prediction == 0.0).filter(lp.label != lp.prediction).count()\n",
    "falseP = lp.filter(lp.prediction == 1.0).filter(lp.label != lp.prediction).count()\n",
    "\n",
    "print(\"False Negatibe\",falseN)\n",
    "print(\"False Positive\",falseP) \n",
    "ratioWrong = wrong/float(counttotal)\n",
    "print(\"Ratio Wrong\",ratioWrong)\n",
    "rationCorrect = correct/float(counttotal)\n",
    "print(\"Ratio Correct\",rationCorrect)\n"
   ]
  },
  {
   "cell_type": "markdown",
   "metadata": {},
   "source": [
    "## II. Features Hashing"
   ]
  },
  {
   "cell_type": "code",
   "execution_count": 94,
   "metadata": {},
   "outputs": [],
   "source": [
    "from pyspark.mllib.linalg import SparseVector\n",
    "from pyspark.mllib.regression import LabeledPoint\n",
    "from collections import defaultdict\n",
    "import hashlib\n",
    "\n",
    "def hashFunction(numBuckets, rawFeats):\n",
    "    \"\"\"Calculate a feature dictionary for an observation's features based on hashing.\"\"\"\n",
    "    \n",
    "    mapping = {}\n",
    "    for ind, category in rawFeats:\n",
    "        featureString = (category + str(ind)).encode('utf-8')\n",
    "        mapping[featureString] = int(int(hashlib.md5(featureString).hexdigest(), 16) % numBuckets)\n",
    "\n",
    "    sparseFeatures = defaultdict(float)\n",
    "    for bucket in mapping.values():\n",
    "        sparseFeatures[bucket] += 1.0\n",
    "    return dict(sparseFeatures)\n",
    "\n",
    "def parseHashPoint(line, numBuckets):\n",
    "    \"\"\"Create a LabeledPoint for this observation using hashing.\"\"\"\n",
    "\n",
    "    # grab the label and feature \n",
    "    label = line.split(',')[0]\n",
    "    features = line.split(',')[1:]\n",
    "    \n",
    "    # create an array for the indexed features\n",
    "    indexedFeat = []\n",
    "    for i,feat in enumerate(features):\n",
    "        idxfeat = i,feat\n",
    "        indexedFeat.append(idxfeat)\n",
    "    \n",
    "    # convert the features to a sparse hash dictionary\n",
    "    hashed = hashFunction(numBuckets, indexedFeat)\n",
    "    sorted_hash = sorted([(v,k) for v,k in hashed.items()])\n",
    "    \n",
    "    # separate out the indices and the features\n",
    "    sorted_idx = [x[0] for x in sorted_hash]\n",
    "    sorted_feat = [x[1] for x in sorted_hash]\n",
    "    \n",
    "    # create the sparse vector\n",
    "    vector = SparseVector(numBuckets, sorted_idx, sorted_feat)\n",
    "    \n",
    "    # create the labelled point\n",
    "    new_point = LabeledPoint(label, vector)\n",
    "    \n",
    "    # return the labelled point\n",
    "    return new_point"
   ]
  },
  {
   "cell_type": "markdown",
   "metadata": {},
   "source": [
    "### Features engineered by Hashing"
   ]
  },
  {
   "cell_type": "code",
   "execution_count": 95,
   "metadata": {},
   "outputs": [
    {
     "name": "stdout",
     "output_type": "stream",
     "text": [
      "1st sample of feature hashed on train data\n",
      "[LabeledPoint(0.0, (262144,[1305,4866,4913,10316,14735,24855,25721,48966,60979,61920,70350,72488,77258,84810,87140,88321,90738,91069,98029,110669,112197,114120,116065,120560,131012,134879,173825,175352,186403,193242,203725,223095,224276,226481,232259,256032,259415,260860],[1.0,1.0,1.0,1.0,1.0,1.0,1.0,1.0,1.0,1.0,1.0,1.0,1.0,1.0,1.0,1.0,1.0,1.0,1.0,1.0,1.0,1.0,1.0,1.0,1.0,1.0,1.0,1.0,1.0,1.0,1.0,1.0,1.0,1.0,1.0,1.0,1.0,1.0]))]\n",
      "--------------------------------------------------\n",
      "1st sample of feature hashed on validation data\n",
      "[LabeledPoint(0.0, (262144,[3338,8759,13687,30683,34348,73852,77258,84810,87270,88116,91069,93941,97199,101972,104029,120560,122538,133889,134879,140186,154015,168373,170917,175398,175929,184661,201275,201910,205517,210214,220162,222426,222555,224547,226673,227643,237374,252963],[1.0,1.0,1.0,1.0,1.0,1.0,1.0,1.0,1.0,1.0,1.0,1.0,1.0,1.0,1.0,1.0,1.0,1.0,1.0,1.0,1.0,1.0,1.0,1.0,1.0,1.0,1.0,1.0,1.0,1.0,1.0,1.0,1.0,1.0,1.0,1.0,1.0,1.0]))]\n",
      "--------------------------------------------------\n",
      "1st sample of feature hashed on test data\n",
      "[LabeledPoint(0.0, (262144,[12136,18793,34837,53369,55807,55917,59863,60979,68163,77258,82877,83547,84810,87140,91069,93941,104029,110933,112901,122538,126411,133889,144017,146120,171537,174028,175398,178136,181863,182529,202965,204370,206353,209634,210214,218619,222426,222992,229626],[1.0,1.0,1.0,1.0,1.0,1.0,1.0,1.0,1.0,1.0,1.0,1.0,1.0,1.0,1.0,1.0,1.0,1.0,1.0,1.0,1.0,1.0,1.0,1.0,1.0,1.0,1.0,1.0,1.0,1.0,1.0,1.0,1.0,1.0,1.0,1.0,1.0,1.0,1.0]))]\n",
      "--------------------------------------------------\n",
      "Time taken to process feature hashing on 3 datasets: 0.5377037525177002 seconds\n"
     ]
    }
   ],
   "source": [
    "# generouly giving the hash table size = 32,768 slots\n",
    "start = time.time()\n",
    "numBuckets = 2 ** 18\n",
    "FHTrainData = TrainData.map(lambda x: parseHashPoint(x,numBuckets))\n",
    "FHValData = ValData.map(lambda x: parseHashPoint(x,numBuckets))\n",
    "FHTestData = TestData.map(lambda x: parseHashPoint(x,numBuckets))\n",
    "\n",
    "print(\"1st sample of feature hashed on train data\")\n",
    "print(FHTrainData.take(1))\n",
    "print(\"-\"*50)\n",
    "print(\"1st sample of feature hashed on validation data\")\n",
    "print(FHValData.take(1))\n",
    "print(\"-\"*50)\n",
    "print(\"1st sample of feature hashed on test data\")\n",
    "print(FHTestData.take(1))\n",
    "print(\"-\"*50)\n",
    "print(\"Time taken to process feature hashing on 3 datasets: {} seconds\".format(time.time() - start))"
   ]
  },
  {
   "cell_type": "code",
   "execution_count": 96,
   "metadata": {},
   "outputs": [
    {
     "name": "stdout",
     "output_type": "stream",
     "text": [
      "Model weights for the first 5 variables or features developed on train data\n",
      "\n",
      "[-0.48492969173627926, -0.3862326783159639, -0.38210113429748666, -0.3593057283424921, -0.34645485039378116]\n",
      "--------------------------------------------------\n",
      "Model intercept\n",
      "\n",
      "0.6295345844014681\n",
      "--------------------------------------------------\n",
      "Time taken : 4034.546764612198 seconds\n"
     ]
    }
   ],
   "source": [
    "# Model definition on Feature hashed train dataset\n",
    "\n",
    "from pyspark.mllib.classification import LogisticRegressionWithSGD\n",
    "\n",
    "# adjustable hyperparameters\n",
    "numIters = 50\n",
    "stepSize = 10.\n",
    "regParam = 1e-6\n",
    "regType = 'l2'\n",
    "includeIntercept = True\n",
    "\n",
    "start = time.time()\n",
    "model1 = LogisticRegressionWithSGD.train(FHTrainData,\\\n",
    "                                         iterations=numIters,\\\n",
    "                                         step=stepSize,\\\n",
    "                                         regParam=regParam,\\\n",
    "                                         regType=regType,\\\n",
    "                                         intercept=includeIntercept)\n",
    "\n",
    "print(\"Model weights for the first 5 variables or features developed on train data\\n\")\n",
    "sortedWeights = sorted(model1.weights)\n",
    "print(sortedWeights[:5])\n",
    "print(\"-\"*50)\n",
    "print(\"Model intercept\\n\")\n",
    "print(model1.intercept)\n",
    "print(\"-\"*50)\n",
    "print(\"Time taken : {} seconds\".format(time.time() - start))"
   ]
  },
  {
   "cell_type": "code",
   "execution_count": 98,
   "metadata": {},
   "outputs": [
    {
     "name": "stdout",
     "output_type": "stream",
     "text": [
      "Probability prediction on first 5 samples using LogisticRegression with Stochastic Gradient Descent\n",
      "[0.39243454186775856, 0.12336493378055179, 0.3606584974123617, 0.1549571594093846, 0.6196903989235355]\n",
      "--------------------------------------------------\n",
      "Features Hashing with Train Logloss:\n",
      "\tBaseline = 0.569\n",
      "\tLogistic Regression model = 0.504\n",
      "--------------------------------------------------\n",
      "Time taken : 4688.352494955063 seconds\n"
     ]
    }
   ],
   "source": [
    "start = time.time()\n",
    "\n",
    "trainingPredictions = FHTrainData.map(lambda x: calcProb(x.features,model1.weights,model1.intercept))\n",
    "\n",
    "print(\"Probability prediction on first 5 samples using LogisticRegression with Stochastic Gradient Descent\")\n",
    "print(trainingPredictions.take(5))\n",
    "\n",
    "print(\"-\"*50)\n",
    "logLossTrLR1 = evaluateResults(model1, FHTrainData)\n",
    "print('Features Hashing with Train Logloss:\\n\\tBaseline = {0:.3f}\\n\\tLogistic Regression model = {1:.3f}'.format(logLossTrBase, logLossTrLR1))\n",
    "print(\"-\"*50)\n",
    "print(\"Time taken : {} seconds\".format(time.time() - start))"
   ]
  },
  {
   "cell_type": "code",
   "execution_count": 99,
   "metadata": {},
   "outputs": [
    {
     "name": "stdout",
     "output_type": "stream",
     "text": [
      "OHE Confusion Matrix\n",
      "True Positives  :  2460567.0\n",
      "True Negatives  :  22039406.0\n",
      "False Positives :  1825989.0\n",
      "False Negatives :  5759312.0\n",
      "Total samples   :  32085274.0\n",
      "--------------------------------------------------\n",
      "Accuracy              :  0.7635893338482944\n",
      "Precision             :  0.5740195625579136\n",
      "Sensitivity or Recall :  0.2993434574888511\n",
      "Specificity           :  0.9234880042840271\n",
      "--------------------------------------------------\n",
      "Time taken : 7435.096272230148 seconds\n"
     ]
    }
   ],
   "source": [
    "# Confusion matrix for train data\n",
    "\n",
    "TP, TN, FP, FN, actu_yes, actu_no, pred_yes, pred_no, tot = evaluateConfMatrix(model1, FHTrainData)\n",
    "print('OHE Confusion Matrix')\n",
    "print(\"True Positives  : \", TP)\n",
    "print(\"True Negatives  : \", TN)\n",
    "print(\"False Positives : \", FP)\n",
    "print(\"False Negatives : \", FN)\n",
    "print(\"Total samples   : \", tot)\n",
    "print(\"-\"*50)\n",
    "print(\"Accuracy              : \", (TP+TN)/tot)\n",
    "print(\"Precision             : \", TP/pred_yes)\n",
    "print(\"Sensitivity or Recall : \", TP/actu_yes)\n",
    "print(\"Specificity           : \", TN/actu_no)\n",
    "print(\"F1-score              : \", (2 * TP/pred_yes * TP/actu_yes)/((TP/pred_yes) + (TP/actu_yes)))\n",
    "print(\"-\"*50)\n",
    "print(\"Time taken : {} seconds\".format(time.time() - start))"
   ]
  },
  {
   "cell_type": "code",
   "execution_count": 100,
   "metadata": {},
   "outputs": [
    {
     "name": "stdout",
     "output_type": "stream",
     "text": [
      "Features Hashing with Validation Logloss:\n",
      "\tBaseline = 0.569\n",
      "\tLogistic Regression model = 0.504\n",
      "--------------------------------------------------\n",
      "Time taken : 1680.753056049347 seconds\n"
     ]
    }
   ],
   "source": [
    "start = time.time()\n",
    "logLossValBase = FHValData.map(lambda x: computeLogLoss(classOneFracTrain, x.label))\\\n",
    ".reduce(lambda x,y: x + y) / FHValData.count()\n",
    "\n",
    "logLossValLR1 = evaluateResults(model1, FHValData)\n",
    "print ('Features Hashing with Validation Logloss:\\n\\tBaseline = {0:.3f}\\n\\tLogistic Regression model = {1:.3f}'\n",
    "       .format(logLossValBase, logLossValLR1))\n",
    "print(\"-\"*50)\n",
    "print(\"Time taken : {} seconds\".format(time.time() - start))"
   ]
  },
  {
   "cell_type": "code",
   "execution_count": 101,
   "metadata": {},
   "outputs": [
    {
     "name": "stdout",
     "output_type": "stream",
     "text": [
      "OHE Confusion Matrix\n",
      "True Positives  :  528906.0\n",
      "True Negatives  :  4720898.0\n",
      "False Positives :  391175.0\n",
      "False Negatives :  1235770.0\n",
      "Total samples   :  6876749.0\n",
      "--------------------------------------------------\n",
      "Accuracy              :  0.7634136421149005\n",
      "Precision             :  0.57484721453872\n",
      "Sensitivity or Recall :  0.2997184752328473\n",
      "Specificity           :  0.9234801615704628\n",
      "--------------------------------------------------\n",
      "Time taken : 4209.462363481522 seconds\n"
     ]
    }
   ],
   "source": [
    "# Confusion matrix for val data\n",
    "\n",
    "TP, TN, FP, FN, actu_yes, actu_no, pred_yes, pred_no, tot = evaluateConfMatrix(model1, FHValData)\n",
    "print('OHE Confusion Matrix')\n",
    "print(\"True Positives  : \", TP)\n",
    "print(\"True Negatives  : \", TN)\n",
    "print(\"False Positives : \", FP)\n",
    "print(\"False Negatives : \", FN)\n",
    "print(\"Total samples   : \", tot)\n",
    "print(\"-\"*50)\n",
    "print(\"Accuracy              : \", (TP+TN)/tot)\n",
    "print(\"Precision             : \", TP/pred_yes)\n",
    "print(\"Sensitivity or Recall : \", TP/actu_yes)\n",
    "print(\"Specificity           : \", TN/actu_no)\n",
    "print(\"F1-score              : \", (2 * TP/pred_yes * TP/actu_yes)/((TP/pred_yes) + (TP/actu_yes)))\n",
    "print(\"-\"*50)\n",
    "print(\"Time taken : {} seconds\".format(time.time() - start))"
   ]
  },
  {
   "cell_type": "code",
   "execution_count": 102,
   "metadata": {},
   "outputs": [
    {
     "name": "stdout",
     "output_type": "stream",
     "text": [
      "OHE Features Validation Logloss:\n",
      "\tBaseline = 0.569\n",
      "\tLogistic Regression model = 0.503\n",
      "--------------------------------------------------\n",
      "Time taken : 1670.6635200977325 seconds\n"
     ]
    }
   ],
   "source": [
    "start = time.time()\n",
    "logLossTestBase = FHTestData.map(lambda x: computeLogLoss(classOneFracTrain, x.label))\\\n",
    ".reduce(lambda x,y: x + y) / FHTestData.count()\n",
    "\n",
    "logLossTestLR1 = evaluateResults(model1, FHTestData)\n",
    "print ('OHE Features Validation Logloss:\\n\\tBaseline = {0:.3f}\\n\\tLogistic Regression model = {1:.3f}'\n",
    "       .format(logLossTestBase, logLossTestLR1))\n",
    "print(\"-\"*50)\n",
    "print(\"Time taken : {} seconds\".format(time.time() - start))"
   ]
  },
  {
   "cell_type": "code",
   "execution_count": 103,
   "metadata": {},
   "outputs": [
    {
     "name": "stdout",
     "output_type": "stream",
     "text": [
      "OHE Confusion Matrix\n",
      "True Positives  :  527411.0\n",
      "True Negatives  :  4725656.0\n",
      "False Positives :  392055.0\n",
      "False Negatives :  1233472.0\n",
      "Total samples   :  6878594.0\n",
      "--------------------------------------------------\n",
      "Accuracy              :  0.7636832468960953\n",
      "Precision             :  0.573605766825527\n",
      "Sensitivity or Recall :  0.2995150728356171\n",
      "Specificity           :  0.923392508877504\n",
      "F1-score              :  0.39353905032516295\n",
      "--------------------------------------------------\n",
      "Time taken : 2285.593106508255 seconds\n"
     ]
    }
   ],
   "source": [
    "# Confusion matrix for test data\n",
    "\n",
    "TP, TN, FP, FN, actu_yes, actu_no, pred_yes, pred_no, tot = evaluateConfMatrix(model1, FHTestData)\n",
    "print('OHE Confusion Matrix')\n",
    "print(\"True Positives  : \", TP)\n",
    "print(\"True Negatives  : \", TN)\n",
    "print(\"False Positives : \", FP)\n",
    "print(\"False Negatives : \", FN)\n",
    "print(\"Total samples   : \", tot)\n",
    "print(\"-\"*50)\n",
    "print(\"Accuracy              : \", (TP+TN)/tot)\n",
    "print(\"Precision             : \", TP/pred_yes)\n",
    "print(\"Sensitivity or Recall : \", TP/actu_yes)\n",
    "print(\"Specificity           : \", TN/actu_no)\n",
    "print(\"F1-score              : \", (2 * TP/pred_yes * TP/actu_yes)/((TP/pred_yes) + (TP/actu_yes)))\n",
    "print(\"-\"*50)\n",
    "print(\"Time taken : {} seconds\".format(time.time() - start))"
   ]
  },
  {
   "cell_type": "code",
   "execution_count": null,
   "metadata": {},
   "outputs": [],
   "source": []
  },
  {
   "cell_type": "code",
   "execution_count": null,
   "metadata": {},
   "outputs": [],
   "source": []
  },
  {
   "cell_type": "markdown",
   "metadata": {},
   "source": [
    "## Logistic Regression, Decision Tree, Random Forest Classifiers with DataFrames \n",
    "## Accuracies "
   ]
  },
  {
   "cell_type": "markdown",
   "metadata": {},
   "source": [
    "## Prep the Data"
   ]
  },
  {
   "cell_type": "code",
   "execution_count": 11,
   "metadata": {},
   "outputs": [
    {
     "name": "stdout",
     "output_type": "stream",
     "text": [
      "Time to prep LR Data : 496.0570321083069\n"
     ]
    }
   ],
   "source": [
    "\n",
    "weights = [.8, .2]\n",
    "seed = 4\n",
    "\n",
    "stages = []\n",
    "stages = pipeline_stages(categorical_features,numeric_features)\n",
    "\n",
    "keep_cols = categorical_features + label_and_numeric\n",
    "projectDF = projectDF.select([c for c in projectDF.columns if c in keep_cols])\n",
    "#Handle empty strings by imputing 'EMPTY'\n",
    "for c in projectDF.columns:\n",
    "    projectDF = projectDF.replace(' ',str('EMPTY'), c)\n",
    "    projectDF = projectDF.replace('',str('EMPTY'), c)\n",
    "#Set NA's to 0\n",
    "projectDF = projectDF.na.fill(0)\n",
    "\n",
    "#OHE -> VectorAssembler\n",
    "t_lr_prep = time.time()\n",
    "preppedDF = apply_pipeline(projectDF,stages)\n",
    "train,test = preppedDF.randomSplit(weights,seed)\n",
    "print('Time to prep LR Data :', time.time() - t_lr_prep)"
   ]
  },
  {
   "cell_type": "code",
   "execution_count": 13,
   "metadata": {},
   "outputs": [
    {
     "name": "stdout",
     "output_type": "stream",
     "text": [
      "+--------+--------+--------+--------+--------+--------+--------+---+---+---+---+---+-----+-------+--------------+-------+-------------+--------+--------------+--------+--------------+--------+-------------+--------+--------------+--------+--------------+--------------------+\n",
      "|     C14|     C17|     C20|     C22|     C23|      C6|      C9| I1|I11|I13| I4| I7|label|C6Index|    C6classVec|C9Index|   C9classVec|C14Index|   C14classVec|C17Index|   C17classVec|C20Index|  C20classVec|C22Index|   C22classVec|C23Index|   C23classVec|            features|\n",
      "+--------+--------+--------+--------+--------+--------+--------+---+---+---+---+---+-----+-------+--------------+-------+-------------+--------+--------------+--------+--------------+--------+-------------+--------+--------------+--------+--------------+--------------------+\n",
      "|051219e6|07c540c4|5840adea|78e2e389|32c7478e|fe6b92e5|a73ee510|  3|  1|  3|  3|  3|    0|    2.0|(24,[2],[1.0])|    0.0|(3,[0],[1.0])|     5.0|(27,[5],[1.0])|     1.0|(10,[1],[1.0])|     2.0|(4,[2],[1.0])|     3.0|(18,[3],[1.0])|     0.0|(15,[0],[1.0])|(106,[2,24,32,55,...|\n",
      "+--------+--------+--------+--------+--------+--------+--------+---+---+---+---+---+-----+-------+--------------+-------+-------------+--------+--------------+--------+--------------+--------+-------------+--------+--------------+--------+--------------+--------------------+\n",
      "only showing top 1 row\n",
      "\n",
      "+--------+--------+--------+-----+--------+--------+--------+---+---+---+---+---+-----+-------+--------------+-------+-------------+--------+--------------+--------+--------------+--------+-------------+--------+--------------+--------+--------------+--------------------+\n",
      "|     C14|     C17|     C20|  C22|     C23|      C6|      C9| I1|I11|I13| I4| I7|label|C6Index|    C6classVec|C9Index|   C9classVec|C14Index|   C14classVec|C17Index|   C17classVec|C20Index|  C20classVec|C22Index|   C22classVec|C23Index|   C23classVec|            features|\n",
      "+--------+--------+--------+-----+--------+--------+--------+---+---+---+---+---+-----+-------+--------------+-------+-------------+--------+--------------+--------+--------------+--------+-------------+--------+--------------+--------+--------------+--------------------+\n",
      "|051219e6|07c540c4|5840adea|EMPTY|32c7478e|fbad5c96|a73ee510|  2|  1|  6|  6|  2|    1|    1.0|(24,[1],[1.0])|    0.0|(3,[0],[1.0])|     5.0|(27,[5],[1.0])|     1.0|(10,[1],[1.0])|     2.0|(4,[2],[1.0])|     0.0|(18,[0],[1.0])|     0.0|(15,[0],[1.0])|(106,[1,24,32,55,...|\n",
      "+--------+--------+--------+-----+--------+--------+--------+---+---+---+---+---+-----+-------+--------------+-------+-------------+--------+--------------+--------+--------------+--------+-------------+--------+--------------+--------+--------------+--------------------+\n",
      "only showing top 1 row\n",
      "\n"
     ]
    }
   ],
   "source": [
    "train.show(1)\n",
    "test.show(1)"
   ]
  },
  {
   "cell_type": "markdown",
   "metadata": {},
   "source": [
    "## Logistic Regression"
   ]
  },
  {
   "cell_type": "code",
   "execution_count": 14,
   "metadata": {},
   "outputs": [
    {
     "name": "stdout",
     "output_type": "stream",
     "text": [
      "Total training time - Logistic Regression :  172.82883667945862\n"
     ]
    }
   ],
   "source": [
    "#Logistic Regression\n",
    "t_lr = time.time()\n",
    "lrModel = LogisticRegression().fit(train)\n",
    "\n",
    "print('Total training time - Logistic Regression : ',time.time()-t_lr)\n",
    "predictions_lr = lrModel.transform(test)\n",
    "# Evaluate model\n",
    "evaluator = BinaryClassificationEvaluator(rawPredictionCol=\"prediction\",labelCol=\"label\")\n"
   ]
  },
  {
   "cell_type": "code",
   "execution_count": 15,
   "metadata": {},
   "outputs": [
    {
     "name": "stdout",
     "output_type": "stream",
     "text": [
      "Total : 9170447.0\n",
      "TN : 6659383\n",
      "FP : 163022\n",
      "FN : 2110917\n",
      "TP : 237125\n",
      "\n",
      "Confusion Matrix:\n",
      "237125 \t 163022\n",
      "2110917 \t 6659383\n",
      "\n",
      "\n",
      "Accuracy : 0.752036187548982\n",
      "Precision : 0.5925947214398708\n",
      "Recall : 0.10098839799288088\n",
      "F1 : 0.17256818945130775\n"
     ]
    }
   ],
   "source": [
    "#LR Predictions\n",
    "#predictions_lr.groupBy('prediction').count().show()\n",
    "\n",
    "TP = predictions_lr.select(\"label\", \"prediction\").filter(\"label = 1 and prediction = 1\").count()\n",
    "\n",
    "TN = predictions_lr.select(\"label\", \"prediction\").filter(\"label = 0 and prediction = 0\").count()\n",
    "FP = predictions_lr.select(\"label\", \"prediction\").filter(\"label = 0 and prediction = 1\").count()\n",
    "FN = predictions_lr.select(\"label\", \"prediction\").filter(\"label = 1 and prediction = 0\").count()\n",
    "total = predictions_lr.select(\"label\").count()\n",
    "total = float(total)\n",
    "\n",
    "print(\"Total :\",total)\n",
    "print(\"TN :\",TN)\n",
    "print(\"FP :\",FP)\n",
    "print(\"FN :\",FN)\n",
    "print(\"TP :\",TP)\n",
    "\n",
    "print(\"\\nConfusion Matrix:\")\n",
    "print(TP,'\\t',FP)\n",
    "print(FN,'\\t',TN)\n",
    "print(\"\\n\")\n",
    "\n",
    "accuracy= (TP + TN) / total\n",
    "precision   = TP / (TP + FP)\n",
    "recall      = TP / (TP + FN)\n",
    "F1= 2/(1/precision + 1/recall)\n",
    "\n",
    "#print('AUC ROC -',evaluator.evaluate(predictions_lr))\n",
    "print(\"Accuracy :\",accuracy)\n",
    "print(\"Precision :\",precision)\n",
    "print(\"Recall :\",recall)\n",
    "print(\"F1 :\",F1)"
   ]
  },
  {
   "cell_type": "code",
   "execution_count": 16,
   "metadata": {},
   "outputs": [
    {
     "name": "stdout",
     "output_type": "stream",
     "text": [
      "Total time to prep tree data : 489.0456871986389\n"
     ]
    }
   ],
   "source": [
    "#Prep the data for Trees (skip the one hot encoding step)\n",
    "t_tree_prep = time.time()\n",
    "stages = []\n",
    "stages = pipeline_stages(categorical_features,numeric_features,OHE=False)\n",
    "preppedDF = apply_pipeline(projectDF,stages)\n",
    "train,test = preppedDF.randomSplit(weights,seed)\n",
    "print('Total time to prep tree data :',time.time()-t_tree_prep)"
   ]
  },
  {
   "cell_type": "markdown",
   "metadata": {},
   "source": [
    "## Decision Tree"
   ]
  },
  {
   "cell_type": "code",
   "execution_count": 17,
   "metadata": {},
   "outputs": [
    {
     "name": "stdout",
     "output_type": "stream",
     "text": [
      "Total Training Time - Decision Tree :  346.78829073905945\n"
     ]
    }
   ],
   "source": [
    "# Create initial Decision Tree Model\n",
    "t_dt = time.time()\n",
    "dtModel = DecisionTreeClassifier(\n",
    "    labelCol=\"label\", featuresCol=\"features\", maxDepth=3).fit(train)\n",
    "print('Total Training Time - Decision Tree : ',time.time()-t_dt)\n",
    "#make predictions\n",
    "predictions_dt = dtModel.transform(test)\n",
    "evaluator = BinaryClassificationEvaluator(\n",
    "    rawPredictionCol=\"prediction\",labelCol=\"label\")\n"
   ]
  },
  {
   "cell_type": "code",
   "execution_count": 18,
   "metadata": {},
   "outputs": [
    {
     "name": "stdout",
     "output_type": "stream",
     "text": [
      "Total : 9170447.0\n",
      "TN : 6479945\n",
      "FP : 342460\n",
      "FN : 1949786\n",
      "TP : 398256\n",
      "\n",
      "Confusion Matrix:\n",
      "398256 \t 342460\n",
      "1949786 \t 6479945\n",
      "\n",
      "\n",
      "Accuracy : 0.7500398835520231\n",
      "Precision : 0.5376635579628359\n",
      "Recall : 0.16961195753738648\n",
      "F1 : 0.2578745243233688\n"
     ]
    }
   ],
   "source": [
    "# DT Predictions\n",
    "#predictions_dt.groupBy('prediction').count().show()\n",
    "\n",
    "TP = predictions_dt.select(\"label\", \"prediction\").filter(\"label = 1 and prediction = 1\").count()\n",
    "\n",
    "TN = predictions_dt.select(\"label\", \"prediction\").filter(\"label = 0 and prediction = 0\").count()\n",
    "FP = predictions_dt.select(\"label\", \"prediction\").filter(\"label = 0 and prediction = 1\").count()\n",
    "FN = predictions_dt.select(\"label\", \"prediction\").filter(\"label = 1 and prediction = 0\").count()\n",
    "total = predictions_dt.select(\"label\").count()\n",
    "total = float(total)\n",
    "\n",
    "print(\"Total :\",total)\n",
    "print(\"TN :\",TN)\n",
    "print(\"FP :\",FP)\n",
    "print(\"FN :\",FN)\n",
    "print(\"TP :\",TP)\n",
    "\n",
    "print(\"\\nConfusion Matrix:\")\n",
    "print(TP,'\\t',FP)\n",
    "print(FN,'\\t',TN)\n",
    "print(\"\\n\")\n",
    "\n",
    "accuracy= (TP + TN) / total\n",
    "precision   = TP / (TP + FP)\n",
    "recall      = TP / (TP + FN)\n",
    "F1= 2/(1/precision + 1/recall)\n",
    "\n",
    "\n",
    "#print('AUC ROC -',evaluator.evaluate(predictions_dt))\n",
    "print(\"Accuracy :\",accuracy)\n",
    "print(\"Precision :\",precision)\n",
    "print(\"Recall :\",recall)\n",
    "print(\"F1 :\",F1)"
   ]
  },
  {
   "cell_type": "markdown",
   "metadata": {},
   "source": [
    "## Random Forest"
   ]
  },
  {
   "cell_type": "code",
   "execution_count": 19,
   "metadata": {},
   "outputs": [
    {
     "name": "stdout",
     "output_type": "stream",
     "text": [
      "Total training time - Random Forrest :  410.3529806137085\n"
     ]
    }
   ],
   "source": [
    "# Create an initial RandomForest model.\n",
    "t_rf = time.time()\n",
    "rfModel = RandomForestClassifier(\n",
    "    labelCol=\"label\", featuresCol=\"features\").fit(train)\n",
    "\n",
    "print('Total training time - Random Forrest : ',time.time()-t_rf)\n",
    "\n",
    "#Make Predictions\n",
    "predictions_rf = rfModel.transform(test)\n",
    "evaluator = BinaryClassificationEvaluator(\n",
    "    rawPredictionCol=\"prediction\",labelCol=\"label\")\n"
   ]
  },
  {
   "cell_type": "code",
   "execution_count": 20,
   "metadata": {},
   "outputs": [
    {
     "name": "stdout",
     "output_type": "stream",
     "text": [
      "Total : 9170447.0\n",
      "TN : 6669829\n",
      "FP : 152576\n",
      "FN : 2089615\n",
      "TP : 258427\n",
      "\n",
      "Confusion Matrix:\n",
      "258427 \t 152576\n",
      "2089615 \t 6669829\n",
      "\n",
      "\n",
      "Accuracy : 0.7554981780059358\n",
      "Precision : 0.6287715661442861\n",
      "Recall : 0.11006063775690554\n",
      "F1 : 0.18733076118729486\n"
     ]
    }
   ],
   "source": [
    "#RF Predictions\n",
    "#predictions_rf.groupBy('prediction').count().show()\n",
    "\n",
    "TP = predictions_rf.select(\"label\", \"prediction\").filter(\"label = 1 and prediction = 1\").count()\n",
    "\n",
    "TN = predictions_rf.select(\"label\", \"prediction\").filter(\"label = 0 and prediction = 0\").count()\n",
    "FP = predictions_rf.select(\"label\", \"prediction\").filter(\"label = 0 and prediction = 1\").count()\n",
    "FN = predictions_rf.select(\"label\", \"prediction\").filter(\"label = 1 and prediction = 0\").count()\n",
    "total = predictions_rf.select(\"label\").count()\n",
    "total = float(total)\n",
    "\n",
    "print(\"Total :\",total)\n",
    "print(\"TN :\",TN)\n",
    "print(\"FP :\",FP)\n",
    "print(\"FN :\",FN)\n",
    "print(\"TP :\",TP)\n",
    "\n",
    "print(\"\\nConfusion Matrix:\")\n",
    "print(TP,'\\t',FP)\n",
    "print(FN,'\\t',TN)\n",
    "print(\"\\n\")\n",
    "\n",
    "accuracy= (TP + TN) / total\n",
    "precision   = TP / (TP + FP)\n",
    "recall      = TP / (TP + FN)\n",
    "F1= 2/(1/precision + 1/recall)\n",
    "\n",
    "#print('AUC ROC -',evaluator.evaluate(predictions_rf))\n",
    "print(\"Accuracy :\",accuracy)\n",
    "print(\"Precision :\",precision)\n",
    "print(\"Recall :\",recall)\n",
    "print(\"F1 :\",F1)"
   ]
  },
  {
   "cell_type": "markdown",
   "metadata": {},
   "source": [
    "## Summary \n",
    "\n",
    "Our team covered all the concepts we learned in the class: functional programming, map-reduce concept, associative and commutative properties in parallel computation, nodes communication in Spark and other machine learning algorithms available in Spark. \n",
    "\n",
    "**EDA**  \n",
    "Our initial exploratory data analysis (EDA) on `1000` samples involves matrix correlation, heatmap between numerical variables, chi-square test for categorical variables so as to identify which variables are important in predicting the label. This led us to discover that majority of samples have a number of missing values either in numerical or categorical variables or both. In addition, there are many more unique features in each categorical variable.\n",
    "\n",
    "**Algorithms**   \n",
    "\n",
    "** 1. One Hot Encoding**  \n",
    "\n",
    "Next we implemented RDD for `100,000` samples and explored Logistic Regression with L1 and L2 regularization. Spark provides imputing function for numerical variables but not for categorical variables yet. Since there are many samples with missing value, we're afraid that omitting those samples will fail to develop a proper model. Therefore we implemented One Hot Encoding (OHE). Our model accuracy was checked with logloss. \n",
    "\n",
    "\n",
    "One caveate we found was when we deal with the entire dataset 45 million samples, OHE fails because there are `28 million` unique features. It becomes computationally expensive because OHE needs one single pass for the entire dataset in order to calculate how many unique features the dataset has. To overcome this problem, our team explored PCA (Principal Component Analysis) in order to reduce the redundant or unimportant features in our analysis. However out of 28 million unique features, PCA becomes computationally expensive as well because it has to identify all the eigenvectors (more detailed explanation below). \n",
    "\n",
    "** 2. Features Hashing**   \n",
    "\n",
    "Next our team explored another feature engineering method called **features hashing**, which allows us to avoid expensive computation, but by adjusting the number of features we want to use in our data analysis (features tables). This led us to develop more **robust and powerful** model because features hashing does not require a single pass for the entire 45 million dataset in order to calculate how many unique features the dataset has. Our model gives us 97% accuracy when we used 256 hashed features for 9 millions dataset. \n",
    "\n",
    "** 3. Decision Tree, Random Forest**   \n",
    "\n",
    "Finally we explored decision tree and checked our model accuracy with ROC (Receiver Operating Curve). Our accuracy from decision tree also gives a comparable result from the features hashing. \n",
    "\n",
    "#### Features hashing gave the 76% accuracy with F1 score of 0.36, the best model we have among, one hot encoding, decision tree, random forest. \n",
    "\n",
    "\n"
   ]
  }
 ],
 "metadata": {
  "kernelspec": {
   "display_name": "Python 3",
   "language": "python",
   "name": "python3"
  },
  "language_info": {
   "codemirror_mode": {
    "name": "ipython",
    "version": 3
   },
   "file_extension": ".py",
   "mimetype": "text/x-python",
   "name": "python",
   "nbconvert_exporter": "python",
   "pygments_lexer": "ipython3",
   "version": "3.6.5"
  }
 },
 "nbformat": 4,
 "nbformat_minor": 2
}
