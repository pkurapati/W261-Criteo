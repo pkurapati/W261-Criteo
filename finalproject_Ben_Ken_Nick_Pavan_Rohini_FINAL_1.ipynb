{
 "cells": [
  {
   "cell_type": "markdown",
   "metadata": {},
   "source": [
    "# Criteo Click Through Rate Prediction \n",
    "Final project for W261 - Machine Learning at Scale  \n",
    "By Ben Arnoldy, Kenneth Chen, Nick Conidas, Rohini Kashibatla, Pavan Kurapati\n",
    "\n",
    "Criteo is a company that uses machine learning to serve up web advertising. In 2014, the company launched the [Click Through Rate (CTR) prediction competition](https://www.kaggle.com/c/criteo-display-ad-challenge) hosted on Kaggle. The group with the lowest loss score won. Our team is working on this challenge for our W261 class at UC Berkeley in order to showcase a semester of learning."
   ]
  },
  {
   "cell_type": "markdown",
   "metadata": {},
   "source": [
    "## 1: Question Formulation  \n",
    "_Introduce the goal of your analysis. What questions will you seek to answer, why do people perform this kind of analysis on this kind of data? Preview what level of performance your model would need to achieve to be practically useful._\n",
    "\n",
    "The overall question we are trying to answer is, given a set of information about a particular website visitor, session, ad, etc., will that visitor click the ad we serve?  \n",
    "  \n",
    "A company like Criteo could then use the answer to that question to decide which ad out of a series of possible ads to serve in a particular location during a particular session. Companies like Criteo are paid by advertisers at some rate per user click, so to maximize revenue, Criteo would serve the ad that maximizes (CTR * pay per click). If we can predict CTR accurately -- which is the goal of this competition -- Criteo can find the ad that will maximize their revenue.  \n",
    "  \n",
    "This has huge implications because online advertising is a giant industry.  \n",
    "  \n",
    "Spending on digital advertising globally is projected to be $327.28 billion in 2019, according to [eMarketer](https://www.emarketer.com/content/global-ad-spending-update).  \n",
    "  \n",
    "In order for this machine learning prediction to be useful, it must meet a few criteria:  \n",
    "  \n",
    "1. The prediction must happen in a split second. No one wants to wait for webpages to load but this prediction must happen at load time. So algorithm must ingest all the relevant feature data -- info about the user, the session, the ad, etc. -- plug it into the model and return a verdict, and then do that across all potential ads the company can serve, then pick the ad that will maximize revenue and serve it on the page. The pace required immediately rules out learning algorithms like K-Means where you can't pre-train a model. \n",
    "2. For companies like Criteo that are serving ads, it doesn't matter all that much _why_ certain ads have higher CTR; it's just crucial to know _which_ ads will. So, interpretability of the model isn't critical here, opening up the range of algorithms to things like neural nets and random forests. Criteo's customers, of course, would love to have an interpretable model so they could make more effective web ads, but that's a different use case.  \n",
    "3. Web advertising companies are serving a lot of web ad impressions, and most of the time ads go unclicked. And there are a lot of possible features to track in the online space. So we need a lot of data to find something meaningful out of the high-dimensional and sparse data. Fortunately, we have it: the Criteo dataset for this competition has 45 million rows and represents just a week's worth of ad serves. Unfortunately, data on this scale is challenging to work with.\n",
    "4. Whatever model we train will be quickly out of data given the rapid pace of changes in Internet behavior and the growing amount of data that can be used to improve models. That said, it's not clear that the model needs to be an online model where things are changing so fast that it must update instantly as more data streams in. The model training could happen offline in a matter of hours, even days, and still be okay. "
   ]
  },
  {
   "cell_type": "markdown",
   "metadata": {},
   "source": [
    "## 2: Algorithm Explanation\n",
    "_Create your own toy example that matches the dataset provided and use this toy example to explain the math behind the algorithm that you will perform._  \n",
    "\n",
    "Logistic regression carries over some of the same concepts as linear regression but with some important differences. Fundamentally, we are still training a model using the equation for a line, and the model is the set of coefficients or weights. \n",
    "\n",
    "\\begin{equation}\\tag{2.1}\n",
    "y = \\beta_0 + \\beta_1 \\cdot x_1 ... + \\beta_m \\cdot x_m\n",
    "\\end{equation}\n",
    "  \n",
    "\\begin{equation}\\tag{2.2}\n",
    "w = [\\beta_0, \\beta_1, ... \\beta_m]\n",
    "\\end{equation}  \n",
    "  \n",
    "where $m$ is number of features, $\\beta_0$ is the intercept or bias term, and $w$ are the weights of our model.  \n",
    "  \n",
    "We aren't training on just one sample, of course, but over many, so the weights are actually calculated over many rows $x$'s and $y$'s.   \n",
    "  \n",
    "\\begin{equation}\\tag{2.3}\n",
    "y_j = \\displaystyle\\sum_{i=1}^{m}{w_i\\cdot x_{ji} + b}\n",
    "\\end{equation}  \n",
    "  \n",
    "where $b$ is the intercept of bias term.  \n",
    "\n",
    "In vector notation, this can be written:  \n",
    "\n",
    "\\begin{equation}\\tag{2.4}\n",
    "\\mathbf{y_j} = \\displaystyle{\\mathbf{w}^T\\mathbf{x}_{j} + b}\n",
    "\\end{equation}  \n",
    "  \n",
    "And we can simplify further by including the bias term b into the weights and augmenting the $\\mathbf{x}$ vector with a value of 1 that will pass through the bias term as b * 1:\n",
    "\n",
    "\\begin{equation}\\tag{2.5}\n",
    "\\mathbf{x}' := \n",
    "\\begin{bmatrix}\n",
    "\\mathbf{x}\\\\\n",
    "1\n",
    "\\end{bmatrix},\\quad\n",
    "\\boldsymbol{\\theta} :=\n",
    "\\begin{bmatrix}\n",
    "\\mathbf{w}\\\\\n",
    "b\n",
    "\\end{bmatrix}\n",
    "\\end{equation}  \n",
    "  \n",
    "leaving us with more compact vector equation for the line:  \n",
    "  \n",
    "\\begin{equation}\\tag{2.6}\n",
    "h(\\boldsymbol{\\theta}) = \\boldsymbol{\\theta}^T\\mathbf{x}'\n",
    "\\end{equation}\n",
    "  \n",
    "As with linear regression, we use this line to make predictions. In linear regression, we take a new datapoint that has a vector of x-values ($\\mathbf{x}'$), plug it into the linear equation with our model coefficients ($\\boldsymbol{\\theta}$), and get a predicted value h(\\boldsymbol{\\theta}) that falls on the line.  \n",
    "  \n",
    "With logistic regression, however, that isn't our final answer. We aren't just trying to get some continuous value y coordinate for our x, we are trying to arrive at a binary classification of a 1 or a 0. \n",
    "\n",
    "To do that we must do two additional steps. First, we want to contrain our $h(\\boldsymbol{\\theta})$ value to the range of $[0,1]$ and do so in a way groups the data more heavily toward either 0 or 1. We do that through a sigmoid function, whose output can be charted like this ([chart source](https://ml-cheatsheet.readthedocs.io/en/latest/logistic_regression.html)):"
   ]
  },
  {
   "cell_type": "code",
   "execution_count": 1,
   "metadata": {},
   "outputs": [
    {
     "data": {
      "image/png": "[encoded data removed]",
      "text/plain": [
       "<IPython.core.display.Image object>"
      ]
     },
     "execution_count": 1,
     "metadata": {
      "image/png": {
       "height": "200",
       "width": "400"
      }
     },
     "output_type": "execute_result"
    }
   ],
   "source": [
    "from IPython.display import Image\n",
    "Image(filename=\"sigmoid.png\", width=\"400\", height=\"200\")"
   ]
  },
  {
   "cell_type": "markdown",
   "metadata": {},
   "source": [
    "The function for the sigmoid is as follows:  \n",
    "\n",
    "\\begin{equation}\\tag{2.7}\n",
    "P(class=1) = \\frac{1} {1 + e^{-z}}\n",
    "\\end{equation}  \n",
    "\n",
    "where $P(class=1)$ is the probability that our predicted value $z$ should be classified as 1. Again, $z$ is our predicted value, so it can thought of as  $h(\\boldsymbol{\\theta})$ or $\\boldsymbol{\\theta}^T\\mathbf{x}'$. So we can write this sigmoid function another way:   \n",
    "  \n",
    "\\begin{equation}\\tag{2.8}\n",
    "P(class=1) = \\frac{1} {1 + e^{-\\boldsymbol{\\theta}^T\\mathbf{x}'}}\n",
    "\\end{equation}\n",
    "  \n",
    "Equation 2.8 formed the basis for our sigmoid function that we wrote for our toy dataset in section 3 below.  \n",
    "  \n",
    "Once we have these probabilities, we need to pick a decision boundary between 0 and 1. One logical default value for that boundary is 0.5. So if the probability is greater than 0.5, classify the sample as 1, otherwise classify it as 0. In chart form, that would look like ([chart source](https://ml-cheatsheet.readthedocs.io/en/latest/logistic_regression.html)):  "
   ]
  },
  {
   "cell_type": "code",
   "execution_count": 2,
   "metadata": {},
   "outputs": [
    {
     "data": {
      "image/png": "[encoded data removed]",
      "text/plain": [
       "<IPython.core.display.Image object>"
      ]
     },
     "execution_count": 2,
     "metadata": {
      "image/png": {
       "height": "200",
       "width": "400"
      }
     },
     "output_type": "execute_result"
    }
   ],
   "source": [
    "Image(filename=\"sigmoid_w_threshold.png\", width=\"400\", height=\"200\")"
   ]
  },
  {
   "cell_type": "markdown",
   "metadata": {},
   "source": [
    "And, in mathemathical form, it looks like:  \n",
    "\\begin{equation}\\tag{2.9}\n",
    "p \\geq 0.5, class=1 \\\\\n",
    "p < 0.5, class=0\n",
    "\\end{equation}\n",
    "\n",
    "Equation 2.9 formed the basis for our decision_boundary function that we wrote in section 3 for our toy dataset.  \n",
    "  \n",
    "Like with linear regression, in order to parallelize the training of the linear model we can't do a closed-form solution but must treat it as an optimization problem with gradient descent. Fortunately, the Log Loss or Cross-Entropy Loss gives us a convex equation, allowing us to use gradient descent with the confidence of not hitting local minima.   \n",
    "  \n",
    "The Log Loss function is much like what it sounds: the negative of the log of the prediction value, though there is two versions depending on the actual label value.  \n",
    "  \n",
    "\\begin{equation}\\tag{2.10}\n",
    "Cost(h_\\theta(x'),y) = - log(h_\\theta(x')), if y=1 \\\\\n",
    "Cost(h_\\theta(x'),y) = - log(1 - h_\\theta(x')), if y=0\n",
    "\\end{equation}  \n",
    "  \n",
    "We can compile this into a single cost function taking advantage of the fact that we can zero out either side of the equation given $y$ being either 0 or 1 by multiplying one side of the equation by $y$ and another side by $(1-y)$:  \n",
    "\n",
    "\\begin{equation}\\tag{2.11}\n",
    "J(\\theta) = - \\frac{1}{m}\\sum_{i=1}^{m}{[y_i log(h_\\theta(x_i')) + (1 - y_i) log(1 - h_\\theta(x_i'))]}\n",
    "\\end{equation}  \n",
    "\n",
    "Using equation 2.6 from above ($h(\\boldsymbol{\\theta}) = \\boldsymbol{\\theta}^T\\mathbf{x}'$), this can be rewritten as:  \n",
    "\n",
    "\\begin{equation}\\tag{2.12}\n",
    "J(\\theta) = \\frac{1}{m}\\cdot(-\\mathbf{y}\\cdot\\boldsymbol{\\theta}^T\\mathbf{x}' - (1 - \\mathbf{y})\\cdot log(1 - \\boldsymbol{\\theta}^T\\mathbf{x}')\n",
    "\\end{equation}  \n",
    "\n",
    "Equation 2.12 forms the basis of our spark job in the LogLoss function that we built for the toy dataset in section 3 below. \n",
    "\n",
    "For the gradient, we take the [first derivative of this cost function](https://ml-cheatsheet.readthedocs.io/en/latest/logistic_regression.html#gradient-descent), which winds up being:  \n",
    "  \n",
    "\\begin{equation}\\tag{2.13}\n",
    "\\nabla_\\theta f = \\mathbf{x}'\\cdot(h(\\boldsymbol{\\theta}) - \\mathbf{y}) \\\\\n",
    "\\nabla_\\theta f = \\mathbf{x}'\\cdot(\\frac{1}{1+e^{-\\boldsymbol{\\theta} \\mathbf{x'}}} - \\mathbf{y}) \\\\\n",
    "\\nabla_\\theta f = \\frac{x}{1+e^{-\\boldsymbol{\\theta} \\mathbf{x'}}} -\\mathbf{x}'\\mathbf{y} \\\\ \n",
    "\\end{equation}  \n",
    "\n",
    "  \n",
    "Equation 2.13 forms the basis of our spark job in the GDUpdate_wReg function that we built for the toy dataset in section 3 below."
   ]
  },
  {
   "cell_type": "markdown",
   "metadata": {},
   "source": [
    "## 3: EDA & Logistic Regression using RDDs"
   ]
  },
  {
   "cell_type": "markdown",
   "metadata": {},
   "source": [
    "_Determine 2-3 relevant EDA tasks that will help you make decisions about how you implement the algorithm to be scalable. Discuss any challenges that you anticipate based on the EDA you perform_"
   ]
  },
  {
   "cell_type": "markdown",
   "metadata": {},
   "source": [
    "In this section we will do the EDA on toy dataset first and note the findings. We will also repeat the EDA on full dataset. We will do the following tasks:\n",
    "\n",
    "1) Calculate the correlations between features and with the label in order to see if we can eliminate some weak or duplicative features.  \n",
    "\n",
    "2) Calculate the number of distinct values in each categorical variable so that we can throw out ones that have a high percentage of distinct values. These will be unlikely to have much correlation with the label (something we confirmed with a chi-squared test) and will explode the feature space if we try to one hot encode them.  \n",
    "\n",
    "3) Perform a logistic regression using RDDs on the integer columns only to establish a baseline for more advanced models and ensure we understand the workings of the algorithm math outlined in Section 2. In Section 4, we will use Mlib with some feature engineering to try to beat the baseline from this EDA.  \n"
   ]
  },
  {
   "cell_type": "code",
   "execution_count": 1,
   "metadata": {},
   "outputs": [],
   "source": [
    "# Load all the packages we need\n",
    "import re\n",
    "import ast\n",
    "import time\n",
    "import itertools\n",
    "import numpy as np\n",
    "import pandas as pd\n",
    "import matplotlib.pyplot as plt\n",
    "import seaborn as sns\n",
    "import numbers\n",
    "\n",
    "from pyspark.ml.feature import FeatureHasher\n",
    "from pyspark.sql import SQLContext, Row\n",
    "from pyspark.mllib.classification import LogisticRegressionWithSGD\n",
    "from pyspark.mllib.regression import LabeledPoint\n",
    "from pyspark.mllib.linalg import SparseVector\n",
    "from pyspark.sql.types import IntegerType\n",
    "from pyspark.ml.classification import LogisticRegression\n",
    "from pyspark.ml.feature import FeatureHasher\n",
    "from pyspark.ml.evaluation import BinaryClassificationEvaluator\n",
    "from pyspark.ml.feature import OneHotEncoderEstimator"
   ]
  },
  {
   "cell_type": "code",
   "execution_count": 3,
   "metadata": {
    "collapsed": true
   },
   "outputs": [],
   "source": [
    "%reload_ext autoreload\n",
    "%autoreload 2\n",
    "%matplotlib inline"
   ]
  },
  {
   "cell_type": "code",
   "execution_count": 4,
   "metadata": {
    "collapsed": true
   },
   "outputs": [],
   "source": [
    "# store path to notebook\n",
    "PWD = !pwd\n",
    "PWD = PWD[0]"
   ]
  },
  {
   "cell_type": "code",
   "execution_count": 5,
   "metadata": {
    "collapsed": true
   },
   "outputs": [],
   "source": [
    "# start Spark Session\n",
    "from pyspark.sql import SparkSession\n",
    "app_name = \"fproj_notebook\"\n",
    "master = \"local[*]\"\n",
    "spark = SparkSession\\\n",
    "        .builder\\\n",
    "        .appName(app_name)\\\n",
    "        .master(master)\\\n",
    "        .getOrCreate()\n",
    "sc = spark.sparkContext"
   ]
  },
  {
   "cell_type": "code",
   "execution_count": 287,
   "metadata": {
    "collapsed": true
   },
   "outputs": [],
   "source": [
    "# load the data into Spark RDD\n",
    "projectRDD = sc.textFile('gs://w261-bucket-pav/notebooks/data/train.txt')"
   ]
  },
  {
   "cell_type": "code",
   "execution_count": 10,
   "metadata": {},
   "outputs": [
    {
     "data": {
      "text/plain": [
       "0.25622338372976045"
      ]
     },
     "execution_count": 10,
     "metadata": {},
     "output_type": "execute_result"
    }
   ],
   "source": [
    "# A quick check on average CTR before we do any other steps\n",
    "average_CTR = projectRDD.map(lambda x: int(x.split('\\t')[0])).mean()\n",
    "average_CTR"
   ]
  },
  {
   "cell_type": "code",
   "execution_count": 288,
   "metadata": {
    "collapsed": true
   },
   "outputs": [],
   "source": [
    "projectRDD = projectRDD.map(lambda x: x.split('\\t')).cache()"
   ]
  },
  {
   "cell_type": "code",
   "execution_count": 290,
   "metadata": {},
   "outputs": [
    {
     "data": {
      "text/plain": [
       "[['0',\n",
       "  '1',\n",
       "  '1',\n",
       "  '5',\n",
       "  '0',\n",
       "  '1382',\n",
       "  '4',\n",
       "  '15',\n",
       "  '2',\n",
       "  '181',\n",
       "  '1',\n",
       "  '2',\n",
       "  '',\n",
       "  '2',\n",
       "  '68fd1e64',\n",
       "  '80e26c9b',\n",
       "  'fb936136',\n",
       "  '7b4723c4',\n",
       "  '25c83c98',\n",
       "  '7e0ccccf',\n",
       "  'de7995b8',\n",
       "  '1f89b562',\n",
       "  'a73ee510',\n",
       "  'a8cd5504',\n",
       "  'b2cb9c98',\n",
       "  '37c9c164',\n",
       "  '2824a5f6',\n",
       "  '1adce6ef',\n",
       "  '8ba8b39a',\n",
       "  '891b62e7',\n",
       "  'e5ba7672',\n",
       "  'f54016b9',\n",
       "  '21ddcdc9',\n",
       "  'b1252a9d',\n",
       "  '07b5194c',\n",
       "  '',\n",
       "  '3a171ecb',\n",
       "  'c5c50484',\n",
       "  'e8b83407',\n",
       "  '9727dd16']]"
      ]
     },
     "execution_count": 290,
     "metadata": {},
     "output_type": "execute_result"
    }
   ],
   "source": [
    "# Take a look at first record to ensure we read it correctly\n",
    "projectRDD.take(1)"
   ]
  },
  {
   "cell_type": "code",
   "execution_count": 291,
   "metadata": {
    "collapsed": true
   },
   "outputs": [],
   "source": [
    "def parse(element):\n",
    "    \"\"\"\n",
    "    Map record_csv_string --> (tuple,of,fields)\n",
    "    \"\"\"\n",
    "    n_elements = len(element)\n",
    "    fields = np.array(element)\n",
    "    features,click = fields[1:], fields[0]\n",
    "    return(features, click)"
   ]
  },
  {
   "cell_type": "code",
   "execution_count": 292,
   "metadata": {
    "collapsed": true
   },
   "outputs": [],
   "source": [
    "projectRDDCached = projectRDD.map(parse).cache()"
   ]
  },
  {
   "cell_type": "code",
   "execution_count": 293,
   "metadata": {},
   "outputs": [
    {
     "data": {
      "text/plain": [
       "39"
      ]
     },
     "execution_count": 293,
     "metadata": {},
     "output_type": "execute_result"
    }
   ],
   "source": [
    "# How many features do we have?\n",
    "n_features = len(projectRDDCached.take(1)[0][0])\n",
    "n_features"
   ]
  },
  {
   "cell_type": "markdown",
   "metadata": {},
   "source": [
    "We have 39 features as expected. We know from the description that 13 of them are integers and 26 are categorical. Let us build our FIELDS (column names) now that reflects the kaggle names"
   ]
  },
  {
   "cell_type": "code",
   "execution_count": 294,
   "metadata": {},
   "outputs": [
    {
     "name": "stdout",
     "output_type": "stream",
     "text": [
      "13\n",
      "40\n"
     ]
    }
   ],
   "source": [
    "integer_labels = ['I'+str(x) for x in range(1,14)]\n",
    "print(len(integer_labels))\n",
    "categor_labels = ['C'+str(x) for x in range(1,27)]\n",
    "categor_labels.append('click')\n",
    "FIELDS = integer_labels+categor_labels\n",
    "print(len(FIELDS))"
   ]
  },
  {
   "cell_type": "markdown",
   "metadata": {},
   "source": [
    "### EDA on toy dataset of 1000 records"
   ]
  },
  {
   "cell_type": "code",
   "execution_count": 295,
   "metadata": {
    "collapsed": true
   },
   "outputs": [],
   "source": [
    "# Take sample of 1000 trainRDD. Skip this step if you have pickled sample_df (further below)\n",
    "sample = np.array(projectRDDCached.map(lambda x: np.append(x[0], [x[1]]))\n",
    "                                .takeSample(False, 1000))\n",
    "sample_df = pd.DataFrame(np.array(sample), columns = FIELDS)"
   ]
  },
  {
   "cell_type": "code",
   "execution_count": 296,
   "metadata": {},
   "outputs": [
    {
     "data": {
      "text/html": [
       "<div>\n",
       "<style scoped>\n",
       "    .dataframe tbody tr th:only-of-type {\n",
       "        vertical-align: middle;\n",
       "    }\n",
       "\n",
       "    .dataframe tbody tr th {\n",
       "        vertical-align: top;\n",
       "    }\n",
       "\n",
       "    .dataframe thead th {\n",
       "        text-align: right;\n",
       "    }\n",
       "</style>\n",
       "<table border=\"1\" class=\"dataframe\">\n",
       "  <thead>\n",
       "    <tr style=\"text-align: right;\">\n",
       "      <th></th>\n",
       "      <th>I1</th>\n",
       "      <th>I2</th>\n",
       "      <th>I3</th>\n",
       "      <th>I4</th>\n",
       "      <th>I5</th>\n",
       "      <th>I6</th>\n",
       "      <th>I7</th>\n",
       "      <th>I8</th>\n",
       "      <th>I9</th>\n",
       "      <th>I10</th>\n",
       "      <th>...</th>\n",
       "      <th>C18</th>\n",
       "      <th>C19</th>\n",
       "      <th>C20</th>\n",
       "      <th>C21</th>\n",
       "      <th>C22</th>\n",
       "      <th>C23</th>\n",
       "      <th>C24</th>\n",
       "      <th>C25</th>\n",
       "      <th>C26</th>\n",
       "      <th>click</th>\n",
       "    </tr>\n",
       "  </thead>\n",
       "  <tbody>\n",
       "    <tr>\n",
       "      <th>0</th>\n",
       "      <td></td>\n",
       "      <td>1</td>\n",
       "      <td>3</td>\n",
       "      <td>2</td>\n",
       "      <td>43993</td>\n",
       "      <td></td>\n",
       "      <td>0</td>\n",
       "      <td>7</td>\n",
       "      <td>49</td>\n",
       "      <td></td>\n",
       "      <td>...</td>\n",
       "      <td>e88ffc9d</td>\n",
       "      <td>8b067084</td>\n",
       "      <td>b1252a9d</td>\n",
       "      <td>90977168</td>\n",
       "      <td>ad3062eb</td>\n",
       "      <td>32c7478e</td>\n",
       "      <td>3fdb382b</td>\n",
       "      <td>cb079c2d</td>\n",
       "      <td>49d68486</td>\n",
       "      <td>1</td>\n",
       "    </tr>\n",
       "    <tr>\n",
       "      <th>1</th>\n",
       "      <td>8</td>\n",
       "      <td>-1</td>\n",
       "      <td></td>\n",
       "      <td></td>\n",
       "      <td>681</td>\n",
       "      <td>0</td>\n",
       "      <td>8</td>\n",
       "      <td>0</td>\n",
       "      <td>0</td>\n",
       "      <td>1</td>\n",
       "      <td>...</td>\n",
       "      <td>bd17c3da</td>\n",
       "      <td>712d530c</td>\n",
       "      <td>b1252a9d</td>\n",
       "      <td>80530232</td>\n",
       "      <td></td>\n",
       "      <td>32c7478e</td>\n",
       "      <td>471f55fb</td>\n",
       "      <td>010f6491</td>\n",
       "      <td>cb1956a3</td>\n",
       "      <td>0</td>\n",
       "    </tr>\n",
       "    <tr>\n",
       "      <th>2</th>\n",
       "      <td>1</td>\n",
       "      <td>53</td>\n",
       "      <td>6</td>\n",
       "      <td>4</td>\n",
       "      <td>0</td>\n",
       "      <td>0</td>\n",
       "      <td>9</td>\n",
       "      <td>3</td>\n",
       "      <td>9</td>\n",
       "      <td>1</td>\n",
       "      <td>...</td>\n",
       "      <td>bd17c3da</td>\n",
       "      <td>5b9203c4</td>\n",
       "      <td>a458ea53</td>\n",
       "      <td>5a299f9e</td>\n",
       "      <td></td>\n",
       "      <td>32c7478e</td>\n",
       "      <td>3ac1d485</td>\n",
       "      <td>010f6491</td>\n",
       "      <td>9d95018e</td>\n",
       "      <td>1</td>\n",
       "    </tr>\n",
       "    <tr>\n",
       "      <th>3</th>\n",
       "      <td>0</td>\n",
       "      <td>-1</td>\n",
       "      <td></td>\n",
       "      <td></td>\n",
       "      <td>1355</td>\n",
       "      <td>6</td>\n",
       "      <td>1</td>\n",
       "      <td>6</td>\n",
       "      <td>6</td>\n",
       "      <td>0</td>\n",
       "      <td>...</td>\n",
       "      <td>395856b0</td>\n",
       "      <td>21ddcdc9</td>\n",
       "      <td>b1252a9d</td>\n",
       "      <td>e5191f27</td>\n",
       "      <td>c9d4222a</td>\n",
       "      <td>3a171ecb</td>\n",
       "      <td>c23c2e19</td>\n",
       "      <td>001f3601</td>\n",
       "      <td>875d7cb9</td>\n",
       "      <td>0</td>\n",
       "    </tr>\n",
       "    <tr>\n",
       "      <th>4</th>\n",
       "      <td></td>\n",
       "      <td>0</td>\n",
       "      <td>43</td>\n",
       "      <td>13</td>\n",
       "      <td>564734</td>\n",
       "      <td></td>\n",
       "      <td>0</td>\n",
       "      <td>16</td>\n",
       "      <td>55</td>\n",
       "      <td></td>\n",
       "      <td>...</td>\n",
       "      <td>7ef5affa</td>\n",
       "      <td>9a9aaf67</td>\n",
       "      <td>b1252a9d</td>\n",
       "      <td>1e4963f9</td>\n",
       "      <td></td>\n",
       "      <td>32c7478e</td>\n",
       "      <td>3fdb382b</td>\n",
       "      <td>e8b83407</td>\n",
       "      <td>49d68486</td>\n",
       "      <td>0</td>\n",
       "    </tr>\n",
       "  </tbody>\n",
       "</table>\n",
       "<p>5 rows × 40 columns</p>\n",
       "</div>"
      ],
      "text/plain": [
       "  I1  I2  I3  I4      I5 I6 I7  I8  I9 I10  ...       C18       C19       C20  \\\n",
       "0      1   3   2   43993     0   7  49      ...  e88ffc9d  8b067084  b1252a9d   \n",
       "1  8  -1             681  0  8   0   0   1  ...  bd17c3da  712d530c  b1252a9d   \n",
       "2  1  53   6   4       0  0  9   3   9   1  ...  bd17c3da  5b9203c4  a458ea53   \n",
       "3  0  -1            1355  6  1   6   6   0  ...  395856b0  21ddcdc9  b1252a9d   \n",
       "4      0  43  13  564734     0  16  55      ...  7ef5affa  9a9aaf67  b1252a9d   \n",
       "\n",
       "        C21       C22       C23       C24       C25       C26 click  \n",
       "0  90977168  ad3062eb  32c7478e  3fdb382b  cb079c2d  49d68486     1  \n",
       "1  80530232            32c7478e  471f55fb  010f6491  cb1956a3     0  \n",
       "2  5a299f9e            32c7478e  3ac1d485  010f6491  9d95018e     1  \n",
       "3  e5191f27  c9d4222a  3a171ecb  c23c2e19  001f3601  875d7cb9     0  \n",
       "4  1e4963f9            32c7478e  3fdb382b  e8b83407  49d68486     0  \n",
       "\n",
       "[5 rows x 40 columns]"
      ]
     },
     "execution_count": 296,
     "metadata": {},
     "output_type": "execute_result"
    }
   ],
   "source": [
    "sample_df.head(5)\n",
    "#sample_df = pd.DataFrame(sample[0][0], columns = FIELDS)"
   ]
  },
  {
   "cell_type": "code",
   "execution_count": 297,
   "metadata": {
    "collapsed": true
   },
   "outputs": [],
   "source": [
    "# Pickle it so that others can use the same sample. This is just for comparison\n",
    "sample_df.to_pickle(\"./sample_df.pkl\")"
   ]
  },
  {
   "cell_type": "code",
   "execution_count": null,
   "metadata": {
    "collapsed": true
   },
   "outputs": [],
   "source": [
    "# Load the pickled data, if you got the sample_df from somewhere. Skip this step otherwise\n",
    "sample_df = pd.read_pickle(\"./sample_df.pkl\")"
   ]
  },
  {
   "cell_type": "code",
   "execution_count": 298,
   "metadata": {},
   "outputs": [
    {
     "data": {
      "text/html": [
       "<div>\n",
       "<style scoped>\n",
       "    .dataframe tbody tr th:only-of-type {\n",
       "        vertical-align: middle;\n",
       "    }\n",
       "\n",
       "    .dataframe tbody tr th {\n",
       "        vertical-align: top;\n",
       "    }\n",
       "\n",
       "    .dataframe thead th {\n",
       "        text-align: right;\n",
       "    }\n",
       "</style>\n",
       "<table border=\"1\" class=\"dataframe\">\n",
       "  <thead>\n",
       "    <tr style=\"text-align: right;\">\n",
       "      <th></th>\n",
       "      <th>I1</th>\n",
       "      <th>I2</th>\n",
       "      <th>I3</th>\n",
       "      <th>I4</th>\n",
       "      <th>I5</th>\n",
       "      <th>I6</th>\n",
       "      <th>I7</th>\n",
       "      <th>I8</th>\n",
       "      <th>I9</th>\n",
       "      <th>I10</th>\n",
       "      <th>...</th>\n",
       "      <th>C18</th>\n",
       "      <th>C19</th>\n",
       "      <th>C20</th>\n",
       "      <th>C21</th>\n",
       "      <th>C22</th>\n",
       "      <th>C23</th>\n",
       "      <th>C24</th>\n",
       "      <th>C25</th>\n",
       "      <th>C26</th>\n",
       "      <th>click</th>\n",
       "    </tr>\n",
       "  </thead>\n",
       "  <tbody>\n",
       "    <tr>\n",
       "      <th>0</th>\n",
       "      <td>NaN</td>\n",
       "      <td>1</td>\n",
       "      <td>3</td>\n",
       "      <td>2</td>\n",
       "      <td>43993</td>\n",
       "      <td>NaN</td>\n",
       "      <td>0</td>\n",
       "      <td>7</td>\n",
       "      <td>49</td>\n",
       "      <td>NaN</td>\n",
       "      <td>...</td>\n",
       "      <td>e88ffc9d</td>\n",
       "      <td>8b067084</td>\n",
       "      <td>b1252a9d</td>\n",
       "      <td>90977168</td>\n",
       "      <td>ad3062eb</td>\n",
       "      <td>32c7478e</td>\n",
       "      <td>3fdb382b</td>\n",
       "      <td>cb079c2d</td>\n",
       "      <td>49d68486</td>\n",
       "      <td>1</td>\n",
       "    </tr>\n",
       "    <tr>\n",
       "      <th>1</th>\n",
       "      <td>8</td>\n",
       "      <td>-1</td>\n",
       "      <td>NaN</td>\n",
       "      <td>NaN</td>\n",
       "      <td>681</td>\n",
       "      <td>0</td>\n",
       "      <td>8</td>\n",
       "      <td>0</td>\n",
       "      <td>0</td>\n",
       "      <td>1</td>\n",
       "      <td>...</td>\n",
       "      <td>bd17c3da</td>\n",
       "      <td>712d530c</td>\n",
       "      <td>b1252a9d</td>\n",
       "      <td>80530232</td>\n",
       "      <td>NaN</td>\n",
       "      <td>32c7478e</td>\n",
       "      <td>471f55fb</td>\n",
       "      <td>010f6491</td>\n",
       "      <td>cb1956a3</td>\n",
       "      <td>0</td>\n",
       "    </tr>\n",
       "    <tr>\n",
       "      <th>2</th>\n",
       "      <td>1</td>\n",
       "      <td>53</td>\n",
       "      <td>6</td>\n",
       "      <td>4</td>\n",
       "      <td>0</td>\n",
       "      <td>0</td>\n",
       "      <td>9</td>\n",
       "      <td>3</td>\n",
       "      <td>9</td>\n",
       "      <td>1</td>\n",
       "      <td>...</td>\n",
       "      <td>bd17c3da</td>\n",
       "      <td>5b9203c4</td>\n",
       "      <td>a458ea53</td>\n",
       "      <td>5a299f9e</td>\n",
       "      <td>NaN</td>\n",
       "      <td>32c7478e</td>\n",
       "      <td>3ac1d485</td>\n",
       "      <td>010f6491</td>\n",
       "      <td>9d95018e</td>\n",
       "      <td>1</td>\n",
       "    </tr>\n",
       "    <tr>\n",
       "      <th>3</th>\n",
       "      <td>0</td>\n",
       "      <td>-1</td>\n",
       "      <td>NaN</td>\n",
       "      <td>NaN</td>\n",
       "      <td>1355</td>\n",
       "      <td>6</td>\n",
       "      <td>1</td>\n",
       "      <td>6</td>\n",
       "      <td>6</td>\n",
       "      <td>0</td>\n",
       "      <td>...</td>\n",
       "      <td>395856b0</td>\n",
       "      <td>21ddcdc9</td>\n",
       "      <td>b1252a9d</td>\n",
       "      <td>e5191f27</td>\n",
       "      <td>c9d4222a</td>\n",
       "      <td>3a171ecb</td>\n",
       "      <td>c23c2e19</td>\n",
       "      <td>001f3601</td>\n",
       "      <td>875d7cb9</td>\n",
       "      <td>0</td>\n",
       "    </tr>\n",
       "    <tr>\n",
       "      <th>4</th>\n",
       "      <td>NaN</td>\n",
       "      <td>0</td>\n",
       "      <td>43</td>\n",
       "      <td>13</td>\n",
       "      <td>564734</td>\n",
       "      <td>NaN</td>\n",
       "      <td>0</td>\n",
       "      <td>16</td>\n",
       "      <td>55</td>\n",
       "      <td>NaN</td>\n",
       "      <td>...</td>\n",
       "      <td>7ef5affa</td>\n",
       "      <td>9a9aaf67</td>\n",
       "      <td>b1252a9d</td>\n",
       "      <td>1e4963f9</td>\n",
       "      <td>NaN</td>\n",
       "      <td>32c7478e</td>\n",
       "      <td>3fdb382b</td>\n",
       "      <td>e8b83407</td>\n",
       "      <td>49d68486</td>\n",
       "      <td>0</td>\n",
       "    </tr>\n",
       "    <tr>\n",
       "      <th>5</th>\n",
       "      <td>NaN</td>\n",
       "      <td>4</td>\n",
       "      <td>NaN</td>\n",
       "      <td>3</td>\n",
       "      <td>89868</td>\n",
       "      <td>NaN</td>\n",
       "      <td>0</td>\n",
       "      <td>3</td>\n",
       "      <td>3</td>\n",
       "      <td>NaN</td>\n",
       "      <td>...</td>\n",
       "      <td>5ce4203e</td>\n",
       "      <td>NaN</td>\n",
       "      <td>NaN</td>\n",
       "      <td>a466b525</td>\n",
       "      <td>NaN</td>\n",
       "      <td>32c7478e</td>\n",
       "      <td>9b18ad04</td>\n",
       "      <td>NaN</td>\n",
       "      <td>NaN</td>\n",
       "      <td>0</td>\n",
       "    </tr>\n",
       "    <tr>\n",
       "      <th>6</th>\n",
       "      <td>NaN</td>\n",
       "      <td>19</td>\n",
       "      <td>10</td>\n",
       "      <td>8</td>\n",
       "      <td>1892</td>\n",
       "      <td>16</td>\n",
       "      <td>15</td>\n",
       "      <td>8</td>\n",
       "      <td>17</td>\n",
       "      <td>NaN</td>\n",
       "      <td>...</td>\n",
       "      <td>29b0e3e5</td>\n",
       "      <td>NaN</td>\n",
       "      <td>NaN</td>\n",
       "      <td>2b81e06c</td>\n",
       "      <td>ad3062eb</td>\n",
       "      <td>55dd3565</td>\n",
       "      <td>2f647dfe</td>\n",
       "      <td>NaN</td>\n",
       "      <td>NaN</td>\n",
       "      <td>1</td>\n",
       "    </tr>\n",
       "    <tr>\n",
       "      <th>7</th>\n",
       "      <td>NaN</td>\n",
       "      <td>1</td>\n",
       "      <td>1</td>\n",
       "      <td>4</td>\n",
       "      <td>5355</td>\n",
       "      <td>43</td>\n",
       "      <td>30</td>\n",
       "      <td>0</td>\n",
       "      <td>42</td>\n",
       "      <td>NaN</td>\n",
       "      <td>...</td>\n",
       "      <td>c21c3e4c</td>\n",
       "      <td>5d097c5a</td>\n",
       "      <td>a458ea53</td>\n",
       "      <td>611af665</td>\n",
       "      <td>NaN</td>\n",
       "      <td>c7dc6720</td>\n",
       "      <td>5d3ae26f</td>\n",
       "      <td>9b3e8820</td>\n",
       "      <td>b9772eb5</td>\n",
       "      <td>1</td>\n",
       "    </tr>\n",
       "    <tr>\n",
       "      <th>8</th>\n",
       "      <td>NaN</td>\n",
       "      <td>38</td>\n",
       "      <td>31</td>\n",
       "      <td>18</td>\n",
       "      <td>23588</td>\n",
       "      <td>236</td>\n",
       "      <td>1</td>\n",
       "      <td>18</td>\n",
       "      <td>126</td>\n",
       "      <td>NaN</td>\n",
       "      <td>...</td>\n",
       "      <td>a863ac26</td>\n",
       "      <td>NaN</td>\n",
       "      <td>NaN</td>\n",
       "      <td>67aad1f6</td>\n",
       "      <td>NaN</td>\n",
       "      <td>93bad2c0</td>\n",
       "      <td>8ec48ff8</td>\n",
       "      <td>NaN</td>\n",
       "      <td>NaN</td>\n",
       "      <td>0</td>\n",
       "    </tr>\n",
       "    <tr>\n",
       "      <th>9</th>\n",
       "      <td>NaN</td>\n",
       "      <td>17</td>\n",
       "      <td>15</td>\n",
       "      <td>14</td>\n",
       "      <td>4068</td>\n",
       "      <td>62</td>\n",
       "      <td>130</td>\n",
       "      <td>16</td>\n",
       "      <td>71</td>\n",
       "      <td>NaN</td>\n",
       "      <td>...</td>\n",
       "      <td>642f2610</td>\n",
       "      <td>21ddcdc9</td>\n",
       "      <td>b1252a9d</td>\n",
       "      <td>2421b611</td>\n",
       "      <td>ad3062eb</td>\n",
       "      <td>423fab69</td>\n",
       "      <td>45ab94c8</td>\n",
       "      <td>2bf691b1</td>\n",
       "      <td>c84c4aec</td>\n",
       "      <td>0</td>\n",
       "    </tr>\n",
       "  </tbody>\n",
       "</table>\n",
       "<p>10 rows × 40 columns</p>\n",
       "</div>"
      ],
      "text/plain": [
       "    I1  I2   I3   I4      I5   I6   I7  I8   I9  I10  ...       C18       C19  \\\n",
       "0  NaN   1    3    2   43993  NaN    0   7   49  NaN  ...  e88ffc9d  8b067084   \n",
       "1    8  -1  NaN  NaN     681    0    8   0    0    1  ...  bd17c3da  712d530c   \n",
       "2    1  53    6    4       0    0    9   3    9    1  ...  bd17c3da  5b9203c4   \n",
       "3    0  -1  NaN  NaN    1355    6    1   6    6    0  ...  395856b0  21ddcdc9   \n",
       "4  NaN   0   43   13  564734  NaN    0  16   55  NaN  ...  7ef5affa  9a9aaf67   \n",
       "5  NaN   4  NaN    3   89868  NaN    0   3    3  NaN  ...  5ce4203e       NaN   \n",
       "6  NaN  19   10    8    1892   16   15   8   17  NaN  ...  29b0e3e5       NaN   \n",
       "7  NaN   1    1    4    5355   43   30   0   42  NaN  ...  c21c3e4c  5d097c5a   \n",
       "8  NaN  38   31   18   23588  236    1  18  126  NaN  ...  a863ac26       NaN   \n",
       "9  NaN  17   15   14    4068   62  130  16   71  NaN  ...  642f2610  21ddcdc9   \n",
       "\n",
       "        C20       C21       C22       C23       C24       C25       C26 click  \n",
       "0  b1252a9d  90977168  ad3062eb  32c7478e  3fdb382b  cb079c2d  49d68486     1  \n",
       "1  b1252a9d  80530232       NaN  32c7478e  471f55fb  010f6491  cb1956a3     0  \n",
       "2  a458ea53  5a299f9e       NaN  32c7478e  3ac1d485  010f6491  9d95018e     1  \n",
       "3  b1252a9d  e5191f27  c9d4222a  3a171ecb  c23c2e19  001f3601  875d7cb9     0  \n",
       "4  b1252a9d  1e4963f9       NaN  32c7478e  3fdb382b  e8b83407  49d68486     0  \n",
       "5       NaN  a466b525       NaN  32c7478e  9b18ad04       NaN       NaN     0  \n",
       "6       NaN  2b81e06c  ad3062eb  55dd3565  2f647dfe       NaN       NaN     1  \n",
       "7  a458ea53  611af665       NaN  c7dc6720  5d3ae26f  9b3e8820  b9772eb5     1  \n",
       "8       NaN  67aad1f6       NaN  93bad2c0  8ec48ff8       NaN       NaN     0  \n",
       "9  b1252a9d  2421b611  ad3062eb  423fab69  45ab94c8  2bf691b1  c84c4aec     0  \n",
       "\n",
       "[10 rows x 40 columns]"
      ]
     },
     "execution_count": 298,
     "metadata": {},
     "output_type": "execute_result"
    }
   ],
   "source": [
    "# Replace all empty strings with np.nan. Empty strings are not good for running correlation otherwise\n",
    "sample_df = sample_df.replace(r'^\\s*$', np.nan, regex=True)\n",
    "sample_df.head(10)"
   ]
  },
  {
   "cell_type": "code",
   "execution_count": 299,
   "metadata": {},
   "outputs": [
    {
     "data": {
      "text/plain": [
       "I1     458\n",
       "I2       0\n",
       "I3     204\n",
       "I4     221\n",
       "I5      27\n",
       "I6     229\n",
       "I7      41\n",
       "I8       0\n",
       "I9      41\n",
       "I10    458\n",
       "I11     41\n",
       "I12    757\n",
       "I13    221\n",
       "dtype: int64"
      ]
     },
     "execution_count": 299,
     "metadata": {},
     "output_type": "execute_result"
    }
   ],
   "source": [
    "# Check for number of NULL values in our dataframe.\n",
    "sample_df[FIELDS[0:13]].isnull().sum()"
   ]
  },
  {
   "cell_type": "markdown",
   "metadata": {},
   "source": [
    "**Analysis of results:**\n",
    "I12, I10, I1 has many null values. We will later  validate these findings on full dataset and see if it matches"
   ]
  },
  {
   "cell_type": "code",
   "execution_count": 300,
   "metadata": {
    "collapsed": true
   },
   "outputs": [],
   "source": [
    "sample_df[FIELDS[0:13]] = sample_df[FIELDS[0:13]].astype(float)\n",
    "sample_df.click = sample_df.click.astype(float)"
   ]
  },
  {
   "cell_type": "code",
   "execution_count": 301,
   "metadata": {
    "scrolled": true
   },
   "outputs": [
    {
     "data": {
      "image/png": "[encoded data removed]",
      "text/plain": [
       "<Figure size 792x648 with 2 Axes>"
      ]
     },
     "metadata": {
      "needs_background": "light"
     },
     "output_type": "display_data"
    }
   ],
   "source": [
    "# Correlation between the dependent variables\n",
    "corr = sample_df[FIELDS[0:13]].corr()\n",
    "fig,ax = plt.subplots(figsize=(11, 9))\n",
    "mask = np.zeros_like(corr, dtype=np.bool)\n",
    "mask[np.triu_indices_from(mask)] = True\n",
    "cmap = sns.diverging_palette(240, 10, as_cmap=True)\n",
    "sns.heatmap(corr, mask=mask, cmap=cmap, annot=True,center=0, linewidths=.5)\n",
    "plt.title(\"Correlations between features.\")\n",
    "plt.show()"
   ]
  },
  {
   "cell_type": "markdown",
   "metadata": {},
   "source": [
    "** Analysis of results: ** I4 & I13, I8 & I13, I7 & I11, I1 & I7 are highly correlated. Since I13 appears twice and correlated with I4 and I8, we can possibly eliminate I13."
   ]
  },
  {
   "cell_type": "code",
   "execution_count": 302,
   "metadata": {},
   "outputs": [
    {
     "data": {
      "text/plain": [
       "I1     0.102154\n",
       "I2     0.064720\n",
       "I3    -0.048040\n",
       "I4    -0.032795\n",
       "I5    -0.100168\n",
       "I6    -0.117093\n",
       "I7     0.122474\n",
       "I8     0.000551\n",
       "I9     0.107756\n",
       "I10    0.207656\n",
       "I11    0.213373\n",
       "I12    0.158306\n",
       "I13   -0.111183\n",
       "dtype: float64"
      ]
     },
     "execution_count": 302,
     "metadata": {},
     "output_type": "execute_result"
    }
   ],
   "source": [
    "# Check correlation with target variable and other integer features\n",
    "sample_df.drop(FIELDS[13:], axis=1).apply(lambda x: x.corr(sample_df.click))"
   ]
  },
  {
   "cell_type": "markdown",
   "metadata": {},
   "source": [
    "#### Variables that are least correlated with outcome value is I8"
   ]
  },
  {
   "cell_type": "markdown",
   "metadata": {},
   "source": [
    "Let us now find the number of unique values in each categorical variable"
   ]
  },
  {
   "cell_type": "code",
   "execution_count": 303,
   "metadata": {
    "collapsed": true
   },
   "outputs": [],
   "source": [
    "def n_unique(x):\n",
    "    \"\"\" Counts number of unique values\"\"\"\n",
    "    #If an entry is blank, add them as unique\n",
    "    total_na = x.isna().sum()\n",
    "    return x.nunique() + total_na\n"
   ]
  },
  {
   "cell_type": "code",
   "execution_count": 304,
   "metadata": {
    "scrolled": true
   },
   "outputs": [
    {
     "data": {
      "text/plain": [
       "C1      58\n",
       "C2     195\n",
       "C3     780\n",
       "C4     657\n",
       "C5      24\n",
       "C6     130\n",
       "C7     721\n",
       "C8      36\n",
       "C9       2\n",
       "C10    611\n",
       "C11    587\n",
       "C12    758\n",
       "C13    536\n",
       "C14     18\n",
       "C15    571\n",
       "C16    723\n",
       "C17      9\n",
       "C18    393\n",
       "C19    571\n",
       "C20    445\n",
       "C21    747\n",
       "C22    760\n",
       "C23     11\n",
       "C24    495\n",
       "C25    469\n",
       "C26    770\n",
       "dtype: int64"
      ]
     },
     "execution_count": 304,
     "metadata": {},
     "output_type": "execute_result"
    }
   ],
   "source": [
    "sample_df[FIELDS[13:n_features]].apply(n_unique,axis=0)"
   ]
  },
  {
   "cell_type": "code",
   "execution_count": 345,
   "metadata": {
    "scrolled": true
   },
   "outputs": [
    {
     "data": {
      "image/png": "[encoded data removed]",
      "text/plain": [
       "<Figure size 1080x1080 with 16 Axes>"
      ]
     },
     "metadata": {},
     "output_type": "display_data"
    }
   ],
   "source": [
    "sample_df[FIELDS[0:13]].hist(figsize=(15,15), bins=15)\n",
    "plt.show()"
   ]
  },
  {
   "cell_type": "code",
   "execution_count": 346,
   "metadata": {},
   "outputs": [
    {
     "data": {
      "text/plain": [
       "count    9.730000e+02\n",
       "mean     2.230645e+04\n",
       "std      7.888478e+04\n",
       "min      0.000000e+00\n",
       "25%      6.070000e+02\n",
       "50%      2.895000e+03\n",
       "75%      1.016300e+04\n",
       "max      1.044564e+06\n",
       "Name: I5, dtype: float64"
      ]
     },
     "execution_count": 346,
     "metadata": {},
     "output_type": "execute_result"
    }
   ],
   "source": [
    "sample_df['I5'].describe()"
   ]
  },
  {
   "cell_type": "markdown",
   "metadata": {},
   "source": [
    "Variable I5 seem to have major outliers looking at its range"
   ]
  },
  {
   "cell_type": "markdown",
   "metadata": {},
   "source": [
    "### EDA on Full Dataset"
   ]
  },
  {
   "cell_type": "code",
   "execution_count": 307,
   "metadata": {
    "collapsed": true
   },
   "outputs": [],
   "source": [
    "## Distinct values per column on full dataset\n",
    "def emit_col_val(line):\n",
    "    features = line[0]\n",
    "    N = len(features)\n",
    "    for i in range(13,N):\n",
    "        yield(i,features[i])\n",
    "\n",
    "def count_values(line):\n",
    "    \"\"\" Return word count\"\"\"\n",
    "    feature,cat_values = line\n",
    "    yield (feature,len(cat_values.split()))\n",
    "\n",
    "catFeatRDD = projectRDDCached.flatMap(emit_col_val)\\\n",
    "                    .distinct()\\\n",
    "                    .reduceByKey(lambda x,y : x+' '+y) \\\n",
    "                    .flatMap(count_values).cache()\n",
    "\n"
   ]
  },
  {
   "cell_type": "code",
   "execution_count": 308,
   "metadata": {
    "collapsed": true
   },
   "outputs": [],
   "source": [
    "catFeat = catFeatRDD.collect()"
   ]
  },
  {
   "cell_type": "code",
   "execution_count": 357,
   "metadata": {
    "collapsed": true
   },
   "outputs": [],
   "source": [
    "#catFeat"
   ]
  },
  {
   "cell_type": "code",
   "execution_count": 104,
   "metadata": {
    "scrolled": true
   },
   "outputs": [
    {
     "name": "stdout",
     "output_type": "stream",
     "text": [
      "C1: 1460\n",
      "C2: 579\n",
      "C3: 8380405\n",
      "C4: 1884751\n",
      "C5: 305\n",
      "C6: 23\n",
      "C7: 12493\n",
      "C8: 633\n",
      "C9: 3\n",
      "C10: 89036\n",
      "C11: 5657\n",
      "C12: 6951577\n",
      "C13: 3194\n",
      "C14: 27\n",
      "C15: 14752\n",
      "C16: 4590483\n",
      "C17: 10\n",
      "C18: 5590\n",
      "C19: 2166\n",
      "C20: 3\n",
      "C21: 5894198\n",
      "C22: 17\n",
      "C23: 15\n",
      "C24: 258633\n",
      "C25: 104\n",
      "C26: 133146\n"
     ]
    }
   ],
   "source": [
    "for i in range(len(catFeat)):\n",
    "    print('{}: {}'.format(FIELDS[catFeat[i][0]],catFeat[i][1]))"
   ]
  },
  {
   "cell_type": "code",
   "execution_count": 319,
   "metadata": {
    "collapsed": true
   },
   "outputs": [],
   "source": [
    "categor_labels.pop(26)"
   ]
  },
  {
   "cell_type": "code",
   "execution_count": 356,
   "metadata": {},
   "outputs": [
    {
     "data": {
      "text/plain": [
       "{'C1': 0.00146,\n",
       " 'C2': 0.000583,\n",
       " 'C3': 10.131226,\n",
       " 'C4': 2.202607,\n",
       " 'C5': 0.000305,\n",
       " 'C6': 2.3e-05,\n",
       " 'C7': 0.012517,\n",
       " 'C8': 0.000633,\n",
       " 'C9': 3e-06,\n",
       " 'C10': 0.093145,\n",
       " 'C11': 0.005683,\n",
       " 'C12': 8.351592,\n",
       " 'C13': 0.003194,\n",
       " 'C14': 2.7e-05,\n",
       " 'C15': 0.014992,\n",
       " 'C16': 5.461305,\n",
       " 'C17': 1e-05,\n",
       " 'C18': 0.005652,\n",
       " 'C19': 0.002172,\n",
       " 'C20': 3e-06,\n",
       " 'C21': 7.046546,\n",
       " 'C22': 1.7e-05,\n",
       " 'C23': 1.5e-05,\n",
       " 'C24': 0.28618,\n",
       " 'C25': 0.000104,\n",
       " 'C26': 0.142571}"
      ]
     },
     "execution_count": 356,
     "metadata": {},
     "output_type": "execute_result"
    }
   ],
   "source": [
    "keys = categor_labels\n",
    "UniqueCounts_dict = {key: 0 for key in keys}\n",
    "count = 1\n",
    "for val in catFeat:\n",
    "    c = 'C'+str(count)\n",
    "    m = val[1]   \n",
    "    UniqueCounts_dict[c] = m/1000000\n",
    "    count+=1\n",
    "\n",
    "UniqueCounts_dict"
   ]
  },
  {
   "cell_type": "code",
   "execution_count": 342,
   "metadata": {},
   "outputs": [
    {
     "data": {
      "image/png": "[encoded data removed]",
      "text/plain": [
       "<Figure size 1440x720 with 1 Axes>"
      ]
     },
     "metadata": {},
     "output_type": "display_data"
    }
   ],
   "source": [
    "sns.set_style('darkgrid')\n",
    "keys = UniqueCounts_dict.keys()\n",
    "vals = UniqueCounts_dict.values()\n",
    "plt.figure(figsize=(20,10))\n",
    "plt.bar(keys, vals, label=\"Count distribution\")\n",
    "\n",
    "#plt.ylim(0,1)\n",
    "plt.ylabel ('Number of unique values in millions')\n",
    "plt.xlabel ('Categorical variables')\n",
    "plt.xticks(list(keys))\n",
    "plt.show()"
   ]
  },
  {
   "cell_type": "code",
   "execution_count": null,
   "metadata": {
    "collapsed": true
   },
   "outputs": [],
   "source": [
    "# try doing chi-squared test for categorical features and the label\n",
    "# relied on code from here: https://codereview.stackexchange.com/questions/96761/chi-square-independence-test-for-two-pandas-df-columns\n",
    "# the code below ran with a pandas dataframe from an old notebook\n",
    "\n",
    "factorizedPDF = samplePDF[label_and_numeric]\n",
    "for colname in categorical_features:\n",
    "    factorizedPDF[colname] = pd.factorize(samplePDF[colname])[0]\n",
    "    \n",
    "import scipy.stats as scs\n",
    "\n",
    "def categories(series):\n",
    "    return range(int(series.min()), int(series.max()) + 1)\n",
    "\n",
    "def chi_square_of_df_cols(df, col1, col2):\n",
    "    df_col1, df_col2 = df[col1], df[col2]\n",
    "\n",
    "    result = [[sum((df_col1 == cat1) & (df_col2 == cat2))\n",
    "               for cat2 in categories(df_col2)]\n",
    "              for cat1 in categories(df_col1)]\n",
    "    \n",
    "    # can't have cells in contigency table <5, so tossing out small categories\n",
    "    # valid if just trying to get a rough idea of associations? hopefully...\n",
    "    new_cont_table = []\n",
    "    for pair in result:\n",
    "        if (pair[0] >= 5 and pair[1] >= 5):\n",
    "            new_cont_table.append(pair)\n",
    "    \n",
    "    if (new_cont_table == []): \n",
    "        return None\n",
    "    else:\n",
    "        return scs.chi2_contingency(new_cont_table)\n",
    "\n",
    "print(\"Chi_square test on each categorical column with label\\n\")\n",
    "for colname in categorical_features:\n",
    "    if chi_square_of_df_cols(factorizedPDF, colname, 'label') != None:\n",
    "        p_val = chi_square_of_df_cols(factorizedPDF, colname, 'label')[1]\n",
    "        print(colname, \"p-value: \", p_val)\n",
    "    else:\n",
    "        print(colname, \"p-value: None\")\n"
   ]
  },
  {
   "cell_type": "code",
   "execution_count": null,
   "metadata": {
    "collapsed": true
   },
   "outputs": [],
   "source": [
    "Chi_square test on each categorical column with label\n",
    "\n",
    "C1 p-value:  0.21082798547288253\n",
    "C2 p-value:  0.6435562286680369\n",
    "C3 p-value:  1.0\n",
    "C4 p-value:  0.012948939934941228\n",
    "C5 p-value:  0.8535936414496317\n",
    "C6 p-value:  0.049581973659291234\n",
    "C7 p-value:  0.797861519994188\n",
    "C8 p-value:  0.6135336372023791\n",
    "C9 p-value:  7.50591017192037e-05\n",
    "C10 p-value:  1.0\n",
    "C11 p-value:  0.7938565664416881\n",
    "C12 p-value:  1.0\n",
    "C13 p-value:  0.6702820959999762\n",
    "C14 p-value:  0.0004643180576810328\n",
    "C15 p-value: None\n",
    "C16 p-value:  0.010838360359114419\n",
    "C17 p-value:  6.215519829380432e-06\n",
    "C18 p-value:  0.36916060790189564\n",
    "C19 p-value:  0.4073140424351105\n",
    "C20 p-value:  0.3279960391349751\n",
    "C21 p-value:  0.010838360359114419\n",
    "C22 p-value:  0.3632684079519511\n",
    "C23 p-value:  0.2132366139150885\n",
    "C24 p-value:  0.7881904129396066\n",
    "C25 p-value:  0.3848364145236987\n",
    "C26 p-value:  0.4419905004244705"
   ]
  },
  {
   "cell_type": "markdown",
   "metadata": {},
   "source": [
    "**Analysis of results:**\n",
    "The most valuable categorical variables seem to be C6, C9, C14, C17, C20, C22, C23 as they all have fewer than 100 unique values. This is important because if we tried to include all the categorical variables through one hot encoding, we would wind up creating 10s of millions of features. This smaller list of categorical variables would result in less than 1,000 new features. We also ran a chi-squared test on the on each categorical feature with the labels and found a lot of overlap: C4, C6, C9, C14, C16, C17, and C21 all showed significant correlation, suggesting that choosing the columns with the fewest distinct values for one hot encoding would be both practical and meaningful.  "
   ]
  },
  {
   "cell_type": "code",
   "execution_count": 309,
   "metadata": {
    "collapsed": true
   },
   "outputs": [],
   "source": [
    "# How many NULL values are there in each integer variable?\n",
    "\n",
    "def emit_int_feat(line):\n",
    "    features = line[0]\n",
    "    N = len(features)\n",
    "    for i in range(13):\n",
    "        column = 'I'+str(i+1)\n",
    "        if features[i]==\"\":\n",
    "            yield(column,1)\n",
    "\n",
    "NullCountRDD = projectRDDCached.flatMap(emit_int_feat)\\\n",
    "                    .reduceByKey(lambda x,y : x+y).cache()"
   ]
  },
  {
   "cell_type": "code",
   "execution_count": 349,
   "metadata": {
    "scrolled": true
   },
   "outputs": [
    {
     "data": {
      "text/plain": [
       "[('I10', 20793556),\n",
       " ('I7', 1982866),\n",
       " ('I13', 9937369),\n",
       " ('I1', 20793556),\n",
       " ('I4', 9937369),\n",
       " ('I12', 35071652),\n",
       " ('I3', 9839447),\n",
       " ('I11', 1982866),\n",
       " ('I6', 10252328),\n",
       " ('I5', 1183117),\n",
       " ('I9', 1982866),\n",
       " ('I8', 22773)]"
      ]
     },
     "execution_count": 349,
     "metadata": {},
     "output_type": "execute_result"
    }
   ],
   "source": [
    "NullCounts = NullCountRDD.collect()\n",
    "NullCounts"
   ]
  },
  {
   "cell_type": "code",
   "execution_count": 359,
   "metadata": {},
   "outputs": [
    {
     "data": {
      "text/plain": [
       "{'I1': 20.793556,\n",
       " 'I2': 0,\n",
       " 'I3': 9.839447,\n",
       " 'I4': 9.937369,\n",
       " 'I5': 1.183117,\n",
       " 'I6': 10.252328,\n",
       " 'I7': 1.982866,\n",
       " 'I8': 0.022773,\n",
       " 'I9': 1.982866,\n",
       " 'I10': 20.793556,\n",
       " 'I11': 1.982866,\n",
       " 'I12': 35.071652,\n",
       " 'I13': 9.937369}"
      ]
     },
     "execution_count": 359,
     "metadata": {},
     "output_type": "execute_result"
    }
   ],
   "source": [
    "keys = integer_labels\n",
    "NullCounts_dict = {key: 0 for key in keys}\n",
    "count = 1\n",
    "for val in NullCounts:\n",
    "    c = val[0]\n",
    "    m = val[1]\n",
    "    #c_num = int(c[1:])\n",
    "    NullCounts_dict[c] = m/1000000\n",
    "    count +=1\n",
    "NullCounts_dict "
   ]
  },
  {
   "cell_type": "code",
   "execution_count": 360,
   "metadata": {},
   "outputs": [
    {
     "data": {
      "image/png": "[encoded data removed]",
      "text/plain": [
       "<Figure size 1440x720 with 1 Axes>"
      ]
     },
     "metadata": {},
     "output_type": "display_data"
    }
   ],
   "source": [
    "#sns.set_style('darkgrid')\n",
    "keys = NullCounts_dict.keys()\n",
    "vals = NullCounts_dict.values()\n",
    "plt.figure(figsize=(20,10))\n",
    "plt.bar(keys, vals, label=\"Count distribution\")\n",
    "\n",
    "#plt.ylim(0,1)\n",
    "plt.ylabel ('Number of Null values in millions')\n",
    "plt.xlabel ('Integer variables')\n",
    "plt.xticks(list(keys))\n",
    "plt.show()"
   ]
  },
  {
   "cell_type": "markdown",
   "metadata": {},
   "source": [
    "**Analysis of results:** I2 has no null values. But rest of them have a lot. I12 has 35 Million null values (77%), I1 and I10 has ~21Million (47%), I3,I4,I6 and I13 have close to 10Million null values (22%). Considering the amount of missing values in I12, it appears that I12 has very little use."
   ]
  },
  {
   "cell_type": "markdown",
   "metadata": {},
   "source": [
    "#### Null values "
   ]
  },
  {
   "cell_type": "code",
   "execution_count": 361,
   "metadata": {},
   "outputs": [
    {
     "data": {
      "text/plain": [
       "{1: 25047061,\n",
       " 2: 45840617,\n",
       " 3: 36001170,\n",
       " 4: 35903248,\n",
       " 5: 44657500,\n",
       " 6: 35588289,\n",
       " 7: 43857751,\n",
       " 8: 45817844,\n",
       " 9: 43857751,\n",
       " 10: 25047061,\n",
       " 11: 43857751,\n",
       " 12: 10768965,\n",
       " 13: 35903248}"
      ]
     },
     "execution_count": 361,
     "metadata": {},
     "output_type": "execute_result"
    }
   ],
   "source": [
    "count = projectRDDCached.count()\n",
    "keys = list(range(1,14))\n",
    "NonNullCounts_dict = {key: count for key in keys}\n",
    "for val in NullCounts:\n",
    "    c = val[0]\n",
    "    m = val[1]\n",
    "    c_num = int(c[1:])\n",
    "    NonNullCounts_dict[c_num] = count-m\n",
    "NonNullCounts_dict"
   ]
  },
  {
   "cell_type": "code",
   "execution_count": 362,
   "metadata": {
    "collapsed": true
   },
   "outputs": [],
   "source": [
    "# Broadcast the non null counts as we need it to calculate the mean\n",
    "NonNullCounts_bc = sc.broadcast(NonNullCounts_dict)"
   ]
  },
  {
   "cell_type": "code",
   "execution_count": 364,
   "metadata": {
    "collapsed": true
   },
   "outputs": [],
   "source": [
    "#NonNullCounts_bc.value"
   ]
  },
  {
   "cell_type": "code",
   "execution_count": 437,
   "metadata": {
    "collapsed": true
   },
   "outputs": [],
   "source": [
    "def int_features(line):\n",
    "    \"\"\" Extracts Integer Features\"\"\"\n",
    "    features = line[0]\n",
    "    label = int(line[1])\n",
    "    new_arr = np.array(features[0:13])\n",
    "    yield((new_arr,label))\n",
    "\n",
    "IntFeatRDD = projectRDDCached.flatMap(int_features).cache()"
   ]
  },
  {
   "cell_type": "code",
   "execution_count": 439,
   "metadata": {},
   "outputs": [
    {
     "data": {
      "text/plain": [
       "[(array(['1', '1', '5', '0', '1382', '4', '15', '2', '181', '1', '2', '',\n",
       "         '2'], dtype='<U8'), 0),\n",
       " (array(['2', '0', '44', '1', '102', '8', '2', '2', '4', '1', '1', '', '4'],\n",
       "        dtype='<U8'), 0),\n",
       " (array(['2', '0', '1', '14', '767', '89', '4', '2', '245', '1', '3', '3',\n",
       "         '45'], dtype='<U8'), 0),\n",
       " (array(['', '893', '', '', '4392', '', '0', '0', '0', '', '0', '', ''],\n",
       "        dtype='<U8'), 0)]"
      ]
     },
     "execution_count": 439,
     "metadata": {},
     "output_type": "execute_result"
    }
   ],
   "source": [
    "IntFeatRDD.take(4)"
   ]
  },
  {
   "cell_type": "code",
   "execution_count": 368,
   "metadata": {},
   "outputs": [
    {
     "data": {
      "text/plain": [
       "45840617"
      ]
     },
     "execution_count": 368,
     "metadata": {},
     "output_type": "execute_result"
    }
   ],
   "source": [
    "count"
   ]
  },
  {
   "cell_type": "markdown",
   "metadata": {},
   "source": [
    "#### Decision on how to handle nulls\n",
    "We tried a few options:  \n",
    "\n",
    "1) Simply delete rows of data that any nulls. However, we were not comfortable with this approach as the data is sparse and it resulted in approximately 90% of the integer-only data being removed.  \n",
    "\n",
    "2) Create missing value dummy variables that recorded if there was data or not in each of the original features. Then we replaced the null values with zeros. We didn't find the missing data features to be very useful once we passed through an L1 Regularization, and we also came to worry about columns where so many zeros could change the overall structure of the data.  \n",
    "\n",
    "3) We opted ultimately to simply replace the null values with mean values.  "
   ]
  },
  {
   "cell_type": "code",
   "execution_count": 414,
   "metadata": {
    "collapsed": true
   },
   "outputs": [],
   "source": [
    "# It could be better to replace the null values with their mean in the integer variables. Calculate mean per column\n",
    "def emit_int_features(line):\n",
    "    features = line[0]\n",
    "    for i in range(len(features)):\n",
    "        column = i+1\n",
    "        r1 = re.match(\"\\d\",features[i])\n",
    "        if r1:\n",
    "            yield(column,float(features[i]))\n",
    "def emit_mean(x):\n",
    "    \"\"\" We had to write this function because we only want the mean of non NULL values\"\"\"\n",
    "    column = int(x[0])\n",
    "    total = x[1]\n",
    "    #mean_val = total/36668665\n",
    "    mean_val = total/NonNullCounts_bc.value[column]\n",
    "    yield(column,mean_val)\n",
    "\n",
    "mean_values = IntFeatRDD.flatMap(emit_int_features)\\\n",
    "                    .reduceByKey(lambda x,y : x+y)\\\n",
    "                    .flatMap(emit_mean).collect()"
   ]
  },
  {
   "cell_type": "code",
   "execution_count": 415,
   "metadata": {},
   "outputs": [
    {
     "data": {
      "text/plain": [
       "[(1, 3.5024133170754044),\n",
       " (2, 105.95261651910138),\n",
       " (3, 26.913041020611274),\n",
       " (4, 7.322680248873305),\n",
       " (5, 18538.991664871523),\n",
       " (6, 116.06185085211598),\n",
       " (7, 16.333130032135028),\n",
       " (8, 12.517042137556713),\n",
       " (9, 106.1098234380509),\n",
       " (10, 0.6175294977722137),\n",
       " (11, 2.7328343170173044),\n",
       " (12, 0.9910356287721244),\n",
       " (13, 8.217461161174054)]"
      ]
     },
     "execution_count": 415,
     "metadata": {},
     "output_type": "execute_result"
    }
   ],
   "source": [
    "mean_values"
   ]
  },
  {
   "cell_type": "code",
   "execution_count": 371,
   "metadata": {
    "collapsed": true
   },
   "outputs": [],
   "source": [
    "mean_dict = dict()\n",
    "for val in mean_values:\n",
    "    c = val[0]\n",
    "    m = val[1]\n",
    "    mean_dict[c] = m\n",
    "\n",
    "#mean_dict    "
   ]
  },
  {
   "cell_type": "code",
   "execution_count": 372,
   "metadata": {
    "collapsed": true
   },
   "outputs": [],
   "source": [
    "# Broadcast the mean dictionary. We need it to replace null values later\n",
    "mean_dict_bc = sc.broadcast(mean_dict)\n"
   ]
  },
  {
   "cell_type": "code",
   "execution_count": 429,
   "metadata": {},
   "outputs": [
    {
     "data": {
      "text/plain": [
       "{1: 3.5024133170754044,\n",
       " 2: 105.84841979766546,\n",
       " 3: 26.913041020611274,\n",
       " 4: 7.322680248873305,\n",
       " 5: 18538.991664871523,\n",
       " 6: 116.06185085211598,\n",
       " 7: 16.333130032135028,\n",
       " 8: 12.517042137556713,\n",
       " 9: 106.1098234380509,\n",
       " 10: 0.6175294977722137,\n",
       " 11: 2.7328343170173044,\n",
       " 12: 0.9910356287721244,\n",
       " 13: 8.217461161174054}"
      ]
     },
     "execution_count": 429,
     "metadata": {},
     "output_type": "execute_result"
    }
   ],
   "source": [
    "mean_dict_bc.value"
   ]
  },
  {
   "cell_type": "markdown",
   "metadata": {},
   "source": [
    "### Data preparation\n",
    "Keep only the categorical variables that appeared useful from the EDA and replace all integer nulls with mean values. "
   ]
  },
  {
   "cell_type": "code",
   "execution_count": 373,
   "metadata": {
    "collapsed": true
   },
   "outputs": [],
   "source": [
    "def remove_categorical(x):\n",
    "    \"\"\" Removes unwanted categorical variables\"\"\"\n",
    "    features = x[0]\n",
    "    label = x[1]\n",
    "    # We are interested in C6,C9, C14, C17, C20, C22, C23\n",
    "    # These are at index 18,21,26,29,32,34,35\n",
    "    c_index_list = [18,21,26,29,32,34,35]\n",
    "    new_arr = np.array(features[0:13],dtype=str)\n",
    "    for index in c_index_list:\n",
    "        new_arr = np.append(new_arr,features[index])\n",
    "    yield((new_arr,label))\n",
    "\n",
    "projectRDD_truncated = projectRDDCached.flatMap(remove_categorical).cache()"
   ]
  },
  {
   "cell_type": "code",
   "execution_count": 374,
   "metadata": {},
   "outputs": [
    {
     "data": {
      "text/plain": [
       "[(array(['1', '1', '5', '0', '1382', '4', '15', '2', '181', '1', '2', '',\n",
       "         '2', '7e0ccccf', 'a73ee510', '1adce6ef', 'e5ba7672', 'b1252a9d',\n",
       "         '', '3a171ecb'], dtype='<U8'), '0')]"
      ]
     },
     "execution_count": 374,
     "metadata": {},
     "output_type": "execute_result"
    }
   ],
   "source": [
    "projectRDD_truncated.take(1)"
   ]
  },
  {
   "cell_type": "code",
   "execution_count": 442,
   "metadata": {
    "collapsed": true
   },
   "outputs": [],
   "source": [
    "# Replace all blanks in projectRDD_truncated integer values with their means\n",
    "\n",
    "def replace_int_null(x):\n",
    "    features = x[0]\n",
    "    label = int(x[1])\n",
    "    for i in range(13):\n",
    "        #r1 = re.match(\"\\D\",features[i])\n",
    "        if features[i] == \"\":\n",
    "            features[i] = mean_dict_bc.value[i+1]\n",
    "        else:\n",
    "            features[i] = features[i]\n",
    "    features = features.astype(float)\n",
    "    yield((features,label))\n",
    "\n",
    "def replace_int_null_noInt(x):\n",
    "    features = x[0]\n",
    "    label = int(x[1])\n",
    "    for i in range(13):\n",
    "        #r1 = re.match(\"\\D\",features[i])\n",
    "        if features[i] == \"\":\n",
    "            features[i] = float(mean_dict_bc.value[i+1])\n",
    "        else:\n",
    "            features[i] = float(features[i])\n",
    "    yield((features,label))\n",
    "    \n",
    "def replace_char_null(x):\n",
    "    features = x[0]\n",
    "    label = int(x[1])\n",
    "    for i in range(13,len(features)):\n",
    "        if features[i]==\"\":\n",
    "            features[i] = 'AAAA'\n",
    "    yield((features,label))\n",
    "    "
   ]
  },
  {
   "cell_type": "code",
   "execution_count": 376,
   "metadata": {},
   "outputs": [
    {
     "data": {
      "text/plain": [
       "[(array(['1.0', '1.0', '5.0', '0.0', '1382.0', '4.0', '15.0', '2.0',\n",
       "         '181.0', '1.0', '2.0', '0.991035', '2.0', '7e0ccccf', 'a73ee510',\n",
       "         '1adce6ef', 'e5ba7672', 'b1252a9d', 'AAAA', '3a171ecb'],\n",
       "        dtype='<U8'), 0)]"
      ]
     },
     "execution_count": 376,
     "metadata": {},
     "output_type": "execute_result"
    }
   ],
   "source": [
    "projectRDD_truncated = projectRDD_truncated.flatMap(replace_int_null_noInt)\\\n",
    "                                    .flatMap(replace_char_null).cache()\n",
    "projectRDD_truncated.take(1)"
   ]
  },
  {
   "cell_type": "code",
   "execution_count": 443,
   "metadata": {},
   "outputs": [
    {
     "data": {
      "text/plain": [
       "[(array([1.00000e+00, 1.00000e+00, 5.00000e+00, 0.00000e+00, 1.38200e+03,\n",
       "         4.00000e+00, 1.50000e+01, 2.00000e+00, 1.81000e+02, 1.00000e+00,\n",
       "         2.00000e+00, 9.91035e-01, 2.00000e+00]), 0)]"
      ]
     },
     "execution_count": 443,
     "metadata": {},
     "output_type": "execute_result"
    }
   ],
   "source": [
    "IntFeatRDD = IntFeatRDD.flatMap(replace_int_null).cache()\n",
    "IntFeatRDD.take(1)"
   ]
  },
  {
   "cell_type": "markdown",
   "metadata": {},
   "source": [
    "### Logistic Regression with RDDs using integer variables"
   ]
  },
  {
   "cell_type": "markdown",
   "metadata": {},
   "source": [
    "We will now apply logistic regression on just the integer RDD to give us a baseline. We did this step using RDDs so that we were confident we understood the underlying math and operation of the algorithm. Later, we used the MLlib libraries and more complicated feature engineering to try to improve on the baseline. "
   ]
  },
  {
   "cell_type": "code",
   "execution_count": 444,
   "metadata": {
    "collapsed": true
   },
   "outputs": [],
   "source": [
    "def normalize(dataRDD):\n",
    "    \"\"\"\n",
    "    Scale and center data round mean of each feature.\n",
    "    Args:\n",
    "        dataRDD - records are tuples of (features_array, y)\n",
    "    Returns:\n",
    "        normedRDD - records are tuples of (features_array, y)\n",
    "    \"\"\"\n",
    "    featureMeans = dataRDD.map(lambda x: x[0]).mean()\n",
    "    featureStdev = np.sqrt(dataRDD.map(lambda x: x[0]).variance())\n",
    "    normedRDD = dataRDD.map(lambda x: (np.divide((x[0] - featureMeans), featureStdev), x[1]))        \n",
    "    return normedRDD"
   ]
  },
  {
   "cell_type": "code",
   "execution_count": 445,
   "metadata": {
    "collapsed": true
   },
   "outputs": [],
   "source": [
    "normedRDD = normalize(IntFeatRDD).cache()"
   ]
  },
  {
   "cell_type": "code",
   "execution_count": 446,
   "metadata": {},
   "outputs": [
    {
     "data": {
      "text/plain": [
       "[(array([-3.59034938e-01, -2.97369652e-01, -6.21321553e-02, -9.40979069e-01,\n",
       "         -2.50491780e-01, -3.32447098e-01, -2.06349467e-02, -6.30339047e-01,\n",
       "          3.47572771e-01,  7.56409286e-01, -1.44106014e-01, -5.44431921e-08,\n",
       "         -4.33347858e-01]), 0)]"
      ]
     },
     "execution_count": 446,
     "metadata": {},
     "output_type": "execute_result"
    }
   ],
   "source": [
    "normedRDD.take(1)"
   ]
  },
  {
   "cell_type": "code",
   "execution_count": 447,
   "metadata": {
    "collapsed": true
   },
   "outputs": [],
   "source": [
    "toyIntRDD = sc.parallelize(normedRDD.takeSample(False,500))\n",
    "toyTrainRDD, toyTestRDD = toyIntRDD.randomSplit([0.5,0.5])\n"
   ]
  },
  {
   "cell_type": "code",
   "execution_count": 465,
   "metadata": {
    "collapsed": true
   },
   "outputs": [],
   "source": [
    "toyTrainRDD.saveAsTextFile('gs://w261-bucket-pav/notebooks/data/toyTrain.txt')\n",
    "toyTestRDD.saveAsTextFile('gs://w261-bucket-pav/notebooks/data/toyTest.txt')"
   ]
  },
  {
   "cell_type": "code",
   "execution_count": 500,
   "metadata": {
    "collapsed": true
   },
   "outputs": [],
   "source": [
    "def LogLoss(dataRDD, W):\n",
    "    \"\"\"\n",
    "    Compute loss using log loss or cross entropy formula.\n",
    "    Args:\n",
    "        dataRDD - each record is a tuple of (features_array, y)\n",
    "        W       - (array) model coefficients with bias at index 0\n",
    "    Adapted from sources:\n",
    "    * Homework 4 code for W261\n",
    "    * https://ml-cheatsheet.readthedocs.io/en/latest/logistic_regression.html\n",
    "    * https://www.internalpointers.com/post/cost-function-logistic-regression\n",
    "    \"\"\"\n",
    "    \n",
    "    epsilon = 10e-12\n",
    "    augmentedData = dataRDD.map(lambda x: (np.append([1.0], x[0]), x[1]))\n",
    "\n",
    "    loss = augmentedData.map(lambda x: (-np.dot(x[1],np.log(1 / (1 + np.exp(-np.dot(W, x[0])))+epsilon)) -\\\n",
    "                                        np.dot((1-x[1]),np.log(1- (1 / (1 + np.exp(-np.dot(W, x[0]))))+epsilon)), 1)) \\\n",
    "                        .reduce(lambda x,y:(x[0]+y[0], x[1]+y[1]))\n",
    "\n",
    "    loss = float(loss[0])/loss[1]\n",
    "    \n",
    "    return loss"
   ]
  },
  {
   "cell_type": "code",
   "execution_count": 501,
   "metadata": {
    "collapsed": true
   },
   "outputs": [],
   "source": [
    "def GDUpdate_wReg(dataRDD, W, N, learningRate = 0.1, regType = None, regParam = 0.1):\n",
    "    \"\"\"\n",
    "    Perform one gradient descent step/update with ridge or lasso regularization.\n",
    "    Args:\n",
    "        dataRDD - tuple of (features_array, y)\n",
    "        W       - (array) model coefficients with bias at index 0\n",
    "        learningRate - (float) defaults to 0.1\n",
    "        regType - (str) 'ridge' or 'lasso', defaults to None\n",
    "        regParam - (float) regularization term coefficient\n",
    "    Returns:\n",
    "        model   - (array) updated coefficients, bias still at index 0\n",
    "    Adapted from sources:\n",
    "    * Homework 4 code from W261\n",
    "    * Notebook cited by Jimi in asynch: https://nbviewer.jupyter.org/urls/dl.dropbox.com/s/r20ff7q0yni5kiu/LogisticRegression-Spark-Notebook.ipynb\n",
    "    \"\"\"\n",
    "    \n",
    "    # augmented data\n",
    "    # this puts a 1.0 in front of x's to pass thru bias term\n",
    "    augmentedData = dataRDD.map(lambda x: (np.append([1.0], x[0]), x[1])) \n",
    "    \n",
    "    new_model = None\n",
    "    \n",
    "    # calculate the gradient\n",
    "    \n",
    "    gradient = augmentedData.map(lambda x: (x[0] / (1 + np.exp(-np.dot(W, x[0])))) - np.dot(x[1], np.array(x[0])))\\\n",
    "                   .reduce(lambda x, y: x + y)\n",
    "    \n",
    "    #gradient = augmentedData.map(lambda x: (1 / (1 + np.exp(-x[1]*np.dot(W, x[0])))-1) * x[1] * np.array(x[0]))\\\n",
    "    #                .reduce(lambda x, y: x + y)\n",
    "    if regType == \"ridge\":\n",
    "        wReg = W * 1\n",
    "        wReg = np.append([0], wReg[1:]) # remove the bias term ahead of regularization        \n",
    "    elif regType == \"lasso\":\n",
    "        wReg = W * 1\n",
    "        wReg = np.append([0], wReg[1:]) # remove the bias term ahead of regularization\n",
    "        wReg = (wReg>0).astype(int) * 2-1\n",
    "    else:\n",
    "        wReg = np.zeros(W.shape[0])\n",
    "    gradient = gradient + regParam * wReg  #gradient:  GD of Squared Error+ GD of regularized term \n",
    "    new_model = W - learningRate * gradient / N\n",
    "\n",
    "    return new_model"
   ]
  },
  {
   "cell_type": "code",
   "execution_count": 502,
   "metadata": {
    "collapsed": true
   },
   "outputs": [],
   "source": [
    "def GradientDescent_wReg(trainRDD, testRDD, wInit, nSteps = 20, learningRate = 0.1,\n",
    "                         regType = None, regParam = 0.1, verbose = True):\n",
    "    \"\"\"\n",
    "    Perform nSteps iterations of regularized gradient descent and \n",
    "    track loss on a test and train set. Return lists of\n",
    "    test/train loss and the models themselves.\n",
    "    Adapted from sources:\n",
    "    * Homework 4 code from W261\n",
    "    * Notebook cited by Jimi in asynch: https://nbviewer.jupyter.org/urls/dl.dropbox.com/s/r20ff7q0yni5kiu/LogisticRegression-Spark-Notebook.ipynb    \n",
    "    \"\"\"\n",
    "    # initialize lists to track model performance\n",
    "    train_history, test_history, model_history = [], [], []\n",
    "    \n",
    "    # calculate N here so you don't have to do it in the for looped function call\n",
    "    N = trainRDD.count()\n",
    "\n",
    "    # make a starter set of weights if none provided\n",
    "    featureLen = len(trainRDD.take(1)[0][0])\n",
    "    if wInit is None:\n",
    "        w = np.random.normal(size=featureLen+1) # w should be broadcasted if it is large\n",
    "    else:\n",
    "        w = wInit\n",
    "    model = w\n",
    "    \n",
    "    # perform nSteps updates & compute test and train loss after each\n",
    "    for idx in range(nSteps):  \n",
    "   \n",
    "        # update the model\n",
    "        model = GDUpdate_wReg(trainRDD, model, N, learningRate, regType, regParam)\n",
    "        \n",
    "        # keep track of test/train loss for plotting\n",
    "        training_loss = LogLoss(trainRDD, model)\n",
    "        test_loss = LogLoss(testRDD, model)\n",
    "        train_history.append(training_loss)\n",
    "        test_history.append(test_loss)\n",
    "        model_history.append(model)\n",
    "        \n",
    "        # console output if desired\n",
    "        if verbose:\n",
    "            print(\"----------\")\n",
    "            print(f\"STEP: {idx+1}\")\n",
    "            print(f\"training loss: {training_loss}\")\n",
    "            print(f\"test loss: {test_loss}\")\n",
    "            print(f\"Model: {[round(w,3) for w in model]}\")\n",
    "    return train_history, test_history, model_history"
   ]
  },
  {
   "cell_type": "code",
   "execution_count": 491,
   "metadata": {},
   "outputs": [
    {
     "name": "stdout",
     "output_type": "stream",
     "text": [
      "----------\n",
      "STEP: 1\n",
      "training loss: 0.6864239875982796\n",
      "test loss: 0.6867361003298752\n",
      "Model: [-0.023, 0.004, -0.001, 0.0, -0.005, -0.002, -0.001, 0.004, -0.0, 0.003, 0.002, 0.005, 0.008, -0.002]\n",
      "----------\n",
      "STEP: 2\n",
      "training loss: 0.6800638129719868\n",
      "test loss: 0.6806732090419743\n",
      "Model: [-0.045, 0.007, -0.001, 0.0, -0.01, -0.004, -0.001, 0.008, -0.0, 0.005, 0.004, 0.009, 0.015, -0.003]\n",
      "----------\n",
      "STEP: 3\n",
      "training loss: 0.6740277350984865\n",
      "test loss: 0.6749235936865\n",
      "Model: [-0.067, 0.01, -0.002, 0.0, -0.014, -0.007, -0.002, 0.011, -0.0, 0.007, 0.006, 0.013, 0.023, -0.004]\n",
      "----------\n",
      "STEP: 4\n",
      "training loss: 0.6682974313881324\n",
      "test loss: 0.6694700546388954\n",
      "Model: [-0.089, 0.013, -0.002, 0.001, -0.019, -0.009, -0.003, 0.015, -0.0, 0.009, 0.008, 0.016, 0.03, -0.006]\n",
      "----------\n",
      "STEP: 5\n",
      "training loss: 0.6628556342071049\n",
      "test loss: 0.6642963265557864\n",
      "Model: [-0.109, 0.016, -0.003, 0.001, -0.023, -0.011, -0.003, 0.018, -0.0, 0.011, 0.01, 0.02, 0.037, -0.007]\n",
      "----------\n",
      "STEP: 6\n",
      "training loss: 0.6576860836483217\n",
      "test loss: 0.6593870407555632\n",
      "Model: [-0.13, 0.019, -0.003, 0.001, -0.027, -0.013, -0.004, 0.021, -0.0, 0.014, 0.012, 0.023, 0.044, -0.008]\n",
      "----------\n",
      "STEP: 7\n",
      "training loss: 0.6527734782382821\n",
      "test loss: 0.6547276856697934\n",
      "Model: [-0.15, 0.022, -0.004, 0.001, -0.031, -0.015, -0.004, 0.024, -0.0, 0.016, 0.014, 0.026, 0.051, -0.009]\n",
      "----------\n",
      "STEP: 8\n",
      "training loss: 0.6481034249312191\n",
      "test loss: 0.6503045663769252\n",
      "Model: [-0.169, 0.025, -0.004, 0.001, -0.035, -0.017, -0.005, 0.027, -0.001, 0.018, 0.015, 0.029, 0.057, -0.01]\n",
      "----------\n",
      "STEP: 9\n",
      "training loss: 0.6436623893814818\n",
      "test loss: 0.6461047639906886\n",
      "Model: [-0.188, 0.027, -0.004, 0.001, -0.039, -0.019, -0.006, 0.03, -0.001, 0.019, 0.017, 0.032, 0.064, -0.011]\n",
      "----------\n",
      "STEP: 10\n",
      "training loss: 0.639437647202974\n",
      "test loss: 0.642116095481603\n",
      "Model: [-0.206, 0.03, -0.005, 0.001, -0.043, -0.021, -0.006, 0.033, -0.001, 0.021, 0.018, 0.034, 0.07, -0.012]\n",
      "----------\n",
      "STEP: 11\n",
      "training loss: 0.6354172367076566\n",
      "test loss: 0.6383270743552988\n",
      "Model: [-0.225, 0.032, -0.005, 0.001, -0.047, -0.023, -0.007, 0.035, -0.001, 0.023, 0.019, 0.037, 0.076, -0.012]\n",
      "----------\n",
      "STEP: 12\n",
      "training loss: 0.6315899134508228\n",
      "test loss: 0.6347268724897048\n",
      "Model: [-0.242, 0.035, -0.005, 0.001, -0.05, -0.024, -0.008, 0.038, -0.001, 0.025, 0.021, 0.039, 0.082, -0.013]\n",
      "----------\n",
      "STEP: 13\n",
      "training loss: 0.6279451067878514\n",
      "test loss: 0.6313052833386011\n",
      "Model: [-0.259, 0.037, -0.005, 0.001, -0.054, -0.026, -0.009, 0.04, -0.001, 0.027, 0.022, 0.041, 0.088, -0.014]\n",
      "----------\n",
      "STEP: 14\n",
      "training loss: 0.6244728785560503\n",
      "test loss: 0.628052686636207\n",
      "Model: [-0.276, 0.039, -0.005, 0.001, -0.057, -0.028, -0.009, 0.043, -0.002, 0.028, 0.023, 0.043, 0.094, -0.014]\n",
      "----------\n",
      "STEP: 15\n",
      "training loss: 0.6211638839285093\n",
      "test loss: 0.6249600146819644\n",
      "Model: [-0.293, 0.041, -0.006, 0.001, -0.06, -0.03, -0.01, 0.045, -0.002, 0.03, 0.024, 0.044, 0.099, -0.015]\n",
      "----------\n",
      "STEP: 16\n",
      "training loss: 0.6180093344386416\n",
      "test loss: 0.6220187202426791\n",
      "Model: [-0.309, 0.043, -0.006, 0.001, -0.064, -0.032, -0.011, 0.047, -0.002, 0.031, 0.026, 0.046, 0.105, -0.015]\n",
      "----------\n",
      "STEP: 17\n",
      "training loss: 0.6150009631397496\n",
      "test loss: 0.6192207460777842\n",
      "Model: [-0.324, 0.045, -0.006, 0.002, -0.067, -0.033, -0.012, 0.049, -0.002, 0.033, 0.027, 0.048, 0.11, -0.016]\n",
      "----------\n",
      "STEP: 18\n",
      "training loss: 0.6121309918400353\n",
      "test loss: 0.6165584960702722\n",
      "Model: [-0.34, 0.047, -0.006, 0.002, -0.07, -0.035, -0.012, 0.051, -0.002, 0.035, 0.028, 0.049, 0.116, -0.016]\n",
      "----------\n",
      "STEP: 19\n",
      "training loss: 0.609392100337335\n",
      "test loss: 0.6140248079289667\n",
      "Model: [-0.354, 0.049, -0.006, 0.002, -0.073, -0.037, -0.013, 0.053, -0.003, 0.036, 0.029, 0.05, 0.121, -0.017]\n",
      "----------\n",
      "STEP: 20\n",
      "training loss: 0.6067773975674989\n",
      "test loss: 0.6116129274157885\n",
      "Model: [-0.369, 0.051, -0.006, 0.002, -0.076, -0.039, -0.014, 0.055, -0.003, 0.037, 0.03, 0.052, 0.126, -0.017]\n",
      "\n",
      "... trained 20 2 iterations in 7.681813716888428 seconds\n"
     ]
    }
   ],
   "source": [
    "wInit = np.array([0, 0.0, 0.0, 0.0, 0.0, 0.0, 0.0, 0.0, 0.0, 0.0, 0.0, 0.0, 0.0,0.0])\n",
    "start = time.time()\n",
    "lasso_results = GradientDescent_wReg(toyTrainRDD, toyTestRDD, wInit, nSteps = 20,\n",
    "                                     regType='lasso', regParam = 0.1)\n",
    "print(f\"\\n... trained {len(lasso_results[2])} 2 iterations in {time.time() - start} seconds\")"
   ]
  },
  {
   "cell_type": "code",
   "execution_count": 503,
   "metadata": {},
   "outputs": [
    {
     "name": "stdout",
     "output_type": "stream",
     "text": [
      "----------\n",
      "STEP: 1\n",
      "training loss: 0.6858037036664725\n",
      "test loss: 0.6857982599351395\n",
      "Model: [-0.024, 0.003, 0.002, 0.001, -0.002, -0.003, -0.003, 0.004, -0.001, 0.001, 0.006, 0.007, 0.002, -0.003]\n",
      "----------\n",
      "STEP: 2\n",
      "training loss: 0.6788855840922129\n",
      "test loss: 0.6788743482565835\n",
      "Model: [-0.048, 0.006, 0.004, 0.001, -0.004, -0.007, -0.007, 0.007, -0.002, 0.002, 0.012, 0.013, 0.004, -0.006]\n",
      "----------\n",
      "STEP: 3\n",
      "training loss: 0.6723619560164081\n",
      "test loss: 0.672344911742798\n",
      "Model: [-0.071, 0.009, 0.006, 0.002, -0.006, -0.01, -0.01, 0.01, -0.003, 0.002, 0.017, 0.019, 0.006, -0.009]\n",
      "----------\n",
      "STEP: 4\n",
      "training loss: 0.6662052421608898\n",
      "test loss: 0.6661824341058157\n",
      "Model: [-0.094, 0.011, 0.008, 0.002, -0.008, -0.013, -0.013, 0.013, -0.005, 0.003, 0.022, 0.025, 0.007, -0.012]\n",
      "----------\n",
      "STEP: 5\n",
      "training loss: 0.6603905605977155\n",
      "test loss: 0.6603620520804635\n",
      "Model: [-0.116, 0.013, 0.01, 0.002, -0.01, -0.016, -0.016, 0.015, -0.006, 0.003, 0.027, 0.031, 0.009, -0.014]\n",
      "----------\n",
      "STEP: 6\n",
      "training loss: 0.6548952684646849\n",
      "test loss: 0.6548611338081491\n",
      "Model: [-0.137, 0.016, 0.012, 0.003, -0.011, -0.019, -0.019, 0.018, -0.007, 0.004, 0.032, 0.036, 0.01, -0.017]\n",
      "----------\n",
      "STEP: 7\n",
      "training loss: 0.6496986352467501\n",
      "test loss: 0.6496589582248194\n",
      "Model: [-0.158, 0.018, 0.013, 0.003, -0.013, -0.022, -0.022, 0.02, -0.008, 0.004, 0.037, 0.041, 0.012, -0.019]\n",
      "----------\n",
      "STEP: 8\n",
      "training loss: 0.64478159704477\n",
      "test loss: 0.6447364746060722\n",
      "Model: [-0.179, 0.019, 0.015, 0.004, -0.015, -0.025, -0.025, 0.022, -0.009, 0.005, 0.041, 0.046, 0.013, -0.022]\n",
      "----------\n",
      "STEP: 9\n",
      "training loss: 0.6401265602717424\n",
      "test loss: 0.640076113213079\n",
      "Model: [-0.199, 0.021, 0.016, 0.004, -0.016, -0.028, -0.027, 0.024, -0.01, 0.005, 0.046, 0.05, 0.015, -0.024]\n",
      "----------\n",
      "STEP: 10\n",
      "training loss: 0.6357172686350249\n",
      "test loss: 0.6356616300285536\n",
      "Model: [-0.218, 0.023, 0.018, 0.005, -0.018, -0.03, -0.03, 0.026, -0.011, 0.006, 0.05, 0.055, 0.016, -0.026]\n",
      "----------\n",
      "STEP: 11\n",
      "training loss: 0.6315386615967755\n",
      "test loss: 0.6314779760430188\n",
      "Model: [-0.237, 0.024, 0.019, 0.005, -0.019, -0.033, -0.032, 0.027, -0.012, 0.006, 0.054, 0.059, 0.018, -0.029]\n",
      "----------\n",
      "STEP: 12\n",
      "training loss: 0.6275767722216684\n",
      "test loss: 0.6275111852552587\n",
      "Model: [-0.256, 0.026, 0.021, 0.006, -0.02, -0.035, -0.035, 0.029, -0.013, 0.006, 0.057, 0.063, 0.019, -0.031]\n",
      "----------\n",
      "STEP: 13\n",
      "training loss: 0.6238186397005535\n",
      "test loss: 0.6237482774686394\n",
      "Model: [-0.274, 0.027, 0.022, 0.006, -0.022, -0.038, -0.037, 0.03, -0.014, 0.006, 0.061, 0.067, 0.02, -0.033]\n",
      "----------\n",
      "STEP: 14\n",
      "training loss: 0.6202522013086512\n",
      "test loss: 0.6201771730714699\n",
      "Model: [-0.291, 0.028, 0.024, 0.006, -0.023, -0.04, -0.04, 0.031, -0.015, 0.007, 0.064, 0.071, 0.021, -0.035]\n",
      "----------\n",
      "STEP: 15\n",
      "training loss: 0.6168662088846698\n",
      "test loss: 0.6167866176969179\n",
      "Model: [-0.308, 0.029, 0.025, 0.007, -0.024, -0.042, -0.042, 0.033, -0.016, 0.007, 0.068, 0.075, 0.023, -0.037]\n",
      "----------\n",
      "STEP: 16\n",
      "training loss: 0.6136501674017116\n",
      "test loss: 0.6135661151443008\n",
      "Model: [-0.325, 0.03, 0.026, 0.007, -0.025, -0.045, -0.044, 0.034, -0.017, 0.007, 0.071, 0.079, 0.024, -0.039]\n",
      "----------\n",
      "STEP: 17\n",
      "training loss: 0.6105942778762863\n",
      "test loss: 0.6105058672940115\n",
      "Model: [-0.341, 0.031, 0.027, 0.008, -0.026, -0.047, -0.046, 0.035, -0.018, 0.007, 0.074, 0.082, 0.025, -0.041]\n",
      "----------\n",
      "STEP: 18\n",
      "training loss: 0.6076893838430807\n",
      "test loss: 0.6075967200077721\n",
      "Model: [-0.357, 0.032, 0.028, 0.008, -0.028, -0.049, -0.048, 0.036, -0.019, 0.007, 0.077, 0.085, 0.026, -0.043]\n",
      "----------\n",
      "STEP: 19\n",
      "training loss: 0.6049269232823148\n",
      "test loss: 0.6048301142018127\n",
      "Model: [-0.373, 0.033, 0.03, 0.008, -0.029, -0.051, -0.05, 0.036, -0.02, 0.007, 0.08, 0.089, 0.027, -0.045]\n",
      "----------\n",
      "STEP: 20\n",
      "training loss: 0.6022988869739022\n",
      "test loss: 0.6021980414301111\n",
      "Model: [-0.388, 0.033, 0.031, 0.009, -0.03, -0.053, -0.052, 0.037, -0.02, 0.008, 0.083, 0.092, 0.028, -0.047]\n",
      "----------\n",
      "STEP: 21\n",
      "training loss: 0.599797780142145\n",
      "test loss: 0.599693003430758\n",
      "Model: [-0.403, 0.034, 0.032, 0.009, -0.031, -0.055, -0.055, 0.038, -0.021, 0.008, 0.086, 0.095, 0.029, -0.049]\n",
      "----------\n",
      "STEP: 22\n",
      "training loss: 0.5974165831810825\n",
      "test loss: 0.5973079751788472\n",
      "Model: [-0.418, 0.035, 0.033, 0.01, -0.032, -0.057, -0.056, 0.038, -0.022, 0.008, 0.088, 0.098, 0.03, -0.051]\n",
      "----------\n",
      "STEP: 23\n",
      "training loss: 0.5951487146781751\n",
      "test loss: 0.5950363710609224\n",
      "Model: [-0.432, 0.035, 0.034, 0.01, -0.032, -0.059, -0.058, 0.039, -0.023, 0.008, 0.091, 0.101, 0.031, -0.052]\n",
      "----------\n",
      "STEP: 24\n",
      "training loss: 0.5929879999223144\n",
      "test loss: 0.5928720138429159\n",
      "Model: [-0.446, 0.036, 0.035, 0.01, -0.033, -0.061, -0.06, 0.04, -0.024, 0.008, 0.093, 0.103, 0.032, -0.054]\n",
      "----------\n",
      "STEP: 25\n",
      "training loss: 0.5909286432425467\n",
      "test loss: 0.5908091061494727\n",
      "Model: [-0.459, 0.036, 0.036, 0.011, -0.034, -0.063, -0.062, 0.04, -0.025, 0.008, 0.095, 0.106, 0.033, -0.056]\n",
      "----------\n",
      "STEP: 26\n",
      "training loss: 0.5889652023753397\n",
      "test loss: 0.5888422042102104\n",
      "Model: [-0.472, 0.037, 0.037, 0.011, -0.035, -0.065, -0.064, 0.04, -0.026, 0.008, 0.098, 0.109, 0.034, -0.057]\n",
      "----------\n",
      "STEP: 27\n",
      "training loss: 0.5870925642700603\n",
      "test loss: 0.586966193659074\n",
      "Model: [-0.485, 0.037, 0.037, 0.011, -0.036, -0.067, -0.066, 0.041, -0.026, 0.008, 0.1, 0.111, 0.035, -0.059]\n",
      "----------\n",
      "STEP: 28\n",
      "training loss: 0.585305922611408\n",
      "test loss: 0.5851762671988777\n",
      "Model: [-0.498, 0.037, 0.038, 0.012, -0.037, -0.068, -0.068, 0.041, -0.027, 0.008, 0.102, 0.114, 0.036, -0.061]\n",
      "----------\n",
      "STEP: 29\n",
      "training loss: 0.5836007574699248\n",
      "test loss: 0.5834679039645168\n",
      "Model: [-0.51, 0.038, 0.039, 0.012, -0.037, -0.07, -0.069, 0.041, -0.028, 0.008, 0.104, 0.116, 0.037, -0.062]\n",
      "----------\n",
      "STEP: 30\n",
      "training loss: 0.5819728168887067\n",
      "test loss: 0.5818368504367329\n",
      "Model: [-0.522, 0.038, 0.04, 0.012, -0.038, -0.072, -0.071, 0.041, -0.029, 0.008, 0.106, 0.118, 0.038, -0.064]\n",
      "----------\n",
      "STEP: 31\n",
      "training loss: 0.5804180997048222\n",
      "test loss: 0.5802791027740081\n",
      "Model: [-0.534, 0.038, 0.041, 0.013, -0.039, -0.074, -0.073, 0.041, -0.03, 0.008, 0.108, 0.121, 0.038, -0.065]\n",
      "----------\n",
      "STEP: 32\n",
      "training loss: 0.5789328389866972\n",
      "test loss: 0.5787908904435909\n",
      "Model: [-0.545, 0.038, 0.041, 0.013, -0.039, -0.075, -0.074, 0.042, -0.03, 0.008, 0.11, 0.123, 0.039, -0.067]\n",
      "----------\n",
      "STEP: 33\n",
      "training loss: 0.5775134861820406\n",
      "test loss: 0.5773686610444905\n",
      "Model: [-0.556, 0.038, 0.042, 0.013, -0.04, -0.077, -0.076, 0.042, -0.031, 0.008, 0.112, 0.125, 0.04, -0.068]\n",
      "----------\n",
      "STEP: 34\n",
      "training loss: 0.5761566964603504\n",
      "test loss: 0.5760090662255679\n",
      "Model: [-0.567, 0.039, 0.043, 0.013, -0.04, -0.078, -0.078, 0.042, -0.032, 0.008, 0.114, 0.127, 0.041, -0.07]\n",
      "----------\n",
      "STEP: 35\n",
      "training loss: 0.574859315419733\n",
      "test loss: 0.5747089486108579\n",
      "Model: [-0.578, 0.039, 0.044, 0.014, -0.041, -0.08, -0.079, 0.042, -0.033, 0.008, 0.115, 0.129, 0.042, -0.071]\n",
      "----------\n",
      "STEP: 36\n",
      "training loss: 0.5736183669925732\n",
      "test loss: 0.5734653296523133\n",
      "Model: [-0.589, 0.039, 0.044, 0.014, -0.042, -0.082, -0.081, 0.042, -0.033, 0.008, 0.117, 0.131, 0.042, -0.073]\n",
      "----------\n",
      "STEP: 37\n",
      "training loss: 0.5724310422804054\n",
      "test loss: 0.5722753983373554\n",
      "Model: [-0.599, 0.039, 0.045, 0.014, -0.042, -0.083, -0.082, 0.042, -0.034, 0.008, 0.119, 0.133, 0.043, -0.074]\n",
      "----------\n",
      "STEP: 38\n",
      "training loss: 0.5712946891714829\n",
      "test loss: 0.571136500684906\n",
      "Model: [-0.609, 0.039, 0.046, 0.015, -0.043, -0.085, -0.084, 0.042, -0.035, 0.008, 0.12, 0.135, 0.044, -0.075]\n",
      "----------\n",
      "STEP: 39\n",
      "training loss: 0.5702068026580008\n",
      "test loss: 0.5700461299693632\n",
      "Model: [-0.619, 0.039, 0.046, 0.015, -0.043, -0.086, -0.085, 0.041, -0.036, 0.008, 0.122, 0.137, 0.044, -0.077]\n",
      "----------\n",
      "STEP: 40\n",
      "training loss: 0.5691650157964165\n",
      "test loss: 0.5690019176171226\n",
      "Model: [-0.628, 0.039, 0.047, 0.015, -0.044, -0.088, -0.087, 0.041, -0.036, 0.007, 0.123, 0.138, 0.045, -0.078]\n",
      "----------\n",
      "STEP: 41\n",
      "training loss: 0.5681670912518326\n",
      "test loss: 0.5680016247248817\n",
      "Model: [-0.638, 0.039, 0.047, 0.015, -0.044, -0.089, -0.088, 0.041, -0.037, 0.007, 0.125, 0.14, 0.046, -0.079]\n",
      "----------\n",
      "STEP: 42\n",
      "training loss: 0.5672109134153953\n",
      "test loss: 0.5670431341532101\n",
      "Model: [-0.647, 0.039, 0.048, 0.016, -0.045, -0.091, -0.09, 0.041, -0.038, 0.007, 0.126, 0.142, 0.046, -0.081]\n",
      "----------\n",
      "STEP: 43\n",
      "training loss: 0.5662944810308135\n",
      "test loss: 0.5661244431526259\n",
      "Model: [-0.656, 0.039, 0.049, 0.016, -0.045, -0.092, -0.091, 0.041, -0.038, 0.007, 0.127, 0.143, 0.047, -0.082]\n",
      "----------\n",
      "STEP: 44\n",
      "training loss: 0.5654159003082031\n",
      "test loss: 0.5652436564829438\n",
      "Model: [-0.665, 0.039, 0.049, 0.016, -0.045, -0.093, -0.093, 0.04, -0.039, 0.007, 0.129, 0.145, 0.048, -0.083]\n",
      "----------\n",
      "STEP: 45\n",
      "training loss: 0.5645733784946071\n",
      "test loss: 0.5643989799897905\n",
      "Model: [-0.673, 0.038, 0.05, 0.017, -0.046, -0.095, -0.094, 0.04, -0.04, 0.007, 0.13, 0.147, 0.048, -0.085]\n",
      "----------\n",
      "STEP: 46\n",
      "training loss: 0.563765217873196\n",
      "test loss: 0.5635887146050289\n",
      "Model: [-0.682, 0.038, 0.05, 0.017, -0.046, -0.096, -0.096, 0.04, -0.041, 0.007, 0.131, 0.148, 0.049, -0.086]\n",
      "----------\n",
      "STEP: 47\n",
      "training loss: 0.5629898101490745\n",
      "test loss: 0.5628112507405253\n",
      "Model: [-0.69, 0.038, 0.051, 0.017, -0.047, -0.098, -0.097, 0.04, -0.041, 0.007, 0.133, 0.15, 0.05, -0.087]\n",
      "----------\n",
      "STEP: 48\n",
      "training loss: 0.5622456312099323\n",
      "test loss: 0.5620650630470441\n",
      "Model: [-0.698, 0.038, 0.051, 0.017, -0.047, -0.099, -0.098, 0.039, -0.042, 0.007, 0.134, 0.151, 0.05, -0.088]\n",
      "----------\n",
      "STEP: 49\n",
      "training loss: 0.561531236228692\n",
      "test loss: 0.5613487055122309\n",
      "Model: [-0.706, 0.038, 0.052, 0.018, -0.047, -0.1, -0.1, 0.039, -0.043, 0.007, 0.135, 0.153, 0.051, -0.09]\n",
      "----------\n",
      "STEP: 50\n",
      "training loss: 0.5608452550763035\n",
      "test loss: 0.5606608068737302\n",
      "Model: [-0.713, 0.038, 0.052, 0.018, -0.048, -0.102, -0.101, 0.039, -0.043, 0.007, 0.136, 0.154, 0.051, -0.091]\n",
      "\n",
      "... trained 50 50 iterations in 5739.675203800201 seconds\n"
     ]
    }
   ],
   "source": [
    "featureLen = len(normedRDD.take(1)[0][0])\n",
    "#wInit = np.random.normal(size=featureLen)\n",
    "wInit = np.array([0, 0.0, 0.0, 0.0, 0.0, 0.0, 0.0, 0.0, 0.0, 0.0, 0.0, 0.0, 0.0,0.0])\n",
    "trainRDD, testRDD = normedRDD.randomSplit([0.8,0.2], seed = 2019)\n",
    "start = time.time()\n",
    "lasso_results = GradientDescent_wReg(trainRDD, testRDD,wInit, nSteps = 50,\n",
    "                                     regType='lasso', regParam = 0.1)\n",
    "print(f\"\\n... trained {len(lasso_results[2])} 50 iterations in {time.time() - start} seconds\")"
   ]
  },
  {
   "cell_type": "code",
   "execution_count": 504,
   "metadata": {
    "collapsed": true
   },
   "outputs": [],
   "source": [
    "# make error curve plots that show declining loss as walk down the gradient\n",
    "# from HW4 code\n",
    "\n",
    "def plotErrorCurves(trainLoss, testLoss, title = None):\n",
    "    \"\"\"\n",
    "    Helper function for plotting.\n",
    "    Args: trainLoss (list of log loss) , testLoss (list of log loss)\n",
    "    \"\"\"\n",
    "    fig, ax = plt.subplots(1,1,figsize = (16,8))\n",
    "    x = list(range(len(trainLoss)))[1:]\n",
    "    ax.plot(x, trainLoss[1:], 'k--', label='Training Loss')\n",
    "    ax.plot(x, testLoss[1:], 'r--', label='Test Loss')\n",
    "    ax.legend(loc='upper right', fontsize='x-large')\n",
    "    plt.xlabel('Number of Iterations')\n",
    "    plt.ylabel('Log Loss')\n",
    "    if title:\n",
    "        plt.title(title)\n",
    "    plt.show()"
   ]
  },
  {
   "cell_type": "code",
   "execution_count": 505,
   "metadata": {},
   "outputs": [
    {
     "data": {
      "image/png": "[encoded data removed]",
      "text/plain": [
       "<Figure size 1152x576 with 1 Axes>"
      ]
     },
     "metadata": {},
     "output_type": "display_data"
    }
   ],
   "source": [
    "trainLoss, testLoss, models = lasso_results\n",
    "lasso_models = np.array(models)\n",
    "#np.savetxt('gs://w261-bucket-pav/notebooks/lasso_models.csv', np.array(models), delimiter=',')\n",
    "#np.savetxt('gs://w261-bucket-pav/notebooks/lasso_loss.csv', np.array([trainLoss, testLoss]), delimiter=',')\n",
    "plotErrorCurves(trainLoss, testLoss, title = 'Lasso Regression Error Curves' )"
   ]
  },
  {
   "cell_type": "code",
   "execution_count": 506,
   "metadata": {
    "collapsed": true
   },
   "outputs": [],
   "source": [
    "#lasso_models = np.loadtxt(PWD + '/data/lasso_models.csv', dtype=float, delimiter=',')\n",
    "best_lasso = lasso_models[-1,:]"
   ]
  },
  {
   "cell_type": "code",
   "execution_count": 507,
   "metadata": {},
   "outputs": [
    {
     "data": {
      "text/plain": [
       "array([-0.71342124,  0.03769524,  0.0520761 ,  0.01780462, -0.04761511,\n",
       "       -0.10154564, -0.10101689,  0.03858296, -0.04317731,  0.00676181,\n",
       "        0.1361737 ,  0.15415663,  0.05135565, -0.09071185])"
      ]
     },
     "execution_count": 507,
     "metadata": {},
     "output_type": "execute_result"
    }
   ],
   "source": [
    "best_lasso"
   ]
  },
  {
   "cell_type": "code",
   "execution_count": 508,
   "metadata": {
    "collapsed": true
   },
   "outputs": [],
   "source": [
    "# Now that we have the schema corrected, create some feature grouping lists for easy data manipulation\n",
    "numeric_features = [\"I1\", \"I2\", \"I3\", \"I4\", \"I5\", \"I6\", \"I7\", \"I8\", \"I9\", \"I10\", \"I11\", \"I12\", \"I13\"]\n",
    "categorical_features = [\"C1\", \"C2\", \"C3\", \"C4\", \"C5\", \"C6\", \"C7\", \"C8\", \"C9\", \"C10\", \"C11\", \"C12\",\\\n",
    "                        \"C13\", \"C14\", \"C15\", \"C16\", \"C17\", \"C18\", \"C19\", \"C20\", \"C21\", \"C22\", \"C23\",\\\n",
    "                       \"C24\", \"C25\", \"C26\"]\n",
    "label_and_numeric = [\"label\"] + numeric_features"
   ]
  },
  {
   "cell_type": "code",
   "execution_count": 509,
   "metadata": {},
   "outputs": [
    {
     "data": {
      "image/png": "[encoded data removed]",
      "text/plain": [
       "<Figure size 1080x576 with 1 Axes>"
      ]
     },
     "metadata": {},
     "output_type": "display_data"
    }
   ],
   "source": [
    "def plotCoeffs(models, featureNames, title):\n",
    "    \"\"\"\n",
    "    Helper Function to show how coefficients change as we train.\n",
    "    \"\"\"\n",
    "    fig, ax = plt.subplots(figsize = (15,8))\n",
    "    X = list(range(len(models)))\n",
    "    for data, name in zip(models.T, featureNames):\n",
    "        if name == \"Bias\":\n",
    "            continue\n",
    "        ax.plot(X, data, label=name)\n",
    "    ax.plot(X,[0]*len(X), 'k--')\n",
    "    plt.title(title)\n",
    "    plt.legend()\n",
    "    plt.show\n",
    "    \n",
    "# use if starting with the models with the missing data features\n",
    "#plotCoeffs(lasso_models, ['Bias'] + numeric_features + missing, \"Lasso Coefficients over 50 GD steps\")\n",
    "\n",
    "# use if starting with the model where NA rows were dropped\n",
    "plotCoeffs(lasso_models, ['Bias'] + numeric_features, \"Lasso Coefficients over 20 GD steps\")"
   ]
  },
  {
   "cell_type": "code",
   "execution_count": 513,
   "metadata": {},
   "outputs": [
    {
     "name": "stdout",
     "output_type": "stream",
     "text": [
      "accuracy is 0.7462929374248797\n"
     ]
    }
   ],
   "source": [
    "def sigmoid(row):\n",
    "    sig = []\n",
    "    for z in row:\n",
    "        sig.append(1/(1+np.exp(-z)))\n",
    "    return sig\n",
    "\n",
    "def decision_boundary(prob):\n",
    "    return 1 if prob >= .5 else 0\n",
    "\n",
    "def classify(predictions):\n",
    "    '''\n",
    "    input  - N element array of predictions between 0 and 1\n",
    "    output - N element array of 0s (False) and 1s (True)\n",
    "    '''\n",
    "    classifications = []\n",
    "    for prediction in predictions:\n",
    "        classifications.append(decision_boundary(prediction))\n",
    "    return classifications\n",
    "\n",
    "def calc_accuracy(predicted_labels, actual_labels):\n",
    "    error_count = 0\n",
    "    num_predictions = len(actual_labels)\n",
    "    for compare in range(num_predictions):\n",
    "        if predicted_labels[compare] != actual_labels[compare]:\n",
    "            error_count += 1\n",
    "    return 1.0 - (float(error_count) / num_predictions)\n",
    "\n",
    "def compare(x,y):\n",
    "    return int(x != y)\n",
    "\n",
    "coeffs = best_lasso[1:] # coefficients\n",
    "b = best_lasso[0] # bias term\n",
    "actual_labels = testRDD.map(lambda x: x[1]).collect()\n",
    "\n",
    "# spark version\n",
    "#error_count = testRDD.map(lambda x: (np.dot(coeffs, x[0])+b, x[1])) \\\n",
    "#                    .map(lambda x: (1/(1+np.exp(-x[0])), x[1])) \\\n",
    "#                    .map(lambda x: (decision_boundary(x[0]), x[1])) \\\n",
    "#                    .map(lambda x: (compare(x[0],x[1]),1)) \\\n",
    "#                    .reduce(lambda x,y: (x[0]+y[0],x[1]+y[1]))\n",
    "#\n",
    "#print(\"accuracy is\", 1.0 - (float(error_count[0]) / error_count[1]))\n",
    "# regular version\n",
    "mxb = testRDD.map(lambda x: np.dot(coeffs, x[0])+b).collect() # mx+b\n",
    "probabilities = sigmoid(mxb) # put through sigmoid\n",
    "predictions = classify(probabilities) # put through a decision boundary\n",
    "print (\"accuracy is\", calc_accuracy(predictions, actual_labels))"
   ]
  },
  {
   "cell_type": "code",
   "execution_count": null,
   "metadata": {
    "collapsed": true
   },
   "outputs": [],
   "source": [
    "def calc_metrics(predicted_labels, actual_labels):\n",
    "    FP = 0\n",
    "    FN = 0\n",
    "    TP = 0\n",
    "    TN = 0\n",
    "    num_predictions = len(actual_labels)\n",
    "    for compare in range(num_predictions):\n",
    "        if predicted_labels[compare] == actual_labels[compare]:\n",
    "            if actual_labels[compare] == 0:\n",
    "                TN += 1\n",
    "            else:\n",
    "                TP +=1\n",
    "        else:\n",
    "            if actual_labels[compare] == 0:\n",
    "                FP +=1\n",
    "            else:\n",
    "                FN +=1\n",
    "    return(FP,FN,TP,TN)\n",
    "\n",
    "def acc_precision_recall_f1(FP,FN,TP,TN):\n",
    "    precision = TP/(TP+FP)\n",
    "    recall = TP/(TP+FN)\n",
    "    f1 = 2*(recall * precision) / (recall + precision)\n",
    "    acc = (TP+TN)/(TP+FP+FN+TN)\n",
    "    return(precision,recall,f1,acc)"
   ]
  },
  {
   "cell_type": "code",
   "execution_count": null,
   "metadata": {
    "collapsed": true
   },
   "outputs": [
    {
     "name": "stdout",
     "output_type": "stream",
     "text": [
      "FP: 125811,FN: 2201178, TP: 147696, TN:6697267\n",
      "Precision: 0.5400081167940857 Recall: 0.06287949034303245 F1: 0.11264267091623986 Accuracy: 0.7462929374248797\n"
     ]
    }
   ],
   "source": [
    "FP,FN,TP,TN = calc_metrics(predictions,actual_labels)\n",
    "print(\"FP: {},FN: {}, TP: {}, TN:{}\".format(FP,FN,TP,TN))\n",
    "precision,recall,f1,acc =  acc_precision_recall_f1(FP,FN,TP,TN) \n",
    "print(\"Precision: {} Recall: {} F1: {} Accuracy: {}\".format(precision,recall,f1,acc))"
   ]
  },
  {
   "cell_type": "markdown",
   "metadata": {},
   "source": [
    "### Challenges uncovered in the EDA\n",
    "\n",
    "* **Dimensionality.** We start with 45 million rows x 39 features. If we were to one hot encode all the distinct values of our categorical variables, the dimensions would be approx. 45 million rows x 33 million features. We need to figure out a way to reduce the feature space. \n",
    "\n",
    "* **Null values.** This is a sparse dataset, meaning there are a lot of nulls. We want to try logistic regression, but that means we will need to handle the nulls. But since there are so many nulls, we will also try decision trees, which can automatically handle null values. \n",
    "\n",
    "* **No amazing correlations.** No one feature seems to be highly correlated with the outcome, so there isn't an obvious way to pick a few features and get a good enough model. "
   ]
  },
  {
   "cell_type": "markdown",
   "metadata": {},
   "source": [
    "## 4: Algorithm Implementation\n",
    "\n",
    "_Develop a 'homegrown' implementation of the algorithn, apply it to the training dataset and evaluate your results on the test set._\n",
    "\n",
    "### Applying Logistic Regression on Categorical Variables\n",
    "\n",
    "In this section, we will continue using logistic regression and now include the categorical variables. \n",
    "\n",
    "Initially, we will explore a 100,000-row sample dataset out of the original 45 million samples. To test the performance of our classifiers, we split 80% of the sample dataset into train data (80,000), 10% into validation data (10,000) and the remaining 10% for the final test data (10,000). \n",
    "\n",
    "#### Features Engineering (One Hot Encoding Vs Features Hashing) \n",
    "\n",
    "Each sample has `40` variables. The first variable or the column is the label: `1` or `0` to indicate the clicking event, `1` being the clicked activity. The remaining `39` variables are features, of which `13` are represented in numeric value and the rest `26` are represented in hashed value. Some of them have missing values. All features are categorical features. In order to capture all the features, we will explore the most common feature engineering methods for categorical variables: **one hot encoding (OHE)** and **feature hashing**. \n",
    "\n",
    "#### 1. One Hot Encoding (OHE)\n",
    "\n",
    "As the name suggests, one hot encoding (OHE) expands all the unique features in the dataset. \n",
    "\n",
    "```\n",
    "|         | feature1 | feature2 | feature3 | \n",
    "|---------|----------|----------|----------|\n",
    "|sample 1 | black    | round    | matte    |\n",
    "|sample 2 | white    | square   | shiny    |\n",
    "|sample 3 | blue     | round    | matte    |\n",
    "|sample 4 | black    | round    | shiny    | \n",
    "\n",
    "\n",
    "|         |black |white |blue ||round |square ||matte  |shiny | \n",
    "|---------|------|------|-----||------|-------||-------|------|\n",
    "|sample 1 | 1    | 0    | 0   || 1    |  0    || 1     | 0    |  \n",
    "|sample 2 | 0    | 1    | 0   || 0    |  1    || 0     | 1    |\n",
    "|sample 3 | 0    | 0    | 1   || 1    |  0    || 1     | 0    | \n",
    "|sample 4 | 1    | 0    | 0   || 1    |  0    || 0     | 1    | \n",
    "\n",
    "\n",
    "index    = [0, 1, 2, 3, 4, 5, 6]\n",
    "--------------------------------\n",
    "sample 1 = [1, 0, 0, 1, 0, 1, 0] \n",
    "sample 2 = [0, 1, 0, 0, 1, 0, 1]\n",
    "sample 3 = [0, 0, 1, 1, 0, 1, 0]\n",
    "sample 4 = [1, 0, 0, 1, 0, 0, 1]\n",
    "```\n",
    "\n",
    "The advantage of one hot encoding is when the dataset is relatively small, it is convenient to capture all the unique features. We can also create a sparse vector to represent our dataset in a more compact fashion. However, one hot encoding becomes computationaly expensive when the dataset is extremely large. That is the case with our Criteo Kaggle dataset, which comes with 45 millions samples and at least 30 millions unique categorical values. \n",
    "\n",
    "The other disadvantage of one hot encoding is that in order to capture all the unique features, we need to have a single pass over the entire dataset, which makes the computation more expensive for the large data. However, we will use one hot encoding in our exploratory data analysis and compare with features hashing method described below. "
   ]
  },
  {
   "cell_type": "code",
   "execution_count": 8,
   "metadata": {},
   "outputs": [
    {
     "name": "stdout",
     "output_type": "stream",
     "text": [
      "Number of train data:  32085274\n",
      "Number of val data  :  6876749\n",
      "Number of test data :  6878594\n",
      "number of total data:  45840617\n",
      "['0,1,1,5,0,1382,4,15,2,181,1,2,,2,68fd1e64,80e26c9b,fb936136,7b4723c4,25c83c98,7e0ccccf,de7995b8,1f89b562,a73ee510,a8cd5504,b2cb9c98,37c9c164,2824a5f6,1adce6ef,8ba8b39a,891b62e7,e5ba7672,f54016b9,21ddcdc9,b1252a9d,07b5194c,,3a171ecb,c5c50484,e8b83407,9727dd16']\n"
     ]
    }
   ],
   "source": [
    "# I changed the sampleRDD into trainRDD but left the `sampleRDD1` name intact \n",
    "# because I don't want to change all other variable name.\n",
    "\n",
    "sampleRDD1 = trainRDD.map(lambda x: x.replace('\\t', ','))\n",
    "\n",
    "# Splitting the data\n",
    "# I'm splitting the original 45 million data,\n",
    "weights = [0.7, 0.15, 0.15]\n",
    "seed = 42\n",
    "# Use randomSplit with weights and seed\n",
    "TrainData, ValData, TestData = sampleRDD1.randomSplit(weights,seed)\n",
    "\n",
    "# count the data\n",
    "nTrain = TrainData.count()\n",
    "nVal = ValData.count()\n",
    "nTest = TestData.count()\n",
    "print(\"Number of train data: \", nTrain)\n",
    "print(\"Number of val data  : \", nVal)\n",
    "print(\"Number of test data : \", nTest)\n",
    "print(\"number of total data: \", nTrain + nVal + nTest)\n",
    "print(sampleRDD1.take(1))"
   ]
  },
  {
   "cell_type": "markdown",
   "metadata": {},
   "source": [
    "\n",
    "This is a step-by-step walk through on how we developed our homegrown implementation of one hot encoding in a parallel computing context. Since our dataset is very large, in order to capture all the unique features, we first employed the one hot encoding approach for our small dataset `100,000` samples. \n",
    "\n",
    "### Step by step walk through to create one hot encoding\n",
    "\n",
    "One sample \n",
    "```\n",
    "['0,1,1,5,0,1382,4,15,2,181,1,2,,2,68fd1e64,80e26c9b,fb936136,7b4723c4,25c83c98,7e0ccccf,de7995b8,1f89b562,a73ee510,a8cd5504,b2cb9c98,37c9c164,2824a5f6,1adce6ef,8ba8b39a,891b62e7,e5ba7672,f54016b9,21ddcdc9,b1252a9d,07b5194c,,3a171ecb,c5c50484,e8b83407,9727dd16']\n",
    "```\n",
    "#### Step 1 (Features selection) \n",
    "\n",
    "Remove the first column, i.e., label `1` or `0`. \n",
    "\n",
    "```\n",
    "['0']\n",
    "[1,1,5,0,1382,4,15,2,181,1,2,,2,68fd1e64,80e26c9b,fb936136,7b4723c4,25c83c98,7e0ccccf,de7995b8,1f89b562,a73ee510,a8cd5504,b2cb9c98,37c9c164,2824a5f6,1adce6ef,8ba8b39a,891b62e7,e5ba7672,f54016b9,21ddcdc9,b1252a9d,07b5194c,,3a171ecb,c5c50484,e8b83407,9727dd16']\n",
    "```\n",
    "\n",
    "#### Step 2 (Index each feature)\n",
    "\n",
    "Assign the remaining `39` variables with corresponding indexes. This step is critical because we will then use the index as our keys and in the reducer step, we could count how many unique features exists in each index.  \n",
    "\n",
    "```\n",
    "[[(0, '1'),      # index 0, feature 1 with the category '1'\n",
    "  (1, '1'),\n",
    "  (2, '5'),\n",
    "  (3, '0'),\n",
    "  (4, '1382'), ...],\n",
    " [(0, '5'),      # index 0, feature 1 with the category '5'\n",
    "  (1, '10'), \n",
    "  (2, '34'), ...], ...,\n",
    "  []]\n",
    "```\n",
    "\n",
    "#### Step 3 (Select unique) \n",
    "\n",
    "The index `0` can have many features. For example: \n",
    "\n",
    "```\n",
    "(0, '1')\n",
    "(0, '5')\n",
    "(0, '15')\n",
    "(0, '8')\n",
    "(0, '1')      --> (already had above), will be removed by distinct()\n",
    "(0, '15')     --> (already had above), will be removed by distinct() \n",
    "...\n",
    "```\n",
    "To count the unique features for each index, we will use `distinct()`. Distinct() step will be expensive especially when the data is very large. \n",
    "\n",
    "#### Step 4 [Optional] (Mapper and Reducer stage) \n",
    "\n",
    "1. Map every index and emit them with `1` so that we can reduce them. \n",
    "2. Reduce by (lambda x, y: x + y) \n",
    "\n",
    "```\n",
    "[(0, 145),\n",
    " (1, 2483),\n",
    " (2, 864),\n",
    " (3, 130),\n",
    " (4, 20352),\n",
    " ...\n",
    "```\n",
    "\n",
    "There are 145 unique categories for the index `0`, which is the first feature out of `39` features in our sample. \n",
    "\n",
    "#### Step 4 (Create One Hot Dictionary) \n",
    "\n",
    "We need to create an index dictionary for all the unique features. Once we have the dictionary, we then go over all the samples and create a sparse vector based on what features each sample has. \n",
    "\n",
    "```\n",
    "1. zipWithIndex() will create an index for every items\n",
    "2. The emitted from above will become the tuple with the index starting from `0`.\n",
    "3. [((0, '1'), 0), ((4, '1382'), 1), ((7, '2'), 2), ((13, '68fd1e64'), 3), ((14, '80e26c9b'), 4), ...]\n",
    "4. collectAsMap() will create a dictionary by mapping the first [0] in a tuple and makes them as keys (composite key)\n",
    "5. the index becomes the dict value\n",
    "\n",
    "{(0, '1'): 0,\n",
    " (4, '1382'): 1,\n",
    " (7, '2'): 2,\n",
    " (13, '68fd1e64'): 3,\n",
    " ...,\n",
    " ...,\n",
    " (36, '9a1c7e3d'): 234358}\n",
    "```\n",
    "\n",
    "#### Step 5 (One Hot Encoding) \n",
    "\n",
    "In order to pipeline our RDD into our classifiers in later steps. Spark has a LabeledPoint which requires label in its tuple index`[0]` position. The index`[1]` has the sparse vector format. Reference <a href=\"https://spark.apache.org/docs/latest/api/python/pyspark.mllib.html?highlight=labeledpoint\">here</a>. This is what we try to achieve from our RDD sample. \n",
    "\n",
    "```\n",
    "[LabeledPoint(0.0, (234358,[0,1,2,3,4,5,6,7,8,9,10,11,12,13,14,15,16,17,117215,117216,117217,117218,117219,117220,117221,117222,117223,117224,117225,117226,117227,117228,117229,117230,117231,117232,117233,117234,117235],[1.0,1.0,1.0,1.0,1.0,1.0,1.0,1.0,1.0,1.0,1.0,1.0,1.0,1.0,1.0,1.0,1.0,1.0,1.0,1.0,1.0,1.0,1.0,1.0,1.0,1.0,1.0,1.0,1.0,1.0,1.0,1.0,1.0,1.0,1.0,1.0,1.0,1.0,1.0]))] \n",
    "```\n",
    "1. The first `0.0` at tuple index`[0]` is the sample label. \n",
    "2. `234358` is the length of the vector space. \n",
    "3. The first list `[]` is the index list for all the unique features for the sample. \n",
    "4. The second list `[]` is the value of the unique features. Since this is OHE, it's `1`. \n",
    "\n",
    "\n",
    "- To achieve this, we need to feed our original RDD because we need the original label for each sample. \n",
    "- To have the sparse vector, we already created OHE dictionary in Step 4. We will then create our sample into `(index, category)` format, and search in our OHE dictionary for their corresponding index.  \n",
    "\n",
    "#### Step 6 (Classifiers) \n",
    "\n",
    "We will use logistic regression because our label is a binary classification, either `1` or `0`. We will then use a log loss function as to check our model performance. A general rule of thumb is the nearer the log loss value is to zero, the more accurate our model is. "
   ]
  },
  {
   "cell_type": "code",
   "execution_count": 38,
   "metadata": {
    "collapsed": true
   },
   "outputs": [],
   "source": [
    "def indexFeatures(line):\n",
    "    #  select feature of interest after removing the first column which is the label\n",
    "\n",
    "    features = []\n",
    "\n",
    "    for index,feature in enumerate(line.split(',')[1:]):\n",
    "        idxFeat = index,feature\n",
    "        features.append(idxFeat)\n",
    "        \n",
    "    return features"
   ]
  },
  {
   "cell_type": "code",
   "execution_count": 12,
   "metadata": {},
   "outputs": [
    {
     "name": "stdout",
     "output_type": "stream",
     "text": [
      "[(0, 140), (1, 2378), (2, 813), (3, 127), (4, 18849), (5, 1817), (6, 560), (7, 123), (8, 1724), (9, 8), (10, 84), (11, 65), (12, 244), (13, 457), (14, 491), (15, 32275), (16, 19453), (17, 127), (18, 11), (19, 6977), (20, 219), (21, 3), (22, 9243), (23, 3593), (24, 30531), (25, 2700), (26, 26), (27, 4643), (28, 25973), (29, 9), (30, 2325), (31, 1174), (32, 4), (33, 28682), (34, 10), (35, 14), (36, 10034), (37, 49), (38, 7717)]\n",
      "Time taken : 4.247509479522705 seconds\n"
     ]
    }
   ],
   "source": [
    "# This is indexing all the features \n",
    "\n",
    "start = time.time()\n",
    "\n",
    "indexedTrainFeat = TrainData.map(indexFeatures)\n",
    "\n",
    "totalCat = (indexedTrainFeat\n",
    "            .flatMap(lambda x: x)\n",
    "            .distinct()\n",
    "            .map(lambda x: (x[0], 1))\n",
    "            .reduceByKey(lambda x, y: x + y)\n",
    "            .sortByKey()\n",
    "            .collect())\n",
    "\n",
    "print(totalCat)\n",
    "print(\"Time taken : {} seconds\".format(time.time() - start))"
   ]
  },
  {
   "cell_type": "code",
   "execution_count": 112,
   "metadata": {
    "collapsed": true
   },
   "outputs": [],
   "source": [
    "# [features_list[i] for i in [1, 2, 4, 5, 8, 15, 16, 19, 22, 23, 24, 27, 28, 30, 31, 33, 36, 38]]   --> logloss 0.505 on test\n",
    "# [features_list[i] for i in [1, 2, 3, 4, 5, 6, 7, 8, 9, 10, 11, 12, 13]]                           --> logloss 0.485 on test\n",
    "# [features_list[i] for i in range(14, 39)]               # categorical features                    --> logloss 0.531 on test\n",
    "# [features_list[i] for i in [1, 2, 3, 4, 5, 6, 7, 8, 9, 10, 11, 12, 13, 17, 19, 27, 29, 34]]       --> logloss 0.520 on test\n",
    "def selectFeatures(line):\n",
    "    #  index each feature after removing the first column which is the label\n",
    "\n",
    "    features = []\n",
    "\n",
    "    features_list = line.split(',')[1:]\n",
    "    selected_features = [features_list[i] for i in [1, 3, 4, 5, 6, 7, 8, 9, 10, 11, 12]] \n",
    "    for index,feature in enumerate(selected_features):\n",
    "        idxFeat = index,feature\n",
    "        features.append(idxFeat)\n",
    "        \n",
    "    return features"
   ]
  },
  {
   "cell_type": "code",
   "execution_count": 113,
   "metadata": {},
   "outputs": [
    {
     "name": "stdout",
     "output_type": "stream",
     "text": [
      "[(0, 8741), (1, 450), (2, 424238), (3, 10553), (4, 3790), (5, 1196), (6, 6731), (7, 13), (8, 166), (9, 376), (10, 1161)]\n",
      "Time taken : 201.2898724079132 seconds\n"
     ]
    }
   ],
   "source": [
    "# This is selecting features which have more than 1000 unique categories in each feature\n",
    "\n",
    "start = time.time()\n",
    "\n",
    "indexedTrainFeat = TrainData.map(selectFeatures)\n",
    "\n",
    "totalCat = (indexedTrainFeat\n",
    "            .flatMap(lambda x: x)\n",
    "            .distinct()\n",
    "            .map(lambda x: (x[0], 1))\n",
    "            .reduceByKey(lambda x, y: x + y)\n",
    "            .sortByKey()\n",
    "            .collect())\n",
    "\n",
    "print(totalCat)\n",
    "print(\"Time taken : {} seconds\".format(time.time() - start))"
   ]
  },
  {
   "cell_type": "code",
   "execution_count": 114,
   "metadata": {},
   "outputs": [
    {
     "name": "stdout",
     "output_type": "stream",
     "text": [
      "Total number of unique categories for all features:  457415\n",
      "Time taken : 0.0005197525024414062 seconds\n"
     ]
    }
   ],
   "source": [
    "# Counting total number of categories\n",
    "start = time.time()\n",
    "total = 0\n",
    "for item in totalCat:\n",
    "    total += item[1]\n",
    "print(\"Total number of unique categories for all features: \", total)\n",
    "print(\"Time taken : {} seconds\".format(time.time() - start))"
   ]
  },
  {
   "cell_type": "markdown",
   "metadata": {},
   "source": [
    "#### Unique features analysis \n",
    "\n",
    "1. There are `28,728,198` unique features extracted from the train dataset 0.8 * 45 = 36 million dataset using one hot encoding. Since it crashes in the later step, I reduced  the training dataset into 0.5 * 45 = 22.5 million dataset, which gave us `19,733.119` unique features. Since the computer crashes, I further reduced the training size to `4.1` million dataset. "
   ]
  },
  {
   "cell_type": "code",
   "execution_count": 43,
   "metadata": {
    "collapsed": true
   },
   "outputs": [],
   "source": [
    "def createOHEDict(dataRDD):\n",
    "    \"\"\" This is an function to create one hot encoding (OHE) dictionary \n",
    "    on the entire dataset. To make sure there's a unique number of categories for each feature,\n",
    "    it will use the distinct() function. \"\"\"\n",
    "    \n",
    "    OHEDict = (dataRDD.map(indexFeatures)\n",
    "                       .flatMap(lambda x: x)\n",
    "                       .distinct()\n",
    "                       .zipWithIndex()\n",
    "                       .collectAsMap())\n",
    "    return OHEDict"
   ]
  },
  {
   "cell_type": "code",
   "execution_count": 115,
   "metadata": {
    "collapsed": true
   },
   "outputs": [],
   "source": [
    "# Creating OHEDict for selected features only \n",
    "\n",
    "def createOHEDict(dataRDD):\n",
    "    \"\"\" This is an function to create one hot encoding (OHE) dictionary \n",
    "    on the entire dataset. To make sure there's a unique number of categories for each feature,\n",
    "    it will use the distinct() function. \"\"\"\n",
    "    \n",
    "    OHEDict = (dataRDD.map(selectFeatures)\n",
    "                       .flatMap(lambda x: x)\n",
    "                       .distinct()\n",
    "                       .zipWithIndex()\n",
    "                       .collectAsMap())\n",
    "    return OHEDict"
   ]
  },
  {
   "cell_type": "code",
   "execution_count": 116,
   "metadata": {},
   "outputs": [
    {
     "name": "stdout",
     "output_type": "stream",
     "text": [
      "The value of (1, '') is  111430\n",
      "Time taken to process : 201.84091520309448 seconds\n",
      "457415\n"
     ]
    }
   ],
   "source": [
    "start = time.time()\n",
    "trainOHEDict = createOHEDict(TrainData)\n",
    "print(\"The value of (1, '') is \", trainOHEDict[(1, '')])\n",
    "print(\"Time taken to process : {} seconds\".format(time.time() - start))\n",
    "\n",
    "trainOHEFeatures = len(trainOHEDict.keys())\n",
    "print(trainOHEFeatures)"
   ]
  },
  {
   "cell_type": "markdown",
   "metadata": {},
   "source": [
    "### One Hot Encoding \n",
    "#### Preparing each dataset for our classifier model"
   ]
  },
  {
   "cell_type": "code",
   "execution_count": 117,
   "metadata": {
    "collapsed": true
   },
   "outputs": [],
   "source": [
    "from pyspark.mllib.linalg import SparseVector\n",
    "from pyspark.mllib.regression import LabeledPoint\n",
    "\n",
    "def sparseOHE(feature_list, OHEDict):\n",
    "    \"\"\"Emitting SparseVector from the entire one hot encoding dictionary \n",
    "    for one sample data at a time\n",
    "    \"\"\"\n",
    "\n",
    "    index_list = []\n",
    "    \n",
    "    for feat in feature_list:\n",
    "        if feat in OHEDict:                     # this step is for other dataset when the unique feature might not be in the OHE dict\n",
    "            index_list.append(OHEDict[feat])\n",
    "        \n",
    "    index_list.sort()\n",
    "    \n",
    "    # create a list of 1.0s for each feature\n",
    "    values = [1.] * len(index_list)\n",
    "\n",
    "    return SparseVector(len(OHEDict.keys()), index_list, values)\n",
    "\n",
    "def parseRDD(line, OHEDict):\n",
    "    \"\"\"emit label, sparseVector for the sample that has been already one hot encoded. \n",
    "    label = 1 or 0 \n",
    "    sparseVector = (total number of features, [list of indexes], [list of corresponding values])\n",
    "    \"\"\"\n",
    "    features = []\n",
    "    \n",
    "    # split each value in the comma separated text\n",
    "    for index, feature in enumerate(line.split(',')[1:]):\n",
    "        idxfeat = index, feature\n",
    "        features.append(idxfeat)\n",
    "    \n",
    "    return LabeledPoint(line.split(\",\")[0], sparseOHE(features, OHEDict))"
   ]
  },
  {
   "cell_type": "code",
   "execution_count": 118,
   "metadata": {},
   "outputs": [
    {
     "name": "stdout",
     "output_type": "stream",
     "text": [
      "1st sample of feature engineered train data\n",
      "[LabeledPoint(0.0, (457415,[37123,72997,119774,123793,160964,182272,241862,329322,405360,409442,447770],[1.0,1.0,1.0,1.0,1.0,1.0,1.0,1.0,1.0,1.0,1.0]))]\n",
      "--------------------------------------------------\n",
      "1st sample of feature engineered validation data\n",
      "[LabeledPoint(0.0, (457415,[37123,78462,104587,127918,305271,392966,399792,430048,453286],[1.0,1.0,1.0,1.0,1.0,1.0,1.0,1.0,1.0]))]\n",
      "--------------------------------------------------\n",
      "1st sample of feature engineered test data\n",
      "[LabeledPoint(0.0, (457415,[138951,143065,199461,251540,276224,317476,366934,392966],[1.0,1.0,1.0,1.0,1.0,1.0,1.0,1.0]))]\n",
      "--------------------------------------------------\n",
      "Time taken to process for 3 datasets: 20.27706527709961 seconds\n"
     ]
    }
   ],
   "source": [
    "start = time.time()\n",
    "OHETrainData = TrainData.map(lambda line: parseRDD(line, trainOHEDict))\n",
    "OHEValData = ValData.map(lambda line: parseRDD(line, trainOHEDict))\n",
    "OHETestData = TestData.map(lambda line: parseRDD(line, trainOHEDict))\n",
    "print(\"1st sample of feature engineered train data\")\n",
    "print(OHETrainData.take(1))\n",
    "print(\"-\"*50)\n",
    "print(\"1st sample of feature engineered validation data\")\n",
    "print(OHEValData.take(1))\n",
    "print(\"-\"*50)\n",
    "print(\"1st sample of feature engineered test data\")\n",
    "print(OHETestData.take(1))\n",
    "print(\"-\"*50)\n",
    "print(\"Time taken to process for 3 datasets: {} seconds\".format(time.time() - start))"
   ]
  },
  {
   "cell_type": "markdown",
   "metadata": {},
   "source": [
    "### Classifiers\n",
    "#### Logistic Regression on Criteo CTR Data\n",
    "\n",
    "\n"
   ]
  },
  {
   "cell_type": "code",
   "execution_count": 119,
   "metadata": {},
   "outputs": [
    {
     "name": "stdout",
     "output_type": "stream",
     "text": [
      "Model weights for the first 5 variables or features developed on train data\n",
      "\n",
      "[-0.6972320770426881, -0.568179574284938, -0.48932305551716265, -0.44262230014901444, -0.40318678018926674]\n",
      "--------------------------------------------------\n",
      "Model intercept\n",
      "\n",
      "-0.16229626525073787\n"
     ]
    }
   ],
   "source": [
    "# Model definition\n",
    "\n",
    "from pyspark.mllib.classification import LogisticRegressionWithSGD\n",
    "\n",
    "# adjustable hyperparameters\n",
    "numIters = 50\n",
    "stepSize = 10.\n",
    "regParam = 1e-6\n",
    "regType = 'l2'\n",
    "includeIntercept = True\n",
    "\n",
    "model0 = LogisticRegressionWithSGD.train(OHETrainData,\\\n",
    "                                         iterations=numIters,\\\n",
    "                                         step=stepSize,\\\n",
    "                                         regParam=regParam,\\\n",
    "                                         regType=regType,\\\n",
    "                                         intercept=includeIntercept)\n",
    "\n",
    "print(\"Model weights for the first 5 variables or features developed on train data\\n\")\n",
    "sortedWeights = sorted(model0.weights)\n",
    "print(sortedWeights[:5])\n",
    "print(\"-\"*50)\n",
    "print(\"Model intercept\\n\")\n",
    "print(model0.intercept)"
   ]
  },
  {
   "cell_type": "code",
   "execution_count": 120,
   "metadata": {
    "collapsed": true
   },
   "outputs": [],
   "source": [
    "from pyspark.accumulators import AccumulatorParam\n",
    "\n",
    "class FloatAccumulatorParam(AccumulatorParam):\n",
    "    \"\"\"\n",
    "    Custom accumulator for use in page rank to keep track of various masses.\n",
    "    \n",
    "    IMPORTANT: accumulators should only be called inside actions to avoid duplication.\n",
    "    We stringly recommend you use the 'foreach' action in your implementation below.\n",
    "    \"\"\"\n",
    "    def zero(self, value):\n",
    "        return value\n",
    "    def addInPlace(self, val1, val2):\n",
    "        return val1 + val2 \n",
    "\n",
    "def calcProb(x, w, intercept):\n",
    "    \"\"\"Calculate the probability for an observation given a set of weights and intercept.\n",
    "    Note    : We'll bound our raw prediction between 20 and -20 for numerical purposes.\n",
    "    Returns : float: A probability between 0 and 1 for each sample using the model developed earlier, i.e., LogisticRegressionwithSGD\n",
    "    \"\"\"\n",
    "    \n",
    "    rawPrediction = x.dot(w) + intercept\n",
    "\n",
    "    # Bound the raw prediction value\n",
    "    rawPrediction = min(rawPrediction, 20)\n",
    "    rawPrediction = max(rawPrediction, -20)\n",
    "    \n",
    "    # pass it through the sigmoid function\n",
    "    return (1 + exp(-rawPrediction))**(-1)\n",
    "\n",
    "def evaluateConfMatrix(model, data):\n",
    "    \"\"\"Calculates the log loss for the data given the model.\"\"\"\n",
    "    \n",
    "    TP_count = sc.accumulator(0.0)\n",
    "    TN_count = sc.accumulator(0.0)\n",
    "    FP_count = sc.accumulator(0.0)\n",
    "    FN_count = sc.accumulator(0.0)\n",
    "    pred_yes = sc.accumulator(0.0)\n",
    "    pred_no = sc.accumulator(0.0)\n",
    "    actu_yes = sc.accumulator(0.0)\n",
    "    actu_no = sc.accumulator(0.0)\n",
    "    total_count = sc.accumulator(0.0)\n",
    "    \n",
    "    def computeAccuracy(line):\n",
    "    \n",
    "        p, y = line\n",
    "        if y == 0:\n",
    "            actu_no.add(int(1))\n",
    "        else:\n",
    "            actu_yes.add(int(1))\n",
    "            \n",
    "        threshold = 0.5 \n",
    "\n",
    "        if p < threshold:\n",
    "            p = 0\n",
    "            pred_no.add(int(1))\n",
    "        else: \n",
    "            p = 1\n",
    "            pred_yes.add(int(1))\n",
    "\n",
    "        if p == y: \n",
    "            if y == 1:\n",
    "                TP_count.add(int(1))\n",
    "            else: \n",
    "                TN_count.add(int(1))\n",
    "        else: \n",
    "            if p < y:\n",
    "                FN_count.add(int(1))\n",
    "            else:\n",
    "                FP_count.add(int(1))\n",
    "\n",
    "        total_count.add(int(1))\n",
    "\n",
    "        #return TP_count, TN_count, FP_count, FN_count, total_count\n",
    "    \n",
    "    # generate the predictions and the labels and combine them\n",
    "    predictions = data.map(lambda x: calcProb(x.features, model.weights, model.intercept))\n",
    "    labels = data.map(lambda x: x.label)\n",
    "    pred_labels = predictions.zip(labels)\n",
    "    \n",
    "    # compute the log-loss, sum it, and divide by the count\n",
    "    #TP, TN, FP, FN, tot = pred_labels.map(lambda x: computeAccuracy(x[0], x[1]))\n",
    "    \n",
    "    pred_labels.foreach(computeAccuracy)\n",
    "    \n",
    "    return TP_count.value, TN_count.value, FP_count.value, FN_count.value, actu_yes.value, actu_no.value, pred_yes.value, pred_no.value, total_count.value"
   ]
  },
  {
   "cell_type": "code",
   "execution_count": 121,
   "metadata": {
    "collapsed": true
   },
   "outputs": [],
   "source": [
    "from math import log\n",
    "from math import exp \n",
    "\n",
    "def computeLogLoss(p, y):\n",
    "    \"\"\"Calculates the value of log loss for a given probabilty and label.\n",
    "    Since log(0) is undefined, we will use a small value (epsilon). \n",
    "    \"\"\"\n",
    "    epsilon = 10e-12\n",
    "\n",
    "    if p == 1:\n",
    "        p = p - epsilon\n",
    "    elif p == 0:\n",
    "        p = p + epsilon\n",
    "    \n",
    "    if y == 1:\n",
    "        return -log(p)\n",
    "    elif y == 0: \n",
    "        return -log(1-p) \n",
    "\n",
    "def calcProb(x, w, intercept):\n",
    "    \"\"\"Calculate the probability for an observation given a set of weights and intercept.\n",
    "    Note    : We'll bound our raw prediction between 20 and -20 for numerical purposes.\n",
    "    Returns : float: A probability between 0 and 1 for each sample using the model developed earlier, i.e., LogisticRegressionwithSGD\n",
    "    \"\"\"\n",
    "    \n",
    "    rawPrediction = x.dot(w) + intercept\n",
    "\n",
    "    # Bound the raw prediction value\n",
    "    rawPrediction = min(rawPrediction, 20)\n",
    "    rawPrediction = max(rawPrediction, -20)\n",
    "    \n",
    "    # pass it through the sigmoid function\n",
    "    return (1 + exp(-rawPrediction))**(-1)\n",
    "\n",
    "def evaluateResults(model, data):\n",
    "    \"\"\"Calculates the log loss for the data given the model.\"\"\"\n",
    "    \n",
    "    # generate the predictions and the labels and combine them\n",
    "    predictions = data.map(lambda x: calcProb(x.features, model.weights, model.intercept))\n",
    "    labels = data.map(lambda x: x.label)\n",
    "    pred_labels = predictions.zip(labels)\n",
    "    \n",
    "    # compute the log-loss, sum it, and divide by the count\n",
    "    logLoss = (pred_labels.map(lambda x: computeLogLoss(x[0], x[1])) \n",
    "                .reduce(lambda x,y: x + y))/pred_labels.count()\n",
    "    \n",
    "    return logLoss"
   ]
  },
  {
   "cell_type": "markdown",
   "metadata": {},
   "source": [
    "### Calculating the baseline for logloss"
   ]
  },
  {
   "cell_type": "code",
   "execution_count": 122,
   "metadata": {},
   "outputs": [
    {
     "name": "stdout",
     "output_type": "stream",
     "text": [
      "0.25618852436790784\n",
      "Baseline Train Logloss = 0.569\n",
      "\n",
      "--------------------------------------------------\n",
      "Time taken : 1168.7595541477203 seconds\n"
     ]
    }
   ],
   "source": [
    "# calculate the overall ctr\n",
    "start = time.time()\n",
    "classOneFracTrain = OHETrainData.map(lambda x: x.label).reduce(lambda x,y: x + y) / OHETrainData.count()\n",
    "print(classOneFracTrain)\n",
    "\n",
    "# using the overall ctr, applies to each sample and calculate the logloss\n",
    "logLossTrBase = (OHETrainData.map(lambda x: computeLogLoss(classOneFracTrain,x.label))\n",
    "                             .reduce(lambda x,y: x + y))/OHETrainData.count()\n",
    "\n",
    "print('Baseline Train Logloss = {0:.3f}\\n'.format(logLossTrBase))\n",
    "print(\"-\"*50)\n",
    "print(\"Time taken : {} seconds\".format(time.time() - start))"
   ]
  },
  {
   "cell_type": "markdown",
   "metadata": {},
   "source": [
    "### Model Performance (logloss) on the train data"
   ]
  },
  {
   "cell_type": "code",
   "execution_count": 123,
   "metadata": {},
   "outputs": [
    {
     "name": "stdout",
     "output_type": "stream",
     "text": [
      "Probability prediction on first 5 samples using LogisticRegression with Stochastic Gradient Descent\n",
      "[0.3390923417343142, 0.27169162142502234, 0.35318696326326177, 0.19172669015477942, 0.5428168592407736]\n",
      "--------------------------------------------------\n",
      "OHE Features Train Logloss:\n",
      "\tBaseline = 0.569\n",
      "\tLogistic Regression model = 0.521\n",
      "--------------------------------------------------\n",
      "Time taken : 1390.7596881389618 seconds\n"
     ]
    }
   ],
   "source": [
    "start = time.time()\n",
    "\n",
    "trainingPredictions = OHETrainData.map(lambda x: calcProb(x.features,model0.weights,model0.intercept))\n",
    "\n",
    "print(\"Probability prediction on first 5 samples using LogisticRegression with Stochastic Gradient Descent\")\n",
    "print(trainingPredictions.take(5))\n",
    "\n",
    "print(\"-\"*50)\n",
    "logLossTrLR0 = evaluateResults(model0, OHETrainData)\n",
    "print('OHE Features Train Logloss:\\n\\tBaseline = {0:.3f}\\n\\tLogistic Regression model = {1:.3f}'.format(logLossTrBase, logLossTrLR0))\n",
    "print(\"-\"*50)\n",
    "print(\"Time taken : {} seconds\".format(time.time() - start))"
   ]
  },
  {
   "cell_type": "code",
   "execution_count": 124,
   "metadata": {},
   "outputs": [
    {
     "name": "stdout",
     "output_type": "stream",
     "text": [
      "Probability prediction on first 5 samples using LogisticRegression with Stochastic Gradient Descent\n",
      "[0.3390923417343142, 0.27169162142502234, 0.35318696326326177, 0.19172669015477942, 0.5428168592407736]\n",
      "--------------------------------------------------\n",
      "OHE Confusion Matrix\n",
      "True Positives  :  1110200.0\n",
      "True Negatives  :  23068865.0\n",
      "False Positives :  796530.0\n",
      "False Negatives :  7109679.0\n",
      "Total samples   :  32085274.0\n",
      "--------------------------------------------------\n",
      "Accuracy              :  0.7535876115628621\n",
      "Precision             :  0.5822533866882044\n",
      "Sensitivity or Recall :  0.13506281540154058\n",
      "Specificity           :  0.9666240596478709\n",
      "F1-score              :  0.21926392141732734\n",
      "--------------------------------------------------\n",
      "Time taken : 721.3520448207855 seconds\n"
     ]
    }
   ],
   "source": [
    "# Confusion Matrix for train data\n",
    "# https://www.dataschool.io/simple-guide-to-confusion-matrix-terminology/\n",
    "start = time.time()\n",
    "\n",
    "trainingPredictions = OHETrainData.map(lambda x: calcProb(x.features,model0.weights,model0.intercept))\n",
    "\n",
    "print(\"Probability prediction on first 5 samples using LogisticRegression with Stochastic Gradient Descent\")\n",
    "print(trainingPredictions.take(5))\n",
    "\n",
    "print(\"-\"*50)\n",
    "TP, TN, FP, FN, actu_yes, actu_no, pred_yes, pred_no, tot = evaluateConfMatrix(model0, OHETrainData)\n",
    "print('OHE Confusion Matrix')\n",
    "print(\"True Positives  : \", TP)\n",
    "print(\"True Negatives  : \", TN)\n",
    "print(\"False Positives : \", FP)\n",
    "print(\"False Negatives : \", FN)\n",
    "print(\"Total samples   : \", tot)\n",
    "print(\"-\"*50)\n",
    "print(\"Accuracy              : \", (TP+TN)/tot)\n",
    "print(\"Precision             : \", TP/pred_yes)\n",
    "print(\"Sensitivity or Recall : \", TP/actu_yes)\n",
    "print(\"Specificity           : \", TN/actu_no)\n",
    "print(\"F1-score              : \", (2 * TP/pred_yes * TP/actu_yes)/((TP/pred_yes) + (TP/actu_yes)))\n",
    "print(\"-\"*50)\n",
    "print(\"Time taken : {} seconds\".format(time.time() - start))"
   ]
  },
  {
   "cell_type": "markdown",
   "metadata": {},
   "source": [
    "### Validation dataset to check the model performance\n",
    "\n",
    "Since we have developed out model on the train dataset, we will use the model on validation dataset and check the performance, i.e., logloss. If need be, we'd go back to the model, fine tune the hyperparameters to bring the logloss as near as zero. "
   ]
  },
  {
   "cell_type": "code",
   "execution_count": 91,
   "metadata": {},
   "outputs": [
    {
     "name": "stdout",
     "output_type": "stream",
     "text": [
      "OHE Features Validation Logloss:\n",
      "\tBaseline = 0.569\n",
      "\tLogistic Regression model = 0.522\n",
      "--------------------------------------------------\n",
      "Time taken : 750.2806689739227 seconds\n"
     ]
    }
   ],
   "source": [
    "start = time.time()\n",
    "logLossValBase = OHEValData.map(lambda x: computeLogLoss(classOneFracTrain,x.label))\\\n",
    ".reduce(lambda x,y: x + y) / OHEValData.count()\n",
    "\n",
    "logLossValLR0 = evaluateResults(model0,OHEValData)\n",
    "print ('OHE Features Validation Logloss:\\n\\tBaseline = {0:.3f}\\n\\tLogistic Regression model = {1:.3f}'\n",
    "       .format(logLossValBase, logLossValLR0))\n",
    "print(\"-\"*50)\n",
    "print(\"Time taken : {} seconds\".format(time.time() - start))"
   ]
  },
  {
   "cell_type": "code",
   "execution_count": 76,
   "metadata": {},
   "outputs": [
    {
     "name": "stdout",
     "output_type": "stream",
     "text": [
      "OHE Confusion Matrix\n",
      "True Positives  :  245289.0\n",
      "True Negatives  :  4940261.0\n",
      "False Positives :  171812.0\n",
      "False Negatives :  1519387.0\n",
      "Total samples   :  6876749.0\n",
      "--------------------------------------------------\n",
      "Accuracy              :  0.7540699827781994\n",
      "Precision             :  0.5880805847984062\n",
      "Sensitivity or Recall :  0.13899945372408307\n",
      "Specificity           :  0.9663909337757892\n",
      "--------------------------------------------------\n",
      "Time taken : 270.4708082675934 seconds\n"
     ]
    }
   ],
   "source": [
    "# Confusion Matrix \n",
    "start = time.time() \n",
    "\n",
    "TP, TN, FP, FN, actu_yes, actu_no, pred_yes, pred_no, tot = evaluateConfMatrix(model0, OHEValData)\n",
    "print('OHE Confusion Matrix')\n",
    "print(\"True Positives  : \", TP)\n",
    "print(\"True Negatives  : \", TN)\n",
    "print(\"False Positives : \", FP)\n",
    "print(\"False Negatives : \", FN)\n",
    "print(\"Total samples   : \", tot)\n",
    "print(\"-\"*50)\n",
    "print(\"Accuracy              : \", (TP+TN)/tot)\n",
    "print(\"Precision             : \", TP/pred_yes)\n",
    "print(\"Sensitivity or Recall : \", TP/actu_yes)\n",
    "print(\"Specificity           : \", TN/actu_no)\n",
    "print(\"F1-score              : \", (2 * TP/pred_yes * TP/actu_yes)/((TP/pred_yes) + (TP/actu_yes)))\n",
    "print(\"-\"*50)\n",
    "print(\"Time taken : {} seconds\".format(time.time() - start))"
   ]
  },
  {
   "cell_type": "code",
   "execution_count": 92,
   "metadata": {},
   "outputs": [
    {
     "name": "stdout",
     "output_type": "stream",
     "text": [
      "OHE Features Validation Logloss:\n",
      "\tBaseline = 0.569\n",
      "\tLogistic Regression model = 0.521\n",
      "--------------------------------------------------\n",
      "Time taken : 750.9118156433105 seconds\n"
     ]
    }
   ],
   "source": [
    "start = time.time()\n",
    "logLossTestBase = OHETestData.map(lambda x: computeLogLoss(classOneFracTrain,x.label))\\\n",
    ".reduce(lambda x,y: x + y) / OHETestData.count()\n",
    "\n",
    "logLossTestLR0 = evaluateResults(model0,OHETestData)\n",
    "print ('OHE Features Validation Logloss:\\n\\tBaseline = {0:.3f}\\n\\tLogistic Regression model = {1:.3f}'\n",
    "       .format(logLossTestBase, logLossTestLR0))\n",
    "print(\"-\"*50)\n",
    "print(\"Time taken : {} seconds\".format(time.time() - start))"
   ]
  },
  {
   "cell_type": "code",
   "execution_count": 93,
   "metadata": {},
   "outputs": [
    {
     "name": "stdout",
     "output_type": "stream",
     "text": [
      "OHE Confusion Matrix\n",
      "True Positives  :  238258.0\n",
      "True Negatives  :  4947070.0\n",
      "False Positives :  170641.0\n",
      "False Negatives :  1522625.0\n",
      "Total samples   :  6878594.0\n",
      "--------------------------------------------------\n",
      "Accuracy              :  0.7538354495119206\n",
      "Precision             :  0.5826817869449424\n",
      "Sensitivity or Recall :  0.13530598001116487\n",
      "Specificity           :  0.9666567729205499\n",
      "--------------------------------------------------\n",
      "Time taken : 1541.161788702011 seconds\n"
     ]
    }
   ],
   "source": [
    "# Confusion matrix for Test Data\n",
    "\n",
    "TP, TN, FP, FN, actu_yes, actu_no, pred_yes, pred_no, tot = evaluateConfMatrix(model0, OHETestData)\n",
    "print('OHE Confusion Matrix')\n",
    "print(\"True Positives  : \", TP)\n",
    "print(\"True Negatives  : \", TN)\n",
    "print(\"False Positives : \", FP)\n",
    "print(\"False Negatives : \", FN)\n",
    "print(\"Total samples   : \", tot)\n",
    "print(\"-\"*50)\n",
    "print(\"Accuracy              : \", (TP+TN)/tot)\n",
    "print(\"Precision             : \", TP/pred_yes)\n",
    "print(\"Sensitivity or Recall : \", TP/actu_yes)\n",
    "print(\"Specificity           : \", TN/actu_no)\n",
    "print(\"F1-score              : \", (2 * TP/pred_yes * TP/actu_yes)/((TP/pred_yes) + (TP/actu_yes)))\n",
    "print(\"-\"*50)\n",
    "print(\"Time taken : {} seconds\".format(time.time() - start))"
   ]
  },
  {
   "cell_type": "markdown",
   "metadata": {},
   "source": [
    "### Conclusion from Logistic Regression using One Hot Encoding  \n",
    "\n",
    "Our logistic regression with stochastic gradient descent performs slightly better than the baseline. We checked the baseline in such a way that the average click through rate is distributed as a probability for each sample and the performance parameter (logloss) is calculated. As the best model that can predict accurately will have the log loss of `0` value, the performance of our model is checked with the logloss function. \n",
    "\n"
   ]
  },
  {
   "cell_type": "markdown",
   "metadata": {},
   "source": [
    "### Dimensionality Reduction (PCA vs Features Hashing) \n",
    "\n",
    "Although both PCA and Features hashing reduce the feature space, the fundamental concept in dimensionality reduction is different in each approach. \n",
    "\n",
    "#### PCA (Principal Component Analysis) \n",
    "\n",
    "In PCA, all features are considered. However, in calculating the eigenvectors, i.e., the vectors can be multiplied with a scalar value (eigenvalue) and the resulting vector stays in the same euclidean vector space without changing the directionality. For all the eigenvectors that can be made from the given features space, the highest eigenvector is calculated based on the how many number of features contributes to the vector and gives the highest variance. The higher the variance, the more likely it is that the model can capture all the dataset. Since each eigenvectors are orthogonal to each other, every vector has a variation in feature numbers. Some vector could have `10000` features contributing to the larger percentage of the variance, while others can be just `200` features. In principle, PCA offers the most significant features in the feature spaces. \n",
    "\n",
    "#### Features Hashing\n",
    "\n",
    "In contrast to PCA, features hashing is constrained by some number of features that we set. We could generously give the feature space to be $2^{15} = 32,768$, i.e., there should be `32,768` features that we want to analyze in our model development. We do not have control on which features to choose and which features to drop. Granted, if we start off with a small feature space, it's more likely that we will be dropping many features via a **hash collision** situation. \n",
    "\n",
    "It is also noteworthy that when the dataset is extremely large, executing PCA on millions of features is computationaly expensive and therefore features hashing is recommended.  \n"
   ]
  },
  {
   "cell_type": "markdown",
   "metadata": {},
   "source": [
    "###  Features Hashing Concept and Details\n",
    "\n",
    "Features hashing is one of the feature engineering methods that is extremely powerful in handling large data. It also offers a unique trait known as **\"online learning\"** in which the model does not need to be trained all over again due to a new dataset. The model can immediately learns in real time and update the hyperparameters as it needs. \n",
    "\n",
    "As the name implies, we will have a hash function to hash all the unique features in our dataset. The hash function itself is based on the modulo function, and we will need to give an ample amount of hash indexes in the beginning in order to capture all **unique** features. \n",
    "\n",
    "```\n",
    "|         | feature1 | feature2 | feature3 | \n",
    "|---------|----------|----------|----------|\n",
    "|sample 1 | black    | round    | matte    |\n",
    "|sample 2 | white    | square   | shiny    |\n",
    "|sample 3 | blue     | round    | matte    |\n",
    "|sample 4 | black    | round    | shiny    | \n",
    "```\n",
    "Imagine we don't know how many unique features exists in our dataset. But we will generously create a hash table to hold all the unique features. We will start with giving $2^3 = 8$ indexes for our dataset. \n",
    "```\n",
    "|         |    list of features    | \n",
    "|---------|------------------------|\n",
    "|sample 1 | [black, round, matte]  |  \n",
    "|sample 2 | [white, square, shiny] |\n",
    "|sample 3 | [blue, round, matte]   |\n",
    "|sample 4 | [black, round, shiny]  |\n",
    "```\n",
    "There are a number of hash values using different bits. The most common being md5 using 128 bits, we will use md5 hash function.\n",
    "```\n",
    "step 1: feature = feature.encode('utf-8')                    # feature needs to be encoded\n",
    "step 2: hashlib.md5(feature)                                 # hash object\n",
    "step 3: hashlib.md5(feature).hexdigest()                     # hash object converted to hexadecimal format \n",
    "step 4: int(hashlib.md5(feature).hexdigest(), 16)            # converting hex to base 10 \n",
    "step 5: int(int(hashlib.md5(feature).hexdigest(), 16) % 8)   # modulo to match the hash table, here 2^3 = 8\n",
    "eg    : int(int(hashlib.md5('black'.encode('utf-8')).hexdigest(), 16) % 8) \n",
    "\n",
    "|         | index list |   \n",
    "|---------|------------|\n",
    "|sample 1 | [1, 2, 3]  |  \n",
    "|sample 2 | [4, 0, 6]  |\n",
    "|sample 3 | [7, 2, 3]  |\n",
    "|sample 4 | [1, 2, 6]  |\n",
    "\n",
    "\n",
    "index    = [0, 1, 2, 3, 4, 5, 6, 7]\n",
    "-----------------------------------\n",
    "sample 1 = [0, 1, 1, 1, 0, 0, 0, 0] \n",
    "sample 2 = [1, 0, 0, 0, 1, 0, 1, 0]\n",
    "sample 3 = [0, 0, 1, 1, 0, 0, 0, 1]\n",
    "sample 4 = [0, 1, 1, 0, 0, 0, 1, 0]\n",
    "\n",
    "```\n",
    "As decribed above, feature hashing also generates a one hot encoding format. By generously giving more than enough index spaces for all unique features, we avoid a **hash collision** situation. Even if it occurs in a large hash table, it should not affect the accuracy of our model. \n",
    "\n",
    "The most significant advantage of using feature hashing is we **don't** need to go over the entire dataset to convert the sample features into vector space. For example, the first sample 1 comes with `black, round, matte` features. We don't need to know how many unique colors are there in our dataset. It could be only `black` color or more than that. But the modulo function in hash compression will take care of all the unique features and give the index based on the remainder. Similarly, our $2^3 = 8$ hash table also takes care of `round` feature as well. "
   ]
  },
  {
   "cell_type": "markdown",
   "metadata": {},
   "source": [
    "### Features Hashing Implementation "
   ]
  },
  {
   "cell_type": "code",
   "execution_count": 14,
   "metadata": {
    "collapsed": true
   },
   "outputs": [],
   "source": [
    "sqlContext = SQLContext(sc)\n",
    "\n",
    "# Load a text file and convert each line to a Row.\n",
    "#lines = sc.textFile(\"data/train50000.txt\")\n",
    "lines = sc.textFile(\"gs://midsw261/data/train.txt\")\n",
    "\n",
    "parts = lines.map(lambda l: l.split(\"\\t\"))\n",
    "projectRDD = parts.map(lambda p: Row(label=int(p[0]), I1=p[1], I2=p[2],\\\n",
    "                    I3=p[3], I4=p[4], I5=p[5], I6=p[6],\\\n",
    "                    I7=p[7], I8=p[8], I9=p[9], I10=p[10],\\\n",
    "                    I11=p[11], I12=p[12], I13=p[13], C1=p[14], C2=p[15], C3=p[16],\\\n",
    "                    C4=p[17], C5=p[18], C6=p[19], C7=p[20], C8=p[21], C9=p[22],\\\n",
    "                    C10=p[23], C11=p[24], C12=p[25], C13=p[26], C14=p[27], C15=p[28],\\\n",
    "                    C16=p[29], C17=p[30], C18=p[31], C19=p[32], C20=p[33], C21=p[34],\\\n",
    "                    C22=p[35], C23=p[36], C24=p[37], C25=p[38], C26=p[39]))\n",
    "\n",
    "# Infer the schema, and register the DataFrame as a table.\n",
    "projectDF = sqlContext.createDataFrame(projectRDD)\n",
    "projectDF.registerTempTable(\"projectTable\")\n",
    "projectDF= projectDF.withColumn(\"I1\", projectDF[\"I1\"].cast(IntegerType()))\n",
    "projectDF= projectDF.withColumn(\"I2\", projectDF[\"I2\"].cast(IntegerType()))\n",
    "projectDF= projectDF.withColumn(\"I3\", projectDF[\"I3\"].cast(IntegerType()))\n",
    "projectDF= projectDF.withColumn(\"I4\", projectDF[\"I4\"].cast(IntegerType()))\n",
    "projectDF= projectDF.withColumn(\"I5\", projectDF[\"I5\"].cast(IntegerType()))\n",
    "projectDF= projectDF.withColumn(\"I6\", projectDF[\"I6\"].cast(IntegerType()))\n",
    "projectDF= projectDF.withColumn(\"I8\", projectDF[\"I8\"].cast(IntegerType()))\n",
    "projectDF= projectDF.withColumn(\"I9\", projectDF[\"I9\"].cast(IntegerType()))\n",
    "projectDF= projectDF.withColumn(\"I10\", projectDF[\"I10\"].cast(IntegerType()))\n",
    "projectDF= projectDF.withColumn(\"I12\", projectDF[\"I12\"].cast(IntegerType()))\n",
    "projectDF= projectDF.withColumn(\"I13\", projectDF[\"I13\"].cast(IntegerType()))\n",
    "projectDF= projectDF.withColumn(\"I7\", projectDF[\"I7\"].cast(IntegerType()))\n",
    "projectDF= projectDF.withColumn(\"I11\", projectDF[\"I11\"].cast(IntegerType()))\n",
    "projectDF= projectDF.withColumn(\"I1\", projectDF[\"I1\"].cast(IntegerType()))\n",
    "projectDF= projectDF.withColumn(\"label\", projectDF[\"label\"].cast(IntegerType()))\n",
    "\n",
    "\n",
    "#remove cat logs = C3, C4, C12, C16, C21 and C24 \n",
    "# include - C6,C9,C14,C17,C20,C22,C23\n",
    "# remove -  I3, I2, I8, I9\n",
    "# remove I15 - outliers\n",
    "# include - I4 & I13, I8 & I13, I7 & I11, I1 & I7\n",
    "# since #I13 appears in noth I4 and I8 - include - I4,I13,I7 & I11, I1 & I7\n",
    "\n",
    "categorical_features = ['C1','C2','C5','C6','C7','C8','C9','C10','C11','C11','C13','C14','C15','C17','C18','C19','C20','C22','C23','C25','C26']\n",
    "numeric_features = ['I4','I13','I7','I11', 'I1']\n",
    "label_and_numeric = ['label']+numeric_features\n",
    "\n",
    "allcols = categorical_features + numeric_features\n",
    "\n",
    "#numeric_features = [\"I1\", \"I2\", \"I3\", \"I4\", \"I5\", \"I6\", \"I7\", \"I8\", \"I9\", \"I10\", \"I11\", \"I12\", \"I13\"]\n",
    "#categorical_features =  ['C6','C9','C14','C17','C20','C22','C23']\n",
    "#label_and_numeric = [\"label\", \"I1\", \"I2\", \"I3\", \"I4\", \"I5\", \"I6\", \"I7\", \"I8\", \"I9\", \"I10\", \"I11\", \"I12\", \"I13\"]"
   ]
  },
  {
   "cell_type": "code",
   "execution_count": 15,
   "metadata": {},
   "outputs": [
    {
     "name": "stdout",
     "output_type": "stream",
     "text": [
      "+--------+--------+--------+--------+--------+--------+--------+--------+--------+--------+---+--------+---+--------+---+--------+--------+---+---+--------+--------+--------+--------+--------+--------+--------+----+----+---+----+----+---+----+----+----+---+---+---+---+-----+\n",
      "|      C1|     C10|     C11|     C12|     C13|     C14|     C15|     C16|     C17|     C18|C19|      C2|C20|     C21|C22|     C23|     C24|C25|C26|      C3|      C4|      C5|      C6|      C7|      C8|      C9|  I1| I10|I11| I12| I13| I2|  I3|  I4|  I5| I6| I7| I8| I9|label|\n",
      "+--------+--------+--------+--------+--------+--------+--------+--------+--------+--------+---+--------+---+--------+---+--------+--------+---+---+--------+--------+--------+--------+--------+--------+--------+----+----+---+----+----+---+----+----+----+---+---+---+---+-----+\n",
      "|013c8fe1|233e3a0c|a7b606c4|6aaba33c|eae197fd|b28479f6|2d0bb053|b041b04a|e5ba7672|2804effd|   |421b43cd|   |723b4dfd|   |3a171ecb|b34f3128|   |   |8162da11|29998ed1|25c83c98|fe6b92e5|7f9907fe|233428af|a73ee510|null|null|  1|null|null| -1|null|null|2849|382|  4| 17| 96|    0|\n",
      "|02f970ca|e6003298|e9561d8b|        |1cc9ac51|b28479f6|8eb53550|        |27c07bd6|626db04f|   |fb253005|   |        |   |32c7478e|        |   |   |        |        |384874ce|        |a90a99c5|5b392875|a73ee510|null|null|  4|null|   7|  9|   2|   7|6759|  7| 10|  7| 32|    1|\n",
      "+--------+--------+--------+--------+--------+--------+--------+--------+--------+--------+---+--------+---+--------+---+--------+--------+---+---+--------+--------+--------+--------+--------+--------+--------+----+----+---+----+----+---+----+----+----+---+---+---+---+-----+\n",
      "only showing top 2 rows\n",
      "\n",
      "root\n",
      " |-- C1: string (nullable = true)\n",
      " |-- C10: string (nullable = true)\n",
      " |-- C11: string (nullable = true)\n",
      " |-- C12: string (nullable = true)\n",
      " |-- C13: string (nullable = true)\n",
      " |-- C14: string (nullable = true)\n",
      " |-- C15: string (nullable = true)\n",
      " |-- C16: string (nullable = true)\n",
      " |-- C17: string (nullable = true)\n",
      " |-- C18: string (nullable = true)\n",
      " |-- C19: string (nullable = true)\n",
      " |-- C2: string (nullable = true)\n",
      " |-- C20: string (nullable = true)\n",
      " |-- C21: string (nullable = true)\n",
      " |-- C22: string (nullable = true)\n",
      " |-- C23: string (nullable = true)\n",
      " |-- C24: string (nullable = true)\n",
      " |-- C25: string (nullable = true)\n",
      " |-- C26: string (nullable = true)\n",
      " |-- C3: string (nullable = true)\n",
      " |-- C4: string (nullable = true)\n",
      " |-- C5: string (nullable = true)\n",
      " |-- C6: string (nullable = true)\n",
      " |-- C7: string (nullable = true)\n",
      " |-- C8: string (nullable = true)\n",
      " |-- C9: string (nullable = true)\n",
      " |-- I1: integer (nullable = true)\n",
      " |-- I10: integer (nullable = true)\n",
      " |-- I11: integer (nullable = true)\n",
      " |-- I12: integer (nullable = true)\n",
      " |-- I13: integer (nullable = true)\n",
      " |-- I2: integer (nullable = true)\n",
      " |-- I3: integer (nullable = true)\n",
      " |-- I4: integer (nullable = true)\n",
      " |-- I5: integer (nullable = true)\n",
      " |-- I6: integer (nullable = true)\n",
      " |-- I7: integer (nullable = true)\n",
      " |-- I8: integer (nullable = true)\n",
      " |-- I9: integer (nullable = true)\n",
      " |-- label: integer (nullable = true)\n",
      "\n",
      "['C1', 'C10', 'C11', 'C12', 'C13', 'C14', 'C15', 'C16', 'C17', 'C18', 'C19', 'C2', 'C20', 'C21', 'C22', 'C23', 'C24', 'C25', 'C26', 'C3', 'C4', 'C5', 'C6', 'C7', 'C8', 'C9', 'I1', 'I10', 'I11', 'I12', 'I13', 'I2', 'I3', 'I4', 'I5', 'I6', 'I7', 'I8', 'I9', 'label']\n"
     ]
    }
   ],
   "source": [
    "splits=projectDF.randomSplit([0.8, 0.2],2018)\n",
    "trainDF,testDF = splits\n",
    "testDF.show(2)\n",
    "testDF.printSchema()\n",
    "cols = testDF.columns\n",
    "print(cols)"
   ]
  },
  {
   "cell_type": "code",
   "execution_count": 16,
   "metadata": {
    "scrolled": true
   },
   "outputs": [
    {
     "name": "stdout",
     "output_type": "stream",
     "text": [
      "+-----+-------------------------------------------------------------------------------------------------------------------------------------------------------------------------------------+\n",
      "|label|features                                                                                                                                                                             |\n",
      "+-----+-------------------------------------------------------------------------------------------------------------------------------------------------------------------------------------+\n",
      "|0    |(256,[6,34,35,36,54,55,74,79,81,86,95,115,119,140,175,183,185,199,210,213,225,231,250],[1.0,1.0,1.0,1.0,1.0,1.0,2.0,1.0,1.0,1.0,1.0,1.0,1.0,1.0,1.0,1.0,1.0,3.0,4.0,1.0,1.0,1.0,1.0])|\n",
      "|1    |(256,[0,32,36,37,38,46,54,56,57,61,68,81,83,86,95,109,115,153,173,175,183,199,210],[1.0,1.0,1.0,1.0,1.0,1.0,1.0,2.0,1.0,1.0,1.0,1.0,1.0,1.0,1.0,1.0,1.0,1.0,1.0,11.0,3.0,4.0,3.0])   |\n",
      "+-----+-------------------------------------------------------------------------------------------------------------------------------------------------------------------------------------+\n",
      "only showing top 2 rows\n",
      "\n",
      "+------------------------------------------------------------------------------------------------------------------------------------------------------------------------------------+\n",
      "|features                                                                                                                                                                            |\n",
      "+------------------------------------------------------------------------------------------------------------------------------------------------------------------------------------+\n",
      "|(256,[19,36,39,54,74,79,83,86,95,109,111,115,119,143,156,173,175,183,197,216,223],[1.0,1.0,1.0,1.0,1.0,1.0,1.0,1.0,1.0,1.0,2.0,1.0,1.0,1.0,1.0,1.0,4.0,1.0,1.0,1.0,2.0])            |\n",
      "|(256,[5,9,36,54,55,59,66,79,83,86,95,97,109,115,137,160,175,179,183,199,205,210,238],[1.0,1.0,1.0,1.0,1.0,1.0,1.0,1.0,1.0,1.0,1.0,1.0,1.0,1.0,1.0,1.0,10.0,2.0,4.0,8.0,1.0,7.0,1.0])|\n",
      "+------------------------------------------------------------------------------------------------------------------------------------------------------------------------------------+\n",
      "only showing top 2 rows\n",
      "\n",
      "LogisticRegression_49618043171c41ae963a\n",
      "+--------+--------+--------+--------+--------+--------+--------+--------+--------+--------+---+--------+---+--------+---+--------+--------+---+---+--------+--------+--------+--------+--------+--------+--------+----+----+---+----+----+---+----+----+----+---+---+---+---+-----+--------------------+--------------------+--------------------+----------+\n",
      "|      C1|     C10|     C11|     C12|     C13|     C14|     C15|     C16|     C17|     C18|C19|      C2|C20|     C21|C22|     C23|     C24|C25|C26|      C3|      C4|      C5|      C6|      C7|      C8|      C9|  I1| I10|I11| I12| I13| I2|  I3|  I4|  I5| I6| I7| I8| I9|label|            features|       rawPrediction|         probability|prediction|\n",
      "+--------+--------+--------+--------+--------+--------+--------+--------+--------+--------+---+--------+---+--------+---+--------+--------+---+---+--------+--------+--------+--------+--------+--------+--------+----+----+---+----+----+---+----+----+----+---+---+---+---+-----+--------------------+--------------------+--------------------+----------+\n",
      "|013c8fe1|233e3a0c|a7b606c4|6aaba33c|eae197fd|b28479f6|2d0bb053|b041b04a|e5ba7672|2804effd|   |421b43cd|   |723b4dfd|   |3a171ecb|b34f3128|   |   |8162da11|29998ed1|25c83c98|fe6b92e5|7f9907fe|233428af|a73ee510|null|null|  1|null|null| -1|null|null|2849|382|  4| 17| 96|    0|(256,[19,36,39,54...|[0.97202528650075...|[0.72552299624365...|       0.0|\n",
      "|02f970ca|e6003298|e9561d8b|        |1cc9ac51|b28479f6|8eb53550|        |27c07bd6|626db04f|   |fb253005|   |        |   |32c7478e|        |   |   |        |        |384874ce|        |a90a99c5|5b392875|a73ee510|null|null|  4|null|   7|  9|   2|   7|6759|  7| 10|  7| 32|    1|(256,[5,9,36,54,5...|[0.60125163343926...|[0.64594260799896...|       0.0|\n",
      "+--------+--------+--------+--------+--------+--------+--------+--------+--------+--------+---+--------+---+--------+---+--------+--------+---+---+--------+--------+--------+--------+--------+--------+--------+----+----+---+----+----+---+----+----+----+---+---+---+---+-----+--------------------+--------------------+--------------------+----------+\n",
      "only showing top 2 rows\n",
      "\n",
      "Model Intercept:  -1.0818883232277021\n"
     ]
    },
    {
     "data": {
      "text/plain": [
       "DataFrame[Feature Weight: double]"
      ]
     },
     "metadata": {},
     "output_type": "display_data"
    },
    {
     "name": "stdout",
     "output_type": "stream",
     "text": [
      "+--------------------+\n",
      "|      Feature Weight|\n",
      "+--------------------+\n",
      "|-0.05627587597094...|\n",
      "|-0.05281664021167...|\n",
      "+--------------------+\n",
      "only showing top 2 rows\n",
      "\n",
      "Evaluator:\n",
      "AUC 0.6948185957768245\n",
      "Total : 9170441.0\n",
      "TN : 6611723\n",
      "FP : 208731\n",
      "FN : 2047947\n",
      "TP : 302040\n",
      "\n",
      "Confusion Matrix:\n",
      "302040 \t 208731\n",
      "2047947 \t 6611723\n",
      "\n",
      "\n",
      "Accuracy : 0.7539182684889418\n",
      "Precision : 0.5913413251731207\n",
      "Recall : 0.12852837058247557\n",
      "F1 : 0.2111608182167104\n",
      "CPU times: user 340 ms, sys: 144 ms, total: 484 ms\n",
      "Wall time: 14min 3s\n"
     ]
    }
   ],
   "source": [
    "%%time\n",
    "\n",
    "# Copied code from the cells below - Delete start from here\n",
    "\n",
    "num_of_features = 256 # 2^8\n",
    "#allcols = label_and_numeric + categorical_features\n",
    "hasher = FeatureHasher(inputCols=allcols,outputCol=\"features\",categoricalCols=categorical_features)\n",
    "hasher.setNumFeatures(num_of_features)\n",
    "\n",
    "featurizedTrain = hasher.transform(trainDF)\n",
    "featurizedTrain.select(\"label\",\"features\").show(2,truncate=False)\n",
    "\n",
    "featurizedTest = hasher.transform(testDF)\n",
    "\n",
    "featurizedTest.select(\"features\").show(2,truncate=False)\n",
    "\n",
    "lr = LogisticRegression(labelCol=\"label\",featuresCol=\"features\",maxIter = 10)\n",
    "lrModel = lr.fit(featurizedTrain)\n",
    "print(lrModel)\n",
    "\n",
    "predictions = lrModel.transform(featurizedTest)\n",
    "predictions.show(2)\n",
    "\n",
    "evaluator = BinaryClassificationEvaluator(rawPredictionCol=\"rawPrediction\",labelCol=\"label\")\n",
    "evaluator.evaluate(predictions)\n",
    "evaluator.getMetricName()\n",
    "print('Model Intercept: ', lrModel.intercept)\n",
    "weights = lrModel.coefficients\n",
    "weights = [(float(w),) for w in weights]  # convert numpy type to float, and to tuple\n",
    "weightsDF = sqlContext.createDataFrame(weights, [\"Feature Weight\"])\n",
    "display(weightsDF)\n",
    "weightsDF.show(2)\n",
    "print(\"Evaluator:\")\n",
    "evaluator = BinaryClassificationEvaluator(rawPredictionCol=\"rawPrediction\",labelCol=\"label\")\n",
    "eval = evaluator.evaluate(predictions)\n",
    "print(\"AUC\",eval)\n",
    "\n",
    "def modelMetrics(predictions):\n",
    "\n",
    "    TP = predictions.select(\"label\", \"prediction\").filter(\"label = 1 and prediction = 1\").count()\n",
    "\n",
    "    TN = predictions.select(\"label\", \"prediction\").filter(\"label = 0 and prediction = 0\").count()\n",
    "    FP = predictions.select(\"label\", \"prediction\").filter(\"label = 0 and prediction = 1\").count()\n",
    "    FN = predictions.select(\"label\", \"prediction\").filter(\"label = 1 and prediction = 0\").count()\n",
    "    total = predictions.select(\"label\").count()\n",
    "    total = float(total)\n",
    "\n",
    "    print(\"Total :\",total)\n",
    "    print(\"TN :\",TN)\n",
    "    print(\"FP :\",FP)\n",
    "    print(\"FN :\",FN)\n",
    "    print(\"TP :\",TP)\n",
    "\n",
    "    print(\"\\nConfusion Matrix:\")\n",
    "    print(TP,'\\t',FP)\n",
    "    print(FN,'\\t',TN)\n",
    "    print(\"\\n\")\n",
    "\n",
    "    accuracy= (TP + TN) / total\n",
    "    precision   = TP / (TP + FP)\n",
    "    recall      = TP / (TP + FN)\n",
    "    F1= 2/(1/precision + 1/recall)\n",
    "\n",
    "    #print('AUC ROC -',evaluator.evaluate(predictions_lr))\n",
    "    print(\"Accuracy :\",accuracy)\n",
    "    print(\"Precision :\",precision)\n",
    "    print(\"Recall :\",recall)\n",
    "    print(\"F1 :\",F1)\n",
    "    \n",
    "modelMetrics(predictions)"
   ]
  },
  {
   "cell_type": "markdown",
   "metadata": {},
   "source": [
    "##### Metrics : With hash size 256,1024 and 4096"
   ]
  },
  {
   "cell_type": "code",
   "execution_count": 1,
   "metadata": {},
   "outputs": [
    {
     "data": {
      "image/png": "[encoded data removed]",
      "text/plain": [
       "<IPython.core.display.Image object>"
      ]
     },
     "execution_count": 1,
     "metadata": {
      "image/png": {
       "height": "200",
       "width": "400"
      }
     },
     "output_type": "execute_result"
    }
   ],
   "source": [
    "from IPython.display import Image\n",
    "Image(filename=\"featurehash_metrics.png\", width=\"400\", height=\"200\")"
   ]
  },
  {
   "cell_type": "markdown",
   "metadata": {},
   "source": [
    "### Logistic Regression, Decision Tree, Random Forest Classifiers with DataFrames\n",
    " "
   ]
  },
  {
   "cell_type": "markdown",
   "metadata": {},
   "source": [
    "#### Prep the Data"
   ]
  },
  {
   "cell_type": "code",
   "execution_count": 11,
   "metadata": {},
   "outputs": [
    {
     "name": "stdout",
     "output_type": "stream",
     "text": [
      "Time to prep LR Data : 496.0570321083069\n"
     ]
    }
   ],
   "source": [
    "\n",
    "weights = [.8, .2]\n",
    "seed = 4\n",
    "\n",
    "stages = []\n",
    "stages = pipeline_stages(categorical_features,numeric_features)\n",
    "\n",
    "keep_cols = categorical_features + label_and_numeric\n",
    "projectDF = projectDF.select([c for c in projectDF.columns if c in keep_cols])\n",
    "#Handle empty strings by imputing 'EMPTY'\n",
    "for c in projectDF.columns:\n",
    "    projectDF = projectDF.replace(' ',str('EMPTY'), c)\n",
    "    projectDF = projectDF.replace('',str('EMPTY'), c)\n",
    "#Set NA's to 0\n",
    "projectDF = projectDF.na.fill(0)\n",
    "\n",
    "#OHE -> VectorAssembler\n",
    "t_lr_prep = time.time()\n",
    "preppedDF = apply_pipeline(projectDF,stages)\n",
    "train,test = preppedDF.randomSplit(weights,seed)\n",
    "print('Time to prep LR Data :', time.time() - t_lr_prep)"
   ]
  },
  {
   "cell_type": "code",
   "execution_count": 13,
   "metadata": {},
   "outputs": [
    {
     "name": "stdout",
     "output_type": "stream",
     "text": [
      "+--------+--------+--------+--------+--------+--------+--------+---+---+---+---+---+-----+-------+--------------+-------+-------------+--------+--------------+--------+--------------+--------+-------------+--------+--------------+--------+--------------+--------------------+\n",
      "|     C14|     C17|     C20|     C22|     C23|      C6|      C9| I1|I11|I13| I4| I7|label|C6Index|    C6classVec|C9Index|   C9classVec|C14Index|   C14classVec|C17Index|   C17classVec|C20Index|  C20classVec|C22Index|   C22classVec|C23Index|   C23classVec|            features|\n",
      "+--------+--------+--------+--------+--------+--------+--------+---+---+---+---+---+-----+-------+--------------+-------+-------------+--------+--------------+--------+--------------+--------+-------------+--------+--------------+--------+--------------+--------------------+\n",
      "|051219e6|07c540c4|5840adea|78e2e389|32c7478e|fe6b92e5|a73ee510|  3|  1|  3|  3|  3|    0|    2.0|(24,[2],[1.0])|    0.0|(3,[0],[1.0])|     5.0|(27,[5],[1.0])|     1.0|(10,[1],[1.0])|     2.0|(4,[2],[1.0])|     3.0|(18,[3],[1.0])|     0.0|(15,[0],[1.0])|(106,[2,24,32,55,...|\n",
      "+--------+--------+--------+--------+--------+--------+--------+---+---+---+---+---+-----+-------+--------------+-------+-------------+--------+--------------+--------+--------------+--------+-------------+--------+--------------+--------+--------------+--------------------+\n",
      "only showing top 1 row\n",
      "\n",
      "+--------+--------+--------+-----+--------+--------+--------+---+---+---+---+---+-----+-------+--------------+-------+-------------+--------+--------------+--------+--------------+--------+-------------+--------+--------------+--------+--------------+--------------------+\n",
      "|     C14|     C17|     C20|  C22|     C23|      C6|      C9| I1|I11|I13| I4| I7|label|C6Index|    C6classVec|C9Index|   C9classVec|C14Index|   C14classVec|C17Index|   C17classVec|C20Index|  C20classVec|C22Index|   C22classVec|C23Index|   C23classVec|            features|\n",
      "+--------+--------+--------+-----+--------+--------+--------+---+---+---+---+---+-----+-------+--------------+-------+-------------+--------+--------------+--------+--------------+--------+-------------+--------+--------------+--------+--------------+--------------------+\n",
      "|051219e6|07c540c4|5840adea|EMPTY|32c7478e|fbad5c96|a73ee510|  2|  1|  6|  6|  2|    1|    1.0|(24,[1],[1.0])|    0.0|(3,[0],[1.0])|     5.0|(27,[5],[1.0])|     1.0|(10,[1],[1.0])|     2.0|(4,[2],[1.0])|     0.0|(18,[0],[1.0])|     0.0|(15,[0],[1.0])|(106,[1,24,32,55,...|\n",
      "+--------+--------+--------+-----+--------+--------+--------+---+---+---+---+---+-----+-------+--------------+-------+-------------+--------+--------------+--------+--------------+--------+-------------+--------+--------------+--------+--------------+--------------------+\n",
      "only showing top 1 row\n",
      "\n"
     ]
    }
   ],
   "source": [
    "train.show(1)\n",
    "test.show(1)"
   ]
  },
  {
   "cell_type": "markdown",
   "metadata": {},
   "source": [
    "### Logistic Regression"
   ]
  },
  {
   "cell_type": "code",
   "execution_count": 14,
   "metadata": {},
   "outputs": [
    {
     "name": "stdout",
     "output_type": "stream",
     "text": [
      "Total training time - Logistic Regression :  172.82883667945862\n"
     ]
    }
   ],
   "source": [
    "#Logistic Regression\n",
    "t_lr = time.time()\n",
    "lrModel = LogisticRegression().fit(train)\n",
    "\n",
    "print('Total training time - Logistic Regression : ',time.time()-t_lr)\n",
    "predictions_lr = lrModel.transform(test)\n",
    "# Evaluate model\n",
    "evaluator = BinaryClassificationEvaluator(rawPredictionCol=\"prediction\",labelCol=\"label\")\n"
   ]
  },
  {
   "cell_type": "code",
   "execution_count": 15,
   "metadata": {},
   "outputs": [
    {
     "name": "stdout",
     "output_type": "stream",
     "text": [
      "Total : 9170447.0\n",
      "TN : 6659383\n",
      "FP : 163022\n",
      "FN : 2110917\n",
      "TP : 237125\n",
      "\n",
      "Confusion Matrix:\n",
      "237125 \t 163022\n",
      "2110917 \t 6659383\n",
      "\n",
      "\n",
      "Accuracy : 0.752036187548982\n",
      "Precision : 0.5925947214398708\n",
      "Recall : 0.10098839799288088\n",
      "F1 : 0.17256818945130775\n"
     ]
    }
   ],
   "source": [
    "#LR Predictions\n",
    "#predictions_lr.groupBy('prediction').count().show()\n",
    "\n",
    "TP = predictions_lr.select(\"label\", \"prediction\").filter(\"label = 1 and prediction = 1\").count()\n",
    "\n",
    "TN = predictions_lr.select(\"label\", \"prediction\").filter(\"label = 0 and prediction = 0\").count()\n",
    "FP = predictions_lr.select(\"label\", \"prediction\").filter(\"label = 0 and prediction = 1\").count()\n",
    "FN = predictions_lr.select(\"label\", \"prediction\").filter(\"label = 1 and prediction = 0\").count()\n",
    "total = predictions_lr.select(\"label\").count()\n",
    "total = float(total)\n",
    "\n",
    "print(\"Total :\",total)\n",
    "print(\"TN :\",TN)\n",
    "print(\"FP :\",FP)\n",
    "print(\"FN :\",FN)\n",
    "print(\"TP :\",TP)\n",
    "\n",
    "print(\"\\nConfusion Matrix:\")\n",
    "print(TP,'\\t',FP)\n",
    "print(FN,'\\t',TN)\n",
    "print(\"\\n\")\n",
    "\n",
    "accuracy= (TP + TN) / total\n",
    "precision   = TP / (TP + FP)\n",
    "recall      = TP / (TP + FN)\n",
    "F1= 2/(1/precision + 1/recall)\n",
    "\n",
    "#print('AUC ROC -',evaluator.evaluate(predictions_lr))\n",
    "print(\"Accuracy :\",accuracy)\n",
    "print(\"Precision :\",precision)\n",
    "print(\"Recall :\",recall)\n",
    "print(\"F1 :\",F1)"
   ]
  },
  {
   "cell_type": "code",
   "execution_count": 16,
   "metadata": {},
   "outputs": [
    {
     "name": "stdout",
     "output_type": "stream",
     "text": [
      "Total time to prep tree data : 489.0456871986389\n"
     ]
    }
   ],
   "source": [
    "#Prep the data for Trees (skip the one hot encoding step)\n",
    "t_tree_prep = time.time()\n",
    "stages = []\n",
    "stages = pipeline_stages(categorical_features,numeric_features,OHE=False)\n",
    "preppedDF = apply_pipeline(projectDF,stages)\n",
    "train,test = preppedDF.randomSplit(weights,seed)\n",
    "print('Total time to prep tree data :',time.time()-t_tree_prep)"
   ]
  },
  {
   "cell_type": "markdown",
   "metadata": {},
   "source": [
    "### Decision Tree"
   ]
  },
  {
   "cell_type": "code",
   "execution_count": 17,
   "metadata": {},
   "outputs": [
    {
     "name": "stdout",
     "output_type": "stream",
     "text": [
      "Total Training Time - Decision Tree :  346.78829073905945\n"
     ]
    }
   ],
   "source": [
    "# Create initial Decision Tree Model\n",
    "t_dt = time.time()\n",
    "dtModel = DecisionTreeClassifier(\n",
    "    labelCol=\"label\", featuresCol=\"features\", maxDepth=3).fit(train)\n",
    "print('Total Training Time - Decision Tree : ',time.time()-t_dt)\n",
    "#make predictions\n",
    "predictions_dt = dtModel.transform(test)\n",
    "evaluator = BinaryClassificationEvaluator(\n",
    "    rawPredictionCol=\"prediction\",labelCol=\"label\")\n"
   ]
  },
  {
   "cell_type": "code",
   "execution_count": 18,
   "metadata": {},
   "outputs": [
    {
     "name": "stdout",
     "output_type": "stream",
     "text": [
      "Total : 9170447.0\n",
      "TN : 6479945\n",
      "FP : 342460\n",
      "FN : 1949786\n",
      "TP : 398256\n",
      "\n",
      "Confusion Matrix:\n",
      "398256 \t 342460\n",
      "1949786 \t 6479945\n",
      "\n",
      "\n",
      "Accuracy : 0.7500398835520231\n",
      "Precision : 0.5376635579628359\n",
      "Recall : 0.16961195753738648\n",
      "F1 : 0.2578745243233688\n"
     ]
    }
   ],
   "source": [
    "# DT Predictions\n",
    "#predictions_dt.groupBy('prediction').count().show()\n",
    "\n",
    "TP = predictions_dt.select(\"label\", \"prediction\").filter(\"label = 1 and prediction = 1\").count()\n",
    "\n",
    "TN = predictions_dt.select(\"label\", \"prediction\").filter(\"label = 0 and prediction = 0\").count()\n",
    "FP = predictions_dt.select(\"label\", \"prediction\").filter(\"label = 0 and prediction = 1\").count()\n",
    "FN = predictions_dt.select(\"label\", \"prediction\").filter(\"label = 1 and prediction = 0\").count()\n",
    "total = predictions_dt.select(\"label\").count()\n",
    "total = float(total)\n",
    "\n",
    "print(\"Total :\",total)\n",
    "print(\"TN :\",TN)\n",
    "print(\"FP :\",FP)\n",
    "print(\"FN :\",FN)\n",
    "print(\"TP :\",TP)\n",
    "\n",
    "print(\"\\nConfusion Matrix:\")\n",
    "print(TP,'\\t',FP)\n",
    "print(FN,'\\t',TN)\n",
    "print(\"\\n\")\n",
    "\n",
    "accuracy= (TP + TN) / total\n",
    "precision   = TP / (TP + FP)\n",
    "recall      = TP / (TP + FN)\n",
    "F1= 2/(1/precision + 1/recall)\n",
    "\n",
    "\n",
    "#print('AUC ROC -',evaluator.evaluate(predictions_dt))\n",
    "print(\"Accuracy :\",accuracy)\n",
    "print(\"Precision :\",precision)\n",
    "print(\"Recall :\",recall)\n",
    "print(\"F1 :\",F1)"
   ]
  },
  {
   "cell_type": "markdown",
   "metadata": {},
   "source": [
    "### Random Forest"
   ]
  },
  {
   "cell_type": "code",
   "execution_count": 19,
   "metadata": {},
   "outputs": [
    {
     "name": "stdout",
     "output_type": "stream",
     "text": [
      "Total training time - Random Forrest :  410.3529806137085\n"
     ]
    }
   ],
   "source": [
    "# Create an initial RandomForest model.\n",
    "t_rf = time.time()\n",
    "rfModel = RandomForestClassifier(\n",
    "    labelCol=\"label\", featuresCol=\"features\").fit(train)\n",
    "\n",
    "print('Total training time - Random Forrest : ',time.time()-t_rf)\n",
    "\n",
    "#Make Predictions\n",
    "predictions_rf = rfModel.transform(test)\n",
    "evaluator = BinaryClassificationEvaluator(\n",
    "    rawPredictionCol=\"prediction\",labelCol=\"label\")\n"
   ]
  },
  {
   "cell_type": "code",
   "execution_count": 20,
   "metadata": {},
   "outputs": [
    {
     "name": "stdout",
     "output_type": "stream",
     "text": [
      "Total : 9170447.0\n",
      "TN : 6669829\n",
      "FP : 152576\n",
      "FN : 2089615\n",
      "TP : 258427\n",
      "\n",
      "Confusion Matrix:\n",
      "258427 \t 152576\n",
      "2089615 \t 6669829\n",
      "\n",
      "\n",
      "Accuracy : 0.7554981780059358\n",
      "Precision : 0.6287715661442861\n",
      "Recall : 0.11006063775690554\n",
      "F1 : 0.18733076118729486\n"
     ]
    }
   ],
   "source": [
    "#RF Predictions\n",
    "#predictions_rf.groupBy('prediction').count().show()\n",
    "\n",
    "TP = predictions_rf.select(\"label\", \"prediction\").filter(\"label = 1 and prediction = 1\").count()\n",
    "\n",
    "TN = predictions_rf.select(\"label\", \"prediction\").filter(\"label = 0 and prediction = 0\").count()\n",
    "FP = predictions_rf.select(\"label\", \"prediction\").filter(\"label = 0 and prediction = 1\").count()\n",
    "FN = predictions_rf.select(\"label\", \"prediction\").filter(\"label = 1 and prediction = 0\").count()\n",
    "total = predictions_rf.select(\"label\").count()\n",
    "total = float(total)\n",
    "\n",
    "print(\"Total :\",total)\n",
    "print(\"TN :\",TN)\n",
    "print(\"FP :\",FP)\n",
    "print(\"FN :\",FN)\n",
    "print(\"TP :\",TP)\n",
    "\n",
    "print(\"\\nConfusion Matrix:\")\n",
    "print(TP,'\\t',FP)\n",
    "print(FN,'\\t',TN)\n",
    "print(\"\\n\")\n",
    "\n",
    "accuracy= (TP + TN) / total\n",
    "precision   = TP / (TP + FP)\n",
    "recall      = TP / (TP + FN)\n",
    "F1= 2/(1/precision + 1/recall)\n",
    "\n",
    "#print('AUC ROC -',evaluator.evaluate(predictions_rf))\n",
    "print(\"Accuracy :\",accuracy)\n",
    "print(\"Precision :\",precision)\n",
    "print(\"Recall :\",recall)\n",
    "print(\"F1 :\",F1)"
   ]
  },
  {
   "cell_type": "markdown",
   "metadata": {},
   "source": [
    "## 5 : Summary  \n",
    "\n",
    "_Pick 3-5 key course concepts and discuss how your work on this assignment illustrates an understanding of these concepts._\n",
    "\n",
    "Our team covered a wide swathe of the concepts we learned in the class: functional programming, map-reduce, associative and commutative properties in parallel computation, nodes communication in Spark, and other machine learning algorithms available in Spark. \n",
    "\n",
    "**EDA**  \n",
    "Our initial exploratory data analysis (EDA) on `1000` samples involves matrix correlation, heatmap between numerical variables, chi-square test for categorical variables so as to identify which variables are important in predicting the label. The EDA revealed that we were going to encounter problems with extreme dimensionality if we simply one hot encoded all the categorical variables. As a result, we worked on some strategies to reduce the feature space, including Hashing and making strategic decisions about which features we could drop. The EDA also revealed that we had a lot of null values, and so we adopted a strategy of replacing them with mean values but also tried decision tree algorithms which can naturally work with null values. \n",
    "\n",
    "**Algorithms**   \n",
    "\n",
    "**1. One Hot Encoding**\n",
    "\n",
    "The first strategy we considered for handling categorical variables was one hot encoding. If we were to one hot encode all the categorical variables we would have been dealing with 10s of millions of unique features on top of the 45 million rows of data. That approach became computationally impractical because one hot encoding needs a single pass for the entire dataset in order to calculate how many unique features the dataset has. We then looked more closely at the categorical data and realized that some of the features accounted for most of the unique values. We could make one hot encoding practical by just taking those categorical features with less than 100 unique values. \n",
    "\n",
    "**2. Features Hashing**\n",
    "\n",
    "Next our team explored another feature engineering method called features hashing, which allows us to avoid the expensive computation of one hot encoding all the categorical data. This method allowed us to adjust the number of features we want to use in our data analysis (features tables). This led us to develop a more robust and powerful model because features hashing does not require a single pass for the entire 45 million dataset in order to calculate how many unique features the dataset has. \n",
    "\n",
    "**3. Decision Tree, Random Forest**\n",
    "\n",
    "Finally we explored tree based methods including Decision Tree and Random Forrest. These algorithms reduce data preprocessing time because they natively handle categorical variables and null values. One caveate here is that Spark's ML package does not accept string values in the input data so a pass over the data was required in order to label encode each categorical string value.\n",
    "\n",
    "**Model Comparison**\n",
    "\n",
    "The following table summarizes the results of each model. The models are listed in descending order of efficiency from left to right (most-efficient model is on the left, least-efficient is on the right).\n",
    "\n",
    "|\tModel\t|\tLR-FH-ML\t|\tLR-OHE-ML\t|\tLR-OHE-MLlib\t|\tDT-ML\t|\tRF-ML\t|\tLR-RDD-Integers\t|\n",
    "|\t------------------\t|\t------------------\t|\t------------------\t|\t------------------\t|\t------------------\t|\t------------------\t|\t------------------\t|\n",
    "|\tAccuracy\t|\t0.754\t|\t0.755\t|\t0.754\t|\t0.75\t|\t0.755\t|\t0.746\t|\n",
    "|\tPrecision\t|\t0.129\t|\t0.629\t|\t0.582\t|\t0.538\t|\t0.629\t|0.54\t\t|\n",
    "|\tRecall\t|\t0.764\t|\t0.11\t|\t0.135\t|\t0.17\t|\t0.11\t|0.06\t\t|\n",
    "|\tF1\t|\t0.221\t|\t0.187\t|\t0.219\t|\t0.258\t|\t0.187\t|\t0.11\t|\n",
    " \n",
    "\n",
    "**Conclusion**\n",
    "\n",
    "Throughout this project we considered, implemented, and assessed multiple strategies for tackling click through rate prediction at scale. Additionally, we assessed the relative merits of the various Spark packages, as they relate to this problem, including: RDD's, DataFrames, MLlib and ML. Finally, we considered a variety of strategies to handle the categorical variables and high cardinality inherent in this dataset. Strategies included: Careful feature selection based on EDA (Unique value counts, correlation, Chi Square test), One Hot Encoding of Categorical Variables, Feature Hashing and Tree Based models that handle categorical variables natively. Ultimately, Logistic Regression with feature hashing implemented with the Spark Ml package was both the most efficient and produced the best results. \n",
    "\n",
    "\n",
    "\n",
    "\n",
    "\n",
    "\n",
    "\n",
    "\n"
   ]
  },
  {
   "cell_type": "code",
   "execution_count": null,
   "metadata": {
    "collapsed": true
   },
   "outputs": [],
   "source": []
  }
 ],
 "metadata": {
  "kernelspec": {
   "display_name": "Python 3",
   "language": "python",
   "name": "python3"
  },
  "language_info": {
   "codemirror_mode": {
    "name": "ipython",
    "version": 3
   },
   "file_extension": ".py",
   "mimetype": "text/x-python",
   "name": "python",
   "nbconvert_exporter": "python",
   "pygments_lexer": "ipython3",
   "version": "3.6.6"
  }
 },
 "nbformat": 4,
 "nbformat_minor": 2
}
